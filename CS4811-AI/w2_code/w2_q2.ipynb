{
  "cells": [
    {
      "cell_type": "markdown",
      "metadata": {
        "id": "X8c4HqZ5xrx4"
      },
      "source": [
        "# W2 - Q2\n",
        "\n",
        "*Introduction to Jupyter notebook adapated from  UC Berkeley's Data8 and Data6 course materials* \n",
        "\n",
        "This Python notebook is available to help answer Q2 on written assignment - W2. \n",
        "\n",
        "Notebooks are documents that can contain text, code, visualizations, and more. Jupyter notebooks support over 40 different programming languages, including Python, R, Julia, Scala, etc.\n",
        "\n",
        "Notebooks are used for literate programming, a programming paradigm introduced by Donald Knuth in 1984, in which a programming language is accompanied with a documentation language, or a natural language. In other words, the computer program has an explanation in a natural language. This approach to programming effectively treats software as works of literature (Knuth, \"Literate Programming\"). It supports people to have a strong conceptual map of what is happening in the code and also have clarity on the flow and logic of the code/program. which is helpful for both for the writer and the reader."
      ]
    },
    {
      "cell_type": "markdown",
      "metadata": {
        "id": "Ow_VpMWwyfNT"
      },
      "source": [
        "### Notebook Structure \n",
        "\n",
        "A notebook is composed of rectangular sections called **cells**. There are 2 main kinds of cells: markdown and code. A **markdown cell**, such as this one, contains text. A **code cell** contains code in Python, a programming language that we will be using for the remainder of this module. You can select any cell by clicking it once. After a cell is selected, you can navigate the notebook using the up and down arrow keys.\n",
        "\n",
        "<div class=\"alert alert-info\">\n",
        "To run the code in a code cell, first click on that cell to activate it.  It'll be highlighted with a little green or blue rectangle.  Next, you can either press the  <code><b>▶|</b> Run </code> button above or press <b><code>Shift + Return</code></b> or <b><code>Shift + Enter</code></b>. This will run the current cell and select the next one.\n",
        "</div>\n",
        "\n",
        "If a code cell is running, you will see an asterisk (\\*) appear in the square brackets to the left of the cell. Once the cell has finished running, a number will replace the asterisk and any output from the code will appear under the cell."
      ]
    },
    {
      "cell_type": "code",
      "execution_count": 1,
      "metadata": {
        "id": "3C249sqKy48A"
      },
      "outputs": [
        {
          "name": "stdout",
          "output_type": "stream",
          "text": [
            "Hello World!\n"
          ]
        }
      ],
      "source": [
        "# run this cell \n",
        "print('Hello World!')"
      ]
    },
    {
      "cell_type": "markdown",
      "metadata": {
        "id": "RKvuzQLuzCmz"
      },
      "source": [
        "#### Editing\n",
        "\n",
        "You can edit a Markdown cell by clicking it twice. Text in Markdown cells is written in [**Markdown**](https://daringfireball.net/projects/markdown/), a formatting syntax for plain text, so you may see some funky symbols when you edit a text cell. \n",
        "\n",
        "Once you've made your changes, you can exit text editing mode by running the cell. \n",
        "\n",
        "<div class=\"alert alert-warning\">\n",
        "<b>PRACTICE:</b><br>  \n",
        "Try double-clicking on the text below to edit the cell to fix the misspelling.\n",
        "</div>"
      ]
    },
    {
      "cell_type": "markdown",
      "metadata": {
        "id": "sK9ZnS4ZzDs-"
      },
      "source": [
        "Go Michgian Tech Huskies!"
      ]
    },
    {
      "cell_type": "markdown",
      "metadata": {
        "id": "PLHlD3ZYzIkB"
      },
      "source": [
        "Code cells can be edited any time after they are highlighted. \n",
        "\n",
        "<div class=\"alert alert-warning\">\n",
        "<b>PRACTICE:</b><br>   \n",
        "Try editing the next code cell to print your name.\n",
        "</div>"
      ]
    },
    {
      "cell_type": "code",
      "execution_count": 2,
      "metadata": {},
      "outputs": [
        {
          "name": "stdout",
          "output_type": "stream",
          "text": [
            "Caden Wilfong\n"
          ]
        }
      ],
      "source": [
        "print(\"Caden Wilfong\")"
      ]
    },
    {
      "cell_type": "markdown",
      "metadata": {
        "id": "qZq4M8DHzT2E"
      },
      "source": [
        "#### Adding Cells\n",
        "You can add a cell by clicking <b><code>Insert > Insert Cell Below</code></b> and then choosing the cell type in the drop down menu. \n",
        "\n",
        "<div class=\"alert alert-warning\">\n",
        "<b>PRACTICE:</b><br>     \n",
        "Try adding a cell below here and printing your birthday (format: mm/dd/yyyy). Do not forget the quotation marks!\n",
        "</div>\n",
        "\n",
        "You can add cells by pressing the plus sign icon in the menu bar. This will add (by default) a code cell immediately below your current highlighted cell.\n",
        "\n",
        "To convert a cell to markdown, you can press 'Cell' in the menu bar, select 'Cell Type', and finally pick the desired option. This works the other way around too!  (you can also use the drop down menu in the toolbar above)"
      ]
    },
    {
      "cell_type": "code",
      "execution_count": 3,
      "metadata": {},
      "outputs": [
        {
          "name": "stdout",
          "output_type": "stream",
          "text": [
            "10/30/2003\n"
          ]
        }
      ],
      "source": [
        "print(\"10/30/2003\")"
      ]
    },
    {
      "cell_type": "markdown",
      "metadata": {
        "id": "L39pXTo_zbnD"
      },
      "source": [
        "#### Deleting Cells\n",
        "You can delete a cell by clicking the <b><code>scissors</code></b> at the top menu or <b><code>Edit > Cut Cells</code></b>. Delete the next cell below here.\n",
        "\n",
        "A common fear is deleting a cell that you needed -- but don't worry! This can be undone using 'Edit' > 'Undo Delete Cells'! If you accidentally delete content in a cell, you can use `Ctrl` + `Z` to undo.\n",
        "\n",
        "<div class=\"alert alert-warning\">\n",
        "<b>PRACTICE:</b><br>  \n",
        "Delete the code cell below. \n",
        "</div>"
      ]
    },
    {
      "cell_type": "markdown",
      "metadata": {
        "id": "mQmLwFJ6ztJU"
      },
      "source": [
        "#### Saving and Loading\n",
        "\n",
        "Your notebook can record all of your text and code edits, as well as any graphs you generate or calculations you make. \n",
        "\n",
        "You are accessing the Jupyter notebook using \"Binder\", which allows hosted notebooks (from a url or github repository) to be shared as an interactive environment. \n",
        "\n",
        "Therefore, if you close this page and relaunch the notebook from the website you will lose your changes.  \n",
        "\n",
        "Alternatively, if you access the notebook from a local computer, you can save the notebook as you make changes by clicking Control-S, clicking the floppy disc icon in the toolbar at the top of the page, or by going to the File menu and selecting \"Save and Checkpoint\".\n",
        "\n",
        "**Note:** after loading a notebook you will see all the outputs (graphs, computations, etc) from your last session, but you won't be able to use any variables you assigned or functions you defined. You can get the functions and variables back by re-running the cells where they were defined- the easiest way is to highlight the cell where you left off work, then go to the Cell menu at the top of the screen and click \"Run all above\". You can also use this menu to run all cells in the notebook by clicking \"Run all\"."
      ]
    },
    {
      "cell_type": "markdown",
      "metadata": {
        "id": "b6YDnH89z2w3"
      },
      "source": [
        "## Getting Started \n",
        "\n",
        "Let's start by importing some desired packages."
      ]
    },
    {
      "cell_type": "code",
      "execution_count": 20,
      "metadata": {
        "id": "0NYePvMDtrPy"
      },
      "outputs": [],
      "source": [
        "import time\n",
        "import numpy as np\n",
        "import matplotlib as mpl \n",
        "import matplotlib.pylab as plt\n",
        "%matplotlib inline"
      ]
    },
    {
      "cell_type": "code",
      "execution_count": 21,
      "metadata": {
        "id": "6j84zmGzxe6y"
      },
      "outputs": [],
      "source": [
        "# import Genetic Algorithm method and parameters\n",
        "from ga import *"
      ]
    },
    {
      "cell_type": "markdown",
      "metadata": {
        "id": "-oCitOxyxql7"
      },
      "source": [
        "Let's try running an inital Genetic algorithm with the default parameters. "
      ]
    },
    {
      "cell_type": "code",
      "execution_count": 22,
      "metadata": {
        "id": "KPkJBL0w1-l5"
      },
      "outputs": [
        {
          "name": "stdout",
          "output_type": "stream",
          "text": [
            "Current best: B-B1KhfU-?BGAqugsCIIW\tGeneration 0\tFitness: 3\n",
            "Current best: 4511 + Z6 VGAqKx fuZO\tGeneration 50\tFitness: 12\n",
            "Current best: 4511 + Z6 +GAqu6 fuZO\tGeneration 100\tFitness: 13\n",
            "Current best: 4511 + ZH +GAqux fuZO\tGeneration 150\tFitness: 13\n",
            "Current best: 4511 + Z6 +GAqGx fun3\tGeneration 200\tFitness: 14\n",
            "Current best: 4V11 + ZI +GAyGD fun3\tGeneration 250\tFitness: 15\n",
            "Current best: 4b11 + ZI +GAzGD funO\tGeneration 300\tFitness: 15\n",
            "Current best: 4b11 + ZI +GAsED funs\tGeneration 350\tFitness: 16\n",
            "Current best: 4b11 + ZI +GAsED funU\tGeneration 400\tFitness: 16\n",
            "Current best: 4b11 + ZI +GAsEh funu\tGeneration 450\tFitness: 16\n",
            "Current best: 4b11 + ZI +GAsED funq\tGeneration 500\tFitness: 16\n",
            "Current best: 4b11 + 0I +GAsED funu\tGeneration 550\tFitness: 16\n",
            "Current best: 4b11 + AI +GAsEr fun2\tGeneration 600\tFitness: 17\n",
            "Current best: 4b11 + AI +GAsED fun!\tGeneration 650\tFitness: 18\n",
            "Current best: 4811 + AI +GAsEt fun1\tGeneration 700\tFitness: 18\n",
            "Current best: 4b11 + AI +GAsEt funu\tGeneration 750\tFitness: 17\n",
            "Current best: 4G11 + AI +GAsEF funu\tGeneration 800\tFitness: 17\n",
            "Current best: 4b11 + AI +GAsEF funu\tGeneration 850\tFitness: 17\n",
            "Current best: 4G11 + AI +GAsEt funv\tGeneration 900\tFitness: 17\n",
            "Current best: 4811 + AI +GAsES funu\tGeneration 950\tFitness: 18\n",
            "Final:        4811 + AI +GAsEt funu\tGeneration 999\tFitness: 18\n"
          ]
        }
      ],
      "source": [
        "pop = init_population(max_population, gene_pool, len(target))\n",
        "soln, fitv,  gen = genetic_algorithm_stepwise(pop, fitness_fn, gene_pool, \n",
        "                                              f_thres, ngen, mutation_rate, mute=False)"
      ]
    },
    {
      "cell_type": "markdown",
      "metadata": {
        "id": "4u6ODOYi5ZcD"
      },
      "source": [
        "## Q2(a)\n",
        "\n",
        "Explore the parameter space by varying the number of generations `ngen` between 50 and 500 in increments of 50 while keeping all other parameters fixed at the default values. "
      ]
    },
    {
      "cell_type": "code",
      "execution_count": 5,
      "metadata": {
        "id": "03OPnB98zeqW"
      },
      "outputs": [
        {
          "data": {
            "text/plain": [
              "10"
            ]
          },
          "execution_count": 5,
          "metadata": {},
          "output_type": "execute_result"
        }
      ],
      "source": [
        "gen_range = [50, 100, 150, 200, 250, 300, 350, 400, 450, 500]\n",
        "len(gen_range)"
      ]
    },
    {
      "cell_type": "code",
      "execution_count": 6,
      "metadata": {
        "id": "8MvZe3w4uVLk"
      },
      "outputs": [
        {
          "name": "stdout",
          "output_type": "stream",
          "text": [
            "Final:        481793 AI!+JgA s f0n!\tGeneration 49\tFitness: 12\n",
            "1.2370219230651855\n",
            "Final:        481n + ,J ey0syz UuYc\tGeneration 49\tFitness: 10\n",
            "1.2453532218933105\n",
            "Final:        4T1K lz+ID+SAfxi funN\tGeneration 49\tFitness: 10\n",
            "1.1849017143249512\n",
            "Final:        48P0 +8A  ZCAs,F fjnl\tGeneration 49\tFitness: 11\n",
            "1.2337594032287598\n",
            "Final:        l811KM K. +GVr S-Hun!\tGeneration 49\tFitness: 11\n",
            "1.2036821842193604\n",
            "Final:        F811e+k!s +tAsyLBfun!\tGeneration 49\tFitness: 12\n",
            "1.229478120803833\n",
            "Final:        48s1 I Ak-+kfshp fung\tGeneration 49\tFitness: 12\n",
            "1.2683911323547363\n",
            "Final:        481r + A64+gns T fu7!\tGeneration 49\tFitness: 14\n",
            "1.1892220973968506\n",
            "Final:        4,1ggM A. +sPsGN Uun!\tGeneration 49\tFitness: 11\n",
            "1.2362022399902344\n",
            "Final:        4812Zq AIS+aAsB9 yunq\tGeneration 49\tFitness: 12\n",
            "1.1862282752990723\n",
            "Final:        r811Vg AI Dd2s LRfun!\tGeneration 99\tFitness: 13\n",
            "2.518720865249634\n",
            "Final:        401,d+ AI 1GAE I fun!\tGeneration 99\tFitness: 15\n",
            "2.5063188076019287\n",
            "Final:        m?E1 +SAIR+GJG3- fuN!\tGeneration 99\tFitness: 11\n",
            "2.470126152038574\n",
            "Final:        4851 R .dk+GMb W yuL!\tGeneration 99\tFitness: 11\n",
            "2.1811554431915283\n",
            "Final:        4811AP AFf+GXs a WO!!\tGeneration 99\tFitness: 12\n",
            "2.23649263381958\n",
            "Final:        48d1 c8Al7DGPs g juj2\tGeneration 99\tFitness: 10\n",
            "2.2420623302459717\n",
            "Final:        s8n1j+uT, 35AG +dfun!\tGeneration 99\tFitness: 10\n",
            "2.197476387023926\n",
            "Final:        nj71 H oI8Uxqs h jrP!\tGeneration 99\tFitness: 8\n",
            "2.199385643005371\n",
            "Final:        48gn + 2I ++pssvgfun3\tGeneration 99\tFitness: 12\n",
            "2.1664137840270996\n",
            "Final:        481G +pt0 +UgsYPafen!\tGeneration 99\tFitness: 11\n",
            "2.244055986404419\n",
            "Final:        4su1 +?A3x+Gbs?0 fuT3\tGeneration 149\tFitness: 11\n",
            "3.3804433345794678\n",
            "Final:        K8114+QAw +GAd -0Pun4\tGeneration 149\tFitness: 12\n",
            "3.3604519367218018\n",
            "Final:        48SdK+ A1 CGAs7h jun!\tGeneration 149\tFitness: 13\n",
            "3.3799967765808105\n",
            "Final:        441d5+d9s s?Ms C iun!\tGeneration 149\tFitness: 10\n",
            "3.4241127967834473\n",
            "Final:        4801 +kxe 7UAsh! mun+\tGeneration 149\tFitness: 11\n",
            "3.7007083892822266\n",
            "Final:        48n1,++nIc+G6sg5 -ui!\tGeneration 149\tFitness: 11\n",
            "3.4402029514312744\n",
            "Final:        4Ir1 h3A! MGAJ F!fun!\tGeneration 149\tFitness: 12\n",
            "3.5508673191070557\n",
            "Final:        481np8 bIINGrj - f3M!\tGeneration 149\tFitness: 10\n",
            "3.4436147212982178\n",
            "Final:        0811 Y AT OG4s q fun!\tGeneration 149\tFitness: 15\n",
            "3.6181082725524902\n",
            "Final:        4401 + AIzw!us l fs,!\tGeneration 149\tFitness: 12\n",
            "3.5605831146240234\n",
            "Final:        h8jZ +eAItjGAh z fuiw\tGeneration 199\tFitness: 11\n",
            "4.65777063369751\n",
            "Final:        98p1 4 AI2eZAj n9KCn!\tGeneration 199\tFitness: 10\n",
            "4.646435737609863\n",
            "Final:        vwZ1 V4A. +iAXAE f4f9\tGeneration 199\tFitness: 8\n",
            "4.577021360397339\n",
            "Final:        481Rp! j6g+GAN!U fuJk\tGeneration 199\tFitness: 10\n",
            "4.602020740509033\n",
            "Final:        K811G+ eS +GAFs+Wfsn!\tGeneration 199\tFitness: 12\n",
            "4.608615398406982\n",
            "Final:        481A +7wI ZGis F ?hn!\tGeneration 199\tFitness: 13\n",
            "4.628485679626465\n",
            "Final:        4l11o+HfI++ As.R lsn!\tGeneration 199\tFitness: 11\n",
            "4.634457111358643\n",
            "Final:        4y1! l AI +Ghs 4 fxXw\tGeneration 199\tFitness: 13\n",
            "4.831651449203491\n",
            "Final:        4e11++12IUWGBh , funX\tGeneration 199\tFitness: 11\n",
            "4.714039325714111\n",
            "Final:        B811 + AI +GLs-r wugM\tGeneration 199\tFitness: 14\n",
            "4.611852645874023\n",
            "Final:        481lJ+ AI6+GAsWM fnnS\tGeneration 249\tFitness: 14\n",
            "5.83135461807251\n",
            "Final:        48v1Y+ AO pLAu x tAF!\tGeneration 249\tFitness: 11\n",
            "5.791192054748535\n",
            "Final:        48b9Xa AIf+JA-kY qun!\tGeneration 249\tFitness: 11\n",
            "5.896594047546387\n",
            "Final:        !8J1I+mAIq+GAsna fN9!\tGeneration 249\tFitness: 12\n",
            "5.853601694107056\n",
            "Final:        4E11 L1An +eAsMXTfun1\tGeneration 249\tFitness: 12\n",
            "5.523561954498291\n",
            "Final:        48s1G+8PI +rA,yl funM\tGeneration 249\tFitness: 12\n",
            "5.542569637298584\n",
            "Final:        v8v1 +RAIT+G3s c fun,\tGeneration 249\tFitness: 14\n",
            "5.576060771942139\n",
            "Final:        p8119Io1I kGks0ybdun!\tGeneration 249\tFitness: 10\n",
            "5.4949939250946045\n",
            "Final:        j811d+ qI SrAs0ajfun.\tGeneration 249\tFitness: 12\n",
            "5.548177242279053\n",
            "Final:        48yL g AIV+8A65b zun!\tGeneration 249\tFitness: 12\n",
            "5.585298299789429\n",
            "Final:        4?19a+XAI ehAs 85f7n!\tGeneration 299\tFitness: 12\n",
            "6.561860799789429\n",
            "Final:        4g81 + oq +GAb W fun!\tGeneration 299\tFitness: 15\n",
            "6.779717683792114\n",
            "Final:        7d1NU+ AII+GAsOI f?5!\tGeneration 299\tFitness: 12\n",
            "6.632745742797852\n",
            "Final:        4815 BM Z cGA- y  un!\tGeneration 299\tFitness: 12\n",
            "8.703418970108032\n",
            "Final:        4Z11 + AR qQAs T 7G4!\tGeneration 299\tFitness: 13\n",
            "6.700347661972046\n",
            "Final:        48d1P+QAo ?Gcs CLfun!\tGeneration 299\tFitness: 13\n",
            "6.524667024612427\n",
            "Final:        4ZR1Xr WI +GAs knxunh\tGeneration 299\tFitness: 12\n",
            "6.610785245895386\n",
            "Final:        4q1H 3 AI +GAR s fLns\tGeneration 299\tFitness: 14\n",
            "6.627703905105591\n",
            "Final:        4z11 X AI3SGos OZfun!\tGeneration 299\tFitness: 14\n",
            "6.7357378005981445\n",
            "Final:        481t +6AkL+!AigC fuH!\tGeneration 299\tFitness: 12\n",
            "6.569931268692017\n",
            "Final:        Z81Q5+ AO +sAsT81funh\tGeneration 349\tFitness: 12\n",
            "7.772837400436401\n",
            "Final:        4f1? z AIC+dAs m fvnd\tGeneration 349\tFitness: 13\n",
            "7.82421612739563\n",
            "Final:        481m + eI +0Fo usfun!\tGeneration 349\tFitness: 14\n",
            "7.6119279861450195\n",
            "Final:        Z811 +0AIK9GAsC1 fvnz\tGeneration 349\tFitness: 13\n",
            "7.64065957069397\n",
            "Final:        4811KNMAID+G+s D fUnA\tGeneration 349\tFitness: 13\n",
            "7.509437322616577\n",
            "Final:        4Z11 + -I +GAs 0 fuh!\tGeneration 349\tFitness: 17\n",
            "7.811739206314087\n",
            "Final:        481I +4.IQ+RJnB31fun!\tGeneration 349\tFitness: 11\n",
            "7.633307933807373\n",
            "Final:        48160+CAj fGAs o zuG!\tGeneration 349\tFitness: 13\n",
            "7.503321647644043\n",
            "Final:        48t1 +F6I++GAs h4m5n!\tGeneration 349\tFitness: 13\n",
            "7.689965486526489\n",
            "Final:        48tmn+ AI -Gxsk? gun!\tGeneration 349\tFitness: 13\n",
            "7.587433815002441\n",
            "Final:        4811hV Au +pAsdM fuTp\tGeneration 399\tFitness: 13\n",
            "8.695913314819336\n",
            "Final:        c84y + A!C+GA. 6efEm!\tGeneration 399\tFitness: 11\n",
            "8.55463457107544\n",
            "Final:        Q8PC jiAIb+eFsvT !un!\tGeneration 399\tFitness: 10\n",
            "8.672470092773438\n",
            "Final:        481KB+vAu +GAsc  fen!\tGeneration 399\tFitness: 14\n",
            "8.69645881652832\n",
            "Final:        4811E+JAI BGAEz7 fun!\tGeneration 399\tFitness: 15\n",
            "8.804435729980469\n",
            "Final:        48Qfq+NAI rGA7 5,Hun!\tGeneration 399\tFitness: 12\n",
            "8.786023616790771\n",
            "Final:        4811 e pI YGBszj funb\tGeneration 399\tFitness: 14\n",
            "8.296596765518188\n",
            "Final:        481tjf AI !tAs v fun!\tGeneration 399\tFitness: 15\n",
            "19.253966331481934\n",
            "Final:        4e1X57FnI +GPs F fvn!\tGeneration 399\tFitness: 12\n",
            "8.934221982955933\n",
            "Final:        481sC+JkIo9GYs + funR\tGeneration 399\tFitness: 12\n",
            "8.885038614273071\n",
            "Final:        48?1 e A? NOA  q fPY!\tGeneration 449\tFitness: 12\n",
            "9.782277345657349\n",
            "Final:        o811 C AI +GAsC+ fun!\tGeneration 449\tFitness: 17\n",
            "10.06299877166748\n",
            "Final:        4s1? P AI gGAv L oun!\tGeneration 449\tFitness: 14\n",
            "10.111050844192505\n",
            "Final:        4011 +lnH +.AsYA 8un!\tGeneration 449\tFitness: 13\n",
            "10.131999969482422\n",
            "Final:        4L11ql AI +mAs D fuD!\tGeneration 449\tFitness: 15\n",
            "10.090946674346924\n",
            "Final:        B811 + AIY+2AuyX fun!\tGeneration 449\tFitness: 15\n",
            "10.13200044631958\n",
            "Final:        4811 e AIYmBAsa2 fu2!\tGeneration 449\tFitness: 14\n",
            "9.8650381565094\n",
            "Final:        48yT + yI +Gus r fyn!\tGeneration 449\tFitness: 15\n",
            "10.162996053695679\n",
            "Final:        4X11k9 FId+aAs.6 fu1!\tGeneration 449\tFitness: 12\n",
            "10.251966714859009\n",
            "Final:        i811g+2AM++GVs R fun2\tGeneration 449\tFitness: 13\n",
            "10.0520339012146\n",
            "Final:        4811 ? AB +sAt p 0un!\tGeneration 499\tFitness: 15\n",
            "11.053967237472534\n",
            "Final:        48F1 + AI +GAs J fZF!\tGeneration 499\tFitness: 17\n",
            "11.43299913406372\n",
            "Final:        48W1 + AI +AA- WpfuW!\tGeneration 499\tFitness: 15\n",
            "11.107964277267456\n",
            "Final:        4q1k + AdT+GAf2- fbn!\tGeneration 499\tFitness: 13\n",
            "10.73638105392456\n",
            "Final:        4Z+1 + E5c+GAs - fun!\tGeneration 499\tFitness: 15\n",
            "11.280511140823364\n",
            "Final:        4811 +4AI +Gis + fCn!\tGeneration 499\tFitness: 17\n",
            "11.365002393722534\n",
            "Final:        4R11 T A. +GAt o fun!\tGeneration 499\tFitness: 16\n",
            "11.37196159362793\n",
            "Final:        4Rg1 TXAW y?Cs V funx\tGeneration 499\tFitness: 11\n",
            "10.996038436889648\n",
            "Final:        4811 6 AIheGLs W Mun!\tGeneration 499\tFitness: 15\n",
            "11.319965839385986\n",
            "Final:        481x M 1I +2Ab ? fum!\tGeneration 499\tFitness: 14\n",
            "11.063996315002441\n"
          ]
        }
      ],
      "source": [
        "time_values = np.zeros((10,10))\n",
        "fit_values = np.zeros((10,10))\n",
        "gen_values = np.zeros((10,10))\n",
        "gen_range = [50, 100, 150, 200, 250, 300, 350, 400, 450, 500]\n",
        "for j in range(10):\n",
        "  for i in range(10):\n",
        "    start = time.time()\n",
        "    pop = init_population(max_population, gene_pool, len(target))\n",
        "    soln, fitv,  gen = genetic_algorithm_stepwise(pop, fitness_fn, gene_pool, \n",
        "                                                  f_thres, gen_range[j], mutation_rate, True) \n",
        "    end = time.time()\n",
        "    print(end-start)\n",
        "    time_values[i,j] = end-start\n",
        "    fit_values[i,j] = fitv\n",
        "    gen_values[i,j] = gen\n",
        "\n"
      ]
    },
    {
      "cell_type": "code",
      "execution_count": 7,
      "metadata": {
        "id": "IwoIMfPRvBCP"
      },
      "outputs": [
        {
          "data": {
            "image/png": "[encoded data removed]",
            "text/plain": [
              "<Figure size 432x288 with 1 Axes>"
            ]
          },
          "metadata": {
            "needs_background": "light"
          },
          "output_type": "display_data"
        }
      ],
      "source": [
        "fig = plt.figure()\n",
        "plt.errorbar(gen_range, time_values.mean(axis=0), time_values.std(axis=0), lw=2)\n",
        "plt.xlabel('Number of Generations', size=14)\n",
        "plt.ylabel('Time (s)', size=14)\n",
        "plt.title('Ave. GA Running Time +/- Std. Dev.', size=16)\n",
        "plt.xticks(fontsize=12)\n",
        "plt.yticks(fontsize=12)\n",
        "fig.savefig('figA-time.eps', bbox_inches='tight', format='eps')"
      ]
    },
    {
      "cell_type": "code",
      "execution_count": 8,
      "metadata": {
        "id": "IEhZ8eIA3qSQ"
      },
      "outputs": [
        {
          "name": "stderr",
          "output_type": "stream",
          "text": [
            "The PostScript backend does not support transparency; partially transparent artists will be rendered opaque.\n",
            "The PostScript backend does not support transparency; partially transparent artists will be rendered opaque.\n"
          ]
        },
        {
          "data": {
            "image/png": "[encoded data removed]",
            "text/plain": [
              "<Figure size 432x288 with 1 Axes>"
            ]
          },
          "metadata": {
            "needs_background": "light"
          },
          "output_type": "display_data"
        }
      ],
      "source": [
        "fig = plt.figure()\n",
        "eb = plt.errorbar(gen_range, fit_values.mean(axis=0), fit_values.std(axis=0), lw=2)\n",
        "plt.xlabel('Number of Generations', size=14)\n",
        "plt.ylabel('Fitness Score', size=14)\n",
        "plt.title('Ave. Fitness of Best Individual +/- Std. Dev.', size=16)\n",
        "mx = plt.axhline(len(target), color='r', lw=2)\n",
        "plt.legend([eb, mx], ['GA Fitness', 'Max Fitness Score'], loc=4)\n",
        "plt.xticks(fontsize=12)\n",
        "plt.yticks(fontsize=12)\n",
        "fig.savefig('figA-fit.eps', bbox_inches='tight', format='eps')"
      ]
    },
    {
      "cell_type": "markdown",
      "metadata": {
        "id": "AxC5akz-_RAk"
      },
      "source": [
        "## Q2(b)\n",
        "\n",
        "Explore the parameter space by varying the population size `max_population` between 50 and 500 in increments of 50 while keeping all other parameters fixed at the default values. \n"
      ]
    },
    {
      "cell_type": "code",
      "execution_count": 9,
      "metadata": {
        "id": "aj0nWjM95vP-"
      },
      "outputs": [],
      "source": [
        "ngen = 1000             # set back to default\n",
        "max_population = [50, 100, 150, 200, 250, 300, 350, 400, 450, 500]\n"
      ]
    },
    {
      "cell_type": "code",
      "execution_count": 10,
      "metadata": {
        "id": "vN0S4B2F51cy"
      },
      "outputs": [
        {
          "name": "stdout",
          "output_type": "stream",
          "text": [
            "Final:        481JtGIUr6RnAm , AhnR\tGeneration 999\tFitness: 7\n",
            "5.417553186416626\n",
            "Final:        4811 ?PAI7+6AhKf eunX\tGeneration 999\tFitness: 12\n",
            "5.721032381057739\n",
            "Final:        4851 +tAIvSmAqd?oHo3!\tGeneration 999\tFitness: 9\n",
            "5.787006378173828\n",
            "Final:        4811xnQAa +GAs c oun!\tGeneration 999\tFitness: 15\n",
            "5.865285873413086\n",
            "Final:        4a1gO5 ArzAGAsU1ESun!\tGeneration 999\tFitness: 10\n",
            "5.706998586654663\n",
            "Final:        V8xJ2k A- +3As b Nun!\tGeneration 999\tFitness: 12\n",
            "5.747002840042114\n",
            "Final:        48PnG, ?I7+p!sl-rfu8!\tGeneration 999\tFitness: 9\n",
            "5.670627593994141\n",
            "Final:        4811V+7AII+v-z P fud+\tGeneration 999\tFitness: 12\n",
            "5.7759644985198975\n",
            "Final:        48kh0+ ZI +GAN PlSun!\tGeneration 999\tFitness: 13\n",
            "5.682002067565918\n",
            "Final:        4111 + k? +YARKumWuO!\tGeneration 999\tFitness: 11\n",
            "5.879034042358398\n",
            "Final:        f811Y+ AI +GA,u1 fun!\tGeneration 999\tFitness: 16\n",
            "22.560999393463135\n",
            "Final:        E8J1 + AI YGAsVp fPP!\tGeneration 999\tFitness: 14\n",
            "22.470001935958862\n",
            "Final:        4811 hFAI +JAs+WTfun!\tGeneration 999\tFitness: 15\n",
            "22.688998222351074\n",
            "Final:        48116F AI +GAs P fu.!\tGeneration 999\tFitness: 17\n",
            "23.217002153396606\n",
            "Final:        4811 + A8 + Aszb kuS7\tGeneration 999\tFitness: 14\n",
            "22.42500066757202\n",
            "Final:        ii11 +5AI +uAs 6Ufunl\tGeneration 999\tFitness: 14\n",
            "22.894997358322144\n",
            "Final:        481Z + AI +0Ag vFfunB\tGeneration 999\tFitness: 15\n",
            "22.863280057907104\n",
            "Final:        48A16+nAs TGAs Y fun!\tGeneration 999\tFitness: 15\n",
            "22.97696566581726\n",
            "Final:        481w +qAoc+Pu, 13fun!\tGeneration 999\tFitness: 12\n",
            "22.764034032821655\n",
            "Final:        4811 + NI OGAs9Z fuXc\tGeneration 999\tFitness: 15\n",
            "22.286966562271118\n",
            "Final:        4Ht1 + dI +GAs M fun!\tGeneration 999\tFitness: 17\n",
            "50.49603605270386\n",
            "Final:        I811g+ AI +GAs E fun!\tGeneration 999\tFitness: 18\n",
            "51.9927933216095\n",
            "Final:        4811 + AIS+GA5 t fun!\tGeneration 999\tFitness: 18\n",
            "130.28076481819153\n",
            "Final:        4811 +tAI JGgs ? fun!\tGeneration 999\tFitness: 17\n",
            "50.785746574401855\n",
            "Final:        4L11U+ AI +Gws avfun!\tGeneration 999\tFitness: 16\n",
            "52.526036977767944\n",
            "Final:        48110+ AD6+GAs 1 f+nB\tGeneration 999\tFitness: 15\n",
            "51.50667333602905\n",
            "Final:        4811 + AI +GAs K ful!\tGeneration 999\tFitness: 19\n",
            "51.30818700790405\n",
            "Final:        481N +SAI +GAs Z fun!\tGeneration 999\tFitness: 18\n",
            "50.55496954917908\n",
            "Final:        4811 +bA  +GAs q fcn!\tGeneration 999\tFitness: 17\n",
            "50.726996183395386\n",
            "Final:        4m11 . AI +GAs w fun!\tGeneration 999\tFitness: 18\n",
            "51.37054681777954\n",
            "Final:        4811 + AI +GOs k fun!\tGeneration 999\tFitness: 19\n",
            "92.31896615028381\n",
            "Final:        4811 + PI .GAt h fuI!\tGeneration 999\tFitness: 16\n",
            "113.79240107536316\n",
            "Final:        4811 + AI QGAs1B fun!\tGeneration 999\tFitness: 18\n",
            "94.39178776741028\n",
            "Final:        4811 + AI 1UAs 5 fun!\tGeneration 999\tFitness: 18\n",
            "95.67804431915283\n",
            "Final:        4811 + AI +GAs e fun!\tGeneration 999\tFitness: 20\n",
            "98.9439914226532\n",
            "Final:        481? + AI +GAs 3 fun!\tGeneration 999\tFitness: 19\n",
            "94.21199774742126\n",
            "Final:        4811 +MAI +GAs e fun!\tGeneration 999\tFitness: 19\n",
            "92.783438205719\n",
            "Final:        4811,+ MI +OAs Q fun!\tGeneration 999\tFitness: 17\n",
            "93.71503520011902\n",
            "Final:        4811 + 6I +GAs h fun!\tGeneration 999\tFitness: 19\n",
            "97.01501870155334\n",
            "Final:        4811 + 3I +GAs - fZn!\tGeneration 999\tFitness: 18\n",
            "95.83299827575684\n",
            "Final:        4811L+ AI +GAs X fun!\tGeneration 999\tFitness: 19\n",
            "153.11442160606384\n",
            "Final:        4811 + AI +GAs x fun!\tGeneration 999\tFitness: 20\n",
            "147.05402445793152\n",
            "Final:        4811 + AI +GAs k fun!\tGeneration 999\tFitness: 20\n",
            "152.11607909202576\n",
            "Final:        4811 + AI jGAs C fun!\tGeneration 999\tFitness: 19\n",
            "147.52100038528442\n",
            "Final:        4811 + AI +GAs H fun!\tGeneration 999\tFitness: 20\n",
            "147.3529670238495\n",
            "Final:        4811 + AI +GAs + fu-!\tGeneration 999\tFitness: 19\n",
            "146.28998041152954\n",
            "Final:        4811 + AI +GAs +1fun!\tGeneration 999\tFitness: 19\n",
            "145.9699306488037\n",
            "Final:        4811 2 AI +Gts 3 fun!\tGeneration 999\tFitness: 18\n",
            "146.70976090431213\n",
            "Final:        4811 +YAI +GAs 9 fun!\tGeneration 999\tFitness: 19\n",
            "149.18401217460632\n",
            "Final:        4811 + AI +GAs , fun!\tGeneration 999\tFitness: 20\n",
            "155.72198462486267\n",
            "Final:        48P1 + AI +GAs j fun!\tGeneration 999\tFitness: 19\n",
            "221.2522611618042\n",
            "Final:        4811 +nAI +GAs C fun!\tGeneration 999\tFitness: 19\n",
            "229.36709833145142\n",
            "Final:        4811 + AI +GAs 5 fun!\tGeneration 999\tFitness: 20\n",
            "217.90986967086792\n",
            "Final:        4811 + AI +GAs h Tun!\tGeneration 999\tFitness: 19\n",
            "214.625572681427\n",
            "Final:        4811 + AI +eAs X fun!\tGeneration 999\tFitness: 19\n",
            "212.1402781009674\n",
            "Final:        4811 7 AI +GAs Z fun!\tGeneration 999\tFitness: 19\n",
            "213.71232104301453\n",
            "Final:        4811 + AI +GAs U fun!\tGeneration 999\tFitness: 20\n",
            "214.98601078987122\n"
          ]
        },
        {
          "ename": "KeyboardInterrupt",
          "evalue": "",
          "output_type": "error",
          "traceback": [
            "\u001b[1;31m---------------------------------------------------------------------------\u001b[0m",
            "\u001b[1;31mKeyboardInterrupt\u001b[0m                         Traceback (most recent call last)",
            "\u001b[1;32m<ipython-input-10-5da619ac3879>\u001b[0m in \u001b[0;36m<module>\u001b[1;34m\u001b[0m\n\u001b[0;32m      7\u001b[0m     \u001b[0mpop\u001b[0m \u001b[1;33m=\u001b[0m \u001b[0minit_population\u001b[0m\u001b[1;33m(\u001b[0m\u001b[0mmax_population\u001b[0m\u001b[1;33m[\u001b[0m\u001b[0mj\u001b[0m\u001b[1;33m]\u001b[0m\u001b[1;33m,\u001b[0m \u001b[0mgene_pool\u001b[0m\u001b[1;33m,\u001b[0m \u001b[0mlen\u001b[0m\u001b[1;33m(\u001b[0m\u001b[0mtarget\u001b[0m\u001b[1;33m)\u001b[0m\u001b[1;33m)\u001b[0m\u001b[1;33m\u001b[0m\u001b[1;33m\u001b[0m\u001b[0m\n\u001b[0;32m      8\u001b[0m     soln, fitv,  gen = genetic_algorithm_stepwise(pop, fitness_fn, gene_pool, \n\u001b[1;32m----> 9\u001b[1;33m                                                   f_thres, ngen, mutation_rate, True) \n\u001b[0m\u001b[0;32m     10\u001b[0m     \u001b[0mend\u001b[0m \u001b[1;33m=\u001b[0m \u001b[0mtime\u001b[0m\u001b[1;33m.\u001b[0m\u001b[0mtime\u001b[0m\u001b[1;33m(\u001b[0m\u001b[1;33m)\u001b[0m\u001b[1;33m\u001b[0m\u001b[1;33m\u001b[0m\u001b[0m\n\u001b[0;32m     11\u001b[0m     \u001b[0mprint\u001b[0m\u001b[1;33m(\u001b[0m\u001b[0mend\u001b[0m\u001b[1;33m-\u001b[0m\u001b[0mstart\u001b[0m\u001b[1;33m)\u001b[0m\u001b[1;33m\u001b[0m\u001b[1;33m\u001b[0m\u001b[0m\n",
            "\u001b[1;32mc:\\Users\\spade\\Documents\\GitHub\\CS4811-AI\\w2_code\\ga.py\u001b[0m in \u001b[0;36mgenetic_algorithm_stepwise\u001b[1;34m(population, fitness_fn, gene_pool, f_thres, ngen, pmut, mute)\u001b[0m\n\u001b[0;32m    125\u001b[0m     ngen=1000, pmut=0.07, mute=False):\n\u001b[0;32m    126\u001b[0m     \u001b[1;32mfor\u001b[0m \u001b[0mgeneration\u001b[0m \u001b[1;32min\u001b[0m \u001b[0mrange\u001b[0m\u001b[1;33m(\u001b[0m\u001b[0mngen\u001b[0m\u001b[1;33m)\u001b[0m\u001b[1;33m:\u001b[0m\u001b[1;33m\u001b[0m\u001b[1;33m\u001b[0m\u001b[0m\n\u001b[1;32m--> 127\u001b[1;33m         \u001b[0mpopulation\u001b[0m \u001b[1;33m=\u001b[0m \u001b[1;33m[\u001b[0m\u001b[0mmutate\u001b[0m\u001b[1;33m(\u001b[0m\u001b[0mrecombine\u001b[0m\u001b[1;33m(\u001b[0m\u001b[1;33m*\u001b[0m\u001b[0mselect\u001b[0m\u001b[1;33m(\u001b[0m\u001b[1;36m2\u001b[0m\u001b[1;33m,\u001b[0m \u001b[0mpopulation\u001b[0m\u001b[1;33m,\u001b[0m \u001b[0mfitness_fn\u001b[0m\u001b[1;33m)\u001b[0m\u001b[1;33m)\u001b[0m\u001b[1;33m,\u001b[0m \u001b[0mgene_pool\u001b[0m\u001b[1;33m,\u001b[0m \u001b[0mpmut\u001b[0m\u001b[1;33m)\u001b[0m \u001b[1;32mfor\u001b[0m \u001b[0mi\u001b[0m \u001b[1;32min\u001b[0m \u001b[0mrange\u001b[0m\u001b[1;33m(\u001b[0m\u001b[0mlen\u001b[0m\u001b[1;33m(\u001b[0m\u001b[0mpopulation\u001b[0m\u001b[1;33m)\u001b[0m\u001b[1;33m)\u001b[0m\u001b[1;33m]\u001b[0m\u001b[1;33m\u001b[0m\u001b[1;33m\u001b[0m\u001b[0m\n\u001b[0m\u001b[0;32m    128\u001b[0m         \u001b[1;31m# stores the individual genome with the highest fitness in the current population\u001b[0m\u001b[1;33m\u001b[0m\u001b[1;33m\u001b[0m\u001b[1;33m\u001b[0m\u001b[0m\n\u001b[0;32m    129\u001b[0m         \u001b[0mcurrent_best\u001b[0m \u001b[1;33m=\u001b[0m \u001b[1;34m''\u001b[0m\u001b[1;33m.\u001b[0m\u001b[0mjoin\u001b[0m\u001b[1;33m(\u001b[0m\u001b[0mmax\u001b[0m\u001b[1;33m(\u001b[0m\u001b[0mpopulation\u001b[0m\u001b[1;33m,\u001b[0m \u001b[0mkey\u001b[0m\u001b[1;33m=\u001b[0m\u001b[0mfitness_fn\u001b[0m\u001b[1;33m)\u001b[0m\u001b[1;33m)\u001b[0m\u001b[1;33m\u001b[0m\u001b[1;33m\u001b[0m\u001b[0m\n",
            "\u001b[1;32mc:\\Users\\spade\\Documents\\GitHub\\CS4811-AI\\w2_code\\ga.py\u001b[0m in \u001b[0;36m<listcomp>\u001b[1;34m(.0)\u001b[0m\n\u001b[0;32m    125\u001b[0m     ngen=1000, pmut=0.07, mute=False):\n\u001b[0;32m    126\u001b[0m     \u001b[1;32mfor\u001b[0m \u001b[0mgeneration\u001b[0m \u001b[1;32min\u001b[0m \u001b[0mrange\u001b[0m\u001b[1;33m(\u001b[0m\u001b[0mngen\u001b[0m\u001b[1;33m)\u001b[0m\u001b[1;33m:\u001b[0m\u001b[1;33m\u001b[0m\u001b[1;33m\u001b[0m\u001b[0m\n\u001b[1;32m--> 127\u001b[1;33m         \u001b[0mpopulation\u001b[0m \u001b[1;33m=\u001b[0m \u001b[1;33m[\u001b[0m\u001b[0mmutate\u001b[0m\u001b[1;33m(\u001b[0m\u001b[0mrecombine\u001b[0m\u001b[1;33m(\u001b[0m\u001b[1;33m*\u001b[0m\u001b[0mselect\u001b[0m\u001b[1;33m(\u001b[0m\u001b[1;36m2\u001b[0m\u001b[1;33m,\u001b[0m \u001b[0mpopulation\u001b[0m\u001b[1;33m,\u001b[0m \u001b[0mfitness_fn\u001b[0m\u001b[1;33m)\u001b[0m\u001b[1;33m)\u001b[0m\u001b[1;33m,\u001b[0m \u001b[0mgene_pool\u001b[0m\u001b[1;33m,\u001b[0m \u001b[0mpmut\u001b[0m\u001b[1;33m)\u001b[0m \u001b[1;32mfor\u001b[0m \u001b[0mi\u001b[0m \u001b[1;32min\u001b[0m \u001b[0mrange\u001b[0m\u001b[1;33m(\u001b[0m\u001b[0mlen\u001b[0m\u001b[1;33m(\u001b[0m\u001b[0mpopulation\u001b[0m\u001b[1;33m)\u001b[0m\u001b[1;33m)\u001b[0m\u001b[1;33m]\u001b[0m\u001b[1;33m\u001b[0m\u001b[1;33m\u001b[0m\u001b[0m\n\u001b[0m\u001b[0;32m    128\u001b[0m         \u001b[1;31m# stores the individual genome with the highest fitness in the current population\u001b[0m\u001b[1;33m\u001b[0m\u001b[1;33m\u001b[0m\u001b[1;33m\u001b[0m\u001b[0m\n\u001b[0;32m    129\u001b[0m         \u001b[0mcurrent_best\u001b[0m \u001b[1;33m=\u001b[0m \u001b[1;34m''\u001b[0m\u001b[1;33m.\u001b[0m\u001b[0mjoin\u001b[0m\u001b[1;33m(\u001b[0m\u001b[0mmax\u001b[0m\u001b[1;33m(\u001b[0m\u001b[0mpopulation\u001b[0m\u001b[1;33m,\u001b[0m \u001b[0mkey\u001b[0m\u001b[1;33m=\u001b[0m\u001b[0mfitness_fn\u001b[0m\u001b[1;33m)\u001b[0m\u001b[1;33m)\u001b[0m\u001b[1;33m\u001b[0m\u001b[1;33m\u001b[0m\u001b[0m\n",
            "\u001b[1;32mc:\\Users\\spade\\Documents\\GitHub\\CS4811-AI\\w2_code\\ga.py\u001b[0m in \u001b[0;36mselect\u001b[1;34m(r, population, fitness_fn)\u001b[0m\n\u001b[0;32m     74\u001b[0m \u001b[1;32mdef\u001b[0m \u001b[0mselect\u001b[0m\u001b[1;33m(\u001b[0m\u001b[0mr\u001b[0m\u001b[1;33m,\u001b[0m \u001b[0mpopulation\u001b[0m\u001b[1;33m,\u001b[0m \u001b[0mfitness_fn\u001b[0m\u001b[1;33m)\u001b[0m\u001b[1;33m:\u001b[0m\u001b[1;33m\u001b[0m\u001b[1;33m\u001b[0m\u001b[0m\n\u001b[0;32m     75\u001b[0m     \u001b[0mfitnesses\u001b[0m \u001b[1;33m=\u001b[0m \u001b[0mmap\u001b[0m\u001b[1;33m(\u001b[0m\u001b[0mfitness_fn\u001b[0m\u001b[1;33m,\u001b[0m \u001b[0mpopulation\u001b[0m\u001b[1;33m)\u001b[0m\u001b[1;33m\u001b[0m\u001b[1;33m\u001b[0m\u001b[0m\n\u001b[1;32m---> 76\u001b[1;33m     \u001b[0msampler\u001b[0m \u001b[1;33m=\u001b[0m \u001b[0mweighted_sampler\u001b[0m\u001b[1;33m(\u001b[0m\u001b[0mpopulation\u001b[0m\u001b[1;33m,\u001b[0m \u001b[0mfitnesses\u001b[0m\u001b[1;33m)\u001b[0m\u001b[1;33m\u001b[0m\u001b[1;33m\u001b[0m\u001b[0m\n\u001b[0m\u001b[0;32m     77\u001b[0m     \u001b[1;32mreturn\u001b[0m \u001b[1;33m[\u001b[0m\u001b[0msampler\u001b[0m\u001b[1;33m(\u001b[0m\u001b[1;33m)\u001b[0m \u001b[1;32mfor\u001b[0m \u001b[0mi\u001b[0m \u001b[1;32min\u001b[0m \u001b[0mrange\u001b[0m\u001b[1;33m(\u001b[0m\u001b[0mr\u001b[0m\u001b[1;33m)\u001b[0m\u001b[1;33m]\u001b[0m\u001b[1;33m\u001b[0m\u001b[1;33m\u001b[0m\u001b[0m\n\u001b[0;32m     78\u001b[0m \u001b[1;33m\u001b[0m\u001b[0m\n",
            "\u001b[1;32mc:\\Users\\spade\\Documents\\GitHub\\CS4811-AI\\w2_code\\utils.py\u001b[0m in \u001b[0;36mweighted_sampler\u001b[1;34m(seq, weights)\u001b[0m\n\u001b[0;32m    216\u001b[0m     \u001b[1;34m\"\"\"Return a random-sample function that picks from seq weighted by weights.\"\"\"\u001b[0m\u001b[1;33m\u001b[0m\u001b[1;33m\u001b[0m\u001b[0m\n\u001b[0;32m    217\u001b[0m     \u001b[0mtotals\u001b[0m \u001b[1;33m=\u001b[0m \u001b[1;33m[\u001b[0m\u001b[1;33m]\u001b[0m\u001b[1;33m\u001b[0m\u001b[1;33m\u001b[0m\u001b[0m\n\u001b[1;32m--> 218\u001b[1;33m     \u001b[1;32mfor\u001b[0m \u001b[0mw\u001b[0m \u001b[1;32min\u001b[0m \u001b[0mweights\u001b[0m\u001b[1;33m:\u001b[0m\u001b[1;33m\u001b[0m\u001b[1;33m\u001b[0m\u001b[0m\n\u001b[0m\u001b[0;32m    219\u001b[0m         \u001b[0mtotals\u001b[0m\u001b[1;33m.\u001b[0m\u001b[0mappend\u001b[0m\u001b[1;33m(\u001b[0m\u001b[0mw\u001b[0m \u001b[1;33m+\u001b[0m \u001b[0mtotals\u001b[0m\u001b[1;33m[\u001b[0m\u001b[1;33m-\u001b[0m\u001b[1;36m1\u001b[0m\u001b[1;33m]\u001b[0m \u001b[1;32mif\u001b[0m \u001b[0mtotals\u001b[0m \u001b[1;32melse\u001b[0m \u001b[0mw\u001b[0m\u001b[1;33m)\u001b[0m\u001b[1;33m\u001b[0m\u001b[1;33m\u001b[0m\u001b[0m\n\u001b[0;32m    220\u001b[0m \u001b[1;33m\u001b[0m\u001b[0m\n",
            "\u001b[1;32mc:\\Users\\spade\\Documents\\GitHub\\CS4811-AI\\w2_code\\ga.py\u001b[0m in \u001b[0;36mfitness_fn\u001b[1;34m(sample)\u001b[0m\n\u001b[0;32m     53\u001b[0m     \u001b[0mfitness\u001b[0m \u001b[1;33m=\u001b[0m \u001b[1;36m0\u001b[0m\u001b[1;33m\u001b[0m\u001b[1;33m\u001b[0m\u001b[0m\n\u001b[0;32m     54\u001b[0m     \u001b[1;32mfor\u001b[0m \u001b[0mi\u001b[0m \u001b[1;32min\u001b[0m \u001b[0mrange\u001b[0m\u001b[1;33m(\u001b[0m\u001b[0mlen\u001b[0m\u001b[1;33m(\u001b[0m\u001b[0msample\u001b[0m\u001b[1;33m)\u001b[0m\u001b[1;33m)\u001b[0m\u001b[1;33m:\u001b[0m\u001b[1;33m\u001b[0m\u001b[1;33m\u001b[0m\u001b[0m\n\u001b[1;32m---> 55\u001b[1;33m         \u001b[1;32mif\u001b[0m \u001b[0msample\u001b[0m\u001b[1;33m[\u001b[0m\u001b[0mi\u001b[0m\u001b[1;33m]\u001b[0m \u001b[1;33m==\u001b[0m \u001b[0mtarget\u001b[0m\u001b[1;33m[\u001b[0m\u001b[0mi\u001b[0m\u001b[1;33m]\u001b[0m\u001b[1;33m:\u001b[0m\u001b[1;33m\u001b[0m\u001b[1;33m\u001b[0m\u001b[0m\n\u001b[0m\u001b[0;32m     56\u001b[0m             \u001b[0mfitness\u001b[0m \u001b[1;33m+=\u001b[0m \u001b[1;36m1\u001b[0m\u001b[1;33m\u001b[0m\u001b[1;33m\u001b[0m\u001b[0m\n\u001b[0;32m     57\u001b[0m     \u001b[1;32mreturn\u001b[0m \u001b[0mfitness\u001b[0m\u001b[1;33m\u001b[0m\u001b[1;33m\u001b[0m\u001b[0m\n",
            "\u001b[1;31mKeyboardInterrupt\u001b[0m: "
          ]
        }
      ],
      "source": [
        "time_values = np.zeros((10,10))\n",
        "fit_values = np.zeros((10,10))\n",
        "gen_values = np.zeros((10,10))\n",
        "for j in range(10):\n",
        "  for i in range(10):\n",
        "    start = time.time()\n",
        "    pop = init_population(max_population[j], gene_pool, len(target))\n",
        "    soln, fitv,  gen = genetic_algorithm_stepwise(pop, fitness_fn, gene_pool, \n",
        "                                                  f_thres, ngen, mutation_rate, True) \n",
        "    end = time.time()\n",
        "    print(end-start)\n",
        "    time_values[i,j] = end-start\n",
        "    fit_values[i,j] = fitv\n",
        "    gen_values[i,j] = gen"
      ]
    },
    {
      "cell_type": "code",
      "execution_count": 11,
      "metadata": {
        "id": "TP-uRWBI_zM5"
      },
      "outputs": [
        {
          "data": {
            "image/png": "[encoded data removed]",
            "text/plain": [
              "<Figure size 432x288 with 1 Axes>"
            ]
          },
          "metadata": {
            "needs_background": "light"
          },
          "output_type": "display_data"
        }
      ],
      "source": [
        "fig = plt.figure()\n",
        "plt.errorbar(gen_range, time_values.mean(axis=0), time_values.std(axis=0), lw=2)\n",
        "plt.xlabel('Number of Generations', size=14)\n",
        "plt.ylabel('Time (s)', size=14)\n",
        "plt.title('Ave. GA Running Time +/- Std. Dev.', size=16)\n",
        "plt.xticks(fontsize=12)\n",
        "plt.yticks(fontsize=12)\n",
        "fig.savefig('figA-time.eps', bbox_inches='tight', format='eps')"
      ]
    },
    {
      "cell_type": "code",
      "execution_count": 12,
      "metadata": {
        "id": "52348Y3r_0cL"
      },
      "outputs": [
        {
          "name": "stderr",
          "output_type": "stream",
          "text": [
            "The PostScript backend does not support transparency; partially transparent artists will be rendered opaque.\n",
            "The PostScript backend does not support transparency; partially transparent artists will be rendered opaque.\n"
          ]
        },
        {
          "data": {
            "image/png": "[encoded data removed]",
            "text/plain": [
              "<Figure size 432x288 with 1 Axes>"
            ]
          },
          "metadata": {
            "needs_background": "light"
          },
          "output_type": "display_data"
        }
      ],
      "source": [
        "fig = plt.figure()\n",
        "eb = plt.errorbar(gen_range, fit_values.mean(axis=0), fit_values.std(axis=0), lw=2)\n",
        "plt.xlabel('Number of Generations', size=14)\n",
        "plt.ylabel('Fitness Score', size=14)\n",
        "plt.title('Ave. Fitness of Best Individual +/- Std. Dev.', size=16)\n",
        "mx = plt.axhline(len(target), color='r', lw=2)\n",
        "plt.legend([eb, mx], ['GA Fitness', 'Max Fitness Score'], loc=4)\n",
        "plt.xticks(fontsize=12)\n",
        "plt.yticks(fontsize=12)\n",
        "fig.savefig('figA-fit.eps', bbox_inches='tight', format='eps')"
      ]
    },
    {
      "cell_type": "markdown",
      "metadata": {
        "id": "oPr2XuxdBDPg"
      },
      "source": [
        "## Q2(c) \n",
        "\n",
        "Explore the parameter space by varying the mutation rate `mutation_rate` between 0.025 and 0.25 in increments of 0.025 while keeping all other parameters fixed at the default values.\n"
      ]
    },
    {
      "cell_type": "code",
      "execution_count": 23,
      "metadata": {
        "id": "uuP9Hg9qBEb5"
      },
      "outputs": [],
      "source": [
        "ngen = 1000             # set back to default\n",
        "max_population = 100    # set back to default\n",
        "mutation_rate = [0.025, 0.05, 0.075, 0.1, 0.125, 0.15, 0.175, 0.2, 0.225, 0.25]\n"
      ]
    },
    {
      "cell_type": "code",
      "execution_count": 24,
      "metadata": {
        "id": "CbYVmFkXBT69"
      },
      "outputs": [
        {
          "name": "stdout",
          "output_type": "stream",
          "text": [
            "Final:        481A h AIe+GAs U f?O!\tGeneration 999\tFitness: 15\n",
            "22.788997650146484\n",
            "Final:        481aR+JrI +Gvs x fug!\tGeneration 999\tFitness: 14\n",
            "22.0870041847229\n",
            "Final:        4O110+thI -GAsom QtnK\tGeneration 999\tFitness: 11\n",
            "22.13703203201294\n",
            "Final:        4811L+ AI mIAsrX ,un!\tGeneration 999\tFitness: 15\n",
            "22.703964471817017\n",
            "Final:        4LV9BryAv +h s V fun!\tGeneration 999\tFitness: 11\n",
            "22.012999296188354\n",
            "Final:        m811 N A1 +Hi7 x Dun!\tGeneration 999\tFitness: 13\n",
            "22.44600200653076\n",
            "Final:        b811uc kI +G5s K fun!\tGeneration 999\tFitness: 15\n",
            "22.236998796463013\n",
            "Final:        4d11 +EAI +yvs Z5lunV\tGeneration 999\tFitness: 13\n",
            "22.650321006774902\n",
            "Final:        4e1eC+TAIE+GKs r +cn!\tGeneration 999\tFitness: 12\n",
            "21.830995082855225\n",
            "Final:        481RuROAI 6GAs 9qfMn!\tGeneration 999\tFitness: 13\n",
            "22.10303568840027\n",
            "Final:        P811 + aI +HMs 5Wfun!\tGeneration 999\tFitness: 15\n",
            "22.61196732521057\n",
            "Final:        48i12+ -I +GAsFw flL!\tGeneration 999\tFitness: 14\n",
            "22.002997875213623\n",
            "Final:        48N1 +PVIs+YAs M fun!\tGeneration 999\tFitness: 15\n",
            "22.29903554916382\n",
            "Final:        4e21 + AD pGAs o fun!\tGeneration 999\tFitness: 16\n",
            "22.111964225769043\n",
            "Final:        4811 + AI0PvAszD fOn \tGeneration 999\tFitness: 14\n",
            "22.363999128341675\n",
            "Final:        4z11 k AI +GAs U8tunU\tGeneration 999\tFitness: 15\n",
            "22.188892126083374\n",
            "Final:        48-T m AI +KAJ V fu2I\tGeneration 999\tFitness: 13\n",
            "206.9331021308899\n",
            "Final:        41Td l 2I +GAp z fpn!\tGeneration 999\tFitness: 13\n",
            "21.99913740158081\n",
            "Final:        4811 + AI WGQsA, fun.\tGeneration 999\tFitness: 16\n",
            "23.27368712425232\n",
            "Final:        4H11D+ AI +HAs 8 lun!\tGeneration 999\tFitness: 16\n",
            "24.642216205596924\n",
            "Final:        481x +x3IjqGAs l funK\tGeneration 999\tFitness: 14\n",
            "24.280670404434204\n",
            "Final:        4811 + AI -oFs E ounm\tGeneration 999\tFitness: 15\n",
            "23.69536304473877\n",
            "Final:        C81I ! AI aGAs a fun!\tGeneration 999\tFitness: 16\n",
            "23.624966859817505\n",
            "Final:        4k11 + FI?SGAs i fun!\tGeneration 999\tFitness: 16\n",
            "23.650999784469604\n",
            "Final:        4815 + AIe+GAi G fun,\tGeneration 999\tFitness: 16\n",
            "24.70138645172119\n",
            "Final:        4811 + AI vvAsNAnfu7!\tGeneration 999\tFitness: 15\n",
            "25.12461519241333\n",
            "Final:        48+s j AI +GAZ Wafun!\tGeneration 999\tFitness: 15\n",
            "24.735965728759766\n",
            "Final:        4811 + AI +GAs , funZ\tGeneration 999\tFitness: 19\n",
            "24.740001678466797\n",
            "Final:        C!11V+ so +GAs 6 fun!\tGeneration 999\tFitness: 15\n",
            "23.776795625686646\n",
            "Final:        B811p+ pk +4+syQ fun!\tGeneration 999\tFitness: 13\n",
            "24.484986066818237\n",
            "Final:        O811J+ AH DGAz X fun!\tGeneration 999\tFitness: 15\n",
            "24.17751455307007\n",
            "Final:        4818 +4AI fGAs Qnfun!\tGeneration 999\tFitness: 16\n",
            "23.518041133880615\n",
            "Final:        4811 +KAI !GEs97 fun!\tGeneration 999\tFitness: 16\n",
            "23.298957347869873\n",
            "Final:        4811 + AI +fAs H ffn!\tGeneration 999\tFitness: 18\n",
            "23.56003189086914\n",
            "Final:        481m C0AIX+GAs 5 f?n!\tGeneration 999\tFitness: 15\n",
            "23.43996524810791\n",
            "Final:        48+1 + AI +G,s p fjn!\tGeneration 999\tFitness: 17\n",
            "22.962034940719604\n",
            "Final:        X811 + 6u +GAs 2 fuM!\tGeneration 999\tFitness: 16\n",
            "23.652000665664673\n",
            "Final:        48m1 +1AI quAsFq fu-U\tGeneration 999\tFitness: 13\n",
            "22.91801118850708\n",
            "Final:        4811 j AA +jAV v fun!\tGeneration 999\tFitness: 16\n",
            "23.359984159469604\n",
            "Final:        48f1y+MAIr+tOs c fun!\tGeneration 999\tFitness: 14\n",
            "23.07603669166565\n",
            "Final:        48110+iAIe+GAs ! ?un!\tGeneration 999\tFitness: 16\n",
            "23.396962642669678\n",
            "Final:        C811qpMAI +GAs f fun!\tGeneration 999\tFitness: 16\n",
            "22.982002019882202\n",
            "Final:        B811 + AI jGAs 0 fun!\tGeneration 999\tFitness: 18\n",
            "23.08103632926941\n",
            "Final:        4811 y 0I +GpsTj fun!\tGeneration 999\tFitness: 16\n",
            "23.20496368408203\n",
            "Final:        4811 E AID+vAs r funC\tGeneration 999\tFitness: 16\n",
            "23.120999336242676\n",
            "Final:        4815 + AI +GA3 t fun!\tGeneration 999\tFitness: 18\n",
            "23.130303144454956\n",
            "Final:        4811 + AIT+GAs V fun!\tGeneration 999\tFitness: 19\n",
            "23.43455743789673\n",
            "Final:        4811 + AI +GAs L fun!\tGeneration 999\tFitness: 20\n",
            "23.58803415298462\n",
            "Final:        4811 + AI +GAs 1 funn\tGeneration 999\tFitness: 19\n",
            "23.51600480079651\n",
            "Final:        4811 etAI +GAsun Dun!\tGeneration 999\tFitness: 16\n",
            "23.4469952583313\n",
            "Final:        48o1 + AI +GArBc iun!\tGeneration 999\tFitness: 16\n",
            "23.0740065574646\n",
            "Final:        w811t+ AI +GAs m fu-B\tGeneration 999\tFitness: 16\n",
            "23.534993410110474\n",
            "Final:        4811t+ AIN+GA6 C fun!\tGeneration 999\tFitness: 17\n",
            "23.08696699142456\n",
            "Final:        4811 + AIV+IAs ? 2An!\tGeneration 999\tFitness: 16\n",
            "23.324028253555298\n",
            "Final:        4311 + AI +bAsh? fun!\tGeneration 999\tFitness: 17\n",
            "21.063889980316162\n",
            "Final:        48J1 + AI 6GHs C hun!\tGeneration 999\tFitness: 16\n",
            "4903.010811328888\n",
            "Final:        4811 + 9I0+GAs Q fun!\tGeneration 999\tFitness: 18\n",
            "21.09149742126465\n",
            "Final:        4C113+ AIj+NAs c fun!\tGeneration 999\tFitness: 16\n",
            "23.92201805114746\n",
            "Final:        4811 2 AIw+GAs 2 frn!\tGeneration 999\tFitness: 17\n",
            "20.91704535484314\n",
            "Final:        4911 + CI +NAs R fun!\tGeneration 999\tFitness: 17\n",
            "21.08493661880493\n",
            "Final:        x811 + AL +GA5 Z funp\tGeneration 999\tFitness: 16\n",
            "21.32900309562683\n",
            "Final:        4811VW AI +GAs X fun!\tGeneration 999\tFitness: 18\n",
            "21.696998834609985\n",
            "Final:        4811 + AIz+uAs9  funk\tGeneration 999\tFitness: 16\n",
            "21.719617128372192\n",
            "Final:        4811 + AI + As - Bun!\tGeneration 999\tFitness: 18\n",
            "23.337002277374268\n",
            "Final:        48119+ AI +GAsrc Yun!\tGeneration 999\tFitness: 17\n",
            "23.51634645462036\n",
            "Final:        48?1 +.AI +GAsnZ fcn!\tGeneration 999\tFitness: 16\n",
            "22.319035291671753\n",
            "Final:        4811 H AI5+GAs V fun!\tGeneration 999\tFitness: 18\n",
            "21.668004512786865\n",
            "Final:        4811 + AIK+RAs96 fun!\tGeneration 999\tFitness: 17\n",
            "21.97651219367981\n",
            "Final:        4811 + Ab +GAs c fun!\tGeneration 999\tFitness: 19\n",
            "21.67400050163269\n",
            "Final:        4811 +SAI +GAs33 fun!\tGeneration 999\tFitness: 18\n",
            "21.649471521377563\n",
            "Final:        4811 N Az +GKs t fun!\tGeneration 999\tFitness: 17\n",
            "22.292999267578125\n",
            "Final:        4811 + AI +GAszL fun!\tGeneration 999\tFitness: 19\n",
            "21.905003309249878\n",
            "Final:        4811 + AIZ+GAs K fCs!\tGeneration 999\tFitness: 17\n",
            "21.799997091293335\n",
            "Final:        481w2+ AI +Gys f oun!\tGeneration 999\tFitness: 16\n",
            "21.72217297554016\n",
            "Final:        4811-+ AI +bBs B fuC!\tGeneration 999\tFitness: 16\n",
            "22.0250403881073\n",
            "Final:        4811 +PAI VGAs!g fun2\tGeneration 999\tFitness: 16\n",
            "22.392346382141113\n",
            "Final:        4811 + AI +GAs h fCw!\tGeneration 999\tFitness: 18\n",
            "21.930996417999268\n",
            "Final:        4811 + AI +GAQ w Yun!\tGeneration 999\tFitness: 18\n",
            "21.805967807769775\n",
            "Final:        4Ej1 + bI +GAsl- fun!\tGeneration 999\tFitness: 16\n",
            "21.557999849319458\n",
            "Final:        4811 + AY +4As lAfun!\tGeneration 999\tFitness: 17\n",
            "21.685996770858765\n",
            "Final:        481K + AI +GAs q fXn!\tGeneration 999\tFitness: 18\n",
            "21.55003523826599\n",
            "Final:        481b + AI +GAs yyfun!\tGeneration 999\tFitness: 18\n",
            "21.44496464729309\n",
            "Final:        4811 + AI rGAsLc fun!\tGeneration 999\tFitness: 18\n",
            "21.553004026412964\n",
            "Final:        4811c+ AIg+GAs 4 fCn!\tGeneration 999\tFitness: 17\n",
            "21.564126014709473\n",
            "Final:        4811 + AI +GAs V funV\tGeneration 999\tFitness: 19\n",
            "21.531003713607788\n",
            "Final:        481e + AI +sAs,R fun!\tGeneration 999\tFitness: 17\n",
            "21.52299976348877\n",
            "Final:        4811 + yI +GAD K fun!\tGeneration 999\tFitness: 18\n",
            "21.436997175216675\n",
            "Final:        48L1 + AIc+GAsl! fun!\tGeneration 999\tFitness: 17\n",
            "21.772037506103516\n",
            "Final:        4811 + mI!zGAsOu fun!\tGeneration 999\tFitness: 16\n",
            "21.304967164993286\n",
            "Final:        4811U+ AI +GAs g fun!\tGeneration 999\tFitness: 19\n",
            "21.636000633239746\n",
            "Final:        481t +NAI +GAs d fun!\tGeneration 999\tFitness: 18\n",
            "21.588995695114136\n",
            "Final:        481Z + AI OGAs b f0S!\tGeneration 999\tFitness: 16\n",
            "22.024582386016846\n",
            "Final:        4816 + AIN+GAs 2 fun+\tGeneration 999\tFitness: 17\n",
            "21.728963375091553\n",
            "Final:        48Y1 + AIK+GAs o fun!\tGeneration 999\tFitness: 18\n",
            "21.711999893188477\n",
            "Final:        4811 + A1 uGps O fun!\tGeneration 999\tFitness: 17\n",
            "21.34400200843811\n",
            "Final:        n811z+ AI +GAs k Yun!\tGeneration 999\tFitness: 17\n",
            "21.392032861709595\n",
            "Final:        481P + AIL+GAN f fuE!\tGeneration 999\tFitness: 16\n",
            "21.759965658187866\n",
            "Final:        4811 + AI +GKsAl funO\tGeneration 999\tFitness: 17\n",
            "21.681999683380127\n",
            "Final:        48b1 + AI +GAs -Ifun!\tGeneration 999\tFitness: 18\n",
            "21.762611865997314\n",
            "Final:        48Ws + AI +GAsTI fun!\tGeneration 999\tFitness: 17\n",
            "22.08979630470276\n"
          ]
        }
      ],
      "source": [
        "time_values = np.zeros((10,10))\n",
        "fit_values = np.zeros((10,10))\n",
        "gen_values = np.zeros((10,10))\n",
        "for j in range(10):\n",
        "  for i in range(10):\n",
        "    start = time.time()\n",
        "    pop = init_population(max_population, gene_pool, len(target))\n",
        "    soln, fitv,  gen = genetic_algorithm_stepwise(pop, fitness_fn, gene_pool, \n",
        "                                                  f_thres, ngen, mutation_rate[j], True) \n",
        "    end = time.time()\n",
        "    print(end-start)\n",
        "    time_values[i,j] = end-start\n",
        "    fit_values[i,j] = fitv\n",
        "    gen_values[i,j] = gen"
      ]
    },
    {
      "cell_type": "code",
      "execution_count": 25,
      "metadata": {
        "id": "bPbcjGlzBVS_"
      },
      "outputs": [
        {
          "data": {
            "image/png": "[encoded data removed]",
            "text/plain": [
              "<Figure size 432x288 with 1 Axes>"
            ]
          },
          "metadata": {
            "needs_background": "light"
          },
          "output_type": "display_data"
        }
      ],
      "source": [
        "fig = plt.figure()\n",
        "plt.errorbar(mutation_rate, time_values.mean(axis=0), time_values.std(axis=0), lw=2)\n",
        "plt.xlabel('Mutation Rate', size=14)\n",
        "plt.ylabel('Time (s)', size=14)\n",
        "plt.title('Ave. GA Running Time +/- Std. Dev.', size=16)\n",
        "plt.xticks(fontsize=12)\n",
        "plt.yticks(fontsize=12)\n",
        "fig.savefig('figA-time.eps', bbox_inches='tight', format='eps')"
      ]
    },
    {
      "cell_type": "code",
      "execution_count": 26,
      "metadata": {
        "id": "DPE6DnOdB80t"
      },
      "outputs": [
        {
          "name": "stderr",
          "output_type": "stream",
          "text": [
            "The PostScript backend does not support transparency; partially transparent artists will be rendered opaque.\n",
            "The PostScript backend does not support transparency; partially transparent artists will be rendered opaque.\n"
          ]
        },
        {
          "data": {
            "image/png": "[encoded data removed]",
            "text/plain": [
              "<Figure size 432x288 with 1 Axes>"
            ]
          },
          "metadata": {
            "needs_background": "light"
          },
          "output_type": "display_data"
        }
      ],
      "source": [
        "fig = plt.figure()\n",
        "eb = plt.errorbar(mutation_rate, fit_values.mean(axis=0), fit_values.std(axis=0), lw=2)\n",
        "plt.xlabel('Mutation Rate ', size=14)\n",
        "plt.ylabel('Fitness Score', size=14)\n",
        "plt.title('Ave. Fitness of Best Individual +/- Std. Dev.', size=16)\n",
        "mx = plt.axhline(len(target), color='r', lw=2)\n",
        "plt.legend([eb, mx], ['GA Fitness', 'Max Fitness Score'], loc=4)\n",
        "plt.xticks(fontsize=12)\n",
        "plt.yticks(fontsize=12)\n",
        "fig.savefig('figA-fit.eps', bbox_inches='tight', format='eps')"
      ]
    }
  ],
  "metadata": {
    "colab": {
      "collapsed_sections": [],
      "name": "w2_q2.ipynb",
      "provenance": []
    },
    "kernelspec": {
      "display_name": "Python 3 (ipykernel)",
      "language": "python",
      "name": "python3"
    },
    "language_info": {
      "codemirror_mode": {
        "name": "ipython",
        "version": 3
      },
      "file_extension": ".py",
      "mimetype": "text/x-python",
      "name": "python",
      "nbconvert_exporter": "python",
      "pygments_lexer": "ipython3",
      "version": "3.6.13"
    }
  },
  "nbformat": 4,
  "nbformat_minor": 0
}
