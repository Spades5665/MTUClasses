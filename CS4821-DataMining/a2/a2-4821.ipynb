{
 "cells": [
  {
   "cell_type": "markdown",
   "metadata": {},
   "source": [
    "# a2 - python - CS4821\n",
    "\n",
    "This assignment will cover topics from data, data preprocessing, and classification.\n",
    "\n",
    "Make sure that you keep this notebook named as \"a2-4821.ipynb\" \n",
    "\n",
    "Submit the zip-file created after running your notebook on the Linux lab machines.\n",
    "\n",
    "Any other packages or tools, outside those listed in the assignments or Canvas, should be cleared\n",
    "by Dr. Brown before use in your submission."
   ]
  },
  {
   "cell_type": "markdown",
   "metadata": {
    "deletable": false,
    "editable": false
   },
   "source": [
    "## Q0 - Setup\n",
    "\n",
    "The following code looks to see whether your notebook is run on Gradescope (GS), Colab (COLAB), or the linux Python environment you were asked to setup."
   ]
  },
  {
   "cell_type": "code",
   "execution_count": 1,
   "metadata": {
    "tags": []
   },
   "outputs": [
    {
     "name": "stdout",
     "output_type": "stream",
     "text": [
      "System: GS - False, COLAB - False, LLM - True\n"
     ]
    }
   ],
   "source": [
    "import re \n",
    "import os\n",
    "import platform \n",
    "import sys \n",
    "\n",
    "# flag if notebook is running on Gradescope \n",
    "if re.search(r'amzn', platform.uname().release): \n",
    "    GS = True\n",
    "else: \n",
    "    GS = False\n",
    "\n",
    "# flag if notebook is running on Colaboratory \n",
    "try:\n",
    "  import google.colab\n",
    "  COLAB = True\n",
    "except:\n",
    "  COLAB = False\n",
    "\n",
    "# flag if running on Linux lab machines. \n",
    "cname = platform.uname().node\n",
    "if re.search(r'(guardian|colossus|c28|coc-15954-m)', cname):\n",
    "    LLM = True \n",
    "else: \n",
    "    LLM = False\n",
    "\n",
    "print(\"System: GS - %s, COLAB - %s, LLM - %s\" % (GS, COLAB, LLM))"
   ]
  },
  {
   "cell_type": "markdown",
   "metadata": {
    "deletable": false,
    "editable": false
   },
   "source": [
    "### Notebook Setup \n",
    "\n",
    "It is good practice to list all imports needed at the top of the notebook. You can import modules in later cells as needed, but listing them at the top clearly shows all which are needed to be available / installed.\n",
    "\n",
    "If you are doing development on Colab, the otter-grader package is not available, so you will need to install it with pip (uncomment the cell directly below)."
   ]
  },
  {
   "cell_type": "code",
   "execution_count": 2,
   "metadata": {
    "deletable": false,
    "editable": false
   },
   "outputs": [],
   "source": [
    "# Only uncomment if you developing on Colab \n",
    "# if COLAB == True: \n",
    "#     print(\"Installing otter:\")\n",
    "#     !pip install otter-grader==4.2.0 "
   ]
  },
  {
   "cell_type": "code",
   "execution_count": 3,
   "metadata": {
    "deletable": false,
    "editable": false
   },
   "outputs": [],
   "source": [
    "# Import standard DS packages \n",
    "import pandas as pd\n",
    "import numpy as np\n",
    "import matplotlib as mpl\n",
    "import matplotlib.pyplot as plt\n",
    "import seaborn as sns\n",
    "import math\n",
    "import statistics\n",
    "import textwrap\n",
    "%matplotlib inline\n",
    "\n",
    "from sklearn import tree        # decision tree classifier\n",
    "from sklearn import neighbors   # knn classifier\n",
    "from sklearn import naive_bayes # naive bayes classifier \n",
    "from sklearn import metrics     # performance evaluation metrics\n",
    "from sklearn import model_selection\n",
    "from sklearn import preprocessing \n",
    "from sklearn import pipeline\n",
    "# import graphviz, pydotplus\n",
    "\n",
    "from sklearn.model_selection import train_test_split, StratifiedKFold \n",
    "from sklearn.preprocessing import StandardScaler, MinMaxScaler\n",
    "from sklearn.pipeline import Pipeline, make_pipeline\n",
    "from sklearn.naive_bayes import GaussianNB\n",
    "from sklearn.neighbors import KNeighborsClassifier\n",
    "from sklearn import tree\n",
    "from sklearn.tree import DecisionTreeClassifier\n",
    "from sklearn.metrics import accuracy_score, precision_score, recall_score\n",
    "from sklearn.metrics import f1_score, roc_auc_score,mean_squared_error\n",
    "from sklearn.metrics import confusion_matrix\n",
    "\n",
    "# Package for Autograder \n",
    "import otter \n",
    "grader = otter.Notebook()\n",
    "\n",
    "from warnings import simplefilter\n",
    "simplefilter(action='ignore', category=FutureWarning)"
   ]
  },
  {
   "cell_type": "code",
   "execution_count": 4,
   "metadata": {
    "deletable": false,
    "editable": false
   },
   "outputs": [
    {
     "data": {
      "text/html": [
       "<p><strong><pre style='display: inline;'>q0</pre></strong> passed! ✨</p>"
      ],
      "text/plain": [
       "q0 results: All test cases passed!"
      ]
     },
     "execution_count": 4,
     "metadata": {},
     "output_type": "execute_result"
    }
   ],
   "source": [
    "grader.check(\"q0\")"
   ]
  },
  {
   "cell_type": "markdown",
   "metadata": {
    "id": "hvDdQg2KBbfa"
   },
   "source": [
    "# Q1 - Exploratory Data Analysis \n",
    "\n",
    "Consider the `movies` data set available on Canvas. The data set is made up of over 600 randomly selected movies, released before 2016, with information extracted from IMDB and Rotten Tomatoes. A code book on the variables is also provided.\n",
    "\n",
    "You should explore the files a bit in a text editor to understand the format. The variables are made up of different types: nominal, ordinal, numeric, etc. We will refer to the different variables by their column / codebook names.\n"
   ]
  },
  {
   "cell_type": "markdown",
   "metadata": {
    "deletable": false,
    "editable": false
   },
   "source": [
    "<!-- BEGIN QUESTION -->\n",
    "\n",
    "# *Missing Data*"
   ]
  },
  {
   "cell_type": "markdown",
   "metadata": {
    "deletable": false,
    "editable": false
   },
   "source": [
    "## Q1(a) - Examine data for loading \n",
    "\n",
    "Look at the `movies` data set.  Is there any missing data in the `movies` data set? \n",
    "If so, how is it encoded? "
   ]
  },
  {
   "cell_type": "markdown",
   "metadata": {},
   "source": [
    "Missing data is encoded as: NA"
   ]
  },
  {
   "cell_type": "markdown",
   "metadata": {
    "deletable": false,
    "editable": false
   },
   "source": [
    "<!-- END QUESTION -->\n",
    "\n",
    "## Q1(b) - Load the data\n",
    "\n",
    "Load the movies data into a DataFrame `q1movies`.  Is there any missing data in the `movies` data set? \n",
    "If yes, make sure to encode those missing values when reading the data in pandas `read_csv` function. \n"
   ]
  },
  {
   "cell_type": "code",
   "execution_count": 5,
   "metadata": {
    "tags": []
   },
   "outputs": [
    {
     "data": {
      "text/html": [
       "<div>\n",
       "<style scoped>\n",
       "    .dataframe tbody tr th:only-of-type {\n",
       "        vertical-align: middle;\n",
       "    }\n",
       "\n",
       "    .dataframe tbody tr th {\n",
       "        vertical-align: top;\n",
       "    }\n",
       "\n",
       "    .dataframe thead th {\n",
       "        text-align: right;\n",
       "    }\n",
       "</style>\n",
       "<table border=\"1\" class=\"dataframe\">\n",
       "  <thead>\n",
       "    <tr style=\"text-align: right;\">\n",
       "      <th></th>\n",
       "      <th>title</th>\n",
       "      <th>title_type</th>\n",
       "      <th>genre</th>\n",
       "      <th>runtime</th>\n",
       "      <th>mpaa_rating</th>\n",
       "      <th>studio</th>\n",
       "      <th>thtr_rel_year</th>\n",
       "      <th>thtr_rel_month</th>\n",
       "      <th>thtr_rel_day</th>\n",
       "      <th>dvd_rel_year</th>\n",
       "      <th>...</th>\n",
       "      <th>best_dir_win</th>\n",
       "      <th>top200_box</th>\n",
       "      <th>director</th>\n",
       "      <th>actor1</th>\n",
       "      <th>actor2</th>\n",
       "      <th>actor3</th>\n",
       "      <th>actor4</th>\n",
       "      <th>actor5</th>\n",
       "      <th>imdb_url</th>\n",
       "      <th>rt_url</th>\n",
       "    </tr>\n",
       "  </thead>\n",
       "  <tbody>\n",
       "    <tr>\n",
       "      <th>0</th>\n",
       "      <td>Filly Brown</td>\n",
       "      <td>Feature Film</td>\n",
       "      <td>Drama</td>\n",
       "      <td>80.0</td>\n",
       "      <td>R</td>\n",
       "      <td>Indomina Media Inc.</td>\n",
       "      <td>2013</td>\n",
       "      <td>4</td>\n",
       "      <td>19</td>\n",
       "      <td>2013.0</td>\n",
       "      <td>...</td>\n",
       "      <td>no</td>\n",
       "      <td>no</td>\n",
       "      <td>Michael D. Olmos</td>\n",
       "      <td>Gina Rodriguez</td>\n",
       "      <td>Jenni Rivera</td>\n",
       "      <td>Lou Diamond Phillips</td>\n",
       "      <td>Emilio Rivera</td>\n",
       "      <td>Joseph Julian Soria</td>\n",
       "      <td>http://www.imdb.com/title/tt1869425/</td>\n",
       "      <td>//www.rottentomatoes.com/m/filly_brown_2012/</td>\n",
       "    </tr>\n",
       "    <tr>\n",
       "      <th>1</th>\n",
       "      <td>The Dish</td>\n",
       "      <td>Feature Film</td>\n",
       "      <td>Drama</td>\n",
       "      <td>101.0</td>\n",
       "      <td>PG-13</td>\n",
       "      <td>Warner Bros. Pictures</td>\n",
       "      <td>2001</td>\n",
       "      <td>3</td>\n",
       "      <td>14</td>\n",
       "      <td>2001.0</td>\n",
       "      <td>...</td>\n",
       "      <td>no</td>\n",
       "      <td>no</td>\n",
       "      <td>Rob Sitch</td>\n",
       "      <td>Sam Neill</td>\n",
       "      <td>Kevin Harrington</td>\n",
       "      <td>Patrick Warburton</td>\n",
       "      <td>Tom Long</td>\n",
       "      <td>Genevieve Mooy</td>\n",
       "      <td>http://www.imdb.com/title/tt0205873/</td>\n",
       "      <td>//www.rottentomatoes.com/m/dish/</td>\n",
       "    </tr>\n",
       "    <tr>\n",
       "      <th>2</th>\n",
       "      <td>Waiting for Guffman</td>\n",
       "      <td>Feature Film</td>\n",
       "      <td>Comedy</td>\n",
       "      <td>84.0</td>\n",
       "      <td>R</td>\n",
       "      <td>Sony Pictures Classics</td>\n",
       "      <td>1996</td>\n",
       "      <td>8</td>\n",
       "      <td>21</td>\n",
       "      <td>2001.0</td>\n",
       "      <td>...</td>\n",
       "      <td>no</td>\n",
       "      <td>no</td>\n",
       "      <td>Christopher Guest</td>\n",
       "      <td>Christopher Guest</td>\n",
       "      <td>Catherine O'Hara</td>\n",
       "      <td>Parker Posey</td>\n",
       "      <td>Eugene Levy</td>\n",
       "      <td>Bob Balaban</td>\n",
       "      <td>http://www.imdb.com/title/tt0118111/</td>\n",
       "      <td>//www.rottentomatoes.com/m/waiting_for_guffman/</td>\n",
       "    </tr>\n",
       "    <tr>\n",
       "      <th>3</th>\n",
       "      <td>The Age of Innocence</td>\n",
       "      <td>Feature Film</td>\n",
       "      <td>Drama</td>\n",
       "      <td>139.0</td>\n",
       "      <td>PG</td>\n",
       "      <td>Columbia Pictures</td>\n",
       "      <td>1993</td>\n",
       "      <td>10</td>\n",
       "      <td>1</td>\n",
       "      <td>2001.0</td>\n",
       "      <td>...</td>\n",
       "      <td>yes</td>\n",
       "      <td>no</td>\n",
       "      <td>Martin Scorsese</td>\n",
       "      <td>Daniel Day-Lewis</td>\n",
       "      <td>Michelle Pfeiffer</td>\n",
       "      <td>Winona Ryder</td>\n",
       "      <td>Richard E. Grant</td>\n",
       "      <td>Alec McCowen</td>\n",
       "      <td>http://www.imdb.com/title/tt0106226/</td>\n",
       "      <td>//www.rottentomatoes.com/m/age_of_innocence/</td>\n",
       "    </tr>\n",
       "    <tr>\n",
       "      <th>4</th>\n",
       "      <td>Malevolence</td>\n",
       "      <td>Feature Film</td>\n",
       "      <td>Horror</td>\n",
       "      <td>90.0</td>\n",
       "      <td>R</td>\n",
       "      <td>Anchor Bay Entertainment</td>\n",
       "      <td>2004</td>\n",
       "      <td>9</td>\n",
       "      <td>10</td>\n",
       "      <td>2005.0</td>\n",
       "      <td>...</td>\n",
       "      <td>no</td>\n",
       "      <td>no</td>\n",
       "      <td>Stevan Mena</td>\n",
       "      <td>Samantha Dark</td>\n",
       "      <td>R. Brandon Johnson</td>\n",
       "      <td>Brandon Johnson</td>\n",
       "      <td>Heather Magee</td>\n",
       "      <td>Richard Glover</td>\n",
       "      <td>http://www.imdb.com/title/tt0388230/</td>\n",
       "      <td>//www.rottentomatoes.com/m/10004684-malevolence/</td>\n",
       "    </tr>\n",
       "  </tbody>\n",
       "</table>\n",
       "<p>5 rows × 32 columns</p>\n",
       "</div>"
      ],
      "text/plain": [
       "                  title    title_type   genre  runtime mpaa_rating  \\\n",
       "0           Filly Brown  Feature Film   Drama     80.0           R   \n",
       "1              The Dish  Feature Film   Drama    101.0       PG-13   \n",
       "2   Waiting for Guffman  Feature Film  Comedy     84.0           R   \n",
       "3  The Age of Innocence  Feature Film   Drama    139.0          PG   \n",
       "4           Malevolence  Feature Film  Horror     90.0           R   \n",
       "\n",
       "                     studio  thtr_rel_year  thtr_rel_month  thtr_rel_day  \\\n",
       "0       Indomina Media Inc.           2013               4            19   \n",
       "1     Warner Bros. Pictures           2001               3            14   \n",
       "2    Sony Pictures Classics           1996               8            21   \n",
       "3         Columbia Pictures           1993              10             1   \n",
       "4  Anchor Bay Entertainment           2004               9            10   \n",
       "\n",
       "   dvd_rel_year  ...  best_dir_win  top200_box           director  \\\n",
       "0        2013.0  ...            no          no   Michael D. Olmos   \n",
       "1        2001.0  ...            no          no          Rob Sitch   \n",
       "2        2001.0  ...            no          no  Christopher Guest   \n",
       "3        2001.0  ...           yes          no    Martin Scorsese   \n",
       "4        2005.0  ...            no          no        Stevan Mena   \n",
       "\n",
       "              actor1              actor2                actor3  \\\n",
       "0     Gina Rodriguez        Jenni Rivera  Lou Diamond Phillips   \n",
       "1          Sam Neill    Kevin Harrington     Patrick Warburton   \n",
       "2  Christopher Guest    Catherine O'Hara          Parker Posey   \n",
       "3   Daniel Day-Lewis   Michelle Pfeiffer          Winona Ryder   \n",
       "4      Samantha Dark  R. Brandon Johnson       Brandon Johnson   \n",
       "\n",
       "             actor4               actor5  \\\n",
       "0     Emilio Rivera  Joseph Julian Soria   \n",
       "1          Tom Long       Genevieve Mooy   \n",
       "2       Eugene Levy          Bob Balaban   \n",
       "3  Richard E. Grant         Alec McCowen   \n",
       "4     Heather Magee       Richard Glover   \n",
       "\n",
       "                               imdb_url  \\\n",
       "0  http://www.imdb.com/title/tt1869425/   \n",
       "1  http://www.imdb.com/title/tt0205873/   \n",
       "2  http://www.imdb.com/title/tt0118111/   \n",
       "3  http://www.imdb.com/title/tt0106226/   \n",
       "4  http://www.imdb.com/title/tt0388230/   \n",
       "\n",
       "                                             rt_url  \n",
       "0      //www.rottentomatoes.com/m/filly_brown_2012/  \n",
       "1                  //www.rottentomatoes.com/m/dish/  \n",
       "2   //www.rottentomatoes.com/m/waiting_for_guffman/  \n",
       "3      //www.rottentomatoes.com/m/age_of_innocence/  \n",
       "4  //www.rottentomatoes.com/m/10004684-malevolence/  \n",
       "\n",
       "[5 rows x 32 columns]"
      ]
     },
     "execution_count": 5,
     "metadata": {},
     "output_type": "execute_result"
    }
   ],
   "source": [
    "# Read in movies data with pandas \"read_csv\" function\n",
    "#  Use column names from the original csv file \n",
    "column_labels=['title', 'title_type', 'genre', 'runtime', 'mpaa_rating', 'studio', 'thtr_rel_year', 'thtr_rel_month', \n",
    "               'thtr_rel_day', 'dvd_rel_year', 'dvd_rel_month', 'dvd_rel_day', 'imdb_rating', 'imdb_num_votes', \n",
    "               'critics_rating', 'critics_score', 'audience_rating', 'audience_score', 'best_pic_nom', 'best_pic_win', \n",
    "               'best_actor_win', 'best_actress_win', 'best_dir_win', 'top200_box', 'director', 'actor1', 'actor2', \n",
    "               'actor3', 'actor4', 'actor5', 'imdb_url', 'rt_url']\n",
    "\n",
    "q1movies = pd.read_csv('movies.csv', names=column_labels, header=0, na_values=['NA'])\n",
    "\n",
    "q1movies.head()"
   ]
  },
  {
   "cell_type": "code",
   "execution_count": 6,
   "metadata": {
    "deletable": false,
    "editable": false
   },
   "outputs": [
    {
     "data": {
      "text/html": [
       "<p><strong><pre style='display: inline;'>q1b</pre></strong> passed! 🌟</p>"
      ],
      "text/plain": [
       "q1b results: All test cases passed!"
      ]
     },
     "execution_count": 6,
     "metadata": {},
     "output_type": "execute_result"
    }
   ],
   "source": [
    "grader.check(\"q1b\")"
   ]
  },
  {
   "cell_type": "markdown",
   "metadata": {
    "deletable": false,
    "editable": false
   },
   "source": [
    "## Q1(c) - Missing data \n",
    "\n",
    "We want to understand where (which variable) and how much data is missing (for each variable the percentage of rows). "
   ]
  },
  {
   "cell_type": "code",
   "execution_count": 7,
   "metadata": {
    "tags": []
   },
   "outputs": [
    {
     "data": {
      "text/plain": [
       "title               0.000000\n",
       "title_type          0.000000\n",
       "genre               0.000000\n",
       "runtime             0.154799\n",
       "mpaa_rating         0.000000\n",
       "studio              1.083591\n",
       "thtr_rel_year       0.000000\n",
       "thtr_rel_month      0.000000\n",
       "thtr_rel_day        0.000000\n",
       "dvd_rel_year        1.238390\n",
       "dvd_rel_month       1.238390\n",
       "dvd_rel_day         1.238390\n",
       "imdb_rating         0.000000\n",
       "imdb_num_votes      0.000000\n",
       "critics_rating      0.000000\n",
       "critics_score       0.000000\n",
       "audience_rating     0.000000\n",
       "audience_score      0.000000\n",
       "best_pic_nom        0.000000\n",
       "best_pic_win        0.000000\n",
       "best_actor_win      0.000000\n",
       "best_actress_win    0.000000\n",
       "best_dir_win        0.000000\n",
       "top200_box          0.000000\n",
       "director            0.309598\n",
       "actor1              0.309598\n",
       "actor2              1.083591\n",
       "actor3              1.393189\n",
       "actor4              1.857585\n",
       "actor5              2.167183\n",
       "imdb_url            0.000000\n",
       "rt_url              0.000000\n",
       "dtype: float64"
      ]
     },
     "execution_count": 7,
     "metadata": {},
     "output_type": "execute_result"
    }
   ],
   "source": [
    "# Create a Data.Series that has the percentage of missing data for each \n",
    "#  attribute in the movies data set.\n",
    "miss_data = (q1movies.isna().sum() / len(q1movies)) * 100 \n",
    "\n",
    "miss_data"
   ]
  },
  {
   "cell_type": "code",
   "execution_count": 8,
   "metadata": {
    "deletable": false,
    "editable": false
   },
   "outputs": [
    {
     "data": {
      "text/html": [
       "<p><strong><pre style='display: inline;'>q1c</pre></strong> passed! 🌈</p>"
      ],
      "text/plain": [
       "q1c results: All test cases passed!"
      ]
     },
     "execution_count": 8,
     "metadata": {},
     "output_type": "execute_result"
    }
   ],
   "source": [
    "grader.check(\"q1c\")"
   ]
  },
  {
   "cell_type": "markdown",
   "metadata": {
    "deletable": false,
    "editable": false
   },
   "source": [
    "## Q1(d) - Clean data \n",
    "\n",
    "We want to clean up data with respect to the missing values. \n",
    "\n",
    "Ignore any missing values in the `studio`, `dvd_rel_year`, `dvd_rel_month`, `dvd_rel_day`, and all variables including and listed after `best_pic_nom`. For other missing values, remove the sample that contains the missing value.\n",
    "\n",
    "Save the resulting DataFrame in the `movies` variable.  "
   ]
  },
  {
   "cell_type": "code",
   "execution_count": 9,
   "metadata": {
    "tags": []
   },
   "outputs": [
    {
     "data": {
      "text/plain": [
       "(645, 32)"
      ]
     },
     "execution_count": 9,
     "metadata": {},
     "output_type": "execute_result"
    }
   ],
   "source": [
    "# Ignore missing values in \"studio\", \"dvd_rel_year\", \"dvd_rel_month\", \n",
    "#   \"dvd_rel_day\", and all varaibles including and after \"best_pic_nom\"\n",
    "# For other missing values, remove the sample that contains the missing value. \n",
    "\n",
    "columns_to_ignore=['studio', 'dvd_rel_year', 'dvd_rel_month', 'dvd_rel_day', 'best_pic_nom', 'best_pic_win', 'best_actor_win', \n",
    "                    'best_actress_win', 'best_dir_win', 'top200_box', 'director', 'actor1', 'actor2', 'actor3', \n",
    "                    'actor4', 'actor5', 'imdb_url', 'rt_url']\n",
    "\n",
    "movies = q1movies.dropna(subset=[col for col in q1movies.columns if col not in columns_to_ignore])\n",
    "\n",
    "movies.shape"
   ]
  },
  {
   "cell_type": "code",
   "execution_count": 10,
   "metadata": {
    "deletable": false,
    "editable": false
   },
   "outputs": [
    {
     "data": {
      "text/html": [
       "<p><strong><pre style='display: inline;'>q1d</pre></strong> passed! 🌟</p>"
      ],
      "text/plain": [
       "q1d results: All test cases passed!"
      ]
     },
     "execution_count": 10,
     "metadata": {},
     "output_type": "execute_result"
    }
   ],
   "source": [
    "grader.check(\"q1d\")"
   ]
  },
  {
   "cell_type": "markdown",
   "metadata": {
    "deletable": false,
    "editable": false
   },
   "source": [
    "## Q1(e) - Attribute Types\n",
    "\n",
    "For the following variables, state the attribute type: 1- *nominal*, 2- *ordinal*, 3- *interval*, or 4- *ratio*. "
   ]
  },
  {
   "cell_type": "code",
   "execution_count": 11,
   "metadata": {
    "tags": []
   },
   "outputs": [],
   "source": [
    "type_genre = 1\n",
    "type_runtime = 4\n",
    "type_mpaa_rating = 2\n",
    "type_studio = 1\n",
    "type_thtr_rel_month = 3\n",
    "type_imdb_rating = 4\n",
    "type_audience_score = 1\n",
    "type_best_pic_win = 2"
   ]
  },
  {
   "cell_type": "code",
   "execution_count": 12,
   "metadata": {
    "deletable": false,
    "editable": false
   },
   "outputs": [
    {
     "data": {
      "text/html": [
       "<p><strong><pre style='display: inline;'>q1e</pre></strong> passed! 🚀</p>"
      ],
      "text/plain": [
       "q1e results: All test cases passed!"
      ]
     },
     "execution_count": 12,
     "metadata": {},
     "output_type": "execute_result"
    }
   ],
   "source": [
    "grader.check(\"q1e\")"
   ]
  },
  {
   "cell_type": "markdown",
   "metadata": {
    "deletable": false,
    "editable": false
   },
   "source": [
    "# *Summary Statistics*"
   ]
  },
  {
   "cell_type": "markdown",
   "metadata": {
    "deletable": false,
    "editable": false
   },
   "source": [
    "## Q1(f) - Statistics, part 1\n",
    "\n",
    "For the following variables, report out a five number summary:\n",
    "`audience_score` and `imdb_rating`\n",
    "\n",
    "Store results in a DataFrame: `q1f`\n",
    "\n",
    "*Hint:* consider using the `describe` function.\n"
   ]
  },
  {
   "cell_type": "code",
   "execution_count": 13,
   "metadata": {
    "tags": []
   },
   "outputs": [
    {
     "data": {
      "text/html": [
       "<div>\n",
       "<style scoped>\n",
       "    .dataframe tbody tr th:only-of-type {\n",
       "        vertical-align: middle;\n",
       "    }\n",
       "\n",
       "    .dataframe tbody tr th {\n",
       "        vertical-align: top;\n",
       "    }\n",
       "\n",
       "    .dataframe thead th {\n",
       "        text-align: right;\n",
       "    }\n",
       "</style>\n",
       "<table border=\"1\" class=\"dataframe\">\n",
       "  <thead>\n",
       "    <tr style=\"text-align: right;\">\n",
       "      <th></th>\n",
       "      <th>audience_score</th>\n",
       "      <th>imdb_rating</th>\n",
       "    </tr>\n",
       "  </thead>\n",
       "  <tbody>\n",
       "    <tr>\n",
       "      <th>min</th>\n",
       "      <td>11.0</td>\n",
       "      <td>1.9</td>\n",
       "    </tr>\n",
       "    <tr>\n",
       "      <th>25%</th>\n",
       "      <td>46.0</td>\n",
       "      <td>5.9</td>\n",
       "    </tr>\n",
       "    <tr>\n",
       "      <th>50%</th>\n",
       "      <td>65.0</td>\n",
       "      <td>6.6</td>\n",
       "    </tr>\n",
       "    <tr>\n",
       "      <th>75%</th>\n",
       "      <td>80.0</td>\n",
       "      <td>7.3</td>\n",
       "    </tr>\n",
       "    <tr>\n",
       "      <th>max</th>\n",
       "      <td>97.0</td>\n",
       "      <td>9.0</td>\n",
       "    </tr>\n",
       "  </tbody>\n",
       "</table>\n",
       "</div>"
      ],
      "text/plain": [
       "     audience_score  imdb_rating\n",
       "min            11.0          1.9\n",
       "25%            46.0          5.9\n",
       "50%            65.0          6.6\n",
       "75%            80.0          7.3\n",
       "max            97.0          9.0"
      ]
     },
     "execution_count": 13,
     "metadata": {},
     "output_type": "execute_result"
    }
   ],
   "source": [
    "# Report five number summary for variables `audience_score` and `imdb_rating` in \n",
    "#  a DataFrame \"q1f\" \n",
    "#  Rows should represent: min, Q1 - 25%, Q2 - 50%, Q3 - 50%, max \n",
    "#  Columns should be `audience_score` then `imdb_rating` \n",
    "\n",
    "# Compute summary statistics for both 'audience_rating' and 'imdb' columns\n",
    "summary_columns = q1movies[['audience_score', 'imdb_rating']].describe()\n",
    "\n",
    "q1f = summary_columns.loc[['min', '25%', '50%', '75%', 'max']]\n",
    "\n",
    "q1f"
   ]
  },
  {
   "cell_type": "code",
   "execution_count": 14,
   "metadata": {
    "deletable": false,
    "editable": false
   },
   "outputs": [
    {
     "data": {
      "text/html": [
       "<p><strong><pre style='display: inline;'>q1f</pre></strong> passed! 🌈</p>"
      ],
      "text/plain": [
       "q1f results: All test cases passed!"
      ]
     },
     "execution_count": 14,
     "metadata": {},
     "output_type": "execute_result"
    }
   ],
   "source": [
    "grader.check(\"q1f\")"
   ]
  },
  {
   "cell_type": "markdown",
   "metadata": {
    "deletable": false,
    "editable": false
   },
   "source": [
    "## Q1(g) - Statistics, part 2 \n",
    "\n",
    "Report the mean, median, and mode of `critics_score` and `runtime` to the given variables. "
   ]
  },
  {
   "cell_type": "code",
   "execution_count": 15,
   "metadata": {
    "tags": []
   },
   "outputs": [],
   "source": [
    "# Report mean, median and mode of \"critics_score\" and \"runtime\" \n",
    "\n",
    "# For critics_score- \n",
    "q1g_cs_mean = q1movies['critics_score'].mean()\n",
    "q1g_cs_median = q1movies['critics_score'].median()\n",
    "q1g_cs_mode = statistics.mode(q1movies['critics_score'])\n",
    "\n",
    "# For runtime- \n",
    "q1g_r_mean = q1movies['runtime'].mean()\n",
    "q1g_r_median = q1movies['runtime'].median()\n",
    "q1g_r_mode = statistics.mode(q1movies['runtime'])"
   ]
  },
  {
   "cell_type": "code",
   "execution_count": 16,
   "metadata": {
    "deletable": false,
    "editable": false
   },
   "outputs": [
    {
     "data": {
      "text/html": [
       "<p><strong style='color: red;'><pre style='display: inline;'>q1g</pre> results:</strong></p><p><strong><pre style='display: inline;'>q1g - 1</pre> result:</strong></p><pre>    ❌ Test case failed\n",
       "    Trying:\n",
       "        round(q1g_cs_mean, 4) == 57.6341 and round(q1g_r_mean, 4) == 105.8527\n",
       "    Expecting:\n",
       "        True\n",
       "    **********************************************************************\n",
       "    Line 1, in q1g 0\n",
       "    Failed example:\n",
       "        round(q1g_cs_mean, 4) == 57.6341 and round(q1g_r_mean, 4) == 105.8527\n",
       "    Expected:\n",
       "        True\n",
       "    Got:\n",
       "        False\n",
       "</pre><p><strong><pre style='display: inline;'>q1g - 2</pre> result:</strong></p><pre>    ✅ Test case passed</pre><p><strong><pre style='display: inline;'>q1g - 3</pre> result:</strong></p><pre>    ✅ Test case passed</pre>"
      ],
      "text/plain": [
       "q1g results:\n",
       "    q1g - 1 result:\n",
       "        ❌ Test case failed\n",
       "        Trying:\n",
       "            round(q1g_cs_mean, 4) == 57.6341 and round(q1g_r_mean, 4) == 105.8527\n",
       "        Expecting:\n",
       "            True\n",
       "        **********************************************************************\n",
       "        Line 1, in q1g 0\n",
       "        Failed example:\n",
       "            round(q1g_cs_mean, 4) == 57.6341 and round(q1g_r_mean, 4) == 105.8527\n",
       "        Expected:\n",
       "            True\n",
       "        Got:\n",
       "            False\n",
       "\n",
       "    q1g - 2 result:\n",
       "        ✅ Test case passed\n",
       "\n",
       "    q1g - 3 result:\n",
       "        ✅ Test case passed"
      ]
     },
     "execution_count": 16,
     "metadata": {},
     "output_type": "execute_result"
    }
   ],
   "source": [
    "grader.check(\"q1g\")"
   ]
  },
  {
   "cell_type": "markdown",
   "metadata": {
    "deletable": false,
    "editable": false
   },
   "source": [
    "## Q1(h) - Statistics, part 3\n",
    "\n",
    "Report the first quartile, 37th percentile, third quartile, and 83rd percentile\n",
    "for `critics_score` and `runtime` and assign it to the given variables.  "
   ]
  },
  {
   "cell_type": "code",
   "execution_count": 17,
   "metadata": {
    "tags": []
   },
   "outputs": [],
   "source": [
    "# Report first quartile, 31st percentile, third quartile, and 90th percentile\n",
    "#  of \"critics_score\" and \"runtime\" \n",
    "\n",
    "# For critics_score- \n",
    "q1h_cs_q1 = q1movies['critics_score'].quantile(0.25)\n",
    "q1h_cs_p37 = q1movies['critics_score'].quantile(0.37)\n",
    "q1h_cs_q3 = q1movies['critics_score'].quantile(0.75)\n",
    "q1h_cs_p83 = q1movies['critics_score'].quantile(0.83)\n",
    "\n",
    "# For runtime- \n",
    "q1h_r_q1 = q1movies['runtime'].quantile(0.25)\n",
    "q1h_r_p37 = q1movies['runtime'].quantile(0.37)\n",
    "q1h_r_q3 = q1movies['runtime'].quantile(0.75)\n",
    "q1h_r_p83 = q1movies['runtime'].quantile(0.83)"
   ]
  },
  {
   "cell_type": "code",
   "execution_count": 18,
   "metadata": {
    "deletable": false,
    "editable": false
   },
   "outputs": [
    {
     "data": {
      "text/html": [
       "<p><strong style='color: red;'><pre style='display: inline;'>q1h</pre> results:</strong></p><p><strong><pre style='display: inline;'>q1h - 1</pre> result:</strong></p><pre>    ✅ Test case passed</pre><p><strong><pre style='display: inline;'>q1h - 2</pre> result:</strong></p><pre>    ❌ Test case failed\n",
       "    Trying:\n",
       "        round(q1h_cs_p37, 4) == 47.28 and round(q1h_r_p37, 4) == 97.0\n",
       "    Expecting:\n",
       "        True\n",
       "    **********************************************************************\n",
       "    Line 1, in q1h 1\n",
       "    Failed example:\n",
       "        round(q1h_cs_p37, 4) == 47.28 and round(q1h_r_p37, 4) == 97.0\n",
       "    Expected:\n",
       "        True\n",
       "    Got:\n",
       "        False\n",
       "</pre><p><strong><pre style='display: inline;'>q1h - 3</pre> result:</strong></p><pre>    ✅ Test case passed</pre><p><strong><pre style='display: inline;'>q1h - 4</pre> result:</strong></p><pre>    ✅ Test case passed</pre>"
      ],
      "text/plain": [
       "q1h results:\n",
       "    q1h - 1 result:\n",
       "        ✅ Test case passed\n",
       "\n",
       "    q1h - 2 result:\n",
       "        ❌ Test case failed\n",
       "        Trying:\n",
       "            round(q1h_cs_p37, 4) == 47.28 and round(q1h_r_p37, 4) == 97.0\n",
       "        Expecting:\n",
       "            True\n",
       "        **********************************************************************\n",
       "        Line 1, in q1h 1\n",
       "        Failed example:\n",
       "            round(q1h_cs_p37, 4) == 47.28 and round(q1h_r_p37, 4) == 97.0\n",
       "        Expected:\n",
       "            True\n",
       "        Got:\n",
       "            False\n",
       "\n",
       "    q1h - 3 result:\n",
       "        ✅ Test case passed\n",
       "\n",
       "    q1h - 4 result:\n",
       "        ✅ Test case passed"
      ]
     },
     "execution_count": 18,
     "metadata": {},
     "output_type": "execute_result"
    }
   ],
   "source": [
    "grader.check(\"q1h\")"
   ]
  },
  {
   "cell_type": "markdown",
   "metadata": {
    "deletable": false,
    "editable": false
   },
   "source": [
    "<!-- BEGIN QUESTION -->\n",
    "\n",
    "# *Visualizations* \n",
    "\n",
    "## Q1(i) Visualization: Single Variable \n",
    "\n",
    "I highly encourage looking at the [Fundamentals of Visualization](https://clauswilke.com/dataviz/index.html) reference book to guide in the creation of “good” visualizations requested below.\n",
    "\n",
    "\n",
    "Create a bar plot for the `critics_rating` variable."
   ]
  },
  {
   "cell_type": "code",
   "execution_count": 19,
   "metadata": {
    "tags": []
   },
   "outputs": [
    {
     "data": {
      "image/png": "[encoded data removed]",
      "text/plain": [
       "<Figure size 800x600 with 1 Axes>"
      ]
     },
     "metadata": {},
     "output_type": "display_data"
    }
   ],
   "source": [
    "# Create bar plot for \"critics_rating\" \n",
    "\n",
    "# Count the occurrences of each unique value in 'critics_rating'\n",
    "critics_rating_counts = q1movies['critics_rating'].value_counts()\n",
    "\n",
    "# Plot the bar plot\n",
    "plt.figure(figsize=(8, 6))\n",
    "critics_rating_counts.plot(kind='bar', color='skyblue')\n",
    "plt.title('Distribution of Critics Rating')\n",
    "plt.xlabel('Critics Rating')\n",
    "plt.ylabel('Frequency')\n",
    "plt.xticks(rotation=45)\n",
    "plt.grid(axis='y', linestyle='--', alpha=0.7)\n",
    "plt.show()"
   ]
  },
  {
   "cell_type": "markdown",
   "metadata": {
    "deletable": false,
    "editable": false
   },
   "source": [
    "<!-- END QUESTION -->\n",
    "\n",
    "<!-- BEGIN QUESTION -->\n",
    "\n",
    "## Q1(j) Visualization: Two Variables \n",
    "\n",
    "Create a violin plot for `imdb_rating` grouped by `mpaa_rating` (sorted by mpaa rating, where 'Unrated' is last).\n",
    "\n"
   ]
  },
  {
   "cell_type": "code",
   "execution_count": 20,
   "metadata": {
    "tags": []
   },
   "outputs": [
    {
     "data": {
      "image/png": "[encoded data removed]",
      "text/plain": [
       "<Figure size 1000x600 with 1 Axes>"
      ]
     },
     "metadata": {},
     "output_type": "display_data"
    }
   ],
   "source": [
    "# Create a violin plot for `imdb_rating` grouped by `mpaa_rating` (sorted)\n",
    "\n",
    "# Define the order of mpaa_rating sorted with 'Unrated' last\n",
    "mpaa_order = sorted(q1movies['mpaa_rating'].unique(), key=lambda x: (x != 'Unrated', x))\n",
    "\n",
    "# Create the violin plot\n",
    "plt.figure(figsize=(10, 6))\n",
    "sns.violinplot(data=q1movies, x='mpaa_rating', y='imdb_rating', order=mpaa_order)\n",
    "plt.title('Violin Plot of IMDb Rating by MPAA Rating')\n",
    "plt.xlabel('MPAA Rating')\n",
    "plt.ylabel('IMDb Rating')\n",
    "plt.grid(axis='y', linestyle='--', alpha=0.7)\n",
    "plt.show()"
   ]
  },
  {
   "cell_type": "markdown",
   "metadata": {
    "deletable": false,
    "editable": false
   },
   "source": [
    "<!-- END QUESTION -->\n",
    "\n",
    "<!-- BEGIN QUESTION -->\n",
    "\n",
    "## Q1(k) Visualization: Multiple variables\n",
    "\n",
    "Create a stacked bar chart to display the proportion of wins (nominations) for the 5 `best_*` variables.\n"
   ]
  },
  {
   "cell_type": "code",
   "execution_count": 21,
   "metadata": {
    "tags": []
   },
   "outputs": [
    {
     "data": {
      "text/plain": [
       "<Figure size 1000x600 with 0 Axes>"
      ]
     },
     "metadata": {},
     "output_type": "display_data"
    },
    {
     "data": {
      "image/png": "[encoded data removed]",
      "text/plain": [
       "<Figure size 640x480 with 1 Axes>"
      ]
     },
     "metadata": {},
     "output_type": "display_data"
    }
   ],
   "source": [
    "# Create a stacked bar chart to display the proportion of wins (nominations) \n",
    "#   for the 5 `best_*` variables.\n",
    "\n",
    "# Select the 'best_*' variables\n",
    "best_variables = ['best_pic_nom', 'best_pic_win', 'best_actor_win', 'best_actress_win', 'best_dir_win']\n",
    "\n",
    "# Calculate the number of wins and nominations for each 'best_*' variable\n",
    "wins_nominations = q1movies[best_variables].apply(lambda x: x.value_counts())\n",
    "\n",
    "# Transpose the DataFrame and calculate proportions\n",
    "wins_nominations = wins_nominations.transpose()\n",
    "proportions = wins_nominations.div(wins_nominations.sum(axis=1), axis=0)\n",
    "\n",
    "# Plot the stacked bar chart\n",
    "plt.figure(figsize=(10, 6))\n",
    "proportions.plot(kind='bar', stacked=True)\n",
    "plt.title('Proportion of Wins and Nominations for Best Variables')\n",
    "plt.xlabel('Best Variables')\n",
    "plt.ylabel('Proportion')\n",
    "plt.legend(title='Outcome', bbox_to_anchor=(1.05, 1), loc='upper left')\n",
    "plt.xticks(rotation=45)\n",
    "plt.show()"
   ]
  },
  {
   "cell_type": "markdown",
   "metadata": {
    "deletable": false,
    "editable": false
   },
   "source": [
    "<!-- END QUESTION -->\n",
    "\n",
    "<!-- BEGIN QUESTION -->\n",
    "\n",
    "## Q1(l) Visualization: Two Variables \n",
    "\n",
    "Create an overlapping density plot for `critics_score` grouped by `audience_rating`. "
   ]
  },
  {
   "cell_type": "code",
   "execution_count": 22,
   "metadata": {
    "tags": []
   },
   "outputs": [
    {
     "data": {
      "image/png": "[encoded data removed]",
      "text/plain": [
       "<Figure size 800x600 with 1 Axes>"
      ]
     },
     "metadata": {},
     "output_type": "display_data"
    }
   ],
   "source": [
    "# Create overlapping density plot\n",
    "\n",
    "# Create the overlapping density plot\n",
    "plt.figure(figsize=(8, 6))\n",
    "sns.kdeplot(data=q1movies, x='critics_score', hue='audience_rating', fill=True, alpha=0.5)\n",
    "plt.title('Overlapping Density Plot of Critics Score by Audience Rating')\n",
    "plt.xlabel('Critics Score')\n",
    "plt.ylabel('Density')\n",
    "\n",
    "plt.tight_layout()\n",
    "plt.show()"
   ]
  },
  {
   "cell_type": "markdown",
   "metadata": {
    "deletable": false,
    "editable": false
   },
   "source": [
    "<!-- END QUESTION -->\n",
    "\n",
    "<!-- BEGIN QUESTION -->\n",
    "\n",
    "## Q1(m) Visualization: Multiple variables \n",
    "\n",
    "Create a small multiples (or faceted) scatter plot of `imdb_rating` (y-axis) against `runtime` (x-axis) for each `critics_rating`.\n"
   ]
  },
  {
   "cell_type": "code",
   "execution_count": 23,
   "metadata": {
    "tags": []
   },
   "outputs": [
    {
     "data": {
      "image/png": "[encoded data removed]",
      "text/plain": [
       "<Figure size 1200x400 with 3 Axes>"
      ]
     },
     "metadata": {},
     "output_type": "display_data"
    }
   ],
   "source": [
    "# Create a small multiples (or faceted) scatter plot of `imdb_rating` vs. \n",
    "#   `runtime` for each `critics_rating`.\n",
    "\n",
    "# Create a FacetGrid with scatter plots for each critics_rating\n",
    "g = sns.FacetGrid(q1movies, col='critics_rating', col_wrap=3, height=4)\n",
    "g.map(sns.scatterplot, 'runtime', 'imdb_rating', alpha=0.5)\n",
    "g.set_titles('{col_name}')\n",
    "\n",
    "# Set axis labels and titles\n",
    "g.set_axis_labels('Runtime', 'IMDb Rating')\n",
    "plt.subplots_adjust(top=0.9)\n",
    "g.fig.suptitle('Scatter Plot of IMDb Rating vs Runtime for Each Critics Rating', y=1.05) \n",
    "plt.show()"
   ]
  },
  {
   "cell_type": "markdown",
   "metadata": {
    "deletable": false,
    "editable": false
   },
   "source": [
    "<!-- END QUESTION -->\n",
    "\n",
    "<!-- BEGIN QUESTION -->\n",
    "\n",
    "## Q1(bonus)   \n",
    "\n",
    "Create a small multiples (or faceted) scatter plot of `imdb_rating` vs. `runtime` for each of the top 4 `genre` (in order of most frequent), colored with the `critics_rating`."
   ]
  },
  {
   "cell_type": "code",
   "execution_count": 24,
   "metadata": {
    "tags": []
   },
   "outputs": [
    {
     "data": {
      "image/png": "[encoded data removed]",
      "text/plain": [
       "<Figure size 800x800 with 4 Axes>"
      ]
     },
     "metadata": {},
     "output_type": "display_data"
    }
   ],
   "source": [
    "# Create a small multiples (or faceted) scatter plot of `imdb_rating` vs. \n",
    "#   `runtime` for each of the top 4 `genre`, colored by the `critics_rating`\n",
    "\n",
    "# Get the top 4 genres based on frequency\n",
    "top_genres = q1movies['genre'].value_counts().nlargest(4).index.tolist()\n",
    "\n",
    "# Filter the DataFrame for the top 4 genres\n",
    "top_genres_df = q1movies[q1movies['genre'].isin(top_genres)]\n",
    "\n",
    "# Create a FacetGrid with scatter plots for each genre\n",
    "g = sns.FacetGrid(top_genres_df, col='genre', col_wrap=2, height=4)\n",
    "g.map(sns.scatterplot, 'runtime', 'imdb_rating', hue=q1movies['critics_rating'], alpha=0.5)\n",
    "\n",
    "# Set axis labels\n",
    "g.set_axis_labels('Runtime', 'IMDb Rating')\n",
    "\n",
    "# Set main title\n",
    "g.fig.suptitle('Scatter Plot of IMDb Rating vs Runtime for Top 4 Genres', y=1.05)\n",
    "\n",
    "# Add legend outside the plot\n",
    "plt.legend(title='Critics Rating', bbox_to_anchor=(1.05, 1), loc='upper left')\n",
    "\n",
    "plt.show()"
   ]
  },
  {
   "cell_type": "markdown",
   "metadata": {
    "deletable": false,
    "editable": false
   },
   "source": [
    "<!-- END QUESTION -->\n",
    "\n",
    "# Q2 - Data Preprocessing\n",
    "\n",
    "Let's make sure you become familiar using the scaling functions that are available in standard libraries: \n",
    "\n",
    "* Python: `MinMaxScaler` and `StandardScaler` or scale in `sklearn.preprocessing`\n",
    "\n",
    "Here you will use the `MinMaxScaler`.\n"
   ]
  },
  {
   "cell_type": "code",
   "execution_count": 25,
   "metadata": {
    "tags": []
   },
   "outputs": [
    {
     "name": "stdout",
     "output_type": "stream",
     "text": [
      "[[0.         0.        ]\n",
      " [0.17       0.03225806]\n",
      " [0.2        1.        ]\n",
      " [0.4        0.20967742]\n",
      " [0.65       0.4516129 ]\n",
      " [1.         0.53225806]]\n",
      "[[0.         0.        ]\n",
      " [0.17       0.03225806]\n",
      " [0.2        1.        ]\n",
      " [0.4        0.20967742]\n",
      " [0.65       0.4516129 ]\n",
      " [1.         0.53225806]]\n",
      "[[0.22       0.03225806]\n",
      " [0.38       0.83870968]\n",
      " [0.81       1.03225806]]\n"
     ]
    }
   ],
   "source": [
    "# train/test data \n",
    "q2train = pd.DataFrame({'x1': [20, 37, 40, 60, 85, 120], \n",
    "                        'x2': [-10, -8, 52, 3, 18, 23]})\n",
    "q2test = pd.DataFrame({'x1': [42, 58, 101], 'x2': [-8, 42, 54]})\n",
    "\n",
    "# Setup a scaler, fit and transform the training data \n",
    "scaler = preprocessing.MinMaxScaler()\n",
    "q2outA = scaler.fit_transform(q2train)\n",
    "print(q2outA)\n",
    "\n",
    "\n",
    "# Setup a MinMaxScaler with default range parameters\n",
    "# fit the scaler to the training data, transform it, and transform the test data\n",
    "scaler = preprocessing.MinMaxScaler()\n",
    "q2outBtrain = scaler.fit_transform(q2train)\n",
    "q2outBtest = scaler.transform(q2test)\n",
    "print(q2outBtrain)\n",
    "print(q2outBtest)"
   ]
  },
  {
   "cell_type": "code",
   "execution_count": 26,
   "metadata": {
    "deletable": false,
    "editable": false
   },
   "outputs": [
    {
     "data": {
      "text/html": [
       "<p><strong><pre style='display: inline;'>q2</pre></strong> passed! 🎉</p>"
      ],
      "text/plain": [
       "q2 results: All test cases passed!"
      ]
     },
     "execution_count": 26,
     "metadata": {},
     "output_type": "execute_result"
    }
   ],
   "source": [
    "grader.check(\"q2\")"
   ]
  },
  {
   "cell_type": "markdown",
   "metadata": {
    "deletable": false,
    "editable": false
   },
   "source": [
    "# Q3 - Data Preprocessing\n",
    "\n",
    "Let's make sure you become familiar using the scaling functions that are available in standard libraries: \n",
    "\n",
    "* Python: `MinMaxScaler` and `StandardScaler` or scale in `sklearn.preprocessing`\n",
    "\n",
    "Here you will use the `StandardScaler`."
   ]
  },
  {
   "cell_type": "code",
   "execution_count": 27,
   "metadata": {
    "tags": []
   },
   "outputs": [
    {
     "name": "stdout",
     "output_type": "stream",
     "text": [
      "[[-1.20221086 -1.08103207]\n",
      " [-0.69549389 -0.98702928]\n",
      " [-0.60607324  1.83305438]\n",
      " [-0.00993563 -0.47001394]\n",
      " [ 0.7352364   0.23500697]\n",
      " [ 1.77847723  0.47001394]]\n",
      "[[-1.20221086 -1.08103207]\n",
      " [-0.69549389 -0.98702928]\n",
      " [-0.60607324  1.83305438]\n",
      " [-0.00993563 -0.47001394]\n",
      " [ 0.7352364   0.23500697]\n",
      " [ 1.77847723  0.47001394]]\n",
      "[[-0.54645948 -0.98702928]\n",
      " [-0.06954939  1.36304044]\n",
      " [ 1.21214649  1.92705717]]\n"
     ]
    }
   ],
   "source": [
    "# train/test data \n",
    "# q2train = pd.DataFrame({'x1': [20, 37, 40, 60, 85, 120], \n",
    "#                       'x2': [-10, -8, 52, 3, 18, 23]})\n",
    "# q2test = pd.DataFrame({'x1': [42, 58, 101], 'x2': [-8, 42, 54]})\n",
    "\n",
    "\n",
    "# Setup a Standard scaler, fit and transform the training data \n",
    "scaler = preprocessing.StandardScaler()\n",
    "q3outA = scaler.fit_transform(q2train)\n",
    "print(q3outA)\n",
    "\n",
    "# use StandardScaler\n",
    "# fit the scaler to the training data, transform it, and transform the test data\n",
    "scaler = preprocessing.StandardScaler()\n",
    "q3outBtrain = scaler.fit_transform(q2train)\n",
    "q3outBtest = scaler.transform(q2test)\n",
    "print(q3outBtrain)\n",
    "print(q3outBtest)"
   ]
  },
  {
   "cell_type": "code",
   "execution_count": 28,
   "metadata": {
    "deletable": false,
    "editable": false
   },
   "outputs": [
    {
     "data": {
      "text/html": [
       "<p><strong><pre style='display: inline;'>q3</pre></strong> passed! ✨</p>"
      ],
      "text/plain": [
       "q3 results: All test cases passed!"
      ]
     },
     "execution_count": 28,
     "metadata": {},
     "output_type": "execute_result"
    }
   ],
   "source": [
    "grader.check(\"q3\")"
   ]
  },
  {
   "cell_type": "markdown",
   "metadata": {
    "deletable": false,
    "editable": false,
    "tags": []
   },
   "source": [
    "# Q4 - Performance Metrics \n",
    "\n",
    "Write a function to calculate: \n",
    "(a) true positive rate,\n",
    "(b) false positive rate, \n",
    "(c) accuracy, and \n",
    "(d) Matthews Correlation Coefficient (MCC). \n",
    "\n",
    "You can make use of `sklearn.metrics` functions. \n",
    "\n",
    "The function will have inputs of `y_true` (np.array) - the true label for a set of samples and `y_pred` (np.array) - the predicted labels for a set of samples, and a threshold `thres_value` (float). \n",
    "\n",
    "The function returns a list of the true positive rate, false positive rate, accuracy and MCC for the inputs where the predicted labels are thresholded at the provided value (using >= comparisons). \n",
    "\n",
    "\n",
    "This function will then be used to create a DataFrames  with rows corresponding with the 10 thresholds (y_pred values) and columns reporting the different thresholds, the true positive rate (TPR), false positive rate (FPR), accuracy (ACC), and Matthews correlation coefficient (MCC).\n",
    "\n"
   ]
  },
  {
   "cell_type": "code",
   "execution_count": 29,
   "metadata": {
    "tags": []
   },
   "outputs": [
    {
     "data": {
      "text/html": [
       "<div>\n",
       "<style scoped>\n",
       "    .dataframe tbody tr th:only-of-type {\n",
       "        vertical-align: middle;\n",
       "    }\n",
       "\n",
       "    .dataframe tbody tr th {\n",
       "        vertical-align: top;\n",
       "    }\n",
       "\n",
       "    .dataframe thead th {\n",
       "        text-align: right;\n",
       "    }\n",
       "</style>\n",
       "<table border=\"1\" class=\"dataframe\">\n",
       "  <thead>\n",
       "    <tr style=\"text-align: right;\">\n",
       "      <th></th>\n",
       "      <th>Threshold</th>\n",
       "      <th>TPR</th>\n",
       "      <th>FPR</th>\n",
       "      <th>ACC</th>\n",
       "      <th>MCC</th>\n",
       "    </tr>\n",
       "  </thead>\n",
       "  <tbody>\n",
       "    <tr>\n",
       "      <th>0</th>\n",
       "      <td>0.98</td>\n",
       "      <td>0.2</td>\n",
       "      <td>0.0</td>\n",
       "      <td>0.6</td>\n",
       "      <td>0.333333</td>\n",
       "    </tr>\n",
       "    <tr>\n",
       "      <th>1</th>\n",
       "      <td>0.92</td>\n",
       "      <td>0.4</td>\n",
       "      <td>0.0</td>\n",
       "      <td>0.7</td>\n",
       "      <td>0.500000</td>\n",
       "    </tr>\n",
       "    <tr>\n",
       "      <th>2</th>\n",
       "      <td>0.85</td>\n",
       "      <td>0.4</td>\n",
       "      <td>0.2</td>\n",
       "      <td>0.6</td>\n",
       "      <td>0.218218</td>\n",
       "    </tr>\n",
       "    <tr>\n",
       "      <th>3</th>\n",
       "      <td>0.77</td>\n",
       "      <td>0.6</td>\n",
       "      <td>0.2</td>\n",
       "      <td>0.7</td>\n",
       "      <td>0.408248</td>\n",
       "    </tr>\n",
       "    <tr>\n",
       "      <th>4</th>\n",
       "      <td>0.71</td>\n",
       "      <td>0.8</td>\n",
       "      <td>0.2</td>\n",
       "      <td>0.8</td>\n",
       "      <td>0.600000</td>\n",
       "    </tr>\n",
       "    <tr>\n",
       "      <th>5</th>\n",
       "      <td>0.64</td>\n",
       "      <td>0.8</td>\n",
       "      <td>0.4</td>\n",
       "      <td>0.7</td>\n",
       "      <td>0.408248</td>\n",
       "    </tr>\n",
       "    <tr>\n",
       "      <th>6</th>\n",
       "      <td>0.57</td>\n",
       "      <td>1.0</td>\n",
       "      <td>0.4</td>\n",
       "      <td>0.8</td>\n",
       "      <td>0.654654</td>\n",
       "    </tr>\n",
       "    <tr>\n",
       "      <th>7</th>\n",
       "      <td>0.42</td>\n",
       "      <td>1.0</td>\n",
       "      <td>0.6</td>\n",
       "      <td>0.7</td>\n",
       "      <td>0.500000</td>\n",
       "    </tr>\n",
       "    <tr>\n",
       "      <th>8</th>\n",
       "      <td>0.34</td>\n",
       "      <td>1.0</td>\n",
       "      <td>0.8</td>\n",
       "      <td>0.6</td>\n",
       "      <td>0.333333</td>\n",
       "    </tr>\n",
       "    <tr>\n",
       "      <th>9</th>\n",
       "      <td>0.32</td>\n",
       "      <td>1.0</td>\n",
       "      <td>1.0</td>\n",
       "      <td>0.5</td>\n",
       "      <td>0.000000</td>\n",
       "    </tr>\n",
       "  </tbody>\n",
       "</table>\n",
       "</div>"
      ],
      "text/plain": [
       "   Threshold  TPR  FPR  ACC       MCC\n",
       "0       0.98  0.2  0.0  0.6  0.333333\n",
       "1       0.92  0.4  0.0  0.7  0.500000\n",
       "2       0.85  0.4  0.2  0.6  0.218218\n",
       "3       0.77  0.6  0.2  0.7  0.408248\n",
       "4       0.71  0.8  0.2  0.8  0.600000\n",
       "5       0.64  0.8  0.4  0.7  0.408248\n",
       "6       0.57  1.0  0.4  0.8  0.654654\n",
       "7       0.42  1.0  0.6  0.7  0.500000\n",
       "8       0.34  1.0  0.8  0.6  0.333333\n",
       "9       0.32  1.0  1.0  0.5  0.000000"
      ]
     },
     "execution_count": 29,
     "metadata": {},
     "output_type": "execute_result"
    }
   ],
   "source": [
    "# Calculate tpr, fpr, accuracy, and MCC on input\n",
    "# Input: \n",
    "#  y_true - sample labels       (np.array)\n",
    "#  y_pred - sample predictions  (np.array)\n",
    "#  thres_value - threshold for predictions,  >= \n",
    "# Return list of tpr, fpr, accuracy, and MCC \n",
    "    \n",
    "def calc_metrics(y_true, y_pred, thres_value):\n",
    "     # Threshold predictions based on thres_value\n",
    "    y_pred_thresh = (y_pred >= thres_value).astype(int)\n",
    "    # Calculate confusion matrix\n",
    "    tn, fp, fn, tp = confusion_matrix(y_true, y_pred_thresh).ravel()\n",
    "    # Calculate True Positive Rate (TPR)\n",
    "    tpr = tp / (tp + fn)\n",
    "    # Calculate False Positive Rate (FPR)\n",
    "    fpr = fp / (fp + tn)    \n",
    "    # Calculate Accuracy (ACC)\n",
    "    acc = (tp + tn) / (tp + tn + fp + fn)\n",
    "     # Calculate Matthews Correlation Coefficient (MCC)\n",
    "    mcc = (tp * tn - fp * fn) / np.sqrt((tp + fp) * (tp + fn) * (tn + fp) * (tn + fn)) if (tp + fp) * (tp + fn) * (tn + fp) * (tn + fn) != 0 else 0\n",
    "    \n",
    "    return [tpr, fpr, acc, mcc]\n",
    "\n",
    "y_true = np.array([1,1,0,1,1,0,1,0,0,0])\n",
    "y_pred = np.array([0.98,0.92,0.85,0.77,0.71,0.64,0.57,0.42,0.34,0.32])\n",
    "\n",
    "# Create DataFrame to store performance metrics\n",
    "perfDF = pd.DataFrame(columns=['Threshold', 'TPR', 'FPR', 'ACC', 'MCC'])\n",
    "perfDF = pd.DataFrame(columns = ['Threshold', 'TPR', 'FPR', 'ACC', 'MCC']) \n",
    "i = 0 \n",
    "\n",
    "for thres in y_pred: \n",
    "    tpr_val, fpr_val, acc_val, mcc_val = calc_metrics(y_true, y_pred, thres)\n",
    "    perfDF.loc[i] = [thres, tpr_val, fpr_val, acc_val, mcc_val]\n",
    "    i = i+1\n",
    "\n",
    "perfDF"
   ]
  },
  {
   "cell_type": "code",
   "execution_count": 30,
   "metadata": {
    "deletable": false,
    "editable": false
   },
   "outputs": [
    {
     "data": {
      "text/html": [
       "<p><strong><pre style='display: inline;'>q4</pre></strong> passed! ✨</p>"
      ],
      "text/plain": [
       "q4 results: All test cases passed!"
      ]
     },
     "execution_count": 30,
     "metadata": {},
     "output_type": "execute_result"
    }
   ],
   "source": [
    "grader.check(\"q4\")"
   ]
  },
  {
   "cell_type": "markdown",
   "metadata": {
    "deletable": false,
    "editable": false
   },
   "source": [
    "<!-- BEGIN QUESTION -->\n",
    "\n",
    "# Q5 - Plot ROC Curve:\n",
    "\n",
    "Use the results from Question 4 to plot the ROC curve for the data. \n",
    "\n",
    "Note, plot this curve using the standard plotting tools rather than any special library/package available for making ROC plots."
   ]
  },
  {
   "cell_type": "code",
   "execution_count": 31,
   "metadata": {
    "tags": []
   },
   "outputs": [
    {
     "data": {
      "image/png": "[encoded data removed]",
      "text/plain": [
       "<Figure size 800x600 with 1 Axes>"
      ]
     },
     "metadata": {},
     "output_type": "display_data"
    }
   ],
   "source": [
    "# Calculate TPR and FPR using the calc_metrics function\n",
    "TPR_list = []\n",
    "FPR_list = []\n",
    "thresholds = perfDF['Threshold']\n",
    "\n",
    "for thres in thresholds:\n",
    "    tpr_val, fpr_val, _, _ = calc_metrics(y_true, y_pred, thres)\n",
    "    TPR_list.append(tpr_val)\n",
    "    FPR_list.append(fpr_val)\n",
    "\n",
    "# Plot the ROC curve\n",
    "plt.figure(figsize=(8, 6))\n",
    "plt.plot(FPR_list, TPR_list, marker='o', linestyle='-')\n",
    "plt.title('ROC Curve')\n",
    "plt.xlabel('False Positive Rate (FPR)')\n",
    "plt.ylabel('True Positive Rate (TPR)')\n",
    "plt.grid(True)\n",
    "plt.show()"
   ]
  },
  {
   "cell_type": "markdown",
   "metadata": {
    "deletable": false,
    "editable": false
   },
   "source": [
    "<!-- END QUESTION -->\n",
    "\n",
    "# Q6 - NBA Rookies\n",
    "\n",
    "For this problem you will use a data set of rookie NBA players from 1980 - 2017 seasons.  The dataset was collected from the NBA website API - https://www.nba.com. \n",
    "\n",
    "You will use the data from their rookie year to predict whether a player will last at least 5 seasons in the leaque. \n",
    "\n",
    "The data consists of variables:\n",
    "\n",
    "* `PlayerID`, `Player` - variables to identify individual samples (ignore for prediction)\n",
    "* `Tm`, `Year` - variables describing the year the player started and for what team (ignore for prediction)  \n",
    "* `TARGET` - This is the target / class feature to be predicted (whether the player was in the league for at least 5 years). \n",
    "\n",
    "The remaining variables are predictor variables for the models.  They come in pairs \"*\\_DIFF\" and \"*\\_A\" reporting the given statistic as the difference between Team A and Team B and the statistic itself for Team A. \n",
    "\n",
    "* `Pos` - position of the player, power forward, point guard, shooting guard, center, etc.\n",
    "* `Age` - player age\n",
    "* `G` - sum of number of games played\n",
    "* `GS` - sum of number of games started\n",
    "* `MP` - sum of number of minutes played\n",
    "* `PTS` - sum of number of points scored\n",
    "* `FG` - sum of number of field goals made (both 2 and 3 pointers)\n",
    "* `FGA` - sum of number of field goals attempted\n",
    "* `FG%` - FG / FGA, percentage of field goals made \n",
    "* `3P` - sum of the number of 3 pointers made\n",
    "* `3PA` - sum of the number of 3 pointers attempted\n",
    "* `3P%` - 3P / 3PA, percentage of 3 pointers made\n",
    "* `2P` - sum of the number of 2 point shots made\n",
    "* `2PA` - sum of the number of 2 point shots attempted\n",
    "* `2P%` - 2P / 2PA, percentage of 2 point shots made\n",
    "* `eFG%` - Effective Field Goal Percentage, (`FG` + 0.5 * `3P`)/`FGA`\n",
    "* `FT` - sum of the number of free throws made\n",
    "* `FTA` - sum of the number of free throws attempted\n",
    "* `FT%` - FT / FTA, percentage of free throws made\n",
    "* `ORB` - sum of the number of offensive rebounds\n",
    "* `DRB` - sum of the number of defensive rebounds\n",
    "* `TRB` - sum of the number of total rebounds\n",
    "* `AST` - sum of the number of assists\n",
    "* `STL` - sum of the number of steals\n",
    "* `BLK` - sum of the number of blocks\n",
    "* `TOV` - sum of the number of turnovers\n",
    "* `PF` - sum of the number of personal fouls\n",
    "\n",
    "More information on the stats used can be found: https://www.nba.com/stats/help/glossary   \n",
    "*Note, some of the abbreviations used here are slightly different* \n"
   ]
  },
  {
   "cell_type": "markdown",
   "metadata": {
    "deletable": false,
    "editable": false,
    "tags": []
   },
   "source": [
    "## Q6(a) - Load Data \n",
    "\n",
    "Load the `nba` data.\n"
   ]
  },
  {
   "cell_type": "code",
   "execution_count": 32,
   "metadata": {
    "tags": []
   },
   "outputs": [
    {
     "data": {
      "text/html": [
       "<div>\n",
       "<style scoped>\n",
       "    .dataframe tbody tr th:only-of-type {\n",
       "        vertical-align: middle;\n",
       "    }\n",
       "\n",
       "    .dataframe tbody tr th {\n",
       "        vertical-align: top;\n",
       "    }\n",
       "\n",
       "    .dataframe thead th {\n",
       "        text-align: right;\n",
       "    }\n",
       "</style>\n",
       "<table border=\"1\" class=\"dataframe\">\n",
       "  <thead>\n",
       "    <tr style=\"text-align: right;\">\n",
       "      <th></th>\n",
       "      <th>PlayerID</th>\n",
       "      <th>Player</th>\n",
       "      <th>Pos</th>\n",
       "      <th>Age</th>\n",
       "      <th>Tm</th>\n",
       "      <th>Year</th>\n",
       "      <th>G</th>\n",
       "      <th>GS</th>\n",
       "      <th>MP</th>\n",
       "      <th>PTS</th>\n",
       "      <th>...</th>\n",
       "      <th>FT%</th>\n",
       "      <th>ORB</th>\n",
       "      <th>DRB</th>\n",
       "      <th>TRB</th>\n",
       "      <th>AST</th>\n",
       "      <th>STL</th>\n",
       "      <th>BLK</th>\n",
       "      <th>TOV</th>\n",
       "      <th>PF</th>\n",
       "      <th>TARGET</th>\n",
       "    </tr>\n",
       "  </thead>\n",
       "  <tbody>\n",
       "    <tr>\n",
       "      <th>0</th>\n",
       "      <td>abdelal01</td>\n",
       "      <td>Alaa Abdelnaby</td>\n",
       "      <td>PF</td>\n",
       "      <td>22</td>\n",
       "      <td>POR</td>\n",
       "      <td>1991</td>\n",
       "      <td>43</td>\n",
       "      <td>0.0</td>\n",
       "      <td>290</td>\n",
       "      <td>135</td>\n",
       "      <td>...</td>\n",
       "      <td>0.568182</td>\n",
       "      <td>27</td>\n",
       "      <td>62</td>\n",
       "      <td>89</td>\n",
       "      <td>12</td>\n",
       "      <td>4</td>\n",
       "      <td>12</td>\n",
       "      <td>22</td>\n",
       "      <td>39</td>\n",
       "      <td>True</td>\n",
       "    </tr>\n",
       "    <tr>\n",
       "      <th>1</th>\n",
       "      <td>abdulma02</td>\n",
       "      <td>Mahmoud Abdul-Rauf</td>\n",
       "      <td>PG</td>\n",
       "      <td>21</td>\n",
       "      <td>DEN</td>\n",
       "      <td>1991</td>\n",
       "      <td>67</td>\n",
       "      <td>19.0</td>\n",
       "      <td>1505</td>\n",
       "      <td>942</td>\n",
       "      <td>...</td>\n",
       "      <td>0.857143</td>\n",
       "      <td>34</td>\n",
       "      <td>87</td>\n",
       "      <td>121</td>\n",
       "      <td>206</td>\n",
       "      <td>55</td>\n",
       "      <td>4</td>\n",
       "      <td>110</td>\n",
       "      <td>149</td>\n",
       "      <td>True</td>\n",
       "    </tr>\n",
       "    <tr>\n",
       "      <th>2</th>\n",
       "      <td>abdulta01</td>\n",
       "      <td>Tariq Abdul-Wahad</td>\n",
       "      <td>SG</td>\n",
       "      <td>23</td>\n",
       "      <td>SAC</td>\n",
       "      <td>1998</td>\n",
       "      <td>59</td>\n",
       "      <td>16.0</td>\n",
       "      <td>959</td>\n",
       "      <td>376</td>\n",
       "      <td>...</td>\n",
       "      <td>0.672000</td>\n",
       "      <td>44</td>\n",
       "      <td>72</td>\n",
       "      <td>116</td>\n",
       "      <td>51</td>\n",
       "      <td>35</td>\n",
       "      <td>13</td>\n",
       "      <td>65</td>\n",
       "      <td>81</td>\n",
       "      <td>True</td>\n",
       "    </tr>\n",
       "    <tr>\n",
       "      <th>3</th>\n",
       "      <td>abdursh01</td>\n",
       "      <td>Shareef Abdur-Rahim</td>\n",
       "      <td>PF</td>\n",
       "      <td>20</td>\n",
       "      <td>VAN</td>\n",
       "      <td>1997</td>\n",
       "      <td>80</td>\n",
       "      <td>71.0</td>\n",
       "      <td>2802</td>\n",
       "      <td>1494</td>\n",
       "      <td>...</td>\n",
       "      <td>0.745665</td>\n",
       "      <td>216</td>\n",
       "      <td>339</td>\n",
       "      <td>555</td>\n",
       "      <td>175</td>\n",
       "      <td>79</td>\n",
       "      <td>79</td>\n",
       "      <td>225</td>\n",
       "      <td>199</td>\n",
       "      <td>True</td>\n",
       "    </tr>\n",
       "    <tr>\n",
       "      <th>4</th>\n",
       "      <td>abrinal01</td>\n",
       "      <td>Álex Abrines</td>\n",
       "      <td>SG</td>\n",
       "      <td>23</td>\n",
       "      <td>OKC</td>\n",
       "      <td>2017</td>\n",
       "      <td>68</td>\n",
       "      <td>6.0</td>\n",
       "      <td>1055</td>\n",
       "      <td>406</td>\n",
       "      <td>...</td>\n",
       "      <td>0.897959</td>\n",
       "      <td>18</td>\n",
       "      <td>68</td>\n",
       "      <td>86</td>\n",
       "      <td>40</td>\n",
       "      <td>37</td>\n",
       "      <td>8</td>\n",
       "      <td>33</td>\n",
       "      <td>114</td>\n",
       "      <td>False</td>\n",
       "    </tr>\n",
       "  </tbody>\n",
       "</table>\n",
       "<p>5 rows × 32 columns</p>\n",
       "</div>"
      ],
      "text/plain": [
       "    PlayerID               Player Pos  Age   Tm  Year   G    GS    MP   PTS  \\\n",
       "0  abdelal01       Alaa Abdelnaby  PF   22  POR  1991  43   0.0   290   135   \n",
       "1  abdulma02   Mahmoud Abdul-Rauf  PG   21  DEN  1991  67  19.0  1505   942   \n",
       "2  abdulta01    Tariq Abdul-Wahad  SG   23  SAC  1998  59  16.0   959   376   \n",
       "3  abdursh01  Shareef Abdur-Rahim  PF   20  VAN  1997  80  71.0  2802  1494   \n",
       "4  abrinal01         Álex Abrines  SG   23  OKC  2017  68   6.0  1055   406   \n",
       "\n",
       "   ...       FT%  ORB  DRB  TRB  AST  STL  BLK  TOV   PF  TARGET  \n",
       "0  ...  0.568182   27   62   89   12    4   12   22   39    True  \n",
       "1  ...  0.857143   34   87  121  206   55    4  110  149    True  \n",
       "2  ...  0.672000   44   72  116   51   35   13   65   81    True  \n",
       "3  ...  0.745665  216  339  555  175   79   79  225  199    True  \n",
       "4  ...  0.897959   18   68   86   40   37    8   33  114   False  \n",
       "\n",
       "[5 rows x 32 columns]"
      ]
     },
     "execution_count": 32,
     "metadata": {},
     "output_type": "execute_result"
    }
   ],
   "source": [
    "nba = pd.read_csv('nba_rookies.csv') \n",
    "nba.head()"
   ]
  },
  {
   "cell_type": "code",
   "execution_count": 33,
   "metadata": {
    "deletable": false,
    "editable": false
   },
   "outputs": [
    {
     "data": {
      "text/html": [
       "<p><strong><pre style='display: inline;'>q6a</pre></strong> passed! ✨</p>"
      ],
      "text/plain": [
       "q6a results: All test cases passed!"
      ]
     },
     "execution_count": 33,
     "metadata": {},
     "output_type": "execute_result"
    }
   ],
   "source": [
    "grader.check(\"q6a\")"
   ]
  },
  {
   "cell_type": "markdown",
   "metadata": {
    "deletable": false,
    "editable": false
   },
   "source": [
    "## Q6(b) - Missing Data \n",
    "\n",
    "Let's investigate any missing values in the nba data. \n",
    "\n",
    "First, calculate and report the percentage of missing data for that variable (percentage of rows) in a DataSeries, `miss_nba`. "
   ]
  },
  {
   "cell_type": "code",
   "execution_count": 34,
   "metadata": {
    "tags": []
   },
   "outputs": [
    {
     "data": {
      "text/plain": [
       "PlayerID     0.000000\n",
       "Player       0.000000\n",
       "Pos          0.000000\n",
       "Age          0.000000\n",
       "Tm           0.000000\n",
       "Year         0.000000\n",
       "G            0.000000\n",
       "GS           4.807325\n",
       "MP           0.000000\n",
       "PTS          0.000000\n",
       "FG           0.000000\n",
       "FGA          0.000000\n",
       "FG%          0.763068\n",
       "3P           0.000000\n",
       "3PA          0.000000\n",
       "3P%         23.693247\n",
       "2P           0.000000\n",
       "2PA          0.000000\n",
       "2P%          0.915681\n",
       "eFG%         0.763068\n",
       "FT           0.000000\n",
       "FTA          0.000000\n",
       "FT%          6.676841\n",
       "ORB          0.000000\n",
       "DRB          0.000000\n",
       "TRB          0.000000\n",
       "AST          0.000000\n",
       "STL          0.000000\n",
       "BLK          0.000000\n",
       "TOV          0.000000\n",
       "PF           0.000000\n",
       "TARGET       0.000000\n",
       "dtype: float64"
      ]
     },
     "execution_count": 34,
     "metadata": {},
     "output_type": "execute_result"
    }
   ],
   "source": [
    "miss_nba = (nba.isna().sum() / len(nba)) * 100\n",
    "miss_nba"
   ]
  },
  {
   "cell_type": "code",
   "execution_count": 35,
   "metadata": {
    "deletable": false,
    "editable": false
   },
   "outputs": [
    {
     "data": {
      "text/html": [
       "<p><strong><pre style='display: inline;'>q6b</pre></strong> passed! 🌈</p>"
      ],
      "text/plain": [
       "q6b results: All test cases passed!"
      ]
     },
     "execution_count": 35,
     "metadata": {},
     "output_type": "execute_result"
    }
   ],
   "source": [
    "grader.check(\"q6b\")"
   ]
  },
  {
   "cell_type": "markdown",
   "metadata": {},
   "source": [
    "Explore where these missing values you in the following code cell. \n",
    "\n",
    "**BE SURE TO COMMENT OUT YOUR CODE BEFORE SUBMITTING**"
   ]
  },
  {
   "cell_type": "code",
   "execution_count": 36,
   "metadata": {},
   "outputs": [],
   "source": [
    "# explore where the missing values are in your data. \n"
   ]
  },
  {
   "cell_type": "markdown",
   "metadata": {
    "deletable": false,
    "editable": false
   },
   "source": [
    "## Q6(c) - Handle missing data\n",
    "\n",
    "By investigating where the missing data is, I hope you discovered the following: \n",
    "\n",
    "The missing values reside in two main types of columns (and for two different reasons):\n",
    "* `GS` the game started column has missing values for almost all rookies in the 1980 and 1981 seasons with a few exceptions, e.g., Larry Bird, Clint Richardson, etc.\n",
    "* Columns that calculate a percentage, `FG%`, `3P%`, `2P%`, `eFG%`, `FT%`\n",
    "Here the missing values are due to a divide by zero.\n",
    "\n",
    "Due to the different reasons for the data missing values will be handled differently in each situation. \n",
    "\n",
    "First, the missing values for `GS`, because there is not way to impute these values (and there are so few players in the 1980 and 1981 season having this information), the **all** samples from these two seasons should be deleted. \n",
    "\n",
    "For the missing values in the \"percentage\" columns, replace those missing values with 0. \n",
    "\n",
    "Call you new DataFrame after performing these operations `nba2`.\n",
    "\n",
    "\n",
    "*Note* There may be situations where how you handle missing data (in particular, using imputation methods) should be done in the workflow/pipeline after already splitting for training/testing data in order to avoid possible data leakage.  However, the methods we employ here for dealing the the missing data are not using global properties to perform the imputation, therefore can be done at this state of the analysis. "
   ]
  },
  {
   "cell_type": "code",
   "execution_count": 37,
   "metadata": {
    "tags": []
   },
   "outputs": [
    {
     "data": {
      "text/html": [
       "<div>\n",
       "<style scoped>\n",
       "    .dataframe tbody tr th:only-of-type {\n",
       "        vertical-align: middle;\n",
       "    }\n",
       "\n",
       "    .dataframe tbody tr th {\n",
       "        vertical-align: top;\n",
       "    }\n",
       "\n",
       "    .dataframe thead th {\n",
       "        text-align: right;\n",
       "    }\n",
       "</style>\n",
       "<table border=\"1\" class=\"dataframe\">\n",
       "  <thead>\n",
       "    <tr style=\"text-align: right;\">\n",
       "      <th></th>\n",
       "      <th>PlayerID</th>\n",
       "      <th>Player</th>\n",
       "      <th>Pos</th>\n",
       "      <th>Age</th>\n",
       "      <th>Tm</th>\n",
       "      <th>Year</th>\n",
       "      <th>G</th>\n",
       "      <th>GS</th>\n",
       "      <th>MP</th>\n",
       "      <th>PTS</th>\n",
       "      <th>...</th>\n",
       "      <th>FT%</th>\n",
       "      <th>ORB</th>\n",
       "      <th>DRB</th>\n",
       "      <th>TRB</th>\n",
       "      <th>AST</th>\n",
       "      <th>STL</th>\n",
       "      <th>BLK</th>\n",
       "      <th>TOV</th>\n",
       "      <th>PF</th>\n",
       "      <th>TARGET</th>\n",
       "    </tr>\n",
       "  </thead>\n",
       "  <tbody>\n",
       "    <tr>\n",
       "      <th>0</th>\n",
       "      <td>abdelal01</td>\n",
       "      <td>Alaa Abdelnaby</td>\n",
       "      <td>PF</td>\n",
       "      <td>22</td>\n",
       "      <td>POR</td>\n",
       "      <td>1991</td>\n",
       "      <td>43</td>\n",
       "      <td>0.0</td>\n",
       "      <td>290</td>\n",
       "      <td>135</td>\n",
       "      <td>...</td>\n",
       "      <td>0.568182</td>\n",
       "      <td>27</td>\n",
       "      <td>62</td>\n",
       "      <td>89</td>\n",
       "      <td>12</td>\n",
       "      <td>4</td>\n",
       "      <td>12</td>\n",
       "      <td>22</td>\n",
       "      <td>39</td>\n",
       "      <td>True</td>\n",
       "    </tr>\n",
       "    <tr>\n",
       "      <th>1</th>\n",
       "      <td>abdulma02</td>\n",
       "      <td>Mahmoud Abdul-Rauf</td>\n",
       "      <td>PG</td>\n",
       "      <td>21</td>\n",
       "      <td>DEN</td>\n",
       "      <td>1991</td>\n",
       "      <td>67</td>\n",
       "      <td>19.0</td>\n",
       "      <td>1505</td>\n",
       "      <td>942</td>\n",
       "      <td>...</td>\n",
       "      <td>0.857143</td>\n",
       "      <td>34</td>\n",
       "      <td>87</td>\n",
       "      <td>121</td>\n",
       "      <td>206</td>\n",
       "      <td>55</td>\n",
       "      <td>4</td>\n",
       "      <td>110</td>\n",
       "      <td>149</td>\n",
       "      <td>True</td>\n",
       "    </tr>\n",
       "    <tr>\n",
       "      <th>2</th>\n",
       "      <td>abdulta01</td>\n",
       "      <td>Tariq Abdul-Wahad</td>\n",
       "      <td>SG</td>\n",
       "      <td>23</td>\n",
       "      <td>SAC</td>\n",
       "      <td>1998</td>\n",
       "      <td>59</td>\n",
       "      <td>16.0</td>\n",
       "      <td>959</td>\n",
       "      <td>376</td>\n",
       "      <td>...</td>\n",
       "      <td>0.672000</td>\n",
       "      <td>44</td>\n",
       "      <td>72</td>\n",
       "      <td>116</td>\n",
       "      <td>51</td>\n",
       "      <td>35</td>\n",
       "      <td>13</td>\n",
       "      <td>65</td>\n",
       "      <td>81</td>\n",
       "      <td>True</td>\n",
       "    </tr>\n",
       "    <tr>\n",
       "      <th>3</th>\n",
       "      <td>abdursh01</td>\n",
       "      <td>Shareef Abdur-Rahim</td>\n",
       "      <td>PF</td>\n",
       "      <td>20</td>\n",
       "      <td>VAN</td>\n",
       "      <td>1997</td>\n",
       "      <td>80</td>\n",
       "      <td>71.0</td>\n",
       "      <td>2802</td>\n",
       "      <td>1494</td>\n",
       "      <td>...</td>\n",
       "      <td>0.745665</td>\n",
       "      <td>216</td>\n",
       "      <td>339</td>\n",
       "      <td>555</td>\n",
       "      <td>175</td>\n",
       "      <td>79</td>\n",
       "      <td>79</td>\n",
       "      <td>225</td>\n",
       "      <td>199</td>\n",
       "      <td>True</td>\n",
       "    </tr>\n",
       "    <tr>\n",
       "      <th>4</th>\n",
       "      <td>abrinal01</td>\n",
       "      <td>Álex Abrines</td>\n",
       "      <td>SG</td>\n",
       "      <td>23</td>\n",
       "      <td>OKC</td>\n",
       "      <td>2017</td>\n",
       "      <td>68</td>\n",
       "      <td>6.0</td>\n",
       "      <td>1055</td>\n",
       "      <td>406</td>\n",
       "      <td>...</td>\n",
       "      <td>0.897959</td>\n",
       "      <td>18</td>\n",
       "      <td>68</td>\n",
       "      <td>86</td>\n",
       "      <td>40</td>\n",
       "      <td>37</td>\n",
       "      <td>8</td>\n",
       "      <td>33</td>\n",
       "      <td>114</td>\n",
       "      <td>False</td>\n",
       "    </tr>\n",
       "  </tbody>\n",
       "</table>\n",
       "<p>5 rows × 32 columns</p>\n",
       "</div>"
      ],
      "text/plain": [
       "    PlayerID               Player Pos  Age   Tm  Year   G    GS    MP   PTS  \\\n",
       "0  abdelal01       Alaa Abdelnaby  PF   22  POR  1991  43   0.0   290   135   \n",
       "1  abdulma02   Mahmoud Abdul-Rauf  PG   21  DEN  1991  67  19.0  1505   942   \n",
       "2  abdulta01    Tariq Abdul-Wahad  SG   23  SAC  1998  59  16.0   959   376   \n",
       "3  abdursh01  Shareef Abdur-Rahim  PF   20  VAN  1997  80  71.0  2802  1494   \n",
       "4  abrinal01         Álex Abrines  SG   23  OKC  2017  68   6.0  1055   406   \n",
       "\n",
       "   ...       FT%  ORB  DRB  TRB  AST  STL  BLK  TOV   PF  TARGET  \n",
       "0  ...  0.568182   27   62   89   12    4   12   22   39    True  \n",
       "1  ...  0.857143   34   87  121  206   55    4  110  149    True  \n",
       "2  ...  0.672000   44   72  116   51   35   13   65   81    True  \n",
       "3  ...  0.745665  216  339  555  175   79   79  225  199    True  \n",
       "4  ...  0.897959   18   68   86   40   37    8   33  114   False  \n",
       "\n",
       "[5 rows x 32 columns]"
      ]
     },
     "execution_count": 37,
     "metadata": {},
     "output_type": "execute_result"
    }
   ],
   "source": [
    "nba2 = nba.copy()\n",
    "nba2.drop(nba2[(nba2['Year'] == 1980) | (nba2['Year'] == 1981)].index, inplace=True)\n",
    "cols = ['FG%', '3P%', '2P%', 'eFG%', 'FT%']\n",
    "for col in cols:\n",
    "    nba2[col] = pd.to_numeric(nba2[col], errors='coerce').fillna(0)\n",
    "\n",
    "nba2.head()"
   ]
  },
  {
   "cell_type": "code",
   "execution_count": 38,
   "metadata": {
    "deletable": false,
    "editable": false
   },
   "outputs": [
    {
     "data": {
      "text/html": [
       "<p><strong><pre style='display: inline;'>q6c</pre></strong> passed! 🌟</p>"
      ],
      "text/plain": [
       "q6c results: All test cases passed!"
      ]
     },
     "execution_count": 38,
     "metadata": {},
     "output_type": "execute_result"
    }
   ],
   "source": [
    "grader.check(\"q6c\")"
   ]
  },
  {
   "cell_type": "markdown",
   "metadata": {
    "deletable": false,
    "editable": false
   },
   "source": [
    "## Q6(d) - Labels \n",
    "\n",
    "Let's understand the what we should expect as a baseline performance for predicting whether the rookie play remains in the league for at least 5 years. \n",
    "\n",
    "(i). What fraction of players have a positive target label (in the league for at least 5 years)? Value should be in between 0 and 1.  \n",
    "(ii).  What should a constant classifier model predict?   A *constant classifier* always predicts the same value no matter the input.   \n",
    "(iii).  What is the error rate of the constant classifier? Value should be in between 0 and 1. \n",
    "\n",
    "Answer the following questions below.  Note, you should not use any `sklearn` functions, but simply look at properties of the data labels. \n"
   ]
  },
  {
   "cell_type": "code",
   "execution_count": 39,
   "metadata": {
    "tags": []
   },
   "outputs": [],
   "source": [
    "q6d_i = nba2['TARGET'].sum() / len(nba2)\n",
    "\n",
    "q6d_ii = True\n",
    "\n",
    "q6d_iii = 1 - q6d_i"
   ]
  },
  {
   "cell_type": "code",
   "execution_count": 40,
   "metadata": {
    "deletable": false,
    "editable": false
   },
   "outputs": [
    {
     "data": {
      "text/html": [
       "<p><strong><pre style='display: inline;'>q6d</pre></strong> passed! 🌈</p>"
      ],
      "text/plain": [
       "q6d results: All test cases passed!"
      ]
     },
     "execution_count": 40,
     "metadata": {},
     "output_type": "execute_result"
    }
   ],
   "source": [
    "grader.check(\"q6d\")"
   ]
  },
  {
   "cell_type": "markdown",
   "metadata": {
    "deletable": false,
    "editable": false
   },
   "source": [
    "## Q6(e) - Prepare the data \n",
    "\n",
    "At this point, we need to set up the data in order to be used in the classification models. \n",
    "\n",
    "We want to create a DataFrame `nbaX` for the predictor variables and `nbaY` for the target variable. \n",
    "\n",
    "The target variable, `nbaY` will just be the `Target` column of the `nba2` data set. \n",
    "\n",
    "The predictor variables have more considerations. \n",
    "\n",
    "We want to exclude player information such as IDs, `PlayerID` and names `Player`, that are identifying and not predictive.   \n",
    "\n",
    "You should also exclude these other factors (note, that some of these variables may in fact be predictive but we are going to exclude at this time): \n",
    "\n",
    "* `POS` - player position\n",
    "* `Tm` - team\n",
    "* `Year` - rookie year\n",
    "\n",
    "Finally, several of the numeric predictive variables are not only related, but can be directly calculated from one another, e.g., `FG%` = `FG` / `FGA`.  Having variables that are closely related, or in this case redundant may actually hinder the predictive models. \n",
    "\n",
    "Therefore, exclude the following variables: `FG`, `3P`, `2P`, `eFG%`, `FT`, `TRB`. "
   ]
  },
  {
   "cell_type": "code",
   "execution_count": 41,
   "metadata": {
    "tags": []
   },
   "outputs": [
    {
     "name": "stdout",
     "output_type": "stream",
     "text": [
      "(2487, 19)\n",
      "(2487,)\n"
     ]
    }
   ],
   "source": [
    "nbaY = nba2['TARGET']\n",
    "nbaX = nba2.copy()\n",
    "cols = ['PlayerID', 'Player', 'Age', 'Pos', 'Tm', 'Year', 'FG', '3P', '2P', 'eFG%', 'FT', 'TRB', 'TARGET']\n",
    "nbaX.drop(columns=cols, inplace=True)\n",
    "print(nbaX.shape)\n",
    "print(nbaY.shape)"
   ]
  },
  {
   "cell_type": "code",
   "execution_count": 42,
   "metadata": {
    "deletable": false,
    "editable": false
   },
   "outputs": [
    {
     "data": {
      "text/html": [
       "<p><strong><pre style='display: inline;'>q6e</pre></strong> passed! 🌟</p>"
      ],
      "text/plain": [
       "q6e results: All test cases passed!"
      ]
     },
     "execution_count": 42,
     "metadata": {},
     "output_type": "execute_result"
    }
   ],
   "source": [
    "grader.check(\"q6e\")"
   ]
  },
  {
   "cell_type": "markdown",
   "metadata": {
    "deletable": false,
    "editable": false
   },
   "source": [
    "## Q6(f) - Model Selection and Evaluation: Three-fold Split\n",
    "\n",
    "Split the data into training, validation and test sets with 60, 20, and 20% of the data respectively. Make sure to split the data such that the distribution of class labels is approximately equal across splits - “stratify”.\n",
    "\n",
    "Set the seed for the random generator in `random_state` to ”4821”"
   ]
  },
  {
   "cell_type": "code",
   "execution_count": 43,
   "metadata": {
    "tags": []
   },
   "outputs": [],
   "source": [
    "# Split of the test set\n",
    "X_trainval, X_test, y_trainval, y_test = train_test_split(nbaX, nbaY, test_size=0.2, random_state=4821, stratify=nbaY)\n",
    "\n",
    "# Split trainval into train + val\n",
    "X_train, X_val, y_train, y_val = train_test_split(X_trainval, y_trainval, test_size=0.25, random_state=4821, stratify=y_trainval)"
   ]
  },
  {
   "cell_type": "code",
   "execution_count": 44,
   "metadata": {
    "deletable": false,
    "editable": false
   },
   "outputs": [
    {
     "data": {
      "text/html": [
       "<p><strong><pre style='display: inline;'>q6f</pre></strong> passed! 🎉</p>"
      ],
      "text/plain": [
       "q6f results: All test cases passed!"
      ]
     },
     "execution_count": 44,
     "metadata": {},
     "output_type": "execute_result"
    }
   ],
   "source": [
    "grader.check(\"q6f\")"
   ]
  },
  {
   "cell_type": "markdown",
   "metadata": {
    "deletable": false,
    "editable": false
   },
   "source": [
    "## Q6(g) - Scaling \n",
    "\n",
    "Scale the predictor data with standard scaling (Gaussian normalizaiton). \n",
    "\n",
    "Make sure to use training data set to set scaling parameters and apply those parameters to scaling the training and validation data.\n",
    "\n",
    "Use the train+val to scale the train+val data, and use those parameters to scale the test data to evaluate the best model. \n",
    "\n",
    "Helpful functions: Python - `StandardScaler` from `sklearn.preprocessing`."
   ]
  },
  {
   "cell_type": "code",
   "execution_count": 45,
   "metadata": {
    "tags": []
   },
   "outputs": [],
   "source": [
    "scaler = StandardScaler()\n",
    "X_train_sc = scaler.fit_transform(X_train)\n",
    "X_val_sc = scaler.transform(X_val)\n",
    "\n",
    "scaler_final = StandardScaler()\n",
    "X_trainval_sc = scaler.fit_transform(X_trainval)\n",
    "X_test_sc = scaler.transform(X_test)"
   ]
  },
  {
   "cell_type": "code",
   "execution_count": 46,
   "metadata": {
    "deletable": false,
    "editable": false
   },
   "outputs": [
    {
     "data": {
      "text/html": [
       "<p><strong><pre style='display: inline;'>q6g</pre></strong> passed! 🙌</p>"
      ],
      "text/plain": [
       "q6g results: All test cases passed!"
      ]
     },
     "execution_count": 46,
     "metadata": {},
     "output_type": "execute_result"
    }
   ],
   "source": [
    "grader.check(\"q6g\")"
   ]
  },
  {
   "cell_type": "markdown",
   "metadata": {
    "deletable": false,
    "editable": false
   },
   "source": [
    "## Q6(h) -  KNN - K Nearest Neighbors\n",
    "For values of k, [3, 7, 11, 15, 19, 23, 27, 31], find the best k-nearest-neighbor classifier using the three-fold split of data. \n",
    "\n",
    "* fit a k nearest neighbors model to the training data for each value of k\n",
    "* evaluate the classifier on the training and validation set using AUC\n",
    "* select the best value of k\n",
    "* create a model on train+validation with the *best* value of k \n",
    "* evaluate the classifier on the test data. \n",
    "* plot the training and validation performance vs k;  \n",
    "add a line showing the test performance"
   ]
  },
  {
   "cell_type": "code",
   "execution_count": 47,
   "metadata": {
    "tags": []
   },
   "outputs": [
    {
     "data": {
      "image/png": "[encoded data removed]",
      "text/plain": [
       "<Figure size 640x480 with 1 Axes>"
      ]
     },
     "metadata": {},
     "output_type": "display_data"
    },
    {
     "name": "stdout",
     "output_type": "stream",
     "text": [
      "Best k:  15\n",
      "Test Perf:  0.739789\n"
     ]
    }
   ],
   "source": [
    "kvals = [3, 7, 11, 15, 19, 23, 27, 31]\n",
    "\n",
    "knn_auc_val = np.zeros((1,len(kvals)))\n",
    "knn_auc_tr = np.zeros((1,len(kvals)))\n",
    "\n",
    "# fit a k nearest neighbors model to the training data\n",
    "# evaluate the classifier on the training and validation set using auc\n",
    "for i in range(len(kvals)):\n",
    "    # Fit a KNN model to the data at k\n",
    "    knn = KNeighborsClassifier(n_neighbors=kvals[i])\n",
    "    knn.fit(X_train_sc, y_train)\n",
    "    \n",
    "    # Calculate AUC scores for the training and validation sets\n",
    "    knn_auc_val[0][i] = roc_auc_score(y_val, knn.predict(X_val_sc))\n",
    "    knn_auc_tr[0][i] = roc_auc_score(y_train, knn.predict(X_train_sc))\n",
    "\n",
    "# select the best value of k\n",
    "knn_bestk = kvals[np.argmax(knn_auc_val[0])]\n",
    "\n",
    "# create a best model on train+validation\n",
    "best_knn = KNeighborsClassifier(n_neighbors=knn_bestk)\n",
    "best_knn.fit(X_trainval, y_trainval)\n",
    "\n",
    "# evaluate the classifier on the test data.\n",
    "knn_auc_test = roc_auc_score(y_test, knn.predict(X_test_sc))\n",
    "\n",
    "# plot the training and validationing performance vs k.\n",
    "#   add a line for test performance \n",
    "\n",
    "plt.plot(kvals, knn_auc_val[0], label='Validation AUC')\n",
    "plt.plot(kvals, knn_auc_tr[0], label='Training AUC')\n",
    "plt.axhline(y=knn_auc_test, color='r', linestyle='--', label='Test AUC')\n",
    "\n",
    "plt.xlabel('k')\n",
    "plt.ylabel('AUC')\n",
    "plt.title('Training and Validation Performance vs k')\n",
    "plt.legend()\n",
    "\n",
    "plt.show()\n",
    "\n",
    "print('Best k:  %d' % (knn_bestk))\n",
    "print('Test Perf:  %.6f' % (knn_auc_test))"
   ]
  },
  {
   "cell_type": "code",
   "execution_count": 48,
   "metadata": {
    "deletable": false,
    "editable": false
   },
   "outputs": [
    {
     "data": {
      "text/html": [
       "<p><strong><pre style='display: inline;'>q6h</pre></strong> passed! 🍀</p>"
      ],
      "text/plain": [
       "q6h results: All test cases passed!"
      ]
     },
     "execution_count": 48,
     "metadata": {},
     "output_type": "execute_result"
    }
   ],
   "source": [
    "grader.check(\"q6h\")"
   ]
  },
  {
   "cell_type": "markdown",
   "metadata": {
    "deletable": false,
    "editable": false
   },
   "source": [
    "## Q6(i) - Decision Trees\n",
    "\n",
    "For values of max_leaf_nodes nodes [5, 10, 25, 50, 75, 100], fit the Decision Trees classifier to the training data. \n",
    "\n",
    "- fit a decision tree model to the training data (use `random_state=4821`) for each of the max_leaf_nodes values\n",
    "- evaluate the classifier on the training and validation set using AUC\n",
    "- select the best max_leaf_nodes\n",
    "- retrain the a model on train+validation with the *best* value of max_leaf_nodes \n",
    "- report the auc on the testing data.\n",
    "- plot the train and validation AUC vs max_leaf_nodes;  \n",
    "add a line for the test AUC performance \n",
    "- print out the best tree."
   ]
  },
  {
   "cell_type": "code",
   "execution_count": 49,
   "metadata": {
    "tags": []
   },
   "outputs": [
    {
     "data": {
      "image/png": "[encoded data removed]",
      "text/plain": [
       "<Figure size 640x480 with 1 Axes>"
      ]
     },
     "metadata": {},
     "output_type": "display_data"
    },
    {
     "name": "stdout",
     "output_type": "stream",
     "text": [
      "Best max_leaf_nodes:  25\n",
      "Test Perf:  0.693573\n"
     ]
    }
   ],
   "source": [
    "nodes = [5, 10, 25, 50, 75, 100, 150]\n",
    "\n",
    "dt_auc_val = np.zeros((1,len(nodes)))\n",
    "dt_auc_tr = np.zeros((1,len(nodes)))\n",
    "\n",
    "# fit a decision tree model to the training data (use random_state=4821)\n",
    "# evaluate the classifier on the training and validation set using auc\n",
    "for i in range(len(nodes)):\n",
    "    # Fit a DTC model to the data at n\n",
    "    dt = DecisionTreeClassifier(max_leaf_nodes=nodes[i], random_state=4821)\n",
    "    dt.fit(X_train_sc, y_train)\n",
    "    \n",
    "    # Calculate AUC scores for the training and validation sets\n",
    "    dt_auc_val[0][i] = roc_auc_score(y_val, dt.predict(X_val_sc))\n",
    "    dt_auc_tr[0][i] = roc_auc_score(y_train, dt.predict(X_train_sc))\n",
    "\n",
    "# select the best max_leaf_nodes\n",
    "dt_bestn = nodes[np.argmax(dt_auc_val[0])]\n",
    "\n",
    "# retrain the best model on train+validation\n",
    "best_dt = DecisionTreeClassifier(max_leaf_nodes=dt_bestn, random_state=4821)\n",
    "best_dt.fit(X_trainval, y_trainval)\n",
    "\n",
    "# report the auc on the testing data.\n",
    "dt_auc_test = roc_auc_score(y_test, dt.predict(X_test_sc))\n",
    "\n",
    "# plot the train and validation auc vs max_leaf_nodes.\n",
    "#   add a line for test performance \n",
    "plt.plot(nodes, dt_auc_val[0], label='Validation AUC')\n",
    "plt.plot(nodes, dt_auc_tr[0], label='Training AUC')\n",
    "plt.axhline(y=dt_auc_test, color='r', linestyle='--', label='Test AUC')\n",
    "\n",
    "plt.xlabel('n')\n",
    "plt.ylabel('AUC')\n",
    "plt.title('Training and Validation Performance vs Nodes')\n",
    "plt.legend()\n",
    "\n",
    "plt.show()\n",
    "\n",
    "print('Best max_leaf_nodes:  %d' % (dt_bestn))\n",
    "print('Test Perf:  %.6f' % (dt_auc_test))"
   ]
  },
  {
   "cell_type": "code",
   "execution_count": 50,
   "metadata": {
    "tags": []
   },
   "outputs": [
    {
     "data": {
      "text/plain": [
       "[Text(0.533046132238548, 0.975, 'x[13] <= -0.314\\ngini = 0.5\\nsamples = 1491\\nvalue = [737, 754]'),\n",
       " Text(0.24116789109766637, 0.925, 'x[2] <= -0.773\\ngini = 0.411\\nsamples = 795\\nvalue = [565, 230]'),\n",
       " Text(0.07260155574762317, 0.875, 'x[16] <= -0.241\\ngini = 0.296\\nsamples = 426\\nvalue = [349, 77]'),\n",
       " Text(0.06568712186689715, 0.825, 'x[11] <= 0.469\\ngini = 0.287\\nsamples = 420\\nvalue = [347, 73]'),\n",
       " Text(0.020743301642178046, 0.775, 'x[17] <= -0.705\\ngini = 0.237\\nsamples = 299\\nvalue = [258, 41]'),\n",
       " Text(0.013828867761452032, 0.725, 'gini = 0.213\\nsamples = 273\\nvalue = [240, 33]'),\n",
       " Text(0.027657735522904063, 0.725, 'x[11] <= -0.311\\ngini = 0.426\\nsamples = 26\\nvalue = [18, 8]'),\n",
       " Text(0.020743301642178046, 0.675, 'gini = 0.0\\nsamples = 9\\nvalue = [9, 0]'),\n",
       " Text(0.03457216940363008, 0.675, 'x[15] <= -0.677\\ngini = 0.498\\nsamples = 17\\nvalue = [9, 8]'),\n",
       " Text(0.020743301642178046, 0.625, 'x[9] <= 0.569\\ngini = 0.32\\nsamples = 10\\nvalue = [8, 2]'),\n",
       " Text(0.013828867761452032, 0.575, 'x[13] <= -0.613\\ngini = 0.198\\nsamples = 9\\nvalue = [8, 1]'),\n",
       " Text(0.006914433880726016, 0.525, 'gini = 0.0\\nsamples = 8\\nvalue = [8, 0]'),\n",
       " Text(0.020743301642178046, 0.525, 'gini = 0.0\\nsamples = 1\\nvalue = [0, 1]'),\n",
       " Text(0.027657735522904063, 0.575, 'gini = 0.0\\nsamples = 1\\nvalue = [0, 1]'),\n",
       " Text(0.04840103716508211, 0.625, 'x[4] <= -0.747\\ngini = 0.245\\nsamples = 7\\nvalue = [1, 6]'),\n",
       " Text(0.04148660328435609, 0.575, 'gini = 0.0\\nsamples = 1\\nvalue = [1, 0]'),\n",
       " Text(0.055315471045808126, 0.575, 'gini = 0.0\\nsamples = 6\\nvalue = [0, 6]'),\n",
       " Text(0.11063094209161625, 0.775, 'x[11] <= 0.522\\ngini = 0.389\\nsamples = 121\\nvalue = [89, 32]'),\n",
       " Text(0.08297320656871218, 0.725, 'x[18] <= -0.962\\ngini = 0.5\\nsamples = 24\\nvalue = [12, 12]'),\n",
       " Text(0.06914433880726016, 0.675, 'x[0] <= -1.457\\ngini = 0.426\\nsamples = 13\\nvalue = [9, 4]'),\n",
       " Text(0.06222990492653414, 0.625, 'gini = 0.0\\nsamples = 3\\nvalue = [0, 3]'),\n",
       " Text(0.07605877268798616, 0.625, 'gini = 0.18\\nsamples = 10\\nvalue = [9, 1]'),\n",
       " Text(0.09680207433016422, 0.675, 'x[17] <= -0.84\\ngini = 0.397\\nsamples = 11\\nvalue = [3, 8]'),\n",
       " Text(0.0898876404494382, 0.625, 'gini = 0.0\\nsamples = 2\\nvalue = [2, 0]'),\n",
       " Text(0.10371650821089023, 0.625, 'x[18] <= -0.851\\ngini = 0.198\\nsamples = 9\\nvalue = [1, 8]'),\n",
       " Text(0.09680207433016422, 0.575, 'gini = 0.0\\nsamples = 8\\nvalue = [0, 8]'),\n",
       " Text(0.11063094209161625, 0.575, 'gini = 0.0\\nsamples = 1\\nvalue = [1, 0]'),\n",
       " Text(0.13828867761452032, 0.725, 'x[2] <= -0.962\\ngini = 0.327\\nsamples = 97\\nvalue = [77, 20]'),\n",
       " Text(0.12445980985306827, 0.675, 'x[2] <= -0.969\\ngini = 0.48\\nsamples = 5\\nvalue = [2, 3]'),\n",
       " Text(0.11754537597234227, 0.625, 'gini = 0.0\\nsamples = 2\\nvalue = [2, 0]'),\n",
       " Text(0.1313742437337943, 0.625, 'gini = 0.0\\nsamples = 3\\nvalue = [0, 3]'),\n",
       " Text(0.15211754537597233, 0.675, 'x[6] <= -0.102\\ngini = 0.301\\nsamples = 92\\nvalue = [75, 17]'),\n",
       " Text(0.14520311149524634, 0.625, 'x[18] <= -0.592\\ngini = 0.29\\nsamples = 91\\nvalue = [75, 16]'),\n",
       " Text(0.13828867761452032, 0.575, 'x[5] <= 2.117\\ngini = 0.278\\nsamples = 90\\nvalue = [75, 15]'),\n",
       " Text(0.1313742437337943, 0.525, 'gini = 0.265\\nsamples = 89\\nvalue = [75, 14]'),\n",
       " Text(0.14520311149524634, 0.525, 'gini = 0.0\\nsamples = 1\\nvalue = [0, 1]'),\n",
       " Text(0.15211754537597233, 0.575, 'gini = 0.0\\nsamples = 1\\nvalue = [0, 1]'),\n",
       " Text(0.15903197925669835, 0.625, 'gini = 0.0\\nsamples = 1\\nvalue = [0, 1]'),\n",
       " Text(0.07951598962834917, 0.825, 'gini = 0.444\\nsamples = 6\\nvalue = [2, 4]'),\n",
       " Text(0.40973422644770957, 0.875, 'x[11] <= 0.783\\ngini = 0.485\\nsamples = 369\\nvalue = [216, 153]'),\n",
       " Text(0.24384183232497839, 0.825, 'x[5] <= -0.622\\ngini = 0.47\\nsamples = 323\\nvalue = [201, 122]'),\n",
       " Text(0.18668971477960242, 0.775, 'x[10] <= -0.578\\ngini = 0.295\\nsamples = 39\\nvalue = [32, 7]'),\n",
       " Text(0.17286084701815038, 0.725, 'x[11] <= -0.042\\ngini = 0.469\\nsamples = 16\\nvalue = [10, 6]'),\n",
       " Text(0.16594641313742436, 0.675, 'gini = 0.0\\nsamples = 7\\nvalue = [7, 0]'),\n",
       " Text(0.1797752808988764, 0.675, 'x[2] <= -0.678\\ngini = 0.444\\nsamples = 9\\nvalue = [3, 6]'),\n",
       " Text(0.17286084701815038, 0.625, 'gini = 0.0\\nsamples = 3\\nvalue = [3, 0]'),\n",
       " Text(0.18668971477960242, 0.625, 'gini = 0.0\\nsamples = 6\\nvalue = [0, 6]'),\n",
       " Text(0.20051858254105445, 0.725, 'x[14] <= 0.272\\ngini = 0.083\\nsamples = 23\\nvalue = [22, 1]'),\n",
       " Text(0.19360414866032843, 0.675, 'gini = 0.0\\nsamples = 22\\nvalue = [22, 0]'),\n",
       " Text(0.20743301642178047, 0.675, 'gini = 0.0\\nsamples = 1\\nvalue = [0, 1]'),\n",
       " Text(0.3009939498703544, 0.775, 'x[6] <= -0.476\\ngini = 0.482\\nsamples = 284\\nvalue = [169, 115]'),\n",
       " Text(0.23854796888504753, 0.725, 'x[2] <= -0.706\\ngini = 0.406\\nsamples = 99\\nvalue = [71, 28]'),\n",
       " Text(0.2212618841832325, 0.675, 'x[2] <= -0.74\\ngini = 0.469\\nsamples = 24\\nvalue = [9, 15]'),\n",
       " Text(0.2143474503025065, 0.625, 'x[16] <= -0.304\\ngini = 0.492\\nsamples = 16\\nvalue = [9, 7]'),\n",
       " Text(0.20743301642178047, 0.575, 'x[15] <= -0.471\\ngini = 0.375\\nsamples = 12\\nvalue = [9, 3]'),\n",
       " Text(0.20051858254105445, 0.525, 'x[11] <= -0.961\\ngini = 0.18\\nsamples = 10\\nvalue = [9, 1]'),\n",
       " Text(0.19360414866032843, 0.475, 'gini = 0.0\\nsamples = 1\\nvalue = [0, 1]'),\n",
       " Text(0.20743301642178047, 0.475, 'gini = 0.0\\nsamples = 9\\nvalue = [9, 0]'),\n",
       " Text(0.2143474503025065, 0.525, 'gini = 0.0\\nsamples = 2\\nvalue = [0, 2]'),\n",
       " Text(0.2212618841832325, 0.575, 'gini = 0.0\\nsamples = 4\\nvalue = [0, 4]'),\n",
       " Text(0.22817631806395852, 0.625, 'gini = 0.0\\nsamples = 8\\nvalue = [0, 8]'),\n",
       " Text(0.25583405358686256, 0.675, 'x[16] <= -0.083\\ngini = 0.287\\nsamples = 75\\nvalue = [62, 13]'),\n",
       " Text(0.24200518582541056, 0.625, 'x[16] <= -0.524\\ngini = 0.195\\nsamples = 64\\nvalue = [57, 7]'),\n",
       " Text(0.23509075194468454, 0.575, 'gini = 0.444\\nsamples = 3\\nvalue = [1, 2]'),\n",
       " Text(0.24891961970613655, 0.575, 'gini = 0.15\\nsamples = 61\\nvalue = [56, 5]'),\n",
       " Text(0.2696629213483146, 0.625, 'x[12] <= -0.249\\ngini = 0.496\\nsamples = 11\\nvalue = [5, 6]'),\n",
       " Text(0.2627484874675886, 0.575, 'x[9] <= -0.299\\ngini = 0.408\\nsamples = 7\\nvalue = [5, 2]'),\n",
       " Text(0.25583405358686256, 0.525, 'gini = 0.0\\nsamples = 2\\nvalue = [0, 2]'),\n",
       " Text(0.2696629213483146, 0.525, 'gini = 0.0\\nsamples = 5\\nvalue = [5, 0]'),\n",
       " Text(0.27657735522904064, 0.575, 'gini = 0.0\\nsamples = 4\\nvalue = [0, 4]'),\n",
       " Text(0.3634399308556612, 0.725, 'x[17] <= -0.62\\ngini = 0.498\\nsamples = 185\\nvalue = [98, 87]'),\n",
       " Text(0.2904062229904927, 0.675, 'x[4] <= -0.706\\ngini = 0.427\\nsamples = 42\\nvalue = [13, 29]'),\n",
       " Text(0.28349178910976663, 0.625, 'gini = 0.0\\nsamples = 4\\nvalue = [4, 0]'),\n",
       " Text(0.29732065687121867, 0.625, 'x[9] <= 0.227\\ngini = 0.361\\nsamples = 38\\nvalue = [9, 29]'),\n",
       " Text(0.2904062229904927, 0.575, 'gini = 0.087\\nsamples = 22\\nvalue = [1, 21]'),\n",
       " Text(0.30423509075194466, 0.575, 'x[16] <= -0.429\\ngini = 0.5\\nsamples = 16\\nvalue = [8, 8]'),\n",
       " Text(0.2904062229904927, 0.525, 'x[7] <= 0.827\\ngini = 0.346\\nsamples = 9\\nvalue = [7, 2]'),\n",
       " Text(0.28349178910976663, 0.475, 'gini = 0.0\\nsamples = 7\\nvalue = [7, 0]'),\n",
       " Text(0.29732065687121867, 0.475, 'gini = 0.0\\nsamples = 2\\nvalue = [0, 2]'),\n",
       " Text(0.3180639585133967, 0.525, 'x[9] <= 0.342\\ngini = 0.245\\nsamples = 7\\nvalue = [1, 6]'),\n",
       " Text(0.3111495246326707, 0.475, 'gini = 0.0\\nsamples = 1\\nvalue = [1, 0]'),\n",
       " Text(0.32497839239412274, 0.475, 'gini = 0.0\\nsamples = 6\\nvalue = [0, 6]'),\n",
       " Text(0.4364736387208297, 0.675, 'x[9] <= 0.025\\ngini = 0.482\\nsamples = 143\\nvalue = [85, 58]'),\n",
       " Text(0.3802938634399309, 0.625, 'x[11] <= 0.125\\ngini = 0.403\\nsamples = 75\\nvalue = [54, 21]'),\n",
       " Text(0.3595505617977528, 0.575, 'x[11] <= 0.082\\ngini = 0.491\\nsamples = 30\\nvalue = [17, 13]'),\n",
       " Text(0.3526361279170268, 0.525, 'x[8] <= -0.48\\ngini = 0.453\\nsamples = 26\\nvalue = [17, 9]'),\n",
       " Text(0.3388072601555748, 0.475, 'x[17] <= -0.569\\ngini = 0.498\\nsamples = 15\\nvalue = [7, 8]'),\n",
       " Text(0.33189282627484873, 0.425, 'gini = 0.0\\nsamples = 4\\nvalue = [4, 0]'),\n",
       " Text(0.34572169403630076, 0.425, 'x[12] <= -0.638\\ngini = 0.397\\nsamples = 11\\nvalue = [3, 8]'),\n",
       " Text(0.3388072601555748, 0.375, 'x[15] <= -0.202\\ngini = 0.5\\nsamples = 6\\nvalue = [3, 3]'),\n",
       " Text(0.33189282627484873, 0.325, 'x[12] <= -0.718\\ngini = 0.375\\nsamples = 4\\nvalue = [1, 3]'),\n",
       " Text(0.32497839239412274, 0.275, 'gini = 0.0\\nsamples = 1\\nvalue = [1, 0]'),\n",
       " Text(0.3388072601555748, 0.275, 'gini = 0.0\\nsamples = 3\\nvalue = [0, 3]'),\n",
       " Text(0.34572169403630076, 0.325, 'gini = 0.0\\nsamples = 2\\nvalue = [2, 0]'),\n",
       " Text(0.3526361279170268, 0.375, 'gini = 0.0\\nsamples = 5\\nvalue = [0, 5]'),\n",
       " Text(0.36646499567847884, 0.475, 'x[14] <= 0.105\\ngini = 0.165\\nsamples = 11\\nvalue = [10, 1]'),\n",
       " Text(0.3595505617977528, 0.425, 'gini = 0.0\\nsamples = 10\\nvalue = [10, 0]'),\n",
       " Text(0.37337942955920483, 0.425, 'gini = 0.0\\nsamples = 1\\nvalue = [0, 1]'),\n",
       " Text(0.36646499567847884, 0.525, 'gini = 0.0\\nsamples = 4\\nvalue = [0, 4]'),\n",
       " Text(0.4010371650821089, 0.575, 'x[11] <= 0.551\\ngini = 0.292\\nsamples = 45\\nvalue = [37, 8]'),\n",
       " Text(0.38720829732065687, 0.525, 'x[9] <= -0.677\\ngini = 0.071\\nsamples = 27\\nvalue = [26, 1]'),\n",
       " Text(0.3802938634399309, 0.475, 'gini = 0.0\\nsamples = 1\\nvalue = [0, 1]'),\n",
       " Text(0.3941227312013829, 0.475, 'gini = 0.0\\nsamples = 26\\nvalue = [26, 0]'),\n",
       " Text(0.41486603284356094, 0.525, 'x[14] <= 0.499\\ngini = 0.475\\nsamples = 18\\nvalue = [11, 7]'),\n",
       " Text(0.4079515989628349, 0.475, 'x[13] <= -0.492\\ngini = 0.43\\nsamples = 16\\nvalue = [11, 5]'),\n",
       " Text(0.4010371650821089, 0.425, 'gini = 0.0\\nsamples = 6\\nvalue = [6, 0]'),\n",
       " Text(0.41486603284356094, 0.425, 'x[6] <= -0.196\\ngini = 0.5\\nsamples = 10\\nvalue = [5, 5]'),\n",
       " Text(0.4079515989628349, 0.375, 'gini = 0.0\\nsamples = 3\\nvalue = [0, 3]'),\n",
       " Text(0.42178046672428693, 0.375, 'x[0] <= -0.16\\ngini = 0.408\\nsamples = 7\\nvalue = [5, 2]'),\n",
       " Text(0.41486603284356094, 0.325, 'gini = 0.0\\nsamples = 2\\nvalue = [0, 2]'),\n",
       " Text(0.428694900605013, 0.325, 'gini = 0.0\\nsamples = 5\\nvalue = [5, 0]'),\n",
       " Text(0.42178046672428693, 0.475, 'gini = 0.0\\nsamples = 2\\nvalue = [0, 2]'),\n",
       " Text(0.49265341400172863, 0.625, 'x[9] <= 0.326\\ngini = 0.496\\nsamples = 68\\nvalue = [31, 37]'),\n",
       " Text(0.45980985306828004, 0.575, 'x[10] <= -0.42\\ngini = 0.457\\nsamples = 48\\nvalue = [17, 31]'),\n",
       " Text(0.442523768366465, 0.525, 'x[14] <= -0.496\\ngini = 0.287\\nsamples = 23\\nvalue = [4, 19]'),\n",
       " Text(0.43560933448573896, 0.475, 'gini = 0.444\\nsamples = 3\\nvalue = [2, 1]'),\n",
       " Text(0.449438202247191, 0.475, 'gini = 0.18\\nsamples = 20\\nvalue = [2, 18]'),\n",
       " Text(0.47709593777009507, 0.525, 'x[8] <= -0.23\\ngini = 0.499\\nsamples = 25\\nvalue = [13, 12]'),\n",
       " Text(0.46326707000864303, 0.475, 'x[16] <= -0.492\\ngini = 0.278\\nsamples = 12\\nvalue = [10, 2]'),\n",
       " Text(0.45635263612791704, 0.425, 'gini = 0.0\\nsamples = 1\\nvalue = [0, 1]'),\n",
       " Text(0.4701815038893691, 0.425, 'gini = 0.165\\nsamples = 11\\nvalue = [10, 1]'),\n",
       " Text(0.4909248055315471, 0.475, 'x[16] <= -0.461\\ngini = 0.355\\nsamples = 13\\nvalue = [3, 10]'),\n",
       " Text(0.4840103716508211, 0.425, 'gini = 0.0\\nsamples = 2\\nvalue = [2, 0]'),\n",
       " Text(0.4978392394122731, 0.425, 'x[10] <= -0.355\\ngini = 0.165\\nsamples = 11\\nvalue = [1, 10]'),\n",
       " Text(0.4909248055315471, 0.375, 'gini = 0.0\\nsamples = 1\\nvalue = [1, 0]'),\n",
       " Text(0.5047536732929991, 0.375, 'gini = 0.0\\nsamples = 10\\nvalue = [0, 10]'),\n",
       " Text(0.5254969749351772, 0.575, 'x[17] <= -0.451\\ngini = 0.42\\nsamples = 20\\nvalue = [14, 6]'),\n",
       " Text(0.5116681071737251, 0.525, 'x[2] <= -0.517\\ngini = 0.469\\nsamples = 8\\nvalue = [3, 5]'),\n",
       " Text(0.5047536732929991, 0.475, 'gini = 0.0\\nsamples = 3\\nvalue = [3, 0]'),\n",
       " Text(0.5185825410544511, 0.475, 'gini = 0.0\\nsamples = 5\\nvalue = [0, 5]'),\n",
       " Text(0.5393258426966292, 0.525, 'x[14] <= 0.691\\ngini = 0.153\\nsamples = 12\\nvalue = [11, 1]'),\n",
       " Text(0.5324114088159032, 0.475, 'gini = 0.0\\nsamples = 11\\nvalue = [11, 0]'),\n",
       " Text(0.5462402765773552, 0.475, 'gini = 0.0\\nsamples = 1\\nvalue = [0, 1]'),\n",
       " Text(0.5756266205704408, 0.825, 'x[2] <= -0.426\\ngini = 0.44\\nsamples = 46\\nvalue = [15, 31]'),\n",
       " Text(0.5566119273984442, 0.775, 'x[1] <= -0.548\\ngini = 0.499\\nsamples = 27\\nvalue = [14, 13]'),\n",
       " Text(0.5393258426966292, 0.725, 'x[15] <= -0.535\\ngini = 0.465\\nsamples = 19\\nvalue = [7, 12]'),\n",
       " Text(0.5254969749351772, 0.675, 'x[2] <= -0.497\\ngini = 0.198\\nsamples = 9\\nvalue = [1, 8]'),\n",
       " Text(0.5185825410544511, 0.625, 'gini = 0.0\\nsamples = 8\\nvalue = [0, 8]'),\n",
       " Text(0.5324114088159032, 0.625, 'gini = 0.0\\nsamples = 1\\nvalue = [1, 0]'),\n",
       " Text(0.5531547104580813, 0.675, 'x[2] <= -0.556\\ngini = 0.48\\nsamples = 10\\nvalue = [6, 4]'),\n",
       " Text(0.5462402765773552, 0.625, 'x[14] <= -0.542\\ngini = 0.245\\nsamples = 7\\nvalue = [6, 1]'),\n",
       " Text(0.5393258426966292, 0.575, 'gini = 0.0\\nsamples = 1\\nvalue = [0, 1]'),\n",
       " Text(0.5531547104580813, 0.575, 'gini = 0.0\\nsamples = 6\\nvalue = [6, 0]'),\n",
       " Text(0.5600691443388073, 0.625, 'gini = 0.0\\nsamples = 3\\nvalue = [0, 3]'),\n",
       " Text(0.5738980121002593, 0.725, 'x[3] <= -0.679\\ngini = 0.219\\nsamples = 8\\nvalue = [7, 1]'),\n",
       " Text(0.5669835782195333, 0.675, 'gini = 0.0\\nsamples = 1\\nvalue = [0, 1]'),\n",
       " Text(0.5808124459809854, 0.675, 'gini = 0.0\\nsamples = 7\\nvalue = [7, 0]'),\n",
       " Text(0.5946413137424373, 0.775, 'x[9] <= 0.8\\ngini = 0.1\\nsamples = 19\\nvalue = [1, 18]'),\n",
       " Text(0.5877268798617113, 0.725, 'gini = 0.0\\nsamples = 18\\nvalue = [0, 18]'),\n",
       " Text(0.6015557476231633, 0.725, 'gini = 0.0\\nsamples = 1\\nvalue = [1, 0]'),\n",
       " Text(0.8249243733794296, 0.925, 'x[13] <= 0.535\\ngini = 0.372\\nsamples = 696\\nvalue = [172, 524]'),\n",
       " Text(0.7181287813310285, 0.875, 'x[10] <= -0.44\\ngini = 0.471\\nsamples = 377\\nvalue = [143, 234]'),\n",
       " Text(0.651685393258427, 0.825, 'x[5] <= 0.443\\ngini = 0.473\\nsamples = 39\\nvalue = [24, 15]'),\n",
       " Text(0.6326707000864304, 0.775, 'x[2] <= -0.078\\ngini = 0.43\\nsamples = 32\\nvalue = [22, 10]'),\n",
       " Text(0.6153846153846154, 0.725, 'x[15] <= -0.582\\ngini = 0.298\\nsamples = 22\\nvalue = [18, 4]'),\n",
       " Text(0.6015557476231633, 0.675, 'x[1] <= -0.221\\ngini = 0.375\\nsamples = 4\\nvalue = [1, 3]'),\n",
       " Text(0.5946413137424373, 0.625, 'gini = 0.0\\nsamples = 3\\nvalue = [0, 3]'),\n",
       " Text(0.6084701815038893, 0.625, 'gini = 0.0\\nsamples = 1\\nvalue = [1, 0]'),\n",
       " Text(0.6292134831460674, 0.675, 'x[9] <= -0.631\\ngini = 0.105\\nsamples = 18\\nvalue = [17, 1]'),\n",
       " Text(0.6222990492653414, 0.625, 'gini = 0.0\\nsamples = 1\\nvalue = [0, 1]'),\n",
       " Text(0.6361279170267934, 0.625, 'gini = 0.0\\nsamples = 17\\nvalue = [17, 0]'),\n",
       " Text(0.6499567847882455, 0.725, 'x[2] <= 0.151\\ngini = 0.48\\nsamples = 10\\nvalue = [4, 6]'),\n",
       " Text(0.6430423509075195, 0.675, 'gini = 0.0\\nsamples = 5\\nvalue = [0, 5]'),\n",
       " Text(0.6568712186689715, 0.675, 'x[18] <= -0.118\\ngini = 0.32\\nsamples = 5\\nvalue = [4, 1]'),\n",
       " Text(0.6499567847882455, 0.625, 'gini = 0.0\\nsamples = 1\\nvalue = [0, 1]'),\n",
       " Text(0.6637856525496975, 0.625, 'gini = 0.0\\nsamples = 4\\nvalue = [4, 0]'),\n",
       " Text(0.6707000864304236, 0.775, 'x[9] <= 0.999\\ngini = 0.408\\nsamples = 7\\nvalue = [2, 5]'),\n",
       " Text(0.6637856525496975, 0.725, 'gini = 0.0\\nsamples = 5\\nvalue = [0, 5]'),\n",
       " Text(0.6776145203111495, 0.725, 'gini = 0.0\\nsamples = 2\\nvalue = [2, 0]'),\n",
       " Text(0.7845721694036301, 0.825, 'x[5] <= -0.588\\ngini = 0.456\\nsamples = 338\\nvalue = [119, 219]'),\n",
       " Text(0.7776577355229041, 0.775, 'gini = 0.0\\nsamples = 5\\nvalue = [5, 0]'),\n",
       " Text(0.791486603284356, 0.775, 'x[1] <= 1.387\\ngini = 0.45\\nsamples = 333\\nvalue = [114, 219]'),\n",
       " Text(0.7489196197061365, 0.725, 'x[17] <= -0.332\\ngini = 0.462\\nsamples = 307\\nvalue = [111, 196]'),\n",
       " Text(0.6845289541918755, 0.675, 'x[11] <= 0.019\\ngini = 0.32\\nsamples = 55\\nvalue = [11, 44]'),\n",
       " Text(0.6776145203111495, 0.625, 'x[5] <= 0.881\\ngini = 0.483\\nsamples = 22\\nvalue = [9, 13]'),\n",
       " Text(0.6637856525496975, 0.575, 'x[17] <= -0.501\\ngini = 0.337\\nsamples = 14\\nvalue = [3, 11]'),\n",
       " Text(0.6568712186689715, 0.525, 'gini = 0.444\\nsamples = 3\\nvalue = [2, 1]'),\n",
       " Text(0.6707000864304236, 0.525, 'x[8] <= -0.475\\ngini = 0.165\\nsamples = 11\\nvalue = [1, 10]'),\n",
       " Text(0.6637856525496975, 0.475, 'gini = 0.0\\nsamples = 1\\nvalue = [1, 0]'),\n",
       " Text(0.6776145203111495, 0.475, 'gini = 0.0\\nsamples = 10\\nvalue = [0, 10]'),\n",
       " Text(0.6914433880726015, 0.575, 'x[18] <= -0.015\\ngini = 0.375\\nsamples = 8\\nvalue = [6, 2]'),\n",
       " Text(0.6845289541918755, 0.525, 'gini = 0.0\\nsamples = 5\\nvalue = [5, 0]'),\n",
       " Text(0.6983578219533275, 0.525, 'x[16] <= -0.146\\ngini = 0.444\\nsamples = 3\\nvalue = [1, 2]'),\n",
       " Text(0.6914433880726015, 0.475, 'gini = 0.0\\nsamples = 1\\nvalue = [1, 0]'),\n",
       " Text(0.7052722558340536, 0.475, 'gini = 0.0\\nsamples = 2\\nvalue = [0, 2]'),\n",
       " Text(0.6914433880726015, 0.625, 'gini = 0.114\\nsamples = 33\\nvalue = [2, 31]'),\n",
       " Text(0.8133102852203976, 0.675, 'x[13] <= 0.022\\ngini = 0.479\\nsamples = 252\\nvalue = [100, 152]'),\n",
       " Text(0.7761452031114953, 0.625, 'x[7] <= 0.877\\ngini = 0.5\\nsamples = 110\\nvalue = [54, 56]'),\n",
       " Text(0.7502160760587727, 0.575, 'x[10] <= 0.826\\ngini = 0.486\\nsamples = 77\\nvalue = [45, 32]'),\n",
       " Text(0.7329299913569577, 0.525, 'x[18] <= 0.161\\ngini = 0.467\\nsamples = 70\\nvalue = [44, 26]'),\n",
       " Text(0.7191011235955056, 0.475, 'x[10] <= 0.346\\ngini = 0.5\\nsamples = 46\\nvalue = [23, 23]'),\n",
       " Text(0.7121866897147796, 0.425, 'x[15] <= -0.487\\ngini = 0.495\\nsamples = 42\\nvalue = [23, 19]'),\n",
       " Text(0.7052722558340536, 0.375, 'gini = 0.0\\nsamples = 4\\nvalue = [0, 4]'),\n",
       " Text(0.7191011235955056, 0.375, 'x[14] <= 0.549\\ngini = 0.478\\nsamples = 38\\nvalue = [23, 15]'),\n",
       " Text(0.7052722558340536, 0.325, 'x[2] <= 0.02\\ngini = 0.42\\nsamples = 30\\nvalue = [21, 9]'),\n",
       " Text(0.6983578219533275, 0.275, 'x[14] <= -0.476\\ngini = 0.498\\nsamples = 17\\nvalue = [8, 9]'),\n",
       " Text(0.6914433880726015, 0.225, 'gini = 0.0\\nsamples = 4\\nvalue = [4, 0]'),\n",
       " Text(0.7052722558340536, 0.225, 'x[15] <= -0.456\\ngini = 0.426\\nsamples = 13\\nvalue = [4, 9]'),\n",
       " Text(0.6983578219533275, 0.175, 'gini = 0.0\\nsamples = 2\\nvalue = [2, 0]'),\n",
       " Text(0.7121866897147796, 0.175, 'x[15] <= 0.162\\ngini = 0.298\\nsamples = 11\\nvalue = [2, 9]'),\n",
       " Text(0.7052722558340536, 0.125, 'gini = 0.0\\nsamples = 9\\nvalue = [0, 9]'),\n",
       " Text(0.7191011235955056, 0.125, 'gini = 0.0\\nsamples = 2\\nvalue = [2, 0]'),\n",
       " Text(0.7121866897147796, 0.275, 'gini = 0.0\\nsamples = 13\\nvalue = [13, 0]'),\n",
       " Text(0.7329299913569577, 0.325, 'x[0] <= 0.747\\ngini = 0.375\\nsamples = 8\\nvalue = [2, 6]'),\n",
       " Text(0.7260155574762316, 0.275, 'x[6] <= -0.196\\ngini = 0.444\\nsamples = 3\\nvalue = [2, 1]'),\n",
       " Text(0.7191011235955056, 0.225, 'gini = 0.0\\nsamples = 1\\nvalue = [0, 1]'),\n",
       " Text(0.7329299913569577, 0.225, 'gini = 0.0\\nsamples = 2\\nvalue = [2, 0]'),\n",
       " Text(0.7398444252376837, 0.275, 'gini = 0.0\\nsamples = 5\\nvalue = [0, 5]'),\n",
       " Text(0.7260155574762316, 0.425, 'gini = 0.0\\nsamples = 4\\nvalue = [0, 4]'),\n",
       " Text(0.7467588591184097, 0.475, 'x[13] <= -0.277\\ngini = 0.219\\nsamples = 24\\nvalue = [21, 3]'),\n",
       " Text(0.7398444252376837, 0.425, 'gini = 0.0\\nsamples = 2\\nvalue = [0, 2]'),\n",
       " Text(0.7536732929991357, 0.425, 'x[9] <= -0.399\\ngini = 0.087\\nsamples = 22\\nvalue = [21, 1]'),\n",
       " Text(0.7467588591184097, 0.375, 'gini = 0.0\\nsamples = 1\\nvalue = [0, 1]'),\n",
       " Text(0.7605877268798618, 0.375, 'gini = 0.0\\nsamples = 21\\nvalue = [21, 0]'),\n",
       " Text(0.7675021607605877, 0.525, 'x[9] <= 0.42\\ngini = 0.245\\nsamples = 7\\nvalue = [1, 6]'),\n",
       " Text(0.7605877268798618, 0.475, 'gini = 0.0\\nsamples = 6\\nvalue = [0, 6]'),\n",
       " Text(0.7744165946413137, 0.475, 'gini = 0.0\\nsamples = 1\\nvalue = [1, 0]'),\n",
       " Text(0.8020743301642178, 0.575, 'x[15] <= 0.289\\ngini = 0.397\\nsamples = 33\\nvalue = [9, 24]'),\n",
       " Text(0.7951598962834918, 0.525, 'x[18] <= -0.034\\ngini = 0.495\\nsamples = 20\\nvalue = [9, 11]'),\n",
       " Text(0.7882454624027658, 0.475, 'gini = 0.198\\nsamples = 9\\nvalue = [1, 8]'),\n",
       " Text(0.8020743301642178, 0.475, 'x[6] <= -0.414\\ngini = 0.397\\nsamples = 11\\nvalue = [8, 3]'),\n",
       " Text(0.7951598962834918, 0.425, 'gini = 0.0\\nsamples = 3\\nvalue = [0, 3]'),\n",
       " Text(0.8089887640449438, 0.425, 'gini = 0.0\\nsamples = 8\\nvalue = [8, 0]'),\n",
       " Text(0.8089887640449438, 0.525, 'gini = 0.0\\nsamples = 13\\nvalue = [0, 13]'),\n",
       " Text(0.8504753673293, 0.625, 'x[13] <= 0.096\\ngini = 0.438\\nsamples = 142\\nvalue = [46, 96]'),\n",
       " Text(0.8331892826274849, 0.575, 'x[14] <= 1.878\\ngini = 0.159\\nsamples = 23\\nvalue = [2, 21]'),\n",
       " Text(0.8262748487467588, 0.525, 'x[1] <= 0.851\\ngini = 0.087\\nsamples = 22\\nvalue = [1, 21]'),\n",
       " Text(0.8193604148660328, 0.475, 'gini = 0.0\\nsamples = 21\\nvalue = [0, 21]'),\n",
       " Text(0.8331892826274849, 0.475, 'gini = 0.0\\nsamples = 1\\nvalue = [1, 0]'),\n",
       " Text(0.8401037165082109, 0.525, 'gini = 0.0\\nsamples = 1\\nvalue = [1, 0]'),\n",
       " Text(0.867761452031115, 0.575, 'x[11] <= 0.789\\ngini = 0.466\\nsamples = 119\\nvalue = [44, 75]'),\n",
       " Text(0.8539325842696629, 0.525, 'x[1] <= 0.944\\ngini = 0.488\\nsamples = 97\\nvalue = [41, 56]'),\n",
       " Text(0.8470181503889369, 0.475, 'x[18] <= 0.109\\ngini = 0.47\\nsamples = 90\\nvalue = [34, 56]'),\n",
       " Text(0.8228176318063959, 0.425, 'x[18] <= -0.222\\ngini = 0.426\\nsamples = 13\\nvalue = [9, 4]'),\n",
       " Text(0.8159031979256698, 0.375, 'gini = 0.0\\nsamples = 3\\nvalue = [0, 3]'),\n",
       " Text(0.8297320656871219, 0.375, 'x[14] <= -0.512\\ngini = 0.18\\nsamples = 10\\nvalue = [9, 1]'),\n",
       " Text(0.8228176318063959, 0.325, 'gini = 0.0\\nsamples = 1\\nvalue = [0, 1]'),\n",
       " Text(0.8366464995678479, 0.325, 'gini = 0.0\\nsamples = 9\\nvalue = [9, 0]'),\n",
       " Text(0.8712186689714779, 0.425, 'x[4] <= 1.334\\ngini = 0.439\\nsamples = 77\\nvalue = [25, 52]'),\n",
       " Text(0.8643042350907519, 0.375, 'x[4] <= -0.264\\ngini = 0.418\\nsamples = 74\\nvalue = [22, 52]'),\n",
       " Text(0.8504753673293, 0.325, 'x[5] <= 0.609\\ngini = 0.408\\nsamples = 7\\nvalue = [5, 2]'),\n",
       " Text(0.8435609334485739, 0.275, 'gini = 0.444\\nsamples = 3\\nvalue = [1, 2]'),\n",
       " Text(0.857389801210026, 0.275, 'gini = 0.0\\nsamples = 4\\nvalue = [4, 0]'),\n",
       " Text(0.878133102852204, 0.325, 'x[12] <= -0.355\\ngini = 0.379\\nsamples = 67\\nvalue = [17, 50]'),\n",
       " Text(0.8712186689714779, 0.275, 'gini = 0.0\\nsamples = 2\\nvalue = [2, 0]'),\n",
       " Text(0.88504753673293, 0.275, 'x[11] <= 0.746\\ngini = 0.355\\nsamples = 65\\nvalue = [15, 50]'),\n",
       " Text(0.878133102852204, 0.225, 'x[14] <= 0.686\\ngini = 0.328\\nsamples = 63\\nvalue = [13, 50]'),\n",
       " Text(0.8712186689714779, 0.175, 'x[2] <= 0.502\\ngini = 0.39\\nsamples = 49\\nvalue = [13, 36]'),\n",
       " Text(0.857389801210026, 0.125, 'x[7] <= 3.214\\ngini = 0.208\\nsamples = 34\\nvalue = [4, 30]'),\n",
       " Text(0.8504753673293, 0.075, 'x[15] <= -0.519\\ngini = 0.165\\nsamples = 33\\nvalue = [3, 30]'),\n",
       " Text(0.8435609334485739, 0.025, 'gini = 0.0\\nsamples = 1\\nvalue = [1, 0]'),\n",
       " Text(0.857389801210026, 0.025, 'gini = 0.117\\nsamples = 32\\nvalue = [2, 30]'),\n",
       " Text(0.8643042350907519, 0.075, 'gini = 0.0\\nsamples = 1\\nvalue = [1, 0]'),\n",
       " Text(0.88504753673293, 0.125, 'x[10] <= 0.984\\ngini = 0.48\\nsamples = 15\\nvalue = [9, 6]'),\n",
       " Text(0.878133102852204, 0.075, 'x[6] <= 2.399\\ngini = 0.298\\nsamples = 11\\nvalue = [9, 2]'),\n",
       " Text(0.8712186689714779, 0.025, 'gini = 0.18\\nsamples = 10\\nvalue = [9, 1]'),\n",
       " Text(0.88504753673293, 0.025, 'gini = 0.0\\nsamples = 1\\nvalue = [0, 1]'),\n",
       " Text(0.891961970613656, 0.075, 'gini = 0.0\\nsamples = 4\\nvalue = [0, 4]'),\n",
       " Text(0.88504753673293, 0.175, 'gini = 0.0\\nsamples = 14\\nvalue = [0, 14]'),\n",
       " Text(0.891961970613656, 0.225, 'gini = 0.0\\nsamples = 2\\nvalue = [2, 0]'),\n",
       " Text(0.878133102852204, 0.375, 'gini = 0.0\\nsamples = 3\\nvalue = [3, 0]'),\n",
       " Text(0.8608470181503889, 0.475, 'gini = 0.0\\nsamples = 7\\nvalue = [7, 0]'),\n",
       " Text(0.881590319792567, 0.525, 'x[11] <= 1.109\\ngini = 0.236\\nsamples = 22\\nvalue = [3, 19]'),\n",
       " Text(0.874675885911841, 0.475, 'gini = 0.095\\nsamples = 20\\nvalue = [1, 19]'),\n",
       " Text(0.888504753673293, 0.475, 'gini = 0.0\\nsamples = 2\\nvalue = [2, 0]'),\n",
       " Text(0.8340535868625756, 0.725, 'x[10] <= 1.527\\ngini = 0.204\\nsamples = 26\\nvalue = [3, 23]'),\n",
       " Text(0.8271391529818496, 0.675, 'gini = 0.083\\nsamples = 23\\nvalue = [1, 22]'),\n",
       " Text(0.8409680207433017, 0.675, 'gini = 0.444\\nsamples = 3\\nvalue = [2, 1]'),\n",
       " Text(0.9317199654278306, 0.875, 'x[2] <= 0.741\\ngini = 0.165\\nsamples = 319\\nvalue = [29, 290]'),\n",
       " Text(0.8910976663785652, 0.825, 'x[5] <= 0.196\\ngini = 0.375\\nsamples = 68\\nvalue = [17, 51]'),\n",
       " Text(0.8686257562662058, 0.775, 'x[8] <= 0.495\\ngini = 0.5\\nsamples = 14\\nvalue = [7, 7]'),\n",
       " Text(0.8617113223854796, 0.725, 'x[5] <= 0.14\\ngini = 0.346\\nsamples = 9\\nvalue = [2, 7]'),\n",
       " Text(0.8547968885047537, 0.675, 'gini = 0.0\\nsamples = 7\\nvalue = [0, 7]'),\n",
       " Text(0.8686257562662058, 0.675, 'gini = 0.0\\nsamples = 2\\nvalue = [2, 0]'),\n",
       " Text(0.8755401901469317, 0.725, 'gini = 0.0\\nsamples = 5\\nvalue = [5, 0]'),\n",
       " Text(0.9135695764909249, 0.775, 'x[11] <= -0.25\\ngini = 0.302\\nsamples = 54\\nvalue = [10, 44]'),\n",
       " Text(0.8893690579083837, 0.725, 'x[10] <= 0.247\\ngini = 0.496\\nsamples = 11\\nvalue = [5, 6]'),\n",
       " Text(0.8824546240276577, 0.675, 'gini = 0.0\\nsamples = 3\\nvalue = [3, 0]'),\n",
       " Text(0.8962834917891098, 0.675, 'x[11] <= -0.37\\ngini = 0.375\\nsamples = 8\\nvalue = [2, 6]'),\n",
       " Text(0.8893690579083837, 0.625, 'gini = 0.0\\nsamples = 5\\nvalue = [0, 5]'),\n",
       " Text(0.9031979256698358, 0.625, 'x[17] <= 0.583\\ngini = 0.444\\nsamples = 3\\nvalue = [2, 1]'),\n",
       " Text(0.8962834917891098, 0.575, 'gini = 0.0\\nsamples = 2\\nvalue = [2, 0]'),\n",
       " Text(0.9101123595505618, 0.575, 'gini = 0.0\\nsamples = 1\\nvalue = [0, 1]'),\n",
       " Text(0.9377700950734659, 0.725, 'x[16] <= 0.058\\ngini = 0.206\\nsamples = 43\\nvalue = [5, 38]'),\n",
       " Text(0.9239412273120138, 0.675, 'x[14] <= 0.034\\ngini = 0.375\\nsamples = 4\\nvalue = [3, 1]'),\n",
       " Text(0.9170267934312878, 0.625, 'gini = 0.0\\nsamples = 3\\nvalue = [3, 0]'),\n",
       " Text(0.9308556611927399, 0.625, 'gini = 0.0\\nsamples = 1\\nvalue = [0, 1]'),\n",
       " Text(0.9515989628349178, 0.675, 'x[18] <= 1.951\\ngini = 0.097\\nsamples = 39\\nvalue = [2, 37]'),\n",
       " Text(0.9446845289541919, 0.625, 'gini = 0.051\\nsamples = 38\\nvalue = [1, 37]'),\n",
       " Text(0.958513396715644, 0.625, 'gini = 0.0\\nsamples = 1\\nvalue = [1, 0]'),\n",
       " Text(0.9723422644770959, 0.825, 'x[18] <= 0.407\\ngini = 0.091\\nsamples = 251\\nvalue = [12, 239]'),\n",
       " Text(0.958513396715644, 0.775, 'x[12] <= 0.096\\ngini = 0.494\\nsamples = 9\\nvalue = [4, 5]'),\n",
       " Text(0.9515989628349178, 0.725, 'gini = 0.0\\nsamples = 4\\nvalue = [4, 0]'),\n",
       " Text(0.9654278305963699, 0.725, 'gini = 0.0\\nsamples = 5\\nvalue = [0, 5]'),\n",
       " Text(0.986171132238548, 0.775, 'x[8] <= 0.003\\ngini = 0.064\\nsamples = 242\\nvalue = [8, 234]'),\n",
       " Text(0.9792566983578219, 0.725, 'x[1] <= 1.131\\ngini = 0.48\\nsamples = 5\\nvalue = [2, 3]'),\n",
       " Text(0.9723422644770959, 0.675, 'gini = 0.0\\nsamples = 3\\nvalue = [0, 3]'),\n",
       " Text(0.986171132238548, 0.675, 'gini = 0.0\\nsamples = 2\\nvalue = [2, 0]'),\n",
       " Text(0.993085566119274, 0.725, 'gini = 0.049\\nsamples = 237\\nvalue = [6, 231]')]"
      ]
     },
     "execution_count": 50,
     "metadata": {},
     "output_type": "execute_result"
    },
    {
     "data": {
      "image/png": "[encoded data removed]",
      "text/plain": [
       "<Figure size 640x480 with 1 Axes>"
      ]
     },
     "metadata": {},
     "output_type": "display_data"
    }
   ],
   "source": [
    "# print out the tree\n",
    "tree.plot_tree(dt)"
   ]
  },
  {
   "cell_type": "code",
   "execution_count": 51,
   "metadata": {
    "deletable": false,
    "editable": false
   },
   "outputs": [
    {
     "data": {
      "text/html": [
       "<p><strong><pre style='display: inline;'>q6i</pre></strong> passed! ✨</p>"
      ],
      "text/plain": [
       "q6i results: All test cases passed!"
      ]
     },
     "execution_count": 51,
     "metadata": {},
     "output_type": "execute_result"
    }
   ],
   "source": [
    "grader.check(\"q6i\")"
   ]
  },
  {
   "cell_type": "markdown",
   "metadata": {
    "deletable": false,
    "editable": false
   },
   "source": [
    "## Q6(j) -  Naive Bayes \n",
    "\n",
    "Train a Gaussian Naive Bayes model on training + validation data and report the training+val and testing data performance (auc). \n"
   ]
  },
  {
   "cell_type": "code",
   "execution_count": 52,
   "metadata": {
    "tags": []
   },
   "outputs": [],
   "source": [
    "# q6j\n",
    "\n",
    "nb = GaussianNB()\n",
    "nb.fit(X_trainval_sc, y_trainval)\n",
    "\n",
    "# Predict probabilities for both the combined training and validation sets\n",
    "nb_pred_trainval = nb.predict(X_trainval_sc)\n",
    "nb_pred_test = nb.predict(X_test_sc)\n",
    "\n",
    "nb_auc_trainval = roc_auc_score(y_trainval, nb_pred_trainval)\n",
    "nb_auc_test = roc_auc_score(y_test, nb_pred_test)"
   ]
  },
  {
   "cell_type": "code",
   "execution_count": 53,
   "metadata": {
    "deletable": false,
    "editable": false
   },
   "outputs": [
    {
     "data": {
      "text/html": [
       "<p><strong><pre style='display: inline;'>q6j</pre></strong> passed! 🌈</p>"
      ],
      "text/plain": [
       "q6j results: All test cases passed!"
      ]
     },
     "execution_count": 53,
     "metadata": {},
     "output_type": "execute_result"
    }
   ],
   "source": [
    "grader.check(\"q6j\")"
   ]
  },
  {
   "cell_type": "markdown",
   "metadata": {
    "deletable": false,
    "editable": false
   },
   "source": [
    "## Submission\n",
    "\n",
    "Make sure you have run all cells in your notebook in order before running the cell below, so that all images/graphs appear in the output. The cell below will generate a zip file for you to submit. **Please save before exporting!**\n",
    "\n",
    "**NOTE** the submission must be run on the campus linux machines.  See the instruction in the Canvas assignment."
   ]
  },
  {
   "cell_type": "code",
   "execution_count": 54,
   "metadata": {
    "deletable": false,
    "editable": false
   },
   "outputs": [
    {
     "name": "stdout",
     "output_type": "stream",
     "text": [
      "Running your submission against local test cases...\n",
      "\n",
      "\n",
      "Your submission received the following results when run against available test cases:\n",
      "\n",
      "\n"
     ]
    },
    {
     "data": {
      "text/html": [
       "\n",
       "                    <p>\n",
       "                        Your submission has been exported. Click\n",
       "                        <a href=\"a2-4821_2024_02_21T23_00_35_289962.zip\" download=\"a2-4821_2024_02_21T23_00_35_289962.zip\" target=\"_blank\">here</a> to download\n",
       "                        the zip file.\n",
       "                    </p>\n",
       "                "
      ],
      "text/plain": [
       "<IPython.core.display.HTML object>"
      ]
     },
     "metadata": {},
     "output_type": "display_data"
    }
   ],
   "source": [
    "# Save your notebook first, then run this cell to export your submission.\n",
    "grader.export(pdf=False, run_tests=True)"
   ]
  },
  {
   "cell_type": "markdown",
   "metadata": {},
   "source": [
    " "
   ]
  }
 ],
 "metadata": {
  "kernelspec": {
   "display_name": "Python [conda env:.conda-cs4821] *",
   "language": "python",
   "name": "conda-env-.conda-cs4821-py"
  },
  "language_info": {
   "codemirror_mode": {
    "name": "ipython",
    "version": 3
   },
   "file_extension": ".py",
   "mimetype": "text/x-python",
   "name": "python",
   "nbconvert_exporter": "python",
   "pygments_lexer": "ipython3",
   "version": "3.10.13"
  },
  "otter": {
   "OK_FORMAT": true,
   "assignment_name": "a2-4821",
   "tests": {
    "q0": {
     "name": "q0",
     "points": 2,
     "suites": [
      {
       "cases": [
        {
         "code": ">>> COLAB == False\nTrue",
         "hidden": false,
         "locked": false
        },
        {
         "code": ">>> LLM == True | GS == True\nTrue",
         "hidden": false,
         "locked": false
        }
       ],
       "scored": true,
       "setup": "",
       "teardown": "",
       "type": "doctest"
      }
     ]
    },
    "q1b": {
     "name": "q1b",
     "points": 3,
     "suites": [
      {
       "cases": [
        {
         "code": ">>> (q1movies.shape[0] == 646) & (q1movies.shape[1] == 32)\nTrue",
         "hidden": false,
         "locked": false,
         "points": 1
        },
        {
         "code": ">>> all(q1movies.columns == ['title', 'title_type', 'genre', 'runtime', 'mpaa_rating', 'studio', 'thtr_rel_year', 'thtr_rel_month', 'thtr_rel_day', 'dvd_rel_year', 'dvd_rel_month', 'dvd_rel_day', 'imdb_rating', 'imdb_num_votes', 'critics_rating', 'critics_score', 'audience_rating', 'audience_score', 'best_pic_nom', 'best_pic_win', 'best_actor_win', 'best_actress_win', 'best_dir_win', 'top200_box', 'director', 'actor1', 'actor2', 'actor3', 'actor4', 'actor5', 'imdb_url', 'rt_url'])\nTrue",
         "hidden": false,
         "locked": false,
         "points": 1
        },
        {
         "code": ">>> all(q1movies.iloc[1:5, 6] == [2001, 1996, 1993, 2004])\nTrue",
         "hidden": false,
         "locked": false,
         "points": 1
        }
       ],
       "scored": true,
       "setup": "",
       "teardown": "",
       "type": "doctest"
      }
     ]
    },
    "q1c": {
     "name": "q1c",
     "points": [
      2
     ],
     "suites": [
      {
       "cases": [
        {
         "code": ">>> all(miss_data[miss_data > 0].index == ['runtime', 'studio', 'dvd_rel_year', 'dvd_rel_month', 'dvd_rel_day', 'director', 'actor1', 'actor2', 'actor3', 'actor4', 'actor5'])\nTrue",
         "hidden": false,
         "locked": false
        }
       ],
       "scored": true,
       "setup": "",
       "teardown": "",
       "type": "doctest"
      }
     ]
    },
    "q1d": {
     "name": "q1d",
     "points": 3,
     "suites": [
      {
       "cases": [
        {
         "code": ">>> movies.shape[0] == 645\nTrue",
         "hidden": false,
         "locked": false,
         "points": 1
        },
        {
         "code": ">>> movies.shape[1] == 32\nTrue",
         "hidden": false,
         "locked": false,
         "points": 1
        },
        {
         "code": ">>> all(movies.iloc[100:110, 3] == [102, 101, 84, 102, 90, 122, 107, 97, 165, 109])\nTrue",
         "hidden": false,
         "locked": false,
         "points": 1
        }
       ],
       "scored": true,
       "setup": "",
       "teardown": "",
       "type": "doctest"
      }
     ]
    },
    "q1e": {
     "name": "q1e",
     "points": [
      0.2,
      0.2,
      0.2,
      0.2,
      0.2,
      0.2,
      0.2,
      0.1
     ],
     "suites": [
      {
       "cases": [
        {
         "code": ">>> type_genre in [1, 2, 3, 4]\nTrue",
         "hidden": false,
         "locked": false
        },
        {
         "code": ">>> type_runtime in [1, 2, 3, 4]\nTrue",
         "hidden": false,
         "locked": false
        },
        {
         "code": ">>> type_mpaa_rating in [1, 2, 3, 4]\nTrue",
         "hidden": false,
         "locked": false
        },
        {
         "code": ">>> type_studio in [1, 2, 3, 4]\nTrue",
         "hidden": false,
         "locked": false
        },
        {
         "code": ">>> type_thtr_rel_month in [1, 2, 3, 4]\nTrue",
         "hidden": false,
         "locked": false
        },
        {
         "code": ">>> type_imdb_rating in [1, 2, 3, 4]\nTrue",
         "hidden": false,
         "locked": false
        },
        {
         "code": ">>> type_audience_score in [1, 2, 3, 4]\nTrue",
         "hidden": false,
         "locked": false
        },
        {
         "code": ">>> type_best_pic_win in [1, 2, 3, 4]\nTrue",
         "hidden": false,
         "locked": false
        }
       ],
       "scored": true,
       "setup": "",
       "teardown": "",
       "type": "doctest"
      }
     ]
    },
    "q1f": {
     "name": "q1f",
     "points": 5,
     "suites": [
      {
       "cases": [
        {
         "code": ">>> q1f.shape == (5, 2)\nTrue",
         "hidden": false,
         "locked": false,
         "points": 1
        }
       ],
       "scored": true,
       "setup": "",
       "teardown": "",
       "type": "doctest"
      }
     ]
    },
    "q1g": {
     "name": "q1g",
     "points": 3,
     "suites": [
      {
       "cases": [
        {
         "code": ">>> round(q1g_cs_mean, 4) == 57.6341 and round(q1g_r_mean, 4) == 105.8527\nTrue",
         "hidden": false,
         "locked": false,
         "points": 1
        },
        {
         "code": ">>> round(q1g_cs_median, 4) == 61.0 and round(q1g_r_median, 4) == 103.0\nTrue",
         "hidden": false,
         "locked": false,
         "points": 1
        },
        {
         "code": ">>> round(q1g_cs_mode, 4) == 67 and round(q1g_r_mode, 4) == 100.0\nTrue",
         "hidden": false,
         "locked": false,
         "points": 1
        }
       ],
       "scored": true,
       "setup": "",
       "teardown": "",
       "type": "doctest"
      }
     ]
    },
    "q1h": {
     "name": "q1h",
     "points": 4,
     "suites": [
      {
       "cases": [
        {
         "code": ">>> round(q1h_cs_q1, 4) == 33 and round(q1h_r_q1, 4) == 92.0\nTrue",
         "hidden": false,
         "locked": false,
         "points": 1
        },
        {
         "code": ">>> round(q1h_cs_p37, 4) == 47.28 and round(q1h_r_p37, 4) == 97.0\nTrue",
         "hidden": false,
         "locked": false,
         "points": 1
        },
        {
         "code": ">>> round(q1h_cs_q3, 4) == 83.0 and round(q1h_r_q3, 4) == 116.0\nTrue",
         "hidden": false,
         "locked": false,
         "points": 1
        },
        {
         "code": ">>> round(q1h_cs_p83, 4) == 89.0 and round(q1h_r_p83, 4) == 122.0\nTrue",
         "hidden": false,
         "locked": false,
         "points": 1
        }
       ],
       "scored": true,
       "setup": "",
       "teardown": "",
       "type": "doctest"
      }
     ]
    },
    "q2": {
     "name": "q2",
     "points": [
      1,
      2
     ],
     "suites": [
      {
       "cases": [
        {
         "code": ">>> np.allclose(q2outA, np.array([[0.0, 0.0], [0.17, 0.03225806], [0.2, 1.0], [0.4, 0.20967742], [0.65, 0.4516129], [1.0, 0.53225806]]))\nTrue",
         "hidden": false,
         "locked": false
        },
        {
         "code": ">>> np.allclose(q2outBtest, np.array([[0.22, 0.03225806], [0.38, 0.83870968], [0.81, 1.03225806]]))\nTrue",
         "hidden": false,
         "locked": false
        }
       ],
       "scored": true,
       "setup": "",
       "teardown": "",
       "type": "doctest"
      }
     ]
    },
    "q3": {
     "name": "q3",
     "points": [
      1
     ],
     "suites": [
      {
       "cases": [
        {
         "code": ">>> np.allclose(q3outBtrain, np.array([[-1.20221086, -1.08103207], [-0.69549389, -0.98702928], [-0.60607324, 1.83305438], [-0.00993563, -0.47001394], [0.7352364, 0.23500697], [1.77847723, 0.47001394]]))\nTrue",
         "hidden": false,
         "locked": false
        }
       ],
       "scored": true,
       "setup": "",
       "teardown": "",
       "type": "doctest"
      }
     ]
    },
    "q4": {
     "name": "q4",
     "points": 16,
     "suites": [
      {
       "cases": [
        {
         "code": ">>> perfDF.shape == (10, 5)\nTrue",
         "hidden": false,
         "locked": false,
         "points": 2
        },
        {
         "code": ">>> all(perfDF.columns == ['Threshold', 'TPR', 'FPR', 'ACC', 'MCC'])\nTrue",
         "hidden": false,
         "locked": false,
         "points": 2
        },
        {
         "code": ">>> all(perfDF['TPR'] == [0.2, 0.4, 0.4, 0.6, 0.8, 0.8, 1.0, 1.0, 1.0, 1.0])\nTrue",
         "hidden": false,
         "locked": false,
         "points": 3
        },
        {
         "code": ">>> all(perfDF['ACC'] == [0.6, 0.7, 0.6, 0.7, 0.8, 0.7, 0.8, 0.7, 0.6, 0.5])\nTrue",
         "hidden": false,
         "locked": false,
         "points": 3
        }
       ],
       "scored": true,
       "setup": "",
       "teardown": "",
       "type": "doctest"
      }
     ]
    },
    "q6a": {
     "name": "q6a",
     "points": 3,
     "suites": [
      {
       "cases": [
        {
         "code": ">>> nba.shape == (2621, 32)\nTrue",
         "hidden": false,
         "locked": false,
         "points": 1
        },
        {
         "code": ">>> all(nba.columns == ['PlayerID', 'Player', 'Pos', 'Age', 'Tm', 'Year', 'G', 'GS', 'MP', 'PTS', 'FG', 'FGA', 'FG%', '3P', '3PA', '3P%', '2P', '2PA', '2P%', 'eFG%', 'FT', 'FTA', 'FT%', 'ORB', 'DRB', 'TRB', 'AST', 'STL', 'BLK', 'TOV', 'PF', 'TARGET'])\nTrue",
         "hidden": false,
         "locked": false,
         "points": 1
        },
        {
         "code": ">>> all(nba['TARGET'].value_counts() == [1315, 1306])\nTrue",
         "hidden": false,
         "locked": false,
         "points": 1
        }
       ],
       "scored": true,
       "setup": "",
       "teardown": "",
       "type": "doctest"
      }
     ]
    },
    "q6b": {
     "name": "q6b",
     "points": 4,
     "suites": [
      {
       "cases": [
        {
         "code": ">>> miss_nba.shape == (32,)\nTrue",
         "hidden": false,
         "locked": false
        },
        {
         "code": ">>> all(miss_nba[miss_nba > 0].index == ['GS', 'FG%', '3P%', '2P%', 'eFG%', 'FT%'])\nTrue",
         "hidden": false,
         "locked": false
        },
        {
         "code": ">>> np.isclose(miss_nba.max(), 23.693246)\nTrue",
         "hidden": false,
         "locked": false
        },
        {
         "code": ">>> np.isclose(miss_nba.mean(), 1.1756009)\nTrue",
         "hidden": false,
         "locked": false
        }
       ],
       "scored": true,
       "setup": "",
       "teardown": "",
       "type": "doctest"
      }
     ]
    },
    "q6c": {
     "name": "q6c",
     "points": 6,
     "suites": [
      {
       "cases": [
        {
         "code": ">>> nba2.shape == (2487, 32)\nTrue",
         "hidden": false,
         "locked": false
        },
        {
         "code": ">>> nba2.isna().sum().sum() == 0\nTrue",
         "hidden": false,
         "locked": false
        },
        {
         "code": ">>> any(nba2['Year'].isin([1980, 1981])) == False\nTrue",
         "hidden": false,
         "locked": false
        }
       ],
       "scored": true,
       "setup": "",
       "teardown": "",
       "type": "doctest"
      }
     ]
    },
    "q6d": {
     "name": "q6d",
     "points": 4,
     "suites": [
      {
       "cases": [
        {
         "code": ">>> np.isclose(q6d_i, 0.5058303176)\nTrue",
         "hidden": false,
         "locked": false,
         "points": 1
        }
       ],
       "scored": true,
       "setup": "",
       "teardown": "",
       "type": "doctest"
      }
     ]
    },
    "q6e": {
     "name": "q6e",
     "points": [
      2,
      1,
      1,
      1
     ],
     "suites": [
      {
       "cases": [
        {
         "code": ">>> nbaX.shape == (2487, 19)\nTrue",
         "hidden": false,
         "locked": false
        },
        {
         "code": ">>> nbaY.shape == (2487,)\nTrue",
         "hidden": false,
         "locked": false
        },
        {
         "code": ">>> all(nba.columns == ['PlayerID', 'Player', 'Pos', 'Age', 'Tm', 'Year', 'G', 'GS', 'MP', 'PTS', 'FG', 'FGA', 'FG%', '3P', '3PA', '3P%', '2P', '2PA', '2P%', 'eFG%', 'FT', 'FTA', 'FT%', 'ORB', 'DRB', 'TRB', 'AST', 'STL', 'BLK', 'TOV', 'PF', 'TARGET'])\nTrue",
         "hidden": false,
         "locked": false
        },
        {
         "code": ">>> all(nbaY.value_counts() == [1258, 1229])\nTrue",
         "hidden": false,
         "locked": false
        }
       ],
       "scored": true,
       "setup": "",
       "teardown": "",
       "type": "doctest"
      }
     ]
    },
    "q6f": {
     "name": "q6f",
     "points": 6,
     "suites": [
      {
       "cases": [
        {
         "code": ">>> X_train.shape == (1491, 19) and y_train.shape == (1491,)\nTrue",
         "hidden": false,
         "locked": false
        },
        {
         "code": ">>> X_val.shape == (498, 19) and y_val.shape == (498,)\nTrue",
         "hidden": false,
         "locked": false
        },
        {
         "code": ">>> X_test.shape == (498, 19) and y_test.shape == (498,)\nTrue",
         "hidden": false,
         "locked": false
        }
       ],
       "scored": true,
       "setup": "",
       "teardown": "",
       "type": "doctest"
      }
     ]
    },
    "q6g": {
     "name": "q6g",
     "points": 10,
     "suites": [
      {
       "cases": [
        {
         "code": ">>> np.isclose(X_train_sc[0][0], 0.117347) and np.isclose(X_train_sc[0][1], -0.5709238)\nTrue",
         "hidden": false,
         "locked": false
        },
        {
         "code": ">>> np.isclose(X_train_sc[60][10], -0.55316873) and np.isclose(X_train_sc[35][12], 0.537966644)\nTrue",
         "hidden": false,
         "locked": false
        },
        {
         "code": ">>> np.isclose(X_val_sc[30][4], -0.780257632) and np.isclose(X_val_sc[23][9], -0.35039117)\nTrue",
         "hidden": false,
         "locked": false
        },
        {
         "code": ">>> np.isclose(X_val_sc[24][14], -0.59249814) and np.isclose(X_val_sc[28][3], -0.67867433)\nTrue",
         "hidden": false,
         "locked": false
        },
        {
         "code": ">>> np.isclose(X_test_sc[0][0], 1.451343696) and np.isclose(X_test_sc[0][1], 1.545438323)\nTrue",
         "hidden": false,
         "locked": false
        },
        {
         "code": ">>> np.isclose(X_test_sc[20][1], -0.57512671) and np.isclose(X_test_sc[24][8], 0.695857162)\nTrue",
         "hidden": false,
         "locked": false
        },
        {
         "code": ">>> np.isclose(X_trainval_sc[0][0], 0.226725226) and np.isclose(X_trainval_sc[40][13], 0.0533794211)\nTrue",
         "hidden": false,
         "locked": false
        },
        {
         "code": ">>> np.allclose(X_train_sc.mean(axis=0), [0, 0, 0, 0, 0, 0, 0, 0, 0, 0, 0, 0, 0, 0, 0, 0, 0, 0, 0])\nTrue",
         "hidden": false,
         "locked": false,
         "points": 1.5
        },
        {
         "code": ">>> np.allclose(X_trainval_sc.mean(axis=0), [0, 0, 0, 0, 0, 0, 0, 0, 0, 0, 0, 0, 0, 0, 0, 0, 0, 0, 0])\nTrue",
         "hidden": false,
         "locked": false,
         "points": 1.5
        }
       ],
       "scored": true,
       "setup": "",
       "teardown": "",
       "type": "doctest"
      }
     ]
    },
    "q6h": {
     "name": "q6h",
     "points": [
      2,
      1,
      2,
      2
     ],
     "suites": [
      {
       "cases": [
        {
         "code": ">>> np.isclose(knn_auc_tr[0][0], 0.840645458) and np.isclose(knn_auc_tr[0][3], 0.751082422)\nTrue",
         "hidden": false,
         "locked": false
        },
        {
         "code": ">>> np.isclose(knn_auc_val[0][6], 0.741482771) and np.isclose(knn_auc_val[0][3], 0.759533488)\nTrue",
         "hidden": false,
         "locked": false
        },
        {
         "code": ">>> np.isclose(knn_auc_val[0][0], 0.688830816) and np.isclose(knn_auc_val[0][4], 0.757549361)\nTrue",
         "hidden": false,
         "locked": false
        },
        {
         "code": ">>> knn_bestk == 15\nTrue",
         "hidden": false,
         "locked": false
        }
       ],
       "scored": true,
       "setup": "",
       "teardown": "",
       "type": "doctest"
      }
     ]
    },
    "q6i": {
     "name": "q6i",
     "points": [
      1,
      2,
      2
     ],
     "suites": [
      {
       "cases": [
        {
         "code": ">>> np.isclose(dt_auc_tr[0][0], 0.74117146) and np.isclose(dt_auc_tr[0][5], 0.907029537)\nTrue",
         "hidden": false,
         "locked": false
        },
        {
         "code": ">>> np.isclose(dt_auc_val[0][1], 0.7454994192) and np.isclose(dt_auc_val[0][4], 0.707365466)\nTrue",
         "hidden": false,
         "locked": false
        },
        {
         "code": ">>> np.isclose(dt_auc_val[0][3], 0.727497096) and np.isclose(dt_auc_val[0][5], 0.680942702)\nTrue",
         "hidden": false,
         "locked": false
        }
       ],
       "scored": true,
       "setup": "",
       "teardown": "",
       "type": "doctest"
      }
     ]
    },
    "q6j": {
     "name": "q6j",
     "points": 6,
     "suites": [
      {
       "cases": [
        {
         "code": ">>> np.isclose(nb_auc_trainval, 0.718783433)\nTrue",
         "hidden": false,
         "locked": false
        },
        {
         "code": ">>> np.isclose(nb_auc_test, 0.7311749903)\nTrue",
         "hidden": false,
         "locked": false
        }
       ],
       "scored": true,
       "setup": "",
       "teardown": "",
       "type": "doctest"
      }
     ]
    }
   }
  }
 },
 "nbformat": 4,
 "nbformat_minor": 4
}
