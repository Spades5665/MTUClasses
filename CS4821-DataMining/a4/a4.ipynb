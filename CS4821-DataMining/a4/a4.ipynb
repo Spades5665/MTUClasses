{
 "cells": [
  {
   "cell_type": "markdown",
   "id": "591ab9e9-5501-431d-9296-9f9db1b5ed9a",
   "metadata": {},
   "source": [
    "# a4 - Python\n",
    "\n",
    "This assignment will cover topics of text mining and clustering\n",
    "\n",
    "Make sure that you keep this notebook named as \"a4.ipynb\" \n",
    "\n",
    "Any other packages or tools, outside those listed in the assignments or Canvas, should be cleared\n",
    "by Dr. Brown before use in your submission."
   ]
  },
  {
   "cell_type": "markdown",
   "id": "c2b64615-6e16-4c36-a3e5-9ebd4fd53bc8",
   "metadata": {
    "deletable": false,
    "editable": false
   },
   "source": [
    "# Q0 - Setup\n",
    "\n",
    "The following code looks to see whether your notebook is run on Gradescope (GS), Colab (COLAB), or the linux Python environment you were asked to setup."
   ]
  },
  {
   "cell_type": "code",
   "execution_count": 1,
   "id": "46b79a14-abb4-482a-a14a-f2e68c24177f",
   "metadata": {
    "tags": []
   },
   "outputs": [
    {
     "name": "stdout",
     "output_type": "stream",
     "text": [
      "System: GS - False, COLAB - False, LLM - True\n"
     ]
    }
   ],
   "source": [
    "import re \n",
    "import os\n",
    "import platform \n",
    "import sys \n",
    "\n",
    "# flag if notebook is running on Gradescope \n",
    "if re.search(r'am', platform.uname().release): \n",
    "    GS = True\n",
    "else: \n",
    "    GS = False\n",
    "\n",
    "# flag if notebook is running on Colaboratory \n",
    "try:\n",
    "  import google.colab\n",
    "  COLAB = True\n",
    "except:\n",
    "  COLAB = False\n",
    "\n",
    "# flag if running on Linux lab machines. \n",
    "cname = platform.uname().node\n",
    "if re.search(r'(guardian|colossus|c28|coc-15954-m)', cname):\n",
    "    LLM = True \n",
    "else: \n",
    "    LLM = False\n",
    "\n",
    "print(\"System: GS - %s, COLAB - %s, LLM - %s\" % (GS, COLAB, LLM))"
   ]
  },
  {
   "cell_type": "markdown",
   "id": "4ff61a4a-0c1b-43f0-9bd4-12567457e274",
   "metadata": {
    "deletable": false,
    "editable": false
   },
   "source": [
    "## Notebook Setup\n",
    "\n",
    "It is good practice to list all imports needed at the top of the notebook. You can import modules in later cells as needed, but listing them at the top clearly shows all which are needed to be available / installed.\n",
    "\n",
    "If you are doing development on Colab, the otter-grader package is not available, so you will need to install it with pip (uncomment the cell directly below)."
   ]
  },
  {
   "cell_type": "code",
   "execution_count": 2,
   "id": "bae89d29-3cd1-404b-8c4a-efc67131cef9",
   "metadata": {
    "deletable": false,
    "editable": false
   },
   "outputs": [],
   "source": [
    "# Only uncomment if you developing on Colab \n",
    "# if COLAB == True: \n",
    "#     print(\"Installing otter:\")\n",
    "#     !pip install otter-grader==4.2.0 "
   ]
  },
  {
   "cell_type": "code",
   "execution_count": 3,
   "id": "93ae8298-76c6-444d-9404-b25c41e67abe",
   "metadata": {
    "deletable": false,
    "editable": false
   },
   "outputs": [],
   "source": [
    "# Import standard DS packages \n",
    "import pandas as pd\n",
    "import numpy as np\n",
    "import matplotlib as mpl\n",
    "import matplotlib.pyplot as plt\n",
    "import seaborn as sns\n",
    "import math\n",
    "import scipy\n",
    "import statistics\n",
    "import textwrap\n",
    "%matplotlib inline\n",
    "\n",
    "\n",
    "from sklearn.model_selection import train_test_split, StratifiedKFold \n",
    "from sklearn.preprocessing import StandardScaler, MinMaxScaler\n",
    "from sklearn.pipeline import Pipeline, make_pipeline\n",
    "from sklearn.model_selection import GridSearchCV\n",
    "from sklearn import tree        # decision tree classifier\n",
    "from sklearn import neighbors   # knn classifier\n",
    "from sklearn import naive_bayes # naive bayes classifier \n",
    "from sklearn import svm         # svm classifier\n",
    "from sklearn import ensemble    # ensemble classifiers\n",
    "from sklearn import metrics     # performance evaluation metrics\n",
    "from sklearn import model_selection\n",
    "from sklearn import preprocessing \n",
    "from sklearn.decomposition import PCA\n",
    "from sklearn.datasets import load_files\n",
    "from sklearn.feature_extraction.text import CountVectorizer\n",
    "from sklearn.feature_extraction.text import TfidfVectorizer, TfidfTransformer\n",
    "\n",
    "from sklearn import preprocessing\n",
    "from sklearn.cluster import AgglomerativeClustering\n",
    "from scipy.spatial.distance import pdist\n",
    "from scipy.spatial.distance import squareform\n",
    "from sklearn import cluster\n",
    "from scipy.cluster.hierarchy import dendrogram\n",
    "from scipy.cluster import hierarchy\n",
    "\n",
    "# Package for Autograder \n",
    "import otter \n",
    "grader = otter.Notebook()"
   ]
  },
  {
   "cell_type": "code",
   "execution_count": 4,
   "id": "47808e2a",
   "metadata": {
    "deletable": false,
    "editable": false
   },
   "outputs": [
    {
     "data": {
      "text/html": [
       "<p><strong><pre style='display: inline;'>q0</pre></strong> passed! 🍀</p>"
      ],
      "text/plain": [
       "q0 results: All test cases passed!"
      ]
     },
     "execution_count": 4,
     "metadata": {},
     "output_type": "execute_result"
    }
   ],
   "source": [
    "grader.check(\"q0\")"
   ]
  },
  {
   "cell_type": "markdown",
   "id": "d8ac0f14-3f7f-48fc-8127-fb4400c04cb5",
   "metadata": {},
   "source": [
    "# Q1 - Text Classification \n",
    "\n",
    "\n",
    "You will look to predict whether scenes in Shakespeare's plays come from the comedies or histories.  Shakespeare's comedies include plays such as: The Taming of the Shrew, The Merchant of Venice, Much Ado About Nothing, and more.  The histories include: Richard II, Richard III, Henry IV part 1, Henry IV part 2, Henry V, Henry VI (part 1-3). \n",
    "\n",
    "The plays were downloaded from the [Shakespeare Corpus](http://hdl.handle.net/11040/24448).  Note, the original plays were downloaded from [Project Gutenberg](https://www.gutenberg.org/). \n",
    "\n",
    "Note, the plays have already had significant preprocessing.  The plays have been scrubbed by: removing digits, making the file all lowercase, and removing punctuation, excluding hyphens and word-internal apostrophes. Also, the character names and stage directions have been removed manually. An example of the text would be like this:\n",
    "\n",
    "*Before scrubbing:*\n",
    "\n",
    "    ADAM. Yonder comes my master, your brother.\n",
    "    ORLANDO. Go apart, Adam, and thou shalt hear how he will shake me\n",
    "    up. [ADAM retires]\n",
    "    OLIVER. Now, sir! what make you here?\n",
    "\n",
    "*After scrubbing:*\n",
    "\n",
    "    yonder comes my master your brother\n",
    "    go apart adam and thou shalt hear how he will shake me\n",
    "    up\n",
    "    now sir what make you here\n",
    "\n",
    "The text files are split into negative - comedies and positive - histories.  \n"
   ]
  },
  {
   "cell_type": "markdown",
   "id": "3e24bb34-5d30-469b-8506-af086ef26663",
   "metadata": {
    "deletable": false,
    "editable": false
   },
   "source": [
    "## Q1(a) - Load the Data \n",
    "\n",
    "Load the plays into a list `textdata` and a np.ndarray `yvalues`.  I highly suggest using `scikit-learn`'s `load_files` function, with the `random_state` set to 42.  \n",
    "\n",
    " "
   ]
  },
  {
   "cell_type": "code",
   "execution_count": 6,
   "id": "38572ccd-0ce4-4994-b9d2-7a279e6effda",
   "metadata": {
    "tags": []
   },
   "outputs": [
    {
     "name": "stdout",
     "output_type": "stream",
     "text": [
      "Samples per class: [119 208]\n"
     ]
    },
    {
     "data": {
      "text/plain": [
       "array(['data/shakespeare/histories/henryVIpartiiActIIIScenei_noCNnoSD.txt',\n",
       "       'data/shakespeare/comedies/twelfthNightActIScenei_noCNnoSD.txt',\n",
       "       'data/shakespeare/histories/henryVIpartiiActIVSceneviii_noCNnoSD.txt',\n",
       "       'data/shakespeare/comedies/asYouLikeItActIIScenev_noCNnoSD.txt',\n",
       "       'data/shakespeare/comedies/tempestActIIISceneii_noCNnoSD.txt',\n",
       "       'data/shakespeare/histories/henryVIpartiActIVSceneii_noCNnoSD.txt',\n",
       "       'data/shakespeare/histories/henryVIpartiiiActIVSceneviii_noCNnoSD.txt',\n",
       "       'data/shakespeare/histories/henryVIIIActVScenei_noCNnoSD.txt',\n",
       "       'data/shakespeare/histories/henryVIpartiActIIIScenei_noCNnoSD.txt',\n",
       "       'data/shakespeare/comedies/twelfthNightActIIIScenei_noCNnoSD.txt'],\n",
       "      dtype='<U72')"
      ]
     },
     "execution_count": 6,
     "metadata": {},
     "output_type": "execute_result"
    }
   ],
   "source": [
    "# Load the plays data     \n",
    "plays = load_files(\"data/shakespeare\", random_state=42)\n",
    "\n",
    "# Extract text data\n",
    "textdata = plays.data\n",
    "\n",
    "# Extract target values\n",
    "yvalues = plays.target\n",
    "\n",
    "print(\"Samples per class: {}\".format(np.bincount(yvalues)))\n",
    "\n",
    "plays.filenames[0:10]"
   ]
  },
  {
   "cell_type": "code",
   "execution_count": 7,
   "id": "7d5d4ff7",
   "metadata": {
    "deletable": false,
    "editable": false
   },
   "outputs": [
    {
     "data": {
      "text/html": [
       "<p><strong><pre style='display: inline;'>q1a</pre></strong> passed! 🌈</p>"
      ],
      "text/plain": [
       "q1a results: All test cases passed!"
      ]
     },
     "execution_count": 7,
     "metadata": {},
     "output_type": "execute_result"
    }
   ],
   "source": [
    "grader.check(\"q1a\")"
   ]
  },
  {
   "cell_type": "markdown",
   "id": "45687d48-dc6f-42bd-8989-b682b470b375",
   "metadata": {
    "deletable": false,
    "editable": false
   },
   "source": [
    "## Q1(b) - Prepare the Data \n",
    "\n",
    "Split the data into `text_trainval`, `text_test` and `y_trainval`, `y_test` variables.  Use 20% of the data in the test set with a `random_state` of 42 and make sure to stratify the split (the data is imbalanced). "
   ]
  },
  {
   "cell_type": "code",
   "execution_count": 8,
   "id": "4e3f1265-1dc8-4754-af74-ce34ae6de560",
   "metadata": {
    "tags": []
   },
   "outputs": [
    {
     "name": "stdout",
     "output_type": "stream",
     "text": [
      "Number of samples in training/validation set: 261\n",
      "Number of samples in test set: 66\n"
     ]
    }
   ],
   "source": [
    "# Split the data \n",
    "text_trainval, text_test, y_trainval, y_test = train_test_split(\n",
    "    textdata, yvalues, test_size=0.2, random_state=42, stratify=yvalues)\n",
    "\n",
    "print(\"Number of samples in training/validation set: {}\".format(len(text_trainval)))\n",
    "print(\"Number of samples in test set: {}\".format(len(text_test)))"
   ]
  },
  {
   "cell_type": "code",
   "execution_count": 9,
   "id": "bfb7998e",
   "metadata": {
    "deletable": false,
    "editable": false
   },
   "outputs": [
    {
     "data": {
      "text/html": [
       "<p><strong><pre style='display: inline;'>q1b</pre></strong> passed! 🙌</p>"
      ],
      "text/plain": [
       "q1b results: All test cases passed!"
      ]
     },
     "execution_count": 9,
     "metadata": {},
     "output_type": "execute_result"
    }
   ],
   "source": [
    "grader.check(\"q1b\")"
   ]
  },
  {
   "cell_type": "markdown",
   "id": "95f3cafb-6d39-4c4c-b3bf-1b540c984e8f",
   "metadata": {
    "deletable": false,
    "editable": false
   },
   "source": [
    "## Q1(c)  - Explore the Data\n",
    "\n",
    "Create a document-term count matrix for the \"trainval\" data using the default tokenizer, removing the standard English stopwords and store this in `dtm_trainval`.\n",
    "\n",
    "Store the names of the terms in the dtm matrix in the variable `vocab`."
   ]
  },
  {
   "cell_type": "code",
   "execution_count": 10,
   "id": "473e2164-9fab-4e1c-aa90-59bb1c77a426",
   "metadata": {
    "tags": []
   },
   "outputs": [
    {
     "name": "stdout",
     "output_type": "stream",
     "text": [
      "Shape of document-term matrix (trainval): (261, 13953)\n",
      "Number of terms in vocabulary: 13953\n"
     ]
    }
   ],
   "source": [
    "# Create document-term count matrix for the \"trainval\" text data \n",
    "\n",
    "# Create a CountVectorizer object with stopwords removed\n",
    "vectorizer = CountVectorizer(stop_words='english')\n",
    "\n",
    "# Fit the vectorizer on the training/validation data and transform it to create the document-term matrix\n",
    "dtm_trainval = vectorizer.fit_transform(text_trainval)\n",
    "\n",
    "# Get the names of the terms (vocabulary)\n",
    "vocab = vectorizer.get_feature_names_out()\n",
    "\n",
    "print(\"Shape of document-term matrix (trainval):\", dtm_trainval.shape)\n",
    "print(\"Number of terms in vocabulary:\", len(vocab))"
   ]
  },
  {
   "cell_type": "code",
   "execution_count": 11,
   "id": "ecace364",
   "metadata": {
    "deletable": false,
    "editable": false
   },
   "outputs": [
    {
     "data": {
      "text/html": [
       "<p><strong><pre style='display: inline;'>q1c</pre></strong> passed! 🌟</p>"
      ],
      "text/plain": [
       "q1c results: All test cases passed!"
      ]
     },
     "execution_count": 11,
     "metadata": {},
     "output_type": "execute_result"
    }
   ],
   "source": [
    "grader.check(\"q1c\")"
   ]
  },
  {
   "cell_type": "markdown",
   "id": "c74fad03-d191-41b5-bc71-c2ff3f0b89c6",
   "metadata": {
    "deletable": false,
    "editable": false
   },
   "source": [
    "<!-- BEGIN QUESTION -->\n",
    "\n",
    "## Q1(d) - Explore the Data \n",
    "\n",
    "Create a plot showing the top 15 most frequently used words in the trainval text data. "
   ]
  },
  {
   "cell_type": "code",
   "execution_count": 27,
   "id": "d77b1858-6920-4405-a383-0ac7e6ed41f9",
   "metadata": {
    "tags": []
   },
   "outputs": [],
   "source": [
    "# Create a plot of the top 15 most frequently used words \n"
   ]
  },
  {
   "cell_type": "markdown",
   "id": "476dbbe1-5d9c-4a29-9f2e-834c1ee7752d",
   "metadata": {
    "deletable": false,
    "editable": false
   },
   "source": [
    "<!-- END QUESTION -->\n",
    "\n",
    "<!-- BEGIN QUESTION -->\n",
    "\n",
    "## Q1(e) - Explore the Data \n",
    "\n",
    "For the trainval text data, plot the top 15 most frequently used words in the histories and the comedies.  Put these two bar plots side-by-side to compare the results. "
   ]
  },
  {
   "cell_type": "code",
   "execution_count": 47,
   "id": "7c0b0c96-3f27-41c4-bbc0-3a5bda27868c",
   "metadata": {
    "tags": []
   },
   "outputs": [],
   "source": [
    "# Create a plot of the top 15 most frequently used words in the \n",
    "#  Comedies and Histories. \n",
    "\n",
    "\n"
   ]
  },
  {
   "cell_type": "markdown",
   "id": "1f4c4ac8-8769-4b38-a4cf-7c9b8a561f80",
   "metadata": {
    "deletable": false,
    "editable": false
   },
   "source": [
    "<!-- END QUESTION -->\n",
    "\n",
    "## Q1(f) - Bernoulli Naive Bayes \n",
    "\n",
    "Let's know explore using Bernoulli Naive Bayes as a classifier, `bern_nb`, to predict the type of play. \n",
    "\n",
    "We will use the split of the data into trainval / test found above to train the model and then evaluate it's performance. \n",
    "\n",
    "Create the training data, `X_trainval` to be binary with features using the default tokenizer, stop words removed, appear in at least 5 documents and is limited to the top 5000 features.  \n",
    "\n",
    "Calculate the training accuracy `train_acc_bern` and testing accuracy `test_acc_bern` for the model.\n",
    "\n"
   ]
  },
  {
   "cell_type": "code",
   "execution_count": 48,
   "id": "a5153fbb-3e26-4f26-ad50-087a8d575269",
   "metadata": {
    "tags": []
   },
   "outputs": [
    {
     "data": {
      "text/plain": [
       "(0.9233716475095786, 0.8787878787878788)"
      ]
     },
     "execution_count": 48,
     "metadata": {},
     "output_type": "execute_result"
    }
   ],
   "source": [
    "# Run Bernoulli Naive Bayes model\n",
    "from sklearn.naive_bayes import BernoulliNB\n",
    "\n",
    "# Initialize CountVectorizer with binary=True to create binary features\n",
    "# Stop words are already removed in the document-term matrix (dtm_trainval)\n",
    "# We'll limit the features to the top 5000 and set min_df=5 (appears in at least 5 documents)\n",
    "vectorizer = CountVectorizer(binary=True, max_features=5000, min_df=5)\n",
    "\n",
    "# Fit and transform the training data to binary features\n",
    "X_trainval_binary = vectorizer.fit_transform(text_trainval)\n",
    "\n",
    "# Initialize and train the Bernoulli Naive Bayes classifier\n",
    "bern_nb = BernoulliNB()\n",
    "bern_nb.fit(X_trainval_binary, y_trainval)\n",
    "\n",
    "# Predict the labels for training and testing data\n",
    "y_trainval_pred = bern_nb.predict(X_trainval_binary)\n",
    "X_test_binary = vectorizer.transform(text_test)\n",
    "y_test_pred = bern_nb.predict(X_test_binary)\n",
    "\n",
    "# Calculate training and testing accuracies\n",
    "train_acc_bern = accuracy_score(y_trainval, y_trainval_pred)\n",
    "test_acc_bern = accuracy_score(y_test, y_test_pred)\n",
    "\n",
    "train_acc_bern, test_acc_bern\n"
   ]
  },
  {
   "cell_type": "code",
   "execution_count": 49,
   "id": "11f6ead8",
   "metadata": {
    "deletable": false,
    "editable": false
   },
   "outputs": [
    {
     "data": {
      "text/html": [
       "<p><strong style='color: red;'><pre style='display: inline;'>q1f</pre> results:</strong></p><p><strong><pre style='display: inline;'>q1f - 1</pre> result:</strong></p><pre>    ❌ Test case failed\n",
       "    Trying:\n",
       "        np.isclose(train_acc_bern, 0.95019157)\n",
       "    Expecting:\n",
       "        True\n",
       "    **********************************************************************\n",
       "    Line 1, in q1f 0\n",
       "    Failed example:\n",
       "        np.isclose(train_acc_bern, 0.95019157)\n",
       "    Expected:\n",
       "        True\n",
       "    Got:\n",
       "        False\n",
       "</pre><p><strong><pre style='display: inline;'>q1f - 2</pre> result:</strong></p><pre>    ❌ Test case failed\n",
       "    Trying:\n",
       "        all(X_trainval[0, 1:10].toarray()[0] == [0, 0, 0, 0, 0, 0, 0, 0, 0])\n",
       "    Expecting:\n",
       "        True\n",
       "    **********************************************************************\n",
       "    Line 1, in q1f 1\n",
       "    Failed example:\n",
       "        all(X_trainval[0, 1:10].toarray()[0] == [0, 0, 0, 0, 0, 0, 0, 0, 0])\n",
       "    Expected:\n",
       "        True\n",
       "    Got:\n",
       "        False\n",
       "</pre><p><strong><pre style='display: inline;'>q1f - 3</pre> result:</strong></p><pre>    ❌ Test case failed\n",
       "    Trying:\n",
       "        all(X_trainval[5, 1280:1290].toarray()[0] == [0, 1, 0, 0, 0, 0, 0, 0, 0, 1])\n",
       "    Expecting:\n",
       "        True\n",
       "    **********************************************************************\n",
       "    Line 1, in q1f 2\n",
       "    Failed example:\n",
       "        all(X_trainval[5, 1280:1290].toarray()[0] == [0, 1, 0, 0, 0, 0, 0, 0, 0, 1])\n",
       "    Expected:\n",
       "        True\n",
       "    Got:\n",
       "        False\n",
       "</pre>"
      ],
      "text/plain": [
       "q1f results:\n",
       "    q1f - 1 result:\n",
       "        ❌ Test case failed\n",
       "        Trying:\n",
       "            np.isclose(train_acc_bern, 0.95019157)\n",
       "        Expecting:\n",
       "            True\n",
       "        **********************************************************************\n",
       "        Line 1, in q1f 0\n",
       "        Failed example:\n",
       "            np.isclose(train_acc_bern, 0.95019157)\n",
       "        Expected:\n",
       "            True\n",
       "        Got:\n",
       "            False\n",
       "\n",
       "    q1f - 2 result:\n",
       "        ❌ Test case failed\n",
       "        Trying:\n",
       "            all(X_trainval[0, 1:10].toarray()[0] == [0, 0, 0, 0, 0, 0, 0, 0, 0])\n",
       "        Expecting:\n",
       "            True\n",
       "        **********************************************************************\n",
       "        Line 1, in q1f 1\n",
       "        Failed example:\n",
       "            all(X_trainval[0, 1:10].toarray()[0] == [0, 0, 0, 0, 0, 0, 0, 0, 0])\n",
       "        Expected:\n",
       "            True\n",
       "        Got:\n",
       "            False\n",
       "\n",
       "    q1f - 3 result:\n",
       "        ❌ Test case failed\n",
       "        Trying:\n",
       "            all(X_trainval[5, 1280:1290].toarray()[0] == [0, 1, 0, 0, 0, 0, 0, 0, 0, 1])\n",
       "        Expecting:\n",
       "            True\n",
       "        **********************************************************************\n",
       "        Line 1, in q1f 2\n",
       "        Failed example:\n",
       "            all(X_trainval[5, 1280:1290].toarray()[0] == [0, 1, 0, 0, 0, 0, 0, 0, 0, 1])\n",
       "        Expected:\n",
       "            True\n",
       "        Got:\n",
       "            False"
      ]
     },
     "execution_count": 49,
     "metadata": {},
     "output_type": "execute_result"
    }
   ],
   "source": [
    "grader.check(\"q1f\")"
   ]
  },
  {
   "cell_type": "markdown",
   "id": "27d7cf4f-3c21-45bd-b7e3-1e6c391a8ef1",
   "metadata": {
    "deletable": false,
    "editable": false
   },
   "source": [
    "## Q1(g) - Multinomial Naive Bayes \n",
    "\n",
    "Let's know explore using multinomial Naive Bayes as a classifier, `mult_nb`, to predict the type of play. \n",
    "\n",
    "We will use the split of the data into trainval / test found above to train the model and then evaluate it's performance. \n",
    "\n",
    "Create the training data, `X_trainval` with features using the default tokenizer, stop words removed, appear in at least 5 documents and is limited to the top 5000 features.  \n",
    "\n",
    "Calculate the training accuracy `train_acc_mult` and testing accuracy `test_acc_mult` for the model.\n"
   ]
  },
  {
   "cell_type": "code",
   "execution_count": 44,
   "id": "f4725275-bcae-47a4-940e-c58c84ba1dea",
   "metadata": {
    "tags": []
   },
   "outputs": [
    {
     "data": {
      "text/plain": [
       "(0.9885057471264368, 0.9696969696969697)"
      ]
     },
     "execution_count": 44,
     "metadata": {},
     "output_type": "execute_result"
    }
   ],
   "source": [
    "# Run Multinomial Naive Bayes model\n",
    "from sklearn.naive_bayes import MultinomialNB\n",
    "\n",
    "# Initialize CountVectorizer\n",
    "vectorizer = CountVectorizer(binary=False, max_features=5000, min_df=5)\n",
    "\n",
    "# Fit and transform the training data to features\n",
    "X_trainval = vectorizer.fit_transform(text_trainval)\n",
    "\n",
    "# Initialize and train the Multinomial Naive Bayes classifier\n",
    "mult_nb = MultinomialNB()\n",
    "mult_nb.fit(X_trainval, y_trainval)\n",
    "\n",
    "# Predict the labels for training and testing data\n",
    "y_trainval_pred = mult_nb.predict(X_trainval)\n",
    "X_test = vectorizer.transform(text_test)\n",
    "y_test_pred = mult_nb.predict(X_test)\n",
    "\n",
    "# Calculate training and testing accuracies\n",
    "train_acc_mult = accuracy_score(y_trainval, y_trainval_pred)\n",
    "test_acc_mult = accuracy_score(y_test, y_test_pred)\n",
    "\n",
    "train_acc_mult, test_acc_mult\n"
   ]
  },
  {
   "cell_type": "code",
   "execution_count": 45,
   "id": "6d1f6205",
   "metadata": {
    "deletable": false,
    "editable": false
   },
   "outputs": [
    {
     "data": {
      "text/html": [
       "<p><strong style='color: red;'><pre style='display: inline;'>q1g</pre> results:</strong></p><p><strong><pre style='display: inline;'>q1g - 1</pre> result:</strong></p><pre>    ❌ Test case failed\n",
       "    Trying:\n",
       "        train_acc_mult == 1.0\n",
       "    Expecting:\n",
       "        True\n",
       "    **********************************************************************\n",
       "    Line 1, in q1g 0\n",
       "    Failed example:\n",
       "        train_acc_mult == 1.0\n",
       "    Expected:\n",
       "        True\n",
       "    Got:\n",
       "        False\n",
       "</pre><p><strong><pre style='display: inline;'>q1g - 2</pre> result:</strong></p><pre>    ❌ Test case failed\n",
       "    Trying:\n",
       "        all(X_trainval[0, 1:10].toarray()[0] == [0, 0, 0, 0, 0, 0, 0, 0, 0])\n",
       "    Expecting:\n",
       "        True\n",
       "    **********************************************************************\n",
       "    Line 1, in q1g 1\n",
       "    Failed example:\n",
       "        all(X_trainval[0, 1:10].toarray()[0] == [0, 0, 0, 0, 0, 0, 0, 0, 0])\n",
       "    Expected:\n",
       "        True\n",
       "    Got:\n",
       "        False\n",
       "</pre><p><strong><pre style='display: inline;'>q1g - 3</pre> result:</strong></p><pre>    ❌ Test case failed\n",
       "    Trying:\n",
       "        all(X_trainval[5, 1280:1290].toarray()[0] == [0, 2, 0, 0, 0, 0, 0, 0, 0, 1])\n",
       "    Expecting:\n",
       "        True\n",
       "    **********************************************************************\n",
       "    Line 1, in q1g 2\n",
       "    Failed example:\n",
       "        all(X_trainval[5, 1280:1290].toarray()[0] == [0, 2, 0, 0, 0, 0, 0, 0, 0, 1])\n",
       "    Expected:\n",
       "        True\n",
       "    Got:\n",
       "        False\n",
       "</pre>"
      ],
      "text/plain": [
       "q1g results:\n",
       "    q1g - 1 result:\n",
       "        ❌ Test case failed\n",
       "        Trying:\n",
       "            train_acc_mult == 1.0\n",
       "        Expecting:\n",
       "            True\n",
       "        **********************************************************************\n",
       "        Line 1, in q1g 0\n",
       "        Failed example:\n",
       "            train_acc_mult == 1.0\n",
       "        Expected:\n",
       "            True\n",
       "        Got:\n",
       "            False\n",
       "\n",
       "    q1g - 2 result:\n",
       "        ❌ Test case failed\n",
       "        Trying:\n",
       "            all(X_trainval[0, 1:10].toarray()[0] == [0, 0, 0, 0, 0, 0, 0, 0, 0])\n",
       "        Expecting:\n",
       "            True\n",
       "        **********************************************************************\n",
       "        Line 1, in q1g 1\n",
       "        Failed example:\n",
       "            all(X_trainval[0, 1:10].toarray()[0] == [0, 0, 0, 0, 0, 0, 0, 0, 0])\n",
       "        Expected:\n",
       "            True\n",
       "        Got:\n",
       "            False\n",
       "\n",
       "    q1g - 3 result:\n",
       "        ❌ Test case failed\n",
       "        Trying:\n",
       "            all(X_trainval[5, 1280:1290].toarray()[0] == [0, 2, 0, 0, 0, 0, 0, 0, 0, 1])\n",
       "        Expecting:\n",
       "            True\n",
       "        **********************************************************************\n",
       "        Line 1, in q1g 2\n",
       "        Failed example:\n",
       "            all(X_trainval[5, 1280:1290].toarray()[0] == [0, 2, 0, 0, 0, 0, 0, 0, 0, 1])\n",
       "        Expected:\n",
       "            True\n",
       "        Got:\n",
       "            False"
      ]
     },
     "execution_count": 45,
     "metadata": {},
     "output_type": "execute_result"
    }
   ],
   "source": [
    "grader.check(\"q1g\")"
   ]
  },
  {
   "cell_type": "markdown",
   "id": "9145008d-5c07-412f-b848-bce0a7ddaa8b",
   "metadata": {
    "deletable": false,
    "editable": false
   },
   "source": [
    "<!-- BEGIN QUESTION -->\n",
    "\n",
    "## Q1(h) - Naive Bayes Models \n",
    "\n",
    "Looking at the results of the two models above. Answer the following questions.  \n"
   ]
  },
  {
   "cell_type": "markdown",
   "id": "1c795a40-e5d6-4dcf-924d-afff286c1a26",
   "metadata": {},
   "source": [
    "Which of the two models is preferred?  Why?   (10 words or less)\n",
    "\n",
    "\n",
    "What is a problem for both models?  How might you solve it? (12 words or less)"
   ]
  },
  {
   "cell_type": "markdown",
   "id": "96621bc4-e895-401f-9835-de3ed9225f6f",
   "metadata": {
    "deletable": false,
    "editable": false
   },
   "source": [
    "<!-- END QUESTION -->\n",
    "\n",
    "## Q1(i) - Other Models \n",
    "\n",
    "Let's now look to explore using other models. \n",
    "\n",
    "You will set up a pipeline, `pipe`, that will use a Random Forest model with 100 trees and a `random_state` = 42.  \n",
    "\n",
    "In the pipeline (`param_grid`), you will consider using both a document term count matrix as well as a TF-IDF matrix. \n",
    "In either case, limit the matrix to words that appear in at least 5 documents and remove English stop words.  Consider features of unigrams, unigrams + bigrams, and bigrams.  Examine a maximum feature limit of either 2500 or 5000.  \n",
    "\n",
    "Optimize your choice of hyperparameters using GridSearchCV, `grid`, with stratified 5-fold cross-validation (random_state = 42), select the parameters using AUC. (See how to set up the scorer below)\n",
    "\n",
    "Note, do not run the jobs in parallel, you may exceed the memory resources of the autograder on Gradescope. "
   ]
  },
  {
   "cell_type": "code",
   "execution_count": 57,
   "id": "d9f4cc4d-133f-40e8-8885-adcd49d22eac",
   "metadata": {
    "tags": []
   },
   "outputs": [
    {
     "name": "stdout",
     "output_type": "stream",
     "text": [
      "Best cross-validation score: 0.89\n",
      "Best parameters:\n",
      "{'vec': TfidfVectorizer(max_features=2500, min_df=5, stop_words='english'), 'vec__binary': False, 'vec__max_features': 2500, 'vec__min_df': 5, 'vec__ngram_range': (1, 1), 'vec__stop_words': 'english'}\n"
     ]
    }
   ],
   "source": [
    "# Run Pipeline to find best model\n",
    "from sklearn.ensemble import RandomForestClassifier\n",
    "\n",
    "pipe = Pipeline([\n",
    "    ('vec', CountVectorizer()),  # Placeholder for vectorizer (will be replaced in param_grid)\n",
    "    ('clf', RandomForestClassifier(n_estimators=100, random_state=42))  # Random Forest classifier\n",
    "])\n",
    "\n",
    "# Define the parameter grid\n",
    "param_grid = [\n",
    "    {\n",
    "        'vec': [CountVectorizer(), TfidfVectorizer()],\n",
    "        'vec__binary': [False],  # Using term frequency (TF) instead of binary features\n",
    "        'vec__max_features': [2500, 5000],\n",
    "        'vec__ngram_range': [(1, 1), (1, 2), (2, 2)],\n",
    "        'vec__min_df': [5],\n",
    "        'vec__stop_words': ['english'],\n",
    "    }\n",
    "]\n",
    "\n",
    "# Define the stratified 5-fold cross-validation\n",
    "cvStrat = StratifiedKFold(n_splits=5, random_state=42, shuffle=True)\n",
    "\n",
    "# Define the scorer using AUC\n",
    "score_fn = metrics.make_scorer(metrics.roc_auc_score, needs_threshold=False)\n",
    "\n",
    "# Run GridSearchCV\n",
    "grid = GridSearchCV(pipe, param_grid, cv=cvStrat, scoring=score_fn, n_jobs=1)  # Disable parallel jobs\n",
    "\n",
    "# Fit the grid search object to find the best model\n",
    "grid.fit(text_trainval, y_trainval)\n",
    "\n",
    "print(\"Best cross-validation score: {:.2f}\".format(grid.best_score_))\n",
    "print(\"Best parameters:\\n{}\".format(grid.best_params_))"
   ]
  },
  {
   "cell_type": "code",
   "execution_count": 58,
   "id": "cbab3923",
   "metadata": {
    "deletable": false,
    "editable": false
   },
   "outputs": [
    {
     "data": {
      "text/html": [
       "<p><strong><pre style='display: inline;'>q1i</pre></strong> passed! ✨</p>"
      ],
      "text/plain": [
       "q1i results: All test cases passed!"
      ]
     },
     "execution_count": 58,
     "metadata": {},
     "output_type": "execute_result"
    }
   ],
   "source": [
    "grader.check(\"q1i\")"
   ]
  },
  {
   "cell_type": "markdown",
   "id": "79ff9694-2fc6-4182-961d-51d0f46a711f",
   "metadata": {
    "deletable": false,
    "editable": false
   },
   "source": [
    "## Q1(j) - Explore the Results \n",
    "\n",
    "Calculate the AUC on the test text, `auc_test`.   \n",
    "\n",
    "Gather the importances of the features in the best model in `importance`. [Feature Importance Example](https://scikit-learn.org/stable/auto_examples/ensemble/plot_forest_importances.html)\n",
    "\n",
    "Create a bar plot with the top 10 features sorted by importance.  \n"
   ]
  },
  {
   "cell_type": "code",
   "execution_count": 61,
   "id": "e3e6a0de-2099-4778-bedc-01120547ce36",
   "metadata": {
    "tags": []
   },
   "outputs": [
    {
     "data": {
      "image/png": "[encoded data removed]",
      "text/plain": [
       "<Figure size 1000x600 with 1 Axes>"
      ]
     },
     "metadata": {},
     "output_type": "display_data"
    },
    {
     "data": {
      "text/plain": [
       "(0.9955357142857143,\n",
       " array([0.        , 0.        , 0.00054952, ..., 0.00224121, 0.0001259 ,\n",
       "        0.        ]))"
      ]
     },
     "execution_count": 61,
     "metadata": {},
     "output_type": "execute_result"
    }
   ],
   "source": [
    "# Calculate performance on test data `auc_test` \n",
    "from sklearn.metrics import roc_auc_score\n",
    "\n",
    "# Extract the best model from the grid search\n",
    "best_model = grid.best_estimator_\n",
    "# Predict probabilities on the test set\n",
    "y_test_prob = best_model.predict_proba(text_test)[:, 1]\n",
    "# Calculate AUC on the test set\n",
    "auc_test = roc_auc_score(y_test, y_test_prob)\n",
    "# Extract feature importances\n",
    "importance = best_model.named_steps['clf'].feature_importances_\n",
    "# Get the feature names from the vectorizer\n",
    "feature_names = best_model.named_steps['vec'].get_feature_names_out()\n",
    "\n",
    "# Create a dictionary of feature names and their corresponding importances\n",
    "feature_importance_dict = dict(zip(feature_names, importance))\n",
    "\n",
    "# Sort the features by importance in descending order\n",
    "sorted_features = sorted(feature_importance_dict.items(), key=lambda x: x[1], reverse=True)\n",
    "\n",
    "# Extract the top 10 features\n",
    "top_features = sorted_features[:10]\n",
    "\n",
    "# Plot the top 10 features by importance\n",
    "import matplotlib.pyplot as plt\n",
    "\n",
    "plt.figure(figsize=(10, 6))\n",
    "plt.barh([f[0] for f in top_features], [f[1] for f in top_features], color='skyblue')\n",
    "plt.xlabel('Importance')\n",
    "plt.ylabel('Feature')\n",
    "plt.title('Top 10 Features by Importance')\n",
    "plt.gca().invert_yaxis()  # Invert y-axis to display the most important features at the top\n",
    "plt.show()\n",
    "\n",
    "auc_test, importance\n"
   ]
  },
  {
   "cell_type": "code",
   "execution_count": 62,
   "id": "3f52243f",
   "metadata": {
    "deletable": false,
    "editable": false
   },
   "outputs": [
    {
     "data": {
      "text/html": [
       "<p><strong><pre style='display: inline;'>q1j</pre></strong> passed! 💯</p>"
      ],
      "text/plain": [
       "q1j results: All test cases passed!"
      ]
     },
     "execution_count": 62,
     "metadata": {},
     "output_type": "execute_result"
    }
   ],
   "source": [
    "grader.check(\"q1j\")"
   ]
  },
  {
   "cell_type": "markdown",
   "id": "adc76d5c-6736-4473-94b0-fa4461ffbeaa",
   "metadata": {
    "id": "o3ZuWT4INkFu"
   },
   "source": [
    "# Q2\n",
    "\n",
    "Consider methods to cluster NBA players based on their statistics. \n",
    "\n",
    "\n"
   ]
  },
  {
   "cell_type": "markdown",
   "id": "d2e03efe-dadd-4f43-b151-20f54ba5a45a",
   "metadata": {
    "deletable": false,
    "editable": false
   },
   "source": [
    "## Q2(a) \n",
    "\n",
    "Load in data for NBA players from the 2018-2019 season. \n",
    "\n",
    "Filter the players to only consider those who have played in more than 20 games.  \n",
    "\n",
    "Ignore the first 7 columns as well as ignore columns of statistics with percentages (FG%, 3P%, 2P%, eFG%, FT%). "
   ]
  },
  {
   "cell_type": "code",
   "execution_count": 75,
   "id": "1b566d0b-cae7-422a-8b64-54bf0f0839df",
   "metadata": {
    "tags": []
   },
   "outputs": [
    {
     "data": {
      "text/html": [
       "<div>\n",
       "<style scoped>\n",
       "    .dataframe tbody tr th:only-of-type {\n",
       "        vertical-align: middle;\n",
       "    }\n",
       "\n",
       "    .dataframe tbody tr th {\n",
       "        vertical-align: top;\n",
       "    }\n",
       "\n",
       "    .dataframe thead th {\n",
       "        text-align: right;\n",
       "    }\n",
       "</style>\n",
       "<table border=\"1\" class=\"dataframe\">\n",
       "  <thead>\n",
       "    <tr style=\"text-align: right;\">\n",
       "      <th></th>\n",
       "      <th>Rk</th>\n",
       "      <th>Player</th>\n",
       "      <th>Pos</th>\n",
       "      <th>Age</th>\n",
       "      <th>Tm</th>\n",
       "      <th>G</th>\n",
       "      <th>GS</th>\n",
       "      <th>MP</th>\n",
       "      <th>FG</th>\n",
       "      <th>FGA</th>\n",
       "      <th>...</th>\n",
       "      <th>FTA</th>\n",
       "      <th>ORB</th>\n",
       "      <th>DRB</th>\n",
       "      <th>TRB</th>\n",
       "      <th>AST</th>\n",
       "      <th>STL</th>\n",
       "      <th>BLK</th>\n",
       "      <th>TOV</th>\n",
       "      <th>PF</th>\n",
       "      <th>PTS</th>\n",
       "    </tr>\n",
       "  </thead>\n",
       "  <tbody>\n",
       "    <tr>\n",
       "      <th>0</th>\n",
       "      <td>1</td>\n",
       "      <td>Álex Abrines\\abrinal01</td>\n",
       "      <td>SG</td>\n",
       "      <td>25</td>\n",
       "      <td>OKC</td>\n",
       "      <td>31</td>\n",
       "      <td>2</td>\n",
       "      <td>19.0</td>\n",
       "      <td>1.8</td>\n",
       "      <td>5.1</td>\n",
       "      <td>...</td>\n",
       "      <td>0.4</td>\n",
       "      <td>0.2</td>\n",
       "      <td>1.4</td>\n",
       "      <td>1.5</td>\n",
       "      <td>0.6</td>\n",
       "      <td>0.5</td>\n",
       "      <td>0.2</td>\n",
       "      <td>0.5</td>\n",
       "      <td>1.7</td>\n",
       "      <td>5.3</td>\n",
       "    </tr>\n",
       "    <tr>\n",
       "      <th>2</th>\n",
       "      <td>3</td>\n",
       "      <td>Jaylen Adams\\adamsja01</td>\n",
       "      <td>PG</td>\n",
       "      <td>22</td>\n",
       "      <td>ATL</td>\n",
       "      <td>34</td>\n",
       "      <td>1</td>\n",
       "      <td>12.6</td>\n",
       "      <td>1.1</td>\n",
       "      <td>3.2</td>\n",
       "      <td>...</td>\n",
       "      <td>0.3</td>\n",
       "      <td>0.3</td>\n",
       "      <td>1.4</td>\n",
       "      <td>1.8</td>\n",
       "      <td>1.9</td>\n",
       "      <td>0.4</td>\n",
       "      <td>0.1</td>\n",
       "      <td>0.8</td>\n",
       "      <td>1.3</td>\n",
       "      <td>3.2</td>\n",
       "    </tr>\n",
       "    <tr>\n",
       "      <th>3</th>\n",
       "      <td>4</td>\n",
       "      <td>Steven Adams\\adamsst01</td>\n",
       "      <td>C</td>\n",
       "      <td>25</td>\n",
       "      <td>OKC</td>\n",
       "      <td>80</td>\n",
       "      <td>80</td>\n",
       "      <td>33.4</td>\n",
       "      <td>6.0</td>\n",
       "      <td>10.1</td>\n",
       "      <td>...</td>\n",
       "      <td>3.7</td>\n",
       "      <td>4.9</td>\n",
       "      <td>4.6</td>\n",
       "      <td>9.5</td>\n",
       "      <td>1.6</td>\n",
       "      <td>1.5</td>\n",
       "      <td>1.0</td>\n",
       "      <td>1.7</td>\n",
       "      <td>2.6</td>\n",
       "      <td>13.9</td>\n",
       "    </tr>\n",
       "    <tr>\n",
       "      <th>4</th>\n",
       "      <td>5</td>\n",
       "      <td>Bam Adebayo\\adebaba01</td>\n",
       "      <td>C</td>\n",
       "      <td>21</td>\n",
       "      <td>MIA</td>\n",
       "      <td>82</td>\n",
       "      <td>28</td>\n",
       "      <td>23.3</td>\n",
       "      <td>3.4</td>\n",
       "      <td>5.9</td>\n",
       "      <td>...</td>\n",
       "      <td>2.8</td>\n",
       "      <td>2.0</td>\n",
       "      <td>5.3</td>\n",
       "      <td>7.3</td>\n",
       "      <td>2.2</td>\n",
       "      <td>0.9</td>\n",
       "      <td>0.8</td>\n",
       "      <td>1.5</td>\n",
       "      <td>2.5</td>\n",
       "      <td>8.9</td>\n",
       "    </tr>\n",
       "    <tr>\n",
       "      <th>7</th>\n",
       "      <td>8</td>\n",
       "      <td>LaMarcus Aldridge\\aldrila01</td>\n",
       "      <td>C</td>\n",
       "      <td>33</td>\n",
       "      <td>SAS</td>\n",
       "      <td>81</td>\n",
       "      <td>81</td>\n",
       "      <td>33.2</td>\n",
       "      <td>8.4</td>\n",
       "      <td>16.3</td>\n",
       "      <td>...</td>\n",
       "      <td>5.1</td>\n",
       "      <td>3.1</td>\n",
       "      <td>6.1</td>\n",
       "      <td>9.2</td>\n",
       "      <td>2.4</td>\n",
       "      <td>0.5</td>\n",
       "      <td>1.3</td>\n",
       "      <td>1.8</td>\n",
       "      <td>2.2</td>\n",
       "      <td>21.3</td>\n",
       "    </tr>\n",
       "  </tbody>\n",
       "</table>\n",
       "<p>5 rows × 25 columns</p>\n",
       "</div>"
      ],
      "text/plain": [
       "   Rk                       Player Pos  Age   Tm   G  GS    MP   FG   FGA  \\\n",
       "0   1       Álex Abrines\\abrinal01  SG   25  OKC  31   2  19.0  1.8   5.1   \n",
       "2   3       Jaylen Adams\\adamsja01  PG   22  ATL  34   1  12.6  1.1   3.2   \n",
       "3   4       Steven Adams\\adamsst01   C   25  OKC  80  80  33.4  6.0  10.1   \n",
       "4   5        Bam Adebayo\\adebaba01   C   21  MIA  82  28  23.3  3.4   5.9   \n",
       "7   8  LaMarcus Aldridge\\aldrila01   C   33  SAS  81  81  33.2  8.4  16.3   \n",
       "\n",
       "   ...  FTA  ORB  DRB  TRB  AST  STL  BLK  TOV   PF   PTS  \n",
       "0  ...  0.4  0.2  1.4  1.5  0.6  0.5  0.2  0.5  1.7   5.3  \n",
       "2  ...  0.3  0.3  1.4  1.8  1.9  0.4  0.1  0.8  1.3   3.2  \n",
       "3  ...  3.7  4.9  4.6  9.5  1.6  1.5  1.0  1.7  2.6  13.9  \n",
       "4  ...  2.8  2.0  5.3  7.3  2.2  0.9  0.8  1.5  2.5   8.9  \n",
       "7  ...  5.1  3.1  6.1  9.2  2.4  0.5  1.3  1.8  2.2  21.3  \n",
       "\n",
       "[5 rows x 25 columns]"
      ]
     },
     "execution_count": 75,
     "metadata": {},
     "output_type": "execute_result"
    }
   ],
   "source": [
    "# Load in data and filter out requested rows and columns\n",
    "nba = pd.read_csv(\"data/nba18-19.csv\")\n",
    "\n",
    "# Filter players who have played in more than 20 games\n",
    "nba = nba[nba['G'] > 20]\n",
    "\n",
    "# Ignore the first 7 columns and columns with percentages\n",
    "columns_to_ignore = ['FG%', '3P%', '2P%', 'eFG%', 'FT%']\n",
    "nba = nba.drop(columns=columns_to_ignore)\n",
    "\n",
    "nba.head()"
   ]
  },
  {
   "cell_type": "code",
   "execution_count": 76,
   "id": "02eb6e8a",
   "metadata": {
    "deletable": false,
    "editable": false
   },
   "outputs": [
    {
     "data": {
      "text/html": [
       "<p><strong><pre style='display: inline;'>q2a</pre></strong> passed! 🙌</p>"
      ],
      "text/plain": [
       "q2a results: All test cases passed!"
      ]
     },
     "execution_count": 76,
     "metadata": {},
     "output_type": "execute_result"
    }
   ],
   "source": [
    "grader.check(\"q2a\")"
   ]
  },
  {
   "cell_type": "markdown",
   "id": "d2743e23-a779-40e1-97e0-98c32e46d449",
   "metadata": {
    "deletable": false,
    "editable": false,
    "id": "nQuPSHv_bmW1"
   },
   "source": [
    "## Q2(b)\n",
    "\n",
    "The features have different ranges, therefore we should scale the data before considering the clustering analysis. Scale the data using min-max normalization with range of [0, 1]."
   ]
  },
  {
   "cell_type": "code",
   "execution_count": 81,
   "id": "e42b299f-e289-4d2f-9ce5-a693f353aa2f",
   "metadata": {
    "id": "sHdWv_KnSXcO",
    "tags": []
   },
   "outputs": [],
   "source": [
    "# Create a new DataFrame excluding the first 7 columns\n",
    "nba_new = nba.iloc[:, 7:]\n",
    "\n",
    "# Scale the data\n",
    "scaler = MinMaxScaler(feature_range=(0, 1))\n",
    "nbaScaled = scaler.fit_transform(nba_new)"
   ]
  },
  {
   "cell_type": "code",
   "execution_count": 82,
   "id": "c9e46944",
   "metadata": {
    "deletable": false,
    "editable": false
   },
   "outputs": [
    {
     "data": {
      "text/html": [
       "<p><strong><pre style='display: inline;'>q2b</pre></strong> passed! ✨</p>"
      ],
      "text/plain": [
       "q2b results: All test cases passed!"
      ]
     },
     "execution_count": 82,
     "metadata": {},
     "output_type": "execute_result"
    }
   ],
   "source": [
    "grader.check(\"q2b\")"
   ]
  },
  {
   "cell_type": "markdown",
   "id": "1d54a32c-8890-4e47-87f9-db3c7ea6814d",
   "metadata": {
    "deletable": false,
    "editable": false,
    "id": "zRQAkQN_bjP-"
   },
   "source": [
    "## Q2(c)\n",
    "\n",
    "Run Kmeans clustering on the data with k=2, . . . , 12.  Set the `random_state` in the Kmeans method to 42 and `n_init` to 10. \n",
    "For each value of k, keep track of the within-cluster variation (this quantity is referred to as different terms such as “inertia” and total “within-cluster sum-of-squares”), the Calinski-Harabasz score, and the Davies-Bouldin index on the resulting clusters. "
   ]
  },
  {
   "cell_type": "code",
   "execution_count": 89,
   "id": "ec112415-4bca-4942-9b73-3cc8774e12d6",
   "metadata": {
    "id": "FlDI1-jTS2kb",
    "tags": []
   },
   "outputs": [],
   "source": [
    "from sklearn.cluster import KMeans\n",
    "from sklearn.metrics import calinski_harabasz_score, davies_bouldin_score\n",
    "\n",
    "# Define the range of k values\n",
    "k_values = range(2, 13)\n",
    "\n",
    "# Initialize lists to store metrics\n",
    "sse = []\n",
    "ch_score = []\n",
    "db_score = []\n",
    "\n",
    "# Loop over each value of k\n",
    "for k in k_values:\n",
    "    # Initialize KMeans model with specified parameters\n",
    "    kmeans = KMeans(n_clusters=k, random_state=42, n_init=10)\n",
    "    \n",
    "    # Fit the model to the scaled data\n",
    "    kmeans.fit(nbaScaled)\n",
    "    \n",
    "    # Append the within-cluster variation (inertia) to the list\n",
    "    sse.append(kmeans.inertia_)\n",
    "    \n",
    "    # Calculate and append the Calinski-Harabasz score\n",
    "    ch_score.append(calinski_harabasz_score(nbaScaled, kmeans.labels_))\n",
    "    \n",
    "    # Calculate and append the Davies-Bouldin score\n",
    "    db_score.append(davies_bouldin_score(nbaScaled, kmeans.labels_))"
   ]
  },
  {
   "cell_type": "code",
   "execution_count": 90,
   "id": "fa8fd506",
   "metadata": {
    "deletable": false,
    "editable": false
   },
   "outputs": [
    {
     "data": {
      "text/html": [
       "<p><strong style='color: red;'><pre style='display: inline;'>q2c</pre> results:</strong></p><p><strong><pre style='display: inline;'>q2c - 1</pre> result:</strong></p><pre>    ❌ Test case failed\n",
       "    Trying:\n",
       "        len(sse) == 9\n",
       "    Expecting:\n",
       "        True\n",
       "    **********************************************************************\n",
       "    Line 1, in q2c 0\n",
       "    Failed example:\n",
       "        len(sse) == 9\n",
       "    Expected:\n",
       "        True\n",
       "    Got:\n",
       "        False\n",
       "</pre>"
      ],
      "text/plain": [
       "q2c results:\n",
       "    q2c - 1 result:\n",
       "        ❌ Test case failed\n",
       "        Trying:\n",
       "            len(sse) == 9\n",
       "        Expecting:\n",
       "            True\n",
       "        **********************************************************************\n",
       "        Line 1, in q2c 0\n",
       "        Failed example:\n",
       "            len(sse) == 9\n",
       "        Expected:\n",
       "            True\n",
       "        Got:\n",
       "            False"
      ]
     },
     "execution_count": 90,
     "metadata": {},
     "output_type": "execute_result"
    }
   ],
   "source": [
    "grader.check(\"q2c\")"
   ]
  },
  {
   "cell_type": "markdown",
   "id": "82f61a8a-d400-4712-a373-d779c4366a3d",
   "metadata": {
    "deletable": false,
    "editable": false,
    "id": "3KxomcXvHzWv"
   },
   "source": [
    "## Q2(d)\n",
    "\n",
    "Assuming the best number of clusters is 4 (depending on which measure we use different number of clusters is preferred with this data). \n",
    "\n",
    "Run Kmeans again with this value for $k$ (use `n_init` = 10 and `random_state` = 10).\n",
    "\n",
    "Create a DataFrame `clusterStats` with the mean statistics (centers) of each group. \n",
    "\n",
    "The DataFrame should have rows for each cluster group 0, 1, 2, 3 and columns for the mean statistics.  \n",
    "\n",
    "Add a column `Num` reporting the number of samples in each group. \n"
   ]
  },
  {
   "cell_type": "code",
   "execution_count": 93,
   "id": "cedd5c2a-6fdb-4113-9217-6515a948bb64",
   "metadata": {
    "tags": []
   },
   "outputs": [
    {
     "data": {
      "text/html": [
       "<div>\n",
       "<style scoped>\n",
       "    .dataframe tbody tr th:only-of-type {\n",
       "        vertical-align: middle;\n",
       "    }\n",
       "\n",
       "    .dataframe tbody tr th {\n",
       "        vertical-align: top;\n",
       "    }\n",
       "\n",
       "    .dataframe thead th {\n",
       "        text-align: right;\n",
       "    }\n",
       "</style>\n",
       "<table border=\"1\" class=\"dataframe\">\n",
       "  <thead>\n",
       "    <tr style=\"text-align: right;\">\n",
       "      <th></th>\n",
       "      <th>MP</th>\n",
       "      <th>FG</th>\n",
       "      <th>FGA</th>\n",
       "      <th>3P</th>\n",
       "      <th>3PA</th>\n",
       "      <th>2P</th>\n",
       "      <th>2PA</th>\n",
       "      <th>FT</th>\n",
       "      <th>FTA</th>\n",
       "      <th>ORB</th>\n",
       "      <th>DRB</th>\n",
       "      <th>TRB</th>\n",
       "      <th>AST</th>\n",
       "      <th>STL</th>\n",
       "      <th>BLK</th>\n",
       "      <th>TOV</th>\n",
       "      <th>PF</th>\n",
       "      <th>PTS</th>\n",
       "      <th>Num</th>\n",
       "    </tr>\n",
       "  </thead>\n",
       "  <tbody>\n",
       "    <tr>\n",
       "      <th>0</th>\n",
       "      <td>15.048756</td>\n",
       "      <td>2.015920</td>\n",
       "      <td>4.552239</td>\n",
       "      <td>0.600995</td>\n",
       "      <td>1.787065</td>\n",
       "      <td>1.412935</td>\n",
       "      <td>2.766667</td>\n",
       "      <td>0.753731</td>\n",
       "      <td>1.038308</td>\n",
       "      <td>0.657711</td>\n",
       "      <td>2.024876</td>\n",
       "      <td>2.679602</td>\n",
       "      <td>1.227363</td>\n",
       "      <td>0.437811</td>\n",
       "      <td>0.314925</td>\n",
       "      <td>0.695522</td>\n",
       "      <td>1.504975</td>\n",
       "      <td>5.383085</td>\n",
       "      <td>201</td>\n",
       "    </tr>\n",
       "    <tr>\n",
       "      <th>1</th>\n",
       "      <td>33.391304</td>\n",
       "      <td>7.991304</td>\n",
       "      <td>17.121739</td>\n",
       "      <td>2.026087</td>\n",
       "      <td>5.621739</td>\n",
       "      <td>5.960870</td>\n",
       "      <td>11.495652</td>\n",
       "      <td>4.339130</td>\n",
       "      <td>5.408696</td>\n",
       "      <td>1.197826</td>\n",
       "      <td>5.334783</td>\n",
       "      <td>6.536957</td>\n",
       "      <td>5.258696</td>\n",
       "      <td>1.191304</td>\n",
       "      <td>0.613043</td>\n",
       "      <td>2.721739</td>\n",
       "      <td>2.360870</td>\n",
       "      <td>22.341304</td>\n",
       "      <td>46</td>\n",
       "    </tr>\n",
       "    <tr>\n",
       "      <th>2</th>\n",
       "      <td>27.018400</td>\n",
       "      <td>4.183200</td>\n",
       "      <td>9.619200</td>\n",
       "      <td>1.512000</td>\n",
       "      <td>4.181600</td>\n",
       "      <td>2.673600</td>\n",
       "      <td>5.438400</td>\n",
       "      <td>1.624800</td>\n",
       "      <td>2.065600</td>\n",
       "      <td>0.712000</td>\n",
       "      <td>3.157600</td>\n",
       "      <td>3.865600</td>\n",
       "      <td>2.816800</td>\n",
       "      <td>0.889600</td>\n",
       "      <td>0.390400</td>\n",
       "      <td>1.410400</td>\n",
       "      <td>2.141600</td>\n",
       "      <td>11.498400</td>\n",
       "      <td>125</td>\n",
       "    </tr>\n",
       "    <tr>\n",
       "      <th>3</th>\n",
       "      <td>26.404167</td>\n",
       "      <td>5.147917</td>\n",
       "      <td>9.587500</td>\n",
       "      <td>0.477083</td>\n",
       "      <td>1.404167</td>\n",
       "      <td>4.683333</td>\n",
       "      <td>8.181250</td>\n",
       "      <td>2.250000</td>\n",
       "      <td>3.179167</td>\n",
       "      <td>2.470833</td>\n",
       "      <td>5.833333</td>\n",
       "      <td>8.310417</td>\n",
       "      <td>1.956250</td>\n",
       "      <td>0.777083</td>\n",
       "      <td>1.050000</td>\n",
       "      <td>1.556250</td>\n",
       "      <td>2.725000</td>\n",
       "      <td>13.035417</td>\n",
       "      <td>48</td>\n",
       "    </tr>\n",
       "  </tbody>\n",
       "</table>\n",
       "</div>"
      ],
      "text/plain": [
       "          MP        FG        FGA        3P       3PA        2P        2PA  \\\n",
       "0  15.048756  2.015920   4.552239  0.600995  1.787065  1.412935   2.766667   \n",
       "1  33.391304  7.991304  17.121739  2.026087  5.621739  5.960870  11.495652   \n",
       "2  27.018400  4.183200   9.619200  1.512000  4.181600  2.673600   5.438400   \n",
       "3  26.404167  5.147917   9.587500  0.477083  1.404167  4.683333   8.181250   \n",
       "\n",
       "         FT       FTA       ORB       DRB       TRB       AST       STL  \\\n",
       "0  0.753731  1.038308  0.657711  2.024876  2.679602  1.227363  0.437811   \n",
       "1  4.339130  5.408696  1.197826  5.334783  6.536957  5.258696  1.191304   \n",
       "2  1.624800  2.065600  0.712000  3.157600  3.865600  2.816800  0.889600   \n",
       "3  2.250000  3.179167  2.470833  5.833333  8.310417  1.956250  0.777083   \n",
       "\n",
       "        BLK       TOV        PF        PTS  Num  \n",
       "0  0.314925  0.695522  1.504975   5.383085  201  \n",
       "1  0.613043  2.721739  2.360870  22.341304   46  \n",
       "2  0.390400  1.410400  2.141600  11.498400  125  \n",
       "3  1.050000  1.556250  2.725000  13.035417   48  "
      ]
     },
     "execution_count": 93,
     "metadata": {},
     "output_type": "execute_result"
    }
   ],
   "source": [
    "# Create a Data Frame for the mean statistics of each group \n",
    "# Assuming the best number of clusters is 4\n",
    "best_k = 4\n",
    "\n",
    "# Initialize KMeans model with best value of k\n",
    "kmeans_best = KMeans(n_clusters=best_k, random_state=10, n_init=10)\n",
    "\n",
    "# Fit the model to the scaled data\n",
    "kmeans_best.fit(nbaScaled)\n",
    "\n",
    "# Get the cluster centers (mean statistics)\n",
    "cluster_centers = scaler.inverse_transform(kmeans_best.cluster_centers_)\n",
    "\n",
    "# Create DataFrame for cluster statistics\n",
    "clusterStats = pd.DataFrame(cluster_centers, columns=nba_new.columns)\n",
    "\n",
    "# Add column for number of samples in each group\n",
    "clusterStats['Num'] = pd.Series(kmeans_best.labels_).value_counts().sort_index().values\n",
    "\n",
    "clusterStats[['Num', 'MP', 'FG', '3P', 'FT']]\n",
    "clusterStats\n"
   ]
  },
  {
   "cell_type": "code",
   "execution_count": 94,
   "id": "8959bbeb",
   "metadata": {
    "deletable": false,
    "editable": false
   },
   "outputs": [
    {
     "data": {
      "text/html": [
       "<p><strong><pre style='display: inline;'>q2d</pre></strong> passed! 🌈</p>"
      ],
      "text/plain": [
       "q2d results: All test cases passed!"
      ]
     },
     "execution_count": 94,
     "metadata": {},
     "output_type": "execute_result"
    }
   ],
   "source": [
    "grader.check(\"q2d\")"
   ]
  },
  {
   "cell_type": "markdown",
   "id": "e5e8625e-0bd0-45dd-ba69-0ab35fe92de2",
   "metadata": {
    "deletable": false,
    "editable": false,
    "id": "x7468csSIxk6"
   },
   "source": [
    "## Q2(e)\n",
    "\n",
    "Report the same statistics as in (e), but using the original data scaling (reverse the scaling back to the original data range). \n",
    "\n",
    "Store results in `clusterStatsOrig`; this DataFrame should not have the \"Num\" column.\n",
    "\n"
   ]
  },
  {
   "cell_type": "code",
   "execution_count": 95,
   "id": "ae41e5f6-3f48-4b6b-b859-f0157bc5e7b4",
   "metadata": {
    "colab": {
     "base_uri": "https://localhost:8080/",
     "height": 363
    },
    "id": "Ghj4SEpXHzAV",
    "outputId": "64fbf9fd-a15c-4252-b529-43796b2f4b77",
    "tags": []
   },
   "outputs": [
    {
     "data": {
      "text/html": [
       "<div>\n",
       "<style scoped>\n",
       "    .dataframe tbody tr th:only-of-type {\n",
       "        vertical-align: middle;\n",
       "    }\n",
       "\n",
       "    .dataframe tbody tr th {\n",
       "        vertical-align: top;\n",
       "    }\n",
       "\n",
       "    .dataframe thead th {\n",
       "        text-align: right;\n",
       "    }\n",
       "</style>\n",
       "<table border=\"1\" class=\"dataframe\">\n",
       "  <thead>\n",
       "    <tr style=\"text-align: right;\">\n",
       "      <th></th>\n",
       "      <th>MP</th>\n",
       "      <th>FG</th>\n",
       "      <th>3P</th>\n",
       "      <th>FT</th>\n",
       "    </tr>\n",
       "  </thead>\n",
       "  <tbody>\n",
       "    <tr>\n",
       "      <th>0</th>\n",
       "      <td>501.913831</td>\n",
       "      <td>21.568756</td>\n",
       "      <td>3.065075</td>\n",
       "      <td>7.311194</td>\n",
       "    </tr>\n",
       "    <tr>\n",
       "      <th>1</th>\n",
       "      <td>1109.052174</td>\n",
       "      <td>84.907826</td>\n",
       "      <td>10.333043</td>\n",
       "      <td>42.089565</td>\n",
       "    </tr>\n",
       "    <tr>\n",
       "      <th>2</th>\n",
       "      <td>898.109040</td>\n",
       "      <td>44.541920</td>\n",
       "      <td>7.711200</td>\n",
       "      <td>15.760560</td>\n",
       "    </tr>\n",
       "    <tr>\n",
       "      <th>3</th>\n",
       "      <td>877.777917</td>\n",
       "      <td>54.767917</td>\n",
       "      <td>2.433125</td>\n",
       "      <td>21.825000</td>\n",
       "    </tr>\n",
       "  </tbody>\n",
       "</table>\n",
       "</div>"
      ],
      "text/plain": [
       "            MP         FG         3P         FT\n",
       "0   501.913831  21.568756   3.065075   7.311194\n",
       "1  1109.052174  84.907826  10.333043  42.089565\n",
       "2   898.109040  44.541920   7.711200  15.760560\n",
       "3   877.777917  54.767917   2.433125  21.825000"
      ]
     },
     "execution_count": 95,
     "metadata": {},
     "output_type": "execute_result"
    }
   ],
   "source": [
    "# Create a Data Frame for the mean statistics of each group (using the original data scaling)\n",
    "\n",
    "# Apply inverse transformation to get original data range\n",
    "cluster_centers_orig = scaler.inverse_transform(cluster_centers)\n",
    "\n",
    "# Create DataFrame for cluster statistics with original data scaling\n",
    "clusterStatsOrig = pd.DataFrame(cluster_centers_orig, columns=nba_new.columns)\n",
    "\n",
    "# Reorder columns\n",
    "clusterStatsOrig = clusterStatsOrig[list(nba_new.columns)]\n",
    "\n",
    "clusterStatsOrig[['MP', 'FG', '3P', 'FT']]\n"
   ]
  },
  {
   "cell_type": "code",
   "execution_count": 96,
   "id": "d5e1e08d",
   "metadata": {
    "deletable": false,
    "editable": false
   },
   "outputs": [
    {
     "data": {
      "text/html": [
       "<p><strong><pre style='display: inline;'>q2e</pre></strong> passed! 🍀</p>"
      ],
      "text/plain": [
       "q2e results: All test cases passed!"
      ]
     },
     "execution_count": 96,
     "metadata": {},
     "output_type": "execute_result"
    }
   ],
   "source": [
    "grader.check(\"q2e\")"
   ]
  },
  {
   "cell_type": "markdown",
   "id": "3af88e03-8d64-431d-bce9-ea07a6e35661",
   "metadata": {
    "deletable": false,
    "editable": false,
    "id": "QIwBbzbpJQq-"
   },
   "source": [
    "<!-- BEGIN QUESTION -->\n",
    "\n",
    "## Q2(f) \n",
    "\n",
    "Apply PCA to the basketball data.  Plot the first two principal components, colored by the best group labels found above.  "
   ]
  },
  {
   "cell_type": "code",
   "execution_count": 100,
   "id": "8067f66a-5cd7-4d05-a071-11d4a46c268b",
   "metadata": {
    "colab": {
     "base_uri": "https://localhost:8080/",
     "height": 404
    },
    "id": "YC1HZ7yAJSo0",
    "outputId": "d7c066b4-ca40-4beb-defb-e3fd3e5769b6",
    "scrolled": true,
    "tags": []
   },
   "outputs": [
    {
     "data": {
      "image/png": "[encoded data removed]",
      "text/plain": [
       "<Figure size 800x600 with 2 Axes>"
      ]
     },
     "metadata": {},
     "output_type": "display_data"
    }
   ],
   "source": [
    "# Run PCA on the nba data and plot the first two principal components\n",
    "#  colored by the group labels. \n",
    "\n",
    "# Run KMeans clustering\n",
    "kmeans = KMeans(n_clusters=4, random_state=42, n_init=10)\n",
    "kmeans.fit(nbaScaled)\n",
    "\n",
    "# Get the cluster labels\n",
    "cluster_labels = kmeans.labels_\n",
    "\n",
    "# Fit PCA to the scaled basketball data\n",
    "pca = PCA(n_components=2)\n",
    "pca.fit(nbaScaled)\n",
    "\n",
    "# Transform the data into the principal component space\n",
    "nba_pca = pca.transform(nbaScaled)\n",
    "\n",
    "# Plot the first two principal components colored by the cluster labels\n",
    "plt.figure(figsize=(8, 6))\n",
    "plt.scatter(nba_pca[:, 0], nba_pca[:, 1], c=cluster_labels, cmap='viridis', alpha=0.7)\n",
    "plt.title('PCA of NBA Data (Colored by Cluster Labels)')\n",
    "plt.xlabel('Principal Component 1')\n",
    "plt.ylabel('Principal Component 2')\n",
    "plt.colorbar(label='Cluster Labels')\n",
    "plt.grid(True)\n",
    "plt.show()\n"
   ]
  },
  {
   "cell_type": "markdown",
   "id": "1d9b993e-f8c8-44a2-b7d7-b0b5c544cd7b",
   "metadata": {
    "deletable": false,
    "editable": false
   },
   "source": [
    "<!-- END QUESTION -->\n",
    "\n",
    "# Q3 : Clustering - Spotify Music\n",
    "\n",
    "For this problem you will look at popular streaming music.  Specifically, Spotify's top 100 streaming songs.  For each song information about the song is described with different properties: `duration`, `energy`, `key`, etc. \n"
   ]
  },
  {
   "cell_type": "markdown",
   "id": "5aac3933-ef48-44d1-b717-49443b2f10f2",
   "metadata": {
    "deletable": false,
    "editable": false
   },
   "source": [
    "## Q3(a) - Load and Prepare the Data \n",
    "\n",
    "Load in the `music.csv` data.  \n",
    "\n",
    "The clustering algorithms will only consider variables of `duration` to the end of the DataFrame. \n",
    "\n",
    "Standardize the variables to be used in clustering.  "
   ]
  },
  {
   "cell_type": "code",
   "execution_count": 102,
   "id": "d7953696-78ae-4414-8f08-fee696e89bc3",
   "metadata": {
    "tags": []
   },
   "outputs": [
    {
     "data": {
      "text/html": [
       "<div>\n",
       "<style scoped>\n",
       "    .dataframe tbody tr th:only-of-type {\n",
       "        vertical-align: middle;\n",
       "    }\n",
       "\n",
       "    .dataframe tbody tr th {\n",
       "        vertical-align: top;\n",
       "    }\n",
       "\n",
       "    .dataframe thead th {\n",
       "        text-align: right;\n",
       "    }\n",
       "</style>\n",
       "<table border=\"1\" class=\"dataframe\">\n",
       "  <thead>\n",
       "    <tr style=\"text-align: right;\">\n",
       "      <th></th>\n",
       "      <th>Song</th>\n",
       "      <th>Artist</th>\n",
       "      <th>Streams (Billions)</th>\n",
       "      <th>Release Date</th>\n",
       "      <th>id</th>\n",
       "      <th>duration</th>\n",
       "      <th>energy</th>\n",
       "      <th>key</th>\n",
       "      <th>loudness</th>\n",
       "      <th>mode</th>\n",
       "      <th>speechiness</th>\n",
       "      <th>acousticness</th>\n",
       "      <th>instrumentalness</th>\n",
       "      <th>liveness</th>\n",
       "      <th>valence</th>\n",
       "      <th>tempo</th>\n",
       "      <th>danceability</th>\n",
       "    </tr>\n",
       "  </thead>\n",
       "  <tbody>\n",
       "    <tr>\n",
       "      <th>0</th>\n",
       "      <td>Blinding Lights</td>\n",
       "      <td>The Weeknd</td>\n",
       "      <td>3.449</td>\n",
       "      <td>29-Nov-19</td>\n",
       "      <td>0VjIjW4GlUZAMYd2vXMi3b</td>\n",
       "      <td>3.33</td>\n",
       "      <td>0.730</td>\n",
       "      <td>1</td>\n",
       "      <td>-5.934</td>\n",
       "      <td>1</td>\n",
       "      <td>0.0598</td>\n",
       "      <td>0.00146</td>\n",
       "      <td>0.000095</td>\n",
       "      <td>0.0897</td>\n",
       "      <td>0.334</td>\n",
       "      <td>171.005</td>\n",
       "      <td>0.514</td>\n",
       "    </tr>\n",
       "    <tr>\n",
       "      <th>1</th>\n",
       "      <td>Shape of You</td>\n",
       "      <td>Ed Sheeran</td>\n",
       "      <td>3.398</td>\n",
       "      <td>06-Jan-17</td>\n",
       "      <td>7qiZfU4dY1lWllzX7mPBI3</td>\n",
       "      <td>3.90</td>\n",
       "      <td>0.652</td>\n",
       "      <td>1</td>\n",
       "      <td>-3.183</td>\n",
       "      <td>0</td>\n",
       "      <td>0.0802</td>\n",
       "      <td>0.58100</td>\n",
       "      <td>0.000000</td>\n",
       "      <td>0.0931</td>\n",
       "      <td>0.931</td>\n",
       "      <td>95.977</td>\n",
       "      <td>0.825</td>\n",
       "    </tr>\n",
       "    <tr>\n",
       "      <th>2</th>\n",
       "      <td>Dance Monkey</td>\n",
       "      <td>Tones And I</td>\n",
       "      <td>2.770</td>\n",
       "      <td>10-May-19</td>\n",
       "      <td>2XU0oxnq2qxCpomAAuJY8K</td>\n",
       "      <td>3.49</td>\n",
       "      <td>0.588</td>\n",
       "      <td>6</td>\n",
       "      <td>-6.400</td>\n",
       "      <td>0</td>\n",
       "      <td>0.0924</td>\n",
       "      <td>0.69200</td>\n",
       "      <td>0.000104</td>\n",
       "      <td>0.1490</td>\n",
       "      <td>0.513</td>\n",
       "      <td>98.027</td>\n",
       "      <td>0.824</td>\n",
       "    </tr>\n",
       "    <tr>\n",
       "      <th>3</th>\n",
       "      <td>Someone You Loved</td>\n",
       "      <td>Lewis Capaldi</td>\n",
       "      <td>2.680</td>\n",
       "      <td>08-Nov-18</td>\n",
       "      <td>7qEHsqek33rTcFNT9PFqLf</td>\n",
       "      <td>3.04</td>\n",
       "      <td>0.405</td>\n",
       "      <td>1</td>\n",
       "      <td>-5.679</td>\n",
       "      <td>1</td>\n",
       "      <td>0.0319</td>\n",
       "      <td>0.75100</td>\n",
       "      <td>0.000000</td>\n",
       "      <td>0.1050</td>\n",
       "      <td>0.446</td>\n",
       "      <td>109.891</td>\n",
       "      <td>0.501</td>\n",
       "    </tr>\n",
       "    <tr>\n",
       "      <th>4</th>\n",
       "      <td>Rockstar</td>\n",
       "      <td>Post Malone featuring 21 Savage</td>\n",
       "      <td>2.620</td>\n",
       "      <td>15-Sep-17</td>\n",
       "      <td>0e7ipj03S05BNilyu5bRzt</td>\n",
       "      <td>3.64</td>\n",
       "      <td>0.520</td>\n",
       "      <td>5</td>\n",
       "      <td>-6.136</td>\n",
       "      <td>0</td>\n",
       "      <td>0.0712</td>\n",
       "      <td>0.12400</td>\n",
       "      <td>0.000070</td>\n",
       "      <td>0.1310</td>\n",
       "      <td>0.129</td>\n",
       "      <td>159.801</td>\n",
       "      <td>0.585</td>\n",
       "    </tr>\n",
       "  </tbody>\n",
       "</table>\n",
       "</div>"
      ],
      "text/plain": [
       "                Song                           Artist  Streams (Billions)  \\\n",
       "0    Blinding Lights                       The Weeknd               3.449   \n",
       "1       Shape of You                       Ed Sheeran               3.398   \n",
       "2       Dance Monkey                      Tones And I               2.770   \n",
       "3  Someone You Loved                    Lewis Capaldi               2.680   \n",
       "4           Rockstar  Post Malone featuring 21 Savage               2.620   \n",
       "\n",
       "  Release Date                      id  duration  energy  key  loudness  mode  \\\n",
       "0    29-Nov-19  0VjIjW4GlUZAMYd2vXMi3b      3.33   0.730    1    -5.934     1   \n",
       "1    06-Jan-17  7qiZfU4dY1lWllzX7mPBI3      3.90   0.652    1    -3.183     0   \n",
       "2    10-May-19  2XU0oxnq2qxCpomAAuJY8K      3.49   0.588    6    -6.400     0   \n",
       "3    08-Nov-18  7qEHsqek33rTcFNT9PFqLf      3.04   0.405    1    -5.679     1   \n",
       "4    15-Sep-17  0e7ipj03S05BNilyu5bRzt      3.64   0.520    5    -6.136     0   \n",
       "\n",
       "   speechiness  acousticness  instrumentalness  liveness  valence    tempo  \\\n",
       "0       0.0598       0.00146          0.000095    0.0897    0.334  171.005   \n",
       "1       0.0802       0.58100          0.000000    0.0931    0.931   95.977   \n",
       "2       0.0924       0.69200          0.000104    0.1490    0.513   98.027   \n",
       "3       0.0319       0.75100          0.000000    0.1050    0.446  109.891   \n",
       "4       0.0712       0.12400          0.000070    0.1310    0.129  159.801   \n",
       "\n",
       "   danceability  \n",
       "0         0.514  \n",
       "1         0.825  \n",
       "2         0.824  \n",
       "3         0.501  \n",
       "4         0.585  "
      ]
     },
     "execution_count": 102,
     "metadata": {},
     "output_type": "execute_result"
    }
   ],
   "source": [
    "# Load in music data \n",
    "\n",
    "music = pd.read_csv('data/music.csv')\n",
    "\n",
    "music.head()"
   ]
  },
  {
   "cell_type": "code",
   "execution_count": 103,
   "id": "e80922ba",
   "metadata": {
    "deletable": false,
    "editable": false
   },
   "outputs": [
    {
     "data": {
      "text/html": [
       "<p><strong><pre style='display: inline;'>q3a</pre></strong> passed! 💯</p>"
      ],
      "text/plain": [
       "q3a results: All test cases passed!"
      ]
     },
     "execution_count": 103,
     "metadata": {},
     "output_type": "execute_result"
    }
   ],
   "source": [
    "grader.check(\"q3a\")"
   ]
  },
  {
   "cell_type": "markdown",
   "id": "0168d5da-71af-4cc9-a4d0-e83706d4f4a8",
   "metadata": {
    "deletable": false,
    "editable": false
   },
   "source": [
    "## Q3(b) - Hierarchical Clustering \n",
    "\n",
    "Perform Hierarchical clustering with **single** linkage on just the top 30 songs. \n",
    "\n",
    "Report results in a dendrogram, `dg_single` and label the samples by the Artist.  \n",
    "\n"
   ]
  },
  {
   "cell_type": "code",
   "execution_count": 116,
   "id": "842020bb-b97f-42d3-be42-a0af6c745cda",
   "metadata": {
    "tags": []
   },
   "outputs": [],
   "source": [
    "# Perform Hierarchical clustering with single linkage on top 30 songs \n",
    "# Report results in a dendrogram, dg_single\n"
   ]
  },
  {
   "cell_type": "code",
   "execution_count": 109,
   "id": "fa48264f",
   "metadata": {
    "deletable": false,
    "editable": false
   },
   "outputs": [
    {
     "data": {
      "text/html": [
       "<p><strong style='color: red;'><pre style='display: inline;'>q3b</pre> results:</strong></p><p><strong><pre style='display: inline;'>q3b - 1</pre> result:</strong></p><pre>    ❌ Test case failed\n",
       "    Trying:\n",
       "        dg_single['leaves'][1:5] == [23, 11, 14, 21]\n",
       "    Expecting:\n",
       "        True\n",
       "    **********************************************************************\n",
       "    Line 1, in q3b 0\n",
       "    Failed example:\n",
       "        dg_single['leaves'][1:5] == [23, 11, 14, 21]\n",
       "    Expected:\n",
       "        True\n",
       "    Got:\n",
       "        False\n",
       "</pre><p><strong><pre style='display: inline;'>q3b - 2</pre> result:</strong></p><pre>    ❌ Test case failed\n",
       "    Trying:\n",
       "        dg_single['leaves'][20:24] == [8, 19, 25, 4]\n",
       "    Expecting:\n",
       "        True\n",
       "    **********************************************************************\n",
       "    Line 1, in q3b 1\n",
       "    Failed example:\n",
       "        dg_single['leaves'][20:24] == [8, 19, 25, 4]\n",
       "    Expected:\n",
       "        True\n",
       "    Got:\n",
       "        False\n",
       "</pre><p><strong><pre style='display: inline;'>q3b - 3</pre> result:</strong></p><pre>    ❌ Test case failed\n",
       "    Trying:\n",
       "        dg_single['leaves'][10:15] == [10, 13, 2, 5, 3]\n",
       "    Expecting:\n",
       "        True\n",
       "    **********************************************************************\n",
       "    Line 1, in q3b 2\n",
       "    Failed example:\n",
       "        dg_single['leaves'][10:15] == [10, 13, 2, 5, 3]\n",
       "    Expected:\n",
       "        True\n",
       "    Got:\n",
       "        False\n",
       "</pre>"
      ],
      "text/plain": [
       "q3b results:\n",
       "    q3b - 1 result:\n",
       "        ❌ Test case failed\n",
       "        Trying:\n",
       "            dg_single['leaves'][1:5] == [23, 11, 14, 21]\n",
       "        Expecting:\n",
       "            True\n",
       "        **********************************************************************\n",
       "        Line 1, in q3b 0\n",
       "        Failed example:\n",
       "            dg_single['leaves'][1:5] == [23, 11, 14, 21]\n",
       "        Expected:\n",
       "            True\n",
       "        Got:\n",
       "            False\n",
       "\n",
       "    q3b - 2 result:\n",
       "        ❌ Test case failed\n",
       "        Trying:\n",
       "            dg_single['leaves'][20:24] == [8, 19, 25, 4]\n",
       "        Expecting:\n",
       "            True\n",
       "        **********************************************************************\n",
       "        Line 1, in q3b 1\n",
       "        Failed example:\n",
       "            dg_single['leaves'][20:24] == [8, 19, 25, 4]\n",
       "        Expected:\n",
       "            True\n",
       "        Got:\n",
       "            False\n",
       "\n",
       "    q3b - 3 result:\n",
       "        ❌ Test case failed\n",
       "        Trying:\n",
       "            dg_single['leaves'][10:15] == [10, 13, 2, 5, 3]\n",
       "        Expecting:\n",
       "            True\n",
       "        **********************************************************************\n",
       "        Line 1, in q3b 2\n",
       "        Failed example:\n",
       "            dg_single['leaves'][10:15] == [10, 13, 2, 5, 3]\n",
       "        Expected:\n",
       "            True\n",
       "        Got:\n",
       "            False"
      ]
     },
     "execution_count": 109,
     "metadata": {},
     "output_type": "execute_result"
    }
   ],
   "source": [
    "grader.check(\"q3b\")"
   ]
  },
  {
   "cell_type": "markdown",
   "id": "25137c87-0094-4628-a42f-22a40cd0d3c2",
   "metadata": {
    "deletable": false,
    "editable": false
   },
   "source": [
    "## Q3(c) - Hierarchical Clustering, part 2 \n",
    "\n",
    "Perform Hierarchical clustering with **complete** linkage on just the top 30 songs.\n",
    "\n",
    "Report results in a dendrogram, `dn_complete` and label the samples by the Artist."
   ]
  },
  {
   "cell_type": "code",
   "execution_count": 120,
   "id": "e8169b7a-8492-44fe-8328-3a5298707ce2",
   "metadata": {
    "tags": []
   },
   "outputs": [],
   "source": [
    "# Perform Hierarchical clustering with complete linkage on top 30 songs \n",
    "# Report results in a dendrogram, dg_complete\n",
    "import matplotlib.pyplot as plt\n",
    "from scipy.cluster.hierarchy import dendrogram, linkage\n",
    "import pandas as pd\n"
   ]
  },
  {
   "cell_type": "code",
   "execution_count": 119,
   "id": "fea8222e",
   "metadata": {
    "deletable": false,
    "editable": false
   },
   "outputs": [
    {
     "data": {
      "text/html": [
       "<p><strong style='color: red;'><pre style='display: inline;'>q3c</pre> results:</strong></p><p><strong><pre style='display: inline;'>q3c - 1</pre> result:</strong></p><pre>    ❌ Test case failed\n",
       "    Trying:\n",
       "        dg_complete['leaves'][1:5] == [1, 2, 3, 5]\n",
       "    Expecting:\n",
       "        True\n",
       "    **********************************************************************\n",
       "    Line 1, in q3c 0\n",
       "    Failed example:\n",
       "        dg_complete['leaves'][1:5] == [1, 2, 3, 5]\n",
       "    Exception raised:\n",
       "        Traceback (most recent call last):\n",
       "          File \"/home/campus14/dmmunson/.conda/envs/cs4821/lib/python3.10/doctest.py\", line 1350, in __run\n",
       "            exec(compile(example.source, filename, \"single\",\n",
       "          File \"<doctest q3c 0[0]>\", line 1, in <module>\n",
       "            dg_complete['leaves'][1:5] == [1, 2, 3, 5]\n",
       "        NameError: name 'dg_complete' is not defined\n",
       "</pre><p><strong><pre style='display: inline;'>q3c - 2</pre> result:</strong></p><pre>    ❌ Test case failed\n",
       "    Trying:\n",
       "        dg_complete['leaves'][10:15] == [27, 11, 13, 6, 20]\n",
       "    Expecting:\n",
       "        True\n",
       "    **********************************************************************\n",
       "    Line 1, in q3c 1\n",
       "    Failed example:\n",
       "        dg_complete['leaves'][10:15] == [27, 11, 13, 6, 20]\n",
       "    Exception raised:\n",
       "        Traceback (most recent call last):\n",
       "          File \"/home/campus14/dmmunson/.conda/envs/cs4821/lib/python3.10/doctest.py\", line 1350, in __run\n",
       "            exec(compile(example.source, filename, \"single\",\n",
       "          File \"<doctest q3c 1[0]>\", line 1, in <module>\n",
       "            dg_complete['leaves'][10:15] == [27, 11, 13, 6, 20]\n",
       "        NameError: name 'dg_complete' is not defined\n",
       "</pre><p><strong><pre style='display: inline;'>q3c - 3</pre> result:</strong></p><pre>    ❌ Test case failed\n",
       "    Trying:\n",
       "        dg_complete['leaves'][23:27] == [22, 16, 26, 7]\n",
       "    Expecting:\n",
       "        True\n",
       "    **********************************************************************\n",
       "    Line 1, in q3c 2\n",
       "    Failed example:\n",
       "        dg_complete['leaves'][23:27] == [22, 16, 26, 7]\n",
       "    Exception raised:\n",
       "        Traceback (most recent call last):\n",
       "          File \"/home/campus14/dmmunson/.conda/envs/cs4821/lib/python3.10/doctest.py\", line 1350, in __run\n",
       "            exec(compile(example.source, filename, \"single\",\n",
       "          File \"<doctest q3c 2[0]>\", line 1, in <module>\n",
       "            dg_complete['leaves'][23:27] == [22, 16, 26, 7]\n",
       "        NameError: name 'dg_complete' is not defined\n",
       "</pre>"
      ],
      "text/plain": [
       "q3c results:\n",
       "    q3c - 1 result:\n",
       "        ❌ Test case failed\n",
       "        Trying:\n",
       "            dg_complete['leaves'][1:5] == [1, 2, 3, 5]\n",
       "        Expecting:\n",
       "            True\n",
       "        **********************************************************************\n",
       "        Line 1, in q3c 0\n",
       "        Failed example:\n",
       "            dg_complete['leaves'][1:5] == [1, 2, 3, 5]\n",
       "        Exception raised:\n",
       "            Traceback (most recent call last):\n",
       "              File \"/home/campus14/dmmunson/.conda/envs/cs4821/lib/python3.10/doctest.py\", line 1350, in __run\n",
       "                exec(compile(example.source, filename, \"single\",\n",
       "              File \"<doctest q3c 0[0]>\", line 1, in <module>\n",
       "                dg_complete['leaves'][1:5] == [1, 2, 3, 5]\n",
       "            NameError: name 'dg_complete' is not defined\n",
       "\n",
       "    q3c - 2 result:\n",
       "        ❌ Test case failed\n",
       "        Trying:\n",
       "            dg_complete['leaves'][10:15] == [27, 11, 13, 6, 20]\n",
       "        Expecting:\n",
       "            True\n",
       "        **********************************************************************\n",
       "        Line 1, in q3c 1\n",
       "        Failed example:\n",
       "            dg_complete['leaves'][10:15] == [27, 11, 13, 6, 20]\n",
       "        Exception raised:\n",
       "            Traceback (most recent call last):\n",
       "              File \"/home/campus14/dmmunson/.conda/envs/cs4821/lib/python3.10/doctest.py\", line 1350, in __run\n",
       "                exec(compile(example.source, filename, \"single\",\n",
       "              File \"<doctest q3c 1[0]>\", line 1, in <module>\n",
       "                dg_complete['leaves'][10:15] == [27, 11, 13, 6, 20]\n",
       "            NameError: name 'dg_complete' is not defined\n",
       "\n",
       "    q3c - 3 result:\n",
       "        ❌ Test case failed\n",
       "        Trying:\n",
       "            dg_complete['leaves'][23:27] == [22, 16, 26, 7]\n",
       "        Expecting:\n",
       "            True\n",
       "        **********************************************************************\n",
       "        Line 1, in q3c 2\n",
       "        Failed example:\n",
       "            dg_complete['leaves'][23:27] == [22, 16, 26, 7]\n",
       "        Exception raised:\n",
       "            Traceback (most recent call last):\n",
       "              File \"/home/campus14/dmmunson/.conda/envs/cs4821/lib/python3.10/doctest.py\", line 1350, in __run\n",
       "                exec(compile(example.source, filename, \"single\",\n",
       "              File \"<doctest q3c 2[0]>\", line 1, in <module>\n",
       "                dg_complete['leaves'][23:27] == [22, 16, 26, 7]\n",
       "            NameError: name 'dg_complete' is not defined"
      ]
     },
     "execution_count": 119,
     "metadata": {},
     "output_type": "execute_result"
    }
   ],
   "source": [
    "grader.check(\"q3c\")"
   ]
  },
  {
   "cell_type": "markdown",
   "id": "daea1262-05af-47aa-ad6a-d5940df8e23b",
   "metadata": {
    "deletable": false,
    "editable": false
   },
   "source": [
    "## Q3(d) - Hierarchical Clustering, part 3\n",
    "\n",
    "Perform Hierarchical clustering with **aveage** linkage on just the top 30 songs.\n",
    "\n",
    "Report results in a dendrogram, `dn_average` and label the samples by the Artist."
   ]
  },
  {
   "cell_type": "code",
   "execution_count": null,
   "id": "eae46a20-0a02-4918-8d72-3a6c82139060",
   "metadata": {
    "tags": []
   },
   "outputs": [],
   "source": [
    "# Perform Hierarchical clustering with average linkage on top 30 songs \n",
    "# Report results in a dendrogram, dg_average\n"
   ]
  },
  {
   "cell_type": "code",
   "execution_count": null,
   "id": "2afa6855",
   "metadata": {
    "deletable": false,
    "editable": false
   },
   "outputs": [],
   "source": [
    "grader.check(\"q3d\")"
   ]
  },
  {
   "cell_type": "markdown",
   "id": "b69550bd",
   "metadata": {
    "deletable": false,
    "editable": false
   },
   "source": [
    "## Submission\n",
    "\n",
    "Make sure you have run all cells in your notebook in order before running the cell below, so that all images/graphs appear in the output. The cell below will generate a zip file for you to submit. **Please save before exporting!**\n",
    "\n",
    "**NOTE** the submission must be run on the campus linux machines.  See the instruction in the Canvas assignment."
   ]
  },
  {
   "cell_type": "code",
   "execution_count": null,
   "id": "1ec07769",
   "metadata": {
    "deletable": false,
    "editable": false
   },
   "outputs": [],
   "source": [
    "# Save your notebook first, then run this cell to export your submission.\n",
    "grader.export(pdf=False)"
   ]
  },
  {
   "cell_type": "markdown",
   "id": "ec841d03",
   "metadata": {},
   "source": [
    " "
   ]
  }
 ],
 "metadata": {
  "kernelspec": {
   "display_name": "Python [conda env:.conda-cs4821] *",
   "language": "python",
   "name": "conda-env-.conda-cs4821-py"
  },
  "language_info": {
   "codemirror_mode": {
    "name": "ipython",
    "version": 3
   },
   "file_extension": ".py",
   "mimetype": "text/x-python",
   "name": "python",
   "nbconvert_exporter": "python",
   "pygments_lexer": "ipython3",
   "version": "3.10.13"
  },
  "otter": {
   "OK_FORMAT": true,
   "assignment_name": "a4",
   "tests": {
    "q0": {
     "name": "q0",
     "points": 2,
     "suites": [
      {
       "cases": [
        {
         "code": ">>> COLAB == False\nTrue",
         "hidden": false,
         "locked": false
        },
        {
         "code": ">>> (LLM == True) | (GS == True)\nTrue",
         "hidden": false,
         "locked": false
        }
       ],
       "scored": true,
       "setup": "",
       "teardown": "",
       "type": "doctest"
      }
     ]
    },
    "q1a": {
     "name": "q1a",
     "points": [
      2,
      2,
      2,
      2,
      2,
      2
     ],
     "suites": [
      {
       "cases": [
        {
         "code": ">>> len(textdata) == 327\nTrue",
         "hidden": false,
         "locked": false
        },
        {
         "code": ">>> all(np.bincount(yvalues) == [119, 208])\nTrue",
         "hidden": false,
         "locked": false
        },
        {
         "code": ">>> textdata[0].decode()[0:40] == '\\r\\ni muse my lord of gloucester is not co'\nTrue",
         "hidden": false,
         "locked": false
        },
        {
         "code": ">>> textdata[10].decode()[0:40] == '\\r\\nkill the poys and the luggage tis expr'\nTrue",
         "hidden": false,
         "locked": false
        },
        {
         "code": ">>> textdata[23].decode()[200:250] == ' bishop here at whose hands\\r\\nhe hath good usage an'\nTrue",
         "hidden": false,
         "locked": false
        },
        {
         "code": ">>> textdata[13].decode()[50:100] == 'ir give me your hand sir an early stirrer by\\r\\nthe '\nTrue",
         "hidden": false,
         "locked": false
        }
       ],
       "scored": true,
       "setup": "",
       "teardown": "",
       "type": "doctest"
      }
     ]
    },
    "q1b": {
     "name": "q1b",
     "points": [
      2,
      2,
      2,
      2,
      1,
      1
     ],
     "suites": [
      {
       "cases": [
        {
         "code": ">>> len(text_trainval) == 261\nTrue",
         "hidden": false,
         "locked": false
        },
        {
         "code": ">>> len(text_test) == 66\nTrue",
         "hidden": false,
         "locked": false
        },
        {
         "code": ">>> all(y_trainval[0:10] == [1, 0, 1, 0, 0, 1, 1, 0, 0, 1])\nTrue",
         "hidden": false,
         "locked": false
        },
        {
         "code": ">>> all(y_test[0:10] == [0, 0, 1, 0, 1, 1, 1, 1, 1, 1])\nTrue",
         "hidden": false,
         "locked": false
        },
        {
         "code": ">>> text_trainval[0].decode()[500:530] == 'irds\\r\\nconceive when after many'\nTrue",
         "hidden": false,
         "locked": false
        },
        {
         "code": ">>> text_test[0].decode()[1000:1040] == 'er than those that are so washed how muc'\nTrue",
         "hidden": false,
         "locked": false
        }
       ],
       "scored": true,
       "setup": "",
       "teardown": "",
       "type": "doctest"
      }
     ]
    },
    "q1c": {
     "name": "q1c",
     "points": 6,
     "suites": [
      {
       "cases": [
        {
         "code": ">>> dtm_trainval.shape == (261, 13953)\nTrue",
         "hidden": false,
         "locked": false
        },
        {
         "code": ">>> len(vocab) == 13953\nTrue",
         "hidden": false,
         "locked": false
        },
        {
         "code": ">>> type(dtm_trainval) == scipy.sparse._csr.csr_matrix\nTrue",
         "hidden": false,
         "locked": false
        },
        {
         "code": ">>> all(vocab[450:460] == ['answer', 'answerable', 'answered', 'answers', 'anthony', 'antic', 'anticly', 'antics', 'antiopa', 'antipholus'])\nTrue",
         "hidden": false,
         "locked": false
        }
       ],
       "scored": true,
       "setup": "",
       "teardown": "",
       "type": "doctest"
      }
     ]
    },
    "q1f": {
     "name": "q1f",
     "points": 8,
     "suites": [
      {
       "cases": [
        {
         "code": ">>> np.isclose(train_acc_bern, 0.95019157)\nTrue",
         "hidden": false,
         "locked": false
        },
        {
         "code": ">>> all(X_trainval[0, 1:10].toarray()[0] == [0, 0, 0, 0, 0, 0, 0, 0, 0])\nTrue",
         "hidden": false,
         "locked": false
        },
        {
         "code": ">>> all(X_trainval[5, 1280:1290].toarray()[0] == [0, 1, 0, 0, 0, 0, 0, 0, 0, 1])\nTrue",
         "hidden": false,
         "locked": false
        }
       ],
       "scored": true,
       "setup": "",
       "teardown": "",
       "type": "doctest"
      }
     ]
    },
    "q1g": {
     "name": "q1g",
     "points": 8,
     "suites": [
      {
       "cases": [
        {
         "code": ">>> train_acc_mult == 1.0\nTrue",
         "hidden": false,
         "locked": false
        },
        {
         "code": ">>> all(X_trainval[0, 1:10].toarray()[0] == [0, 0, 0, 0, 0, 0, 0, 0, 0])\nTrue",
         "hidden": false,
         "locked": false
        },
        {
         "code": ">>> all(X_trainval[5, 1280:1290].toarray()[0] == [0, 2, 0, 0, 0, 0, 0, 0, 0, 1])\nTrue",
         "hidden": false,
         "locked": false
        }
       ],
       "scored": true,
       "setup": "",
       "teardown": "",
       "type": "doctest"
      }
     ]
    },
    "q1i": {
     "name": "q1i",
     "points": [
      3
     ],
     "suites": [
      {
       "cases": [
        {
         "code": ">>> type(grid.best_params_['vec']) == TfidfVectorizer\nTrue",
         "hidden": false,
         "locked": false
        }
       ],
       "scored": true,
       "setup": "",
       "teardown": "",
       "type": "doctest"
      }
     ]
    },
    "q1j": {
     "name": "q1j",
     "points": 8,
     "suites": [
      {
       "cases": [
        {
         "code": ">>> all(np.isclose(importance[0:10], [0.0, 0.0, 0.00054952, 0.00035462, 0.00024037, 0.0, 0.00077599, 0.00040087, 0.0, 0.0]))\nTrue",
         "hidden": false,
         "locked": false
        }
       ],
       "scored": true,
       "setup": "",
       "teardown": "",
       "type": "doctest"
      }
     ]
    },
    "q2a": {
     "name": "q2a",
     "points": [
      2.5,
      0.5,
      0.5,
      0.5,
      0.5,
      0.5,
      2,
      2
     ],
     "suites": [
      {
       "cases": [
        {
         "code": ">>> nba.shape == (420, 25)\nTrue",
         "hidden": false,
         "locked": false
        },
        {
         "code": ">>> not 'FG%' in nba.columns\nTrue",
         "hidden": false,
         "locked": false
        },
        {
         "code": ">>> not '3P%' in nba.columns\nTrue",
         "hidden": false,
         "locked": false
        },
        {
         "code": ">>> not '2P%' in nba.columns\nTrue",
         "hidden": false,
         "locked": false
        },
        {
         "code": ">>> not 'eFG%' in nba.columns\nTrue",
         "hidden": false,
         "locked": false
        },
        {
         "code": ">>> not 'FT%' in nba.columns\nTrue",
         "hidden": false,
         "locked": false
        },
        {
         "code": ">>> all(nba.iloc[4:8, 5] == [81, 38, 80, 81])\nTrue",
         "hidden": false,
         "locked": false
        },
        {
         "code": ">>> all(nba.iloc[100:105, 23] == [2.1, 1.1, 1.3, 2.4, 1.5])\nTrue",
         "hidden": false,
         "locked": false
        }
       ],
       "scored": true,
       "setup": "",
       "teardown": "",
       "type": "doctest"
      }
     ]
    },
    "q2b": {
     "name": "q2b",
     "points": 4,
     "suites": [
      {
       "cases": [
        {
         "code": ">>> nbaScaled.shape == (420, 18)\nTrue",
         "hidden": false,
         "locked": false
        }
       ],
       "scored": true,
       "setup": "",
       "teardown": "",
       "type": "doctest"
      }
     ]
    },
    "q2c": {
     "name": "q2c",
     "points": [
      1
     ],
     "suites": [
      {
       "cases": [
        {
         "code": ">>> len(sse) == 9\nTrue",
         "hidden": false,
         "locked": false
        }
       ],
       "scored": true,
       "setup": "",
       "teardown": "",
       "type": "doctest"
      }
     ]
    },
    "q2d": {
     "name": "q2d",
     "points": 8,
     "suites": [
      {
       "cases": [
        {
         "code": ">>> clusterStats.shape == (4, 19)\nTrue",
         "hidden": false,
         "locked": false
        }
       ],
       "scored": true,
       "setup": "",
       "teardown": "",
       "type": "doctest"
      }
     ]
    },
    "q2e": {
     "name": "q2e",
     "points": [
      1
     ],
     "suites": [
      {
       "cases": [
        {
         "code": ">>> clusterStatsOrig.shape == (4, 18)\nTrue",
         "hidden": false,
         "locked": false
        }
       ],
       "scored": true,
       "setup": "",
       "teardown": "",
       "type": "doctest"
      }
     ]
    },
    "q3a": {
     "name": "q3a",
     "points": 4,
     "suites": [
      {
       "cases": [
        {
         "code": ">>> music.shape == (100, 17)\nTrue",
         "hidden": false,
         "locked": false
        },
        {
         "code": ">>> all(music.columns == ['Song', 'Artist', 'Streams (Billions)', 'Release Date', 'id', 'duration', 'energy', 'key', 'loudness', 'mode', 'speechiness', 'acousticness', 'instrumentalness', 'liveness', 'valence', 'tempo', 'danceability'])\nTrue",
         "hidden": false,
         "locked": false
        }
       ],
       "scored": true,
       "setup": "",
       "teardown": "",
       "type": "doctest"
      }
     ]
    },
    "q3b": {
     "name": "q3b",
     "points": 9,
     "suites": [
      {
       "cases": [
        {
         "code": ">>> dg_single['leaves'][1:5] == [23, 11, 14, 21]\nTrue",
         "hidden": false,
         "locked": false
        },
        {
         "code": ">>> dg_single['leaves'][20:24] == [8, 19, 25, 4]\nTrue",
         "hidden": false,
         "locked": false
        },
        {
         "code": ">>> dg_single['leaves'][10:15] == [10, 13, 2, 5, 3]\nTrue",
         "hidden": false,
         "locked": false
        }
       ],
       "scored": true,
       "setup": "",
       "teardown": "",
       "type": "doctest"
      }
     ]
    },
    "q3c": {
     "name": "q3c",
     "points": 9,
     "suites": [
      {
       "cases": [
        {
         "code": ">>> dg_complete['leaves'][1:5] == [1, 2, 3, 5]\nTrue",
         "hidden": false,
         "locked": false
        },
        {
         "code": ">>> dg_complete['leaves'][10:15] == [27, 11, 13, 6, 20]\nTrue",
         "hidden": false,
         "locked": false
        },
        {
         "code": ">>> dg_complete['leaves'][23:27] == [22, 16, 26, 7]\nTrue",
         "hidden": false,
         "locked": false
        }
       ],
       "scored": true,
       "setup": "",
       "teardown": "",
       "type": "doctest"
      }
     ]
    },
    "q3d": {
     "name": "q3d",
     "points": 9,
     "suites": [
      {
       "cases": [
        {
         "code": ">>> dg_average['leaves'][1:5] == [15, 28, 23, 8]\nTrue",
         "hidden": false,
         "locked": false
        },
        {
         "code": ">>> dg_average['leaves'][10:15] == [20, 3, 5, 13, 22]\nTrue",
         "hidden": false,
         "locked": false
        },
        {
         "code": ">>> dg_average['leaves'][24:29] == [10, 11, 14, 27, 0]\nTrue",
         "hidden": false,
         "locked": false
        }
       ],
       "scored": true,
       "setup": "",
       "teardown": "",
       "type": "doctest"
      }
     ]
    }
   }
  }
 },
 "nbformat": 4,
 "nbformat_minor": 5
}
