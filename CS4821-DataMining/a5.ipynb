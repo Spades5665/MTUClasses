{
 "cells": [
  {
   "cell_type": "markdown",
   "id": "b75f80f6-66fc-4909-b3e7-5d2c8c742562",
   "metadata": {},
   "source": [
    "# A5 - Python\n",
    "\n",
    "This assignment will cover topics of association analysis.\n",
    "\n",
    "Make sure that you keep this notebook named as \"a5.ipynb\" \n",
    "\n",
    "Any other packages or tools, outside those listed in the assignments or Canvas, should be cleared\n",
    "by Dr. Brown before use in your submission."
   ]
  },
  {
   "cell_type": "markdown",
   "id": "200bf51e-1f3b-44ea-87df-db1ac0c7384f",
   "metadata": {
    "deletable": false,
    "editable": false
   },
   "source": [
    "## Q0 - Setup\n",
    "\n",
    "The following code looks to see whether your notebook is run on Gradescope (GS), Colab (COLAB), or the linux Python environment you were asked to setup."
   ]
  },
  {
   "cell_type": "code",
   "execution_count": 1,
   "id": "515e4c42-62fb-4061-8287-6f237560c54d",
   "metadata": {
    "tags": []
   },
   "outputs": [
    {
     "name": "stdout",
     "output_type": "stream",
     "text": [
      "System: GS - False, COLAB - False, LLM - True\n"
     ]
    }
   ],
   "source": [
    "import re \n",
    "import os\n",
    "import platform \n",
    "import sys \n",
    "\n",
    "# flag if notebook is running on Gradescope \n",
    "if re.search(r'amzn', platform.uname().release): \n",
    "    GS = True\n",
    "else: \n",
    "    GS = False\n",
    "\n",
    "# flag if notebook is running on Colaboratory \n",
    "try:\n",
    "  import google.colab\n",
    "  COLAB = True\n",
    "except:\n",
    "  COLAB = False\n",
    "\n",
    "# flag if running on Linux lab machines. \n",
    "cname = platform.uname().node\n",
    "if re.search(r'(guardian|colossus|c28|lebrown|rovernet)', cname):\n",
    "    LLM = True \n",
    "else: \n",
    "    LLM = False\n",
    "\n",
    "print(\"System: GS - %s, COLAB - %s, LLM - %s\" % (GS, COLAB, LLM))"
   ]
  },
  {
   "cell_type": "markdown",
   "id": "0c2030df-8537-4bd7-8cc0-31ac6cea5a77",
   "metadata": {
    "deletable": false,
    "editable": false
   },
   "source": [
    "## Notebook Setup\n",
    "\n",
    "It is good practice to list all imports needed at the top of the notebook. You can import modules in later cells as needed, but listing them at the top clearly shows all which are needed to be available / installed.\n",
    "\n",
    "If you are doing development on Colab, the otter-grader package is not available, so you will need to install it with pip (uncomment the cell directly below)."
   ]
  },
  {
   "cell_type": "code",
   "execution_count": 2,
   "id": "5dab8821-ff1f-43ad-bea0-05be143b58e7",
   "metadata": {
    "deletable": false,
    "editable": false
   },
   "outputs": [],
   "source": [
    "# Only uncomment if you developing on Colab \n",
    "# if COLAB == True: \n",
    "#     print(\"Installing otter:\")\n",
    "#     !pip install otter-grader==4.2.0 "
   ]
  },
  {
   "cell_type": "code",
   "execution_count": 3,
   "id": "73d18567-c5f2-42c6-af3e-8765bd6b965e",
   "metadata": {
    "deletable": false,
    "editable": false
   },
   "outputs": [],
   "source": [
    "import pandas as pd\n",
    "import numpy as np\n",
    "import matplotlib as mpl\n",
    "import matplotlib.pyplot as plt\n",
    "import seaborn as sns\n",
    "%matplotlib inline\n",
    "\n",
    "\n",
    "from mlxtend.preprocessing import TransactionEncoder \n",
    "from mlxtend.frequent_patterns import apriori\n",
    "from mlxtend.frequent_patterns import association_rules\n",
    "from mlxtend.frequent_patterns import fpgrowth\n",
    "\n",
    "import warnings\n",
    "warnings.filterwarnings('ignore')\n",
    "\n",
    "# Package for Autograder \n",
    "import otter \n",
    "grader = otter.Notebook()"
   ]
  },
  {
   "cell_type": "code",
   "execution_count": 4,
   "id": "ec14eb2f",
   "metadata": {
    "deletable": false,
    "editable": false
   },
   "outputs": [
    {
     "data": {
      "text/html": [
       "<p><strong><pre style='display: inline;'>q0</pre></strong> passed! 🚀</p>"
      ],
      "text/plain": [
       "q0 results: All test cases passed!"
      ]
     },
     "execution_count": 4,
     "metadata": {},
     "output_type": "execute_result"
    }
   ],
   "source": [
    "grader.check(\"q0\")"
   ]
  },
  {
   "cell_type": "markdown",
   "id": "24d84710-ac70-4151-a1ac-fad403464807",
   "metadata": {},
   "source": [
    "# Q1 - Association Analysis\n",
    "\n",
    "For this problem, you will analyze a portion of the Instacart Online Grocery Shopping Dataset from 2017.  The full data set is available if you are interested.  \n",
    "https://www.instacart.com/datasets/grocery-shopping-2017\n",
    "\n",
    "The original dataset has 3 million orders.  We will work with a smaller data set.  \n",
    "\n",
    "You will use the following files for this analysis: \n",
    "\n",
    "* `orders_products.csv`  \n",
    "* `products.csv` \n",
    "\n",
    "\n",
    "\n",
    "Structure of the files, `products_orders`: \n",
    "* `order_id`: foreign key\n",
    "* `product_id`: foreign key\n",
    "* `add_to_cart_order`: order in which each product was added to cart\n",
    "* `reordered`: 1 if this product has been ordered by this user in the past, 0 otherwise\n",
    "\n",
    "File structure for `products`: \n",
    "* `product_id`: product identifier\n",
    "* `product_name`: name of the product\n",
    "* `aisle_id`: foreign key\n",
    "* `department_id`: foreign key\n",
    "\n",
    "You can connect the `product_id` with the name of the product, `product_name` in the `products.csv` file. "
   ]
  },
  {
   "cell_type": "markdown",
   "id": "f9aa3d30-85c0-4ee5-a3ec-4526db7cea6b",
   "metadata": {
    "deletable": false,
    "editable": false
   },
   "source": [
    "## Q1(a) - Load the Data\n",
    "\n",
    "Load the 2 data files mentioned above.  \n",
    "\n",
    "You will need to transform this data into a boolean transaction DataFrame `orders`.  \n",
    "\n",
    "These boolean transaction DataFrame will have rows corresponding to orders / transaction with the `order_id` as the row index.  The DataFrame will have columns corresponding to products with the `product_name` as the column names.  The DataFrame is boolean and entry [i, j] is : \"False\" meaning this product, j, was not purchased in order, i, and \"True\" means product, j, was purchased in order, i. \n",
    "\n",
    "The rows in the DataFrame should be in order of `order_id`.  The columns should be ordered in alphanumeric ordering of the `product_name`.\n",
    "\n",
    "Note, you can not use the `mlxtend.TransactionEncoder` function for this because it expects data as lists of lists.  \n",
    "\n",
    "*Hint:* several `pandas` functions such as `join`, `merge`, or `pivot` may be useful to construct the `orders` DataFrame.\n",
    "\n",
    "Also, calculate the mean/max number of products per order for the `orders` dataset: `mean_num_prods` and `max_num_prods` \n",
    "\n",
    "<br>\n",
    "After creating the `orders` DataFrame, capture aspects of the data: \n",
    "\n",
    "* `orders_num_rows` \n",
    "* `orders_num_cols` \n",
    "* `orders_col_names` \n",
    "\n",
    "Then, save off a slice of the data frame, `orders_small`, the first 50 rows the first 100 items. "
   ]
  },
  {
   "cell_type": "code",
   "execution_count": 9,
   "id": "1585343b-2f26-43f1-9251-b1b1ece563da",
   "metadata": {
    "tags": []
   },
   "outputs": [
    {
     "name": "stdout",
     "output_type": "stream",
     "text": [
      "product_name  order_id  #2 Coffee Filters  0% Fat Free Organic Milk  \\\n",
      "0                    1                NaN                       NaN   \n",
      "1                   36                NaN                       NaN   \n",
      "2                   38                NaN                       NaN   \n",
      "3                   96                NaN                       NaN   \n",
      "4                   98                NaN                       NaN   \n",
      "\n",
      "product_name  0% Fat Organic Greek Vanilla Yogurt  \\\n",
      "0                                             NaN   \n",
      "1                                             NaN   \n",
      "2                                             NaN   \n",
      "3                                             NaN   \n",
      "4                                             NaN   \n",
      "\n",
      "product_name  0% Fat Superfruits Greek Yogurt  0% Greek Strained Yogurt  \\\n",
      "0                                         NaN                       NaN   \n",
      "1                                         NaN                       NaN   \n",
      "2                                         NaN                       NaN   \n",
      "3                                         NaN                       NaN   \n",
      "4                                         NaN                       NaN   \n",
      "\n",
      "product_name  1 Apple + 1 Pear Fruit Bar  1 Liter  1 Ply Paper Towels  \\\n",
      "0                                    NaN      NaN                 NaN   \n",
      "1                                    NaN      NaN                 NaN   \n",
      "2                                    NaN      NaN                 NaN   \n",
      "3                                    NaN      NaN                 NaN   \n",
      "4                                    NaN      NaN                 NaN   \n",
      "\n",
      "product_name  1% Chocolate Milk  ...  Zero calorie Sport Drink  \\\n",
      "0                           NaN  ...                       NaN   \n",
      "1                           NaN  ...                       NaN   \n",
      "2                           NaN  ...                       NaN   \n",
      "3                           NaN  ...                       NaN   \n",
      "4                           NaN  ...                       NaN   \n",
      "\n",
      "product_name  Zesta Original Saltine Crackers  \\\n",
      "0                                         NaN   \n",
      "1                                         NaN   \n",
      "2                                         NaN   \n",
      "3                                         NaN   \n",
      "4                                         NaN   \n",
      "\n",
      "product_name  Zesty Garlic Aiolo Mayo Alternative  Zucchini Noodles  \\\n",
      "0                                             NaN               NaN   \n",
      "1                                             NaN               NaN   \n",
      "2                                             NaN               NaN   \n",
      "3                                             NaN               NaN   \n",
      "4                                             NaN               NaN   \n",
      "\n",
      "product_name  Zucchini Squash  for Tots Apple Juice  \\\n",
      "0                         NaN                   NaN   \n",
      "1                         NaN                   NaN   \n",
      "2                         NaN                   NaN   \n",
      "3                         NaN                   NaN   \n",
      "4                         NaN                   NaN   \n",
      "\n",
      "product_name  of Norwich Original English Mustard Powder Double Superfine  \\\n",
      "0                                                           NaN             \n",
      "1                                                           NaN             \n",
      "2                                                           NaN             \n",
      "3                                                           NaN             \n",
      "4                                                           NaN             \n",
      "\n",
      "product_name  smartwater® Electrolyte Enhanced Water  \\\n",
      "0                                                NaN   \n",
      "1                                                NaN   \n",
      "2                                                NaN   \n",
      "3                                                NaN   \n",
      "4                                                NaN   \n",
      "\n",
      "product_name  vitaminwater® XXX Acai Blueberry Pomegranate  \\\n",
      "0                                                      NaN   \n",
      "1                                                      NaN   \n",
      "2                                                      NaN   \n",
      "3                                                      NaN   \n",
      "4                                                      NaN   \n",
      "\n",
      "product_name  with Crispy Almonds Cereal  \n",
      "0                                    NaN  \n",
      "1                                    NaN  \n",
      "2                                    NaN  \n",
      "3                                    NaN  \n",
      "4                                    NaN  \n",
      "\n",
      "[5 rows x 6500 columns]\n",
      "Mean number of products per order:  0.5145826490529228\n",
      "Max number of projucts per order:   46.0\n"
     ]
    }
   ],
   "source": [
    "# Load and prepare the data \n",
    "\n",
    "prods_orders = pd.read_csv('products_ordres.csv')\n",
    "prods = pd.read_csv('products.csv')\n",
    "\n",
    "orders = ... \n",
    "\n",
    "\n",
    "orders_num_rows = ...\n",
    "orders_num_cols = ...\n",
    "orders_coln_names = ...\n",
    "\n",
    "\n",
    "mean_num_prods = ...\n",
    "max_num_prods = ...\n",
    "\n",
    "\n",
    "orders_small = ...\n",
    "\n",
    "orders.head()\n",
    "\n",
    "print(\"Mean number of products per order: \", mean_num_prods)\n",
    "print(\"Max number of projucts per order:  \", max_num_prods)\n",
    "\n",
    "# clean up unneeded raw data\n",
    "del prods_orders, prods"
   ]
  },
  {
   "cell_type": "code",
   "execution_count": 10,
   "id": "8ca2a454",
   "metadata": {
    "deletable": false,
    "editable": false
   },
   "outputs": [
    {
     "data": {
      "text/html": [
       "<p><strong style='color: red;'><pre style='display: inline;'>q1a</pre> results:</strong></p><p><strong><pre style='display: inline;'>q1a - 1</pre> result:</strong></p><pre>    ✅ Test case passed</pre><p><strong><pre style='display: inline;'>q1a - 2</pre> result:</strong></p><pre>    ❌ Test case failed\n",
       "    Trying:\n",
       "        orders_num_cols == 6499\n",
       "    Expecting:\n",
       "        True\n",
       "    **********************************************************************\n",
       "    Line 1, in q1a 1\n",
       "    Failed example:\n",
       "        orders_num_cols == 6499\n",
       "    Expected:\n",
       "        True\n",
       "    Got:\n",
       "        False\n",
       "</pre><p><strong><pre style='display: inline;'>q1a - 3</pre> result:</strong></p><pre>    ❌ Test case failed\n",
       "    Trying:\n",
       "        all(orders_col_names[[5, 15, 103, 987]] == ['1 Apple + 1 Pear Fruit Bar', '10 Grain Pancake & Waffle Mix', '2nd Foods Organic  Pear and Spinach Baby Food', 'Chocolate Bar Milk Stevia Sweetened Salted Almond'])\n",
       "    Expecting:\n",
       "        True\n",
       "    **********************************************************************\n",
       "    Line 1, in q1a 2\n",
       "    Failed example:\n",
       "        all(orders_col_names[[5, 15, 103, 987]] == ['1 Apple + 1 Pear Fruit Bar', '10 Grain Pancake & Waffle Mix', '2nd Foods Organic  Pear and Spinach Baby Food', 'Chocolate Bar Milk Stevia Sweetened Salted Almond'])\n",
       "    Exception raised:\n",
       "        Traceback (most recent call last):\n",
       "          File \"/home/campus14/dmmunson/.conda/envs/cs4821/lib/python3.10/doctest.py\", line 1350, in __run\n",
       "            exec(compile(example.source, filename, \"single\",\n",
       "          File \"<doctest q1a 2[0]>\", line 1, in <module>\n",
       "            all(orders_col_names[[5, 15, 103, 987]] == ['1 Apple + 1 Pear Fruit Bar', '10 Grain Pancake & Waffle Mix', '2nd Foods Organic  Pear and Spinach Baby Food', 'Chocolate Bar Milk Stevia Sweetened Salted Almond'])\n",
       "        NameError: name 'orders_col_names' is not defined. Did you mean: 'orders_coln_names'?\n",
       "</pre><p><strong><pre style='display: inline;'>q1a - 4</pre> result:</strong></p><pre>    ✅ Test case passed</pre><p><strong><pre style='display: inline;'>q1a - 5</pre> result:</strong></p><pre>    ❌ Test case failed\n",
       "    Trying:\n",
       "        type(orders_small.iloc[27, 80]) == np.bool_\n",
       "    Expecting:\n",
       "        True\n",
       "    **********************************************************************\n",
       "    Line 1, in q1a 4\n",
       "    Failed example:\n",
       "        type(orders_small.iloc[27, 80]) == np.bool_\n",
       "    Expected:\n",
       "        True\n",
       "    Got:\n",
       "        False\n",
       "</pre><p><strong><pre style='display: inline;'>q1a - 6</pre> result:</strong></p><pre>    ❌ Test case failed\n",
       "    Trying:\n",
       "        all(orders_small.iloc[10, 34:40] == [False, False, False, False, False, False])\n",
       "    Expecting:\n",
       "        True\n",
       "    **********************************************************************\n",
       "    Line 1, in q1a 5\n",
       "    Failed example:\n",
       "        all(orders_small.iloc[10, 34:40] == [False, False, False, False, False, False])\n",
       "    Expected:\n",
       "        True\n",
       "    Got:\n",
       "        False\n",
       "</pre><p><strong><pre style='display: inline;'>q1a - 7</pre> result:</strong></p><pre>    ❌ Test case failed\n",
       "    Trying:\n",
       "        all(orders_small.iloc[39, 60:70] == [False, False, False, False, False, False, False, False, False, False])\n",
       "    Expecting:\n",
       "        True\n",
       "    **********************************************************************\n",
       "    Line 1, in q1a 6\n",
       "    Failed example:\n",
       "        all(orders_small.iloc[39, 60:70] == [False, False, False, False, False, False, False, False, False, False])\n",
       "    Expected:\n",
       "        True\n",
       "    Got:\n",
       "        False\n",
       "</pre><p><strong><pre style='display: inline;'>q1a - 8</pre> result:</strong></p><pre>    ❌ Test case failed\n",
       "    Trying:\n",
       "        all(orders_small.iloc[9:19, 50] == [False, False, False, False, False, False, False, False, False, False])\n",
       "    Expecting:\n",
       "        True\n",
       "    **********************************************************************\n",
       "    Line 1, in q1a 7\n",
       "    Failed example:\n",
       "        all(orders_small.iloc[9:19, 50] == [False, False, False, False, False, False, False, False, False, False])\n",
       "    Expected:\n",
       "        True\n",
       "    Got:\n",
       "        False\n",
       "</pre><p><strong><pre style='display: inline;'>q1a - 9</pre> result:</strong></p><pre>    ❌ Test case failed\n",
       "    Trying:\n",
       "        np.isclose(mean_num_prods, 10.676982)\n",
       "    Expecting:\n",
       "        True\n",
       "    **********************************************************************\n",
       "    Line 1, in q1a 8\n",
       "    Failed example:\n",
       "        np.isclose(mean_num_prods, 10.676982)\n",
       "    Expected:\n",
       "        True\n",
       "    Got:\n",
       "        False\n",
       "</pre><p><strong><pre style='display: inline;'>q1a - 10</pre> result:</strong></p><pre>    ❌ Test case failed\n",
       "    Trying:\n",
       "        np.isclose(max_num_prods, 54)\n",
       "    Expecting:\n",
       "        True\n",
       "    **********************************************************************\n",
       "    Line 1, in q1a 9\n",
       "    Failed example:\n",
       "        np.isclose(max_num_prods, 54)\n",
       "    Expected:\n",
       "        True\n",
       "    Got:\n",
       "        False\n",
       "</pre>"
      ],
      "text/plain": [
       "q1a results:\n",
       "    q1a - 1 result:\n",
       "        ✅ Test case passed\n",
       "\n",
       "    q1a - 2 result:\n",
       "        ❌ Test case failed\n",
       "        Trying:\n",
       "            orders_num_cols == 6499\n",
       "        Expecting:\n",
       "            True\n",
       "        **********************************************************************\n",
       "        Line 1, in q1a 1\n",
       "        Failed example:\n",
       "            orders_num_cols == 6499\n",
       "        Expected:\n",
       "            True\n",
       "        Got:\n",
       "            False\n",
       "\n",
       "    q1a - 3 result:\n",
       "        ❌ Test case failed\n",
       "        Trying:\n",
       "            all(orders_col_names[[5, 15, 103, 987]] == ['1 Apple + 1 Pear Fruit Bar', '10 Grain Pancake & Waffle Mix', '2nd Foods Organic  Pear and Spinach Baby Food', 'Chocolate Bar Milk Stevia Sweetened Salted Almond'])\n",
       "        Expecting:\n",
       "            True\n",
       "        **********************************************************************\n",
       "        Line 1, in q1a 2\n",
       "        Failed example:\n",
       "            all(orders_col_names[[5, 15, 103, 987]] == ['1 Apple + 1 Pear Fruit Bar', '10 Grain Pancake & Waffle Mix', '2nd Foods Organic  Pear and Spinach Baby Food', 'Chocolate Bar Milk Stevia Sweetened Salted Almond'])\n",
       "        Exception raised:\n",
       "            Traceback (most recent call last):\n",
       "              File \"/home/campus14/dmmunson/.conda/envs/cs4821/lib/python3.10/doctest.py\", line 1350, in __run\n",
       "                exec(compile(example.source, filename, \"single\",\n",
       "              File \"<doctest q1a 2[0]>\", line 1, in <module>\n",
       "                all(orders_col_names[[5, 15, 103, 987]] == ['1 Apple + 1 Pear Fruit Bar', '10 Grain Pancake & Waffle Mix', '2nd Foods Organic  Pear and Spinach Baby Food', 'Chocolate Bar Milk Stevia Sweetened Salted Almond'])\n",
       "            NameError: name 'orders_col_names' is not defined. Did you mean: 'orders_coln_names'?\n",
       "\n",
       "    q1a - 4 result:\n",
       "        ✅ Test case passed\n",
       "\n",
       "    q1a - 5 result:\n",
       "        ❌ Test case failed\n",
       "        Trying:\n",
       "            type(orders_small.iloc[27, 80]) == np.bool_\n",
       "        Expecting:\n",
       "            True\n",
       "        **********************************************************************\n",
       "        Line 1, in q1a 4\n",
       "        Failed example:\n",
       "            type(orders_small.iloc[27, 80]) == np.bool_\n",
       "        Expected:\n",
       "            True\n",
       "        Got:\n",
       "            False\n",
       "\n",
       "    q1a - 6 result:\n",
       "        ❌ Test case failed\n",
       "        Trying:\n",
       "            all(orders_small.iloc[10, 34:40] == [False, False, False, False, False, False])\n",
       "        Expecting:\n",
       "            True\n",
       "        **********************************************************************\n",
       "        Line 1, in q1a 5\n",
       "        Failed example:\n",
       "            all(orders_small.iloc[10, 34:40] == [False, False, False, False, False, False])\n",
       "        Expected:\n",
       "            True\n",
       "        Got:\n",
       "            False\n",
       "\n",
       "    q1a - 7 result:\n",
       "        ❌ Test case failed\n",
       "        Trying:\n",
       "            all(orders_small.iloc[39, 60:70] == [False, False, False, False, False, False, False, False, False, False])\n",
       "        Expecting:\n",
       "            True\n",
       "        **********************************************************************\n",
       "        Line 1, in q1a 6\n",
       "        Failed example:\n",
       "            all(orders_small.iloc[39, 60:70] == [False, False, False, False, False, False, False, False, False, False])\n",
       "        Expected:\n",
       "            True\n",
       "        Got:\n",
       "            False\n",
       "\n",
       "    q1a - 8 result:\n",
       "        ❌ Test case failed\n",
       "        Trying:\n",
       "            all(orders_small.iloc[9:19, 50] == [False, False, False, False, False, False, False, False, False, False])\n",
       "        Expecting:\n",
       "            True\n",
       "        **********************************************************************\n",
       "        Line 1, in q1a 7\n",
       "        Failed example:\n",
       "            all(orders_small.iloc[9:19, 50] == [False, False, False, False, False, False, False, False, False, False])\n",
       "        Expected:\n",
       "            True\n",
       "        Got:\n",
       "            False\n",
       "\n",
       "    q1a - 9 result:\n",
       "        ❌ Test case failed\n",
       "        Trying:\n",
       "            np.isclose(mean_num_prods, 10.676982)\n",
       "        Expecting:\n",
       "            True\n",
       "        **********************************************************************\n",
       "        Line 1, in q1a 8\n",
       "        Failed example:\n",
       "            np.isclose(mean_num_prods, 10.676982)\n",
       "        Expected:\n",
       "            True\n",
       "        Got:\n",
       "            False\n",
       "\n",
       "    q1a - 10 result:\n",
       "        ❌ Test case failed\n",
       "        Trying:\n",
       "            np.isclose(max_num_prods, 54)\n",
       "        Expecting:\n",
       "            True\n",
       "        **********************************************************************\n",
       "        Line 1, in q1a 9\n",
       "        Failed example:\n",
       "            np.isclose(max_num_prods, 54)\n",
       "        Expected:\n",
       "            True\n",
       "        Got:\n",
       "            False"
      ]
     },
     "execution_count": 10,
     "metadata": {},
     "output_type": "execute_result"
    }
   ],
   "source": [
    "grader.check(\"q1a\")"
   ]
  },
  {
   "cell_type": "markdown",
   "id": "fd5ba95a-9e99-4a3e-831b-f224ef8f87e9",
   "metadata": {
    "deletable": false,
    "editable": false
   },
   "source": [
    "<!-- BEGIN QUESTION -->\n",
    "\n",
    "## Q1(b) - Explore the Data \n",
    "\n",
    "Create a density plot showing the number of products per order using the `orders` data set.\n",
    "\n"
   ]
  },
  {
   "cell_type": "code",
   "execution_count": null,
   "id": "430dab60-caee-4c45-94a4-a5bc90ced1a2",
   "metadata": {
    "tags": []
   },
   "outputs": [],
   "source": [
    "# Plot the number of products per order \n",
    "\n",
    "\n"
   ]
  },
  {
   "cell_type": "markdown",
   "id": "d34a031a-d0e7-4b53-ac94-1daf1df72dc3",
   "metadata": {
    "deletable": false,
    "editable": false
   },
   "source": [
    "<!-- END QUESTION -->\n",
    "\n",
    "<!-- BEGIN QUESTION -->\n",
    "\n",
    "## Q1(c) - Explore the Data, part 2 \n",
    "\n",
    "For the `orders` dataset, create an top 15 item frequency plot, that is plot the top 15 most frequently purchased items. This should be a bar plot with items vs. frequency (relative support)."
   ]
  },
  {
   "cell_type": "code",
   "execution_count": null,
   "id": "418b2a11-9181-4491-b7ce-22ccec1826cf",
   "metadata": {
    "tags": []
   },
   "outputs": [],
   "source": [
    "# Plot top 15 most frequently purchased product (by relative support) \n",
    "\n",
    "\n",
    "\n"
   ]
  },
  {
   "cell_type": "markdown",
   "id": "f42d7015-ee63-4a72-8f21-9344b4113e84",
   "metadata": {
    "deletable": false,
    "editable": false
   },
   "source": [
    "<!-- END QUESTION -->\n",
    "\n",
    "<!-- BEGIN QUESTION -->\n",
    "\n",
    "## Q1(d) - Explore the Data, part 3 \n",
    "\n",
    "For the `orders` dataset, create an histogram of the number of times an item is purchased. You may want to consider using log scaling to view the data distribution more easily. "
   ]
  },
  {
   "cell_type": "code",
   "execution_count": null,
   "id": "dffe277f-b99b-4b15-b3eb-8959682fcd13",
   "metadata": {
    "tags": []
   },
   "outputs": [],
   "source": [
    "# Plot histogram of number of purchases per item. \n",
    "\n",
    "\n",
    "\n"
   ]
  },
  {
   "cell_type": "markdown",
   "id": "cd201fd1-cbbf-48b8-a181-35ec8b074775",
   "metadata": {
    "deletable": false,
    "editable": false
   },
   "source": [
    "<!-- END QUESTION -->\n",
    "\n",
    "## Q1(e) - Apriori \n",
    "\n",
    "For the `orders` dataset, use Apriori to find association rules, `rules` with a minimum relative support of 0.0035 and confidence of 0.5.  \n",
    "\n",
    "In `q1e_df` sort the rules by leverage (descending order), then by confidence (in descending order)  and return the top 20 rules.\n",
    "\n",
    "Note, the minimum support level is rather high given the information plotted in Q1(c) and Q1(d). However, this was done to avoid using too much memory (lower support values will require 15-20 GB memory). "
   ]
  },
  {
   "cell_type": "code",
   "execution_count": null,
   "id": "6169116b-6f8f-4937-9461-4b318ae627e0",
   "metadata": {
    "tags": []
   },
   "outputs": [],
   "source": [
    "# Run Apriori as instructed\n",
    "\n",
    "rules = ...\n",
    " \n",
    "q1e_df = ...\n",
    "\n",
    "q1e_df.iloc[0:10, [0, 1, 4, 5, 7]]\n"
   ]
  },
  {
   "cell_type": "code",
   "execution_count": null,
   "id": "c9794537",
   "metadata": {
    "deletable": false,
    "editable": false
   },
   "outputs": [],
   "source": [
    "grader.check(\"q1e\")"
   ]
  },
  {
   "cell_type": "markdown",
   "id": "d1c409f2-7ad7-4e33-a6d8-2a8f44b020ab",
   "metadata": {
    "deletable": false,
    "editable": false
   },
   "source": [
    "<!-- BEGIN QUESTION -->\n",
    "\n",
    "## Q1(f) - Apriori, part 2\n",
    "\n",
    "Create a scatterplot of the rules, plotting support vs. confidence colored by lift value. \n"
   ]
  },
  {
   "cell_type": "code",
   "execution_count": null,
   "id": "df9ca3e6-ab84-4229-aecf-611887bf71d5",
   "metadata": {
    "tags": []
   },
   "outputs": [],
   "source": [
    "# Plot the results of Apriori\n",
    "\n",
    "\n"
   ]
  },
  {
   "cell_type": "markdown",
   "id": "4b36a00d-6636-4d70-b8e1-ff7cef954787",
   "metadata": {
    "deletable": false,
    "editable": false
   },
   "source": [
    "<!-- END QUESTION -->\n",
    "\n",
    "## Q1(g) - FPGrowth \n",
    "\n",
    "For the `orders` dataset, use FPGrowth to find association rules, `rules2` with a minimum support of 0.0035 and confidence of 0.5.\n",
    "\n",
    "Sort the rules by conviction (descending order), then by support (descending order).  Store the top 20 rules in `q1g_df`.\n",
    "\n",
    "Note, the relative speed for FPGrowth over Apriori."
   ]
  },
  {
   "cell_type": "code",
   "execution_count": null,
   "id": "2cf4ee46-dc39-487c-9031-a1720909efb2",
   "metadata": {
    "tags": []
   },
   "outputs": [],
   "source": [
    "# Run FPGrowth as instructed\n",
    "\n",
    "rules2 = ...\n",
    " \n",
    "q1g_df = ...\n",
    "\n",
    "q1g_df.iloc[0:10, [0, 1, 4, 5, 8]]"
   ]
  },
  {
   "cell_type": "code",
   "execution_count": null,
   "id": "0027f8a3",
   "metadata": {
    "deletable": false,
    "editable": false
   },
   "outputs": [],
   "source": [
    "grader.check(\"q1g\")"
   ]
  },
  {
   "cell_type": "markdown",
   "id": "b007bb27",
   "metadata": {
    "deletable": false,
    "editable": false
   },
   "source": [
    "## Submission\n",
    "\n",
    "Make sure you have run all cells in your notebook in order before running the cell below, so that all images/graphs appear in the output. The cell below will generate a zip file for you to submit. **Please save before exporting!**\n",
    "\n",
    "**NOTE** the submission must be run on the campus linux machines.  See the instruction in the Canvas assignment."
   ]
  },
  {
   "cell_type": "code",
   "execution_count": null,
   "id": "f58d4913",
   "metadata": {
    "deletable": false,
    "editable": false
   },
   "outputs": [],
   "source": [
    "# Save your notebook first, then run this cell to export your submission.\n",
    "grader.export()"
   ]
  },
  {
   "cell_type": "markdown",
   "id": "fdabfc8a",
   "metadata": {},
   "source": [
    " "
   ]
  }
 ],
 "metadata": {
  "kernelspec": {
   "display_name": "Python [conda env:.conda-cs4821] *",
   "language": "python",
   "name": "conda-env-.conda-cs4821-py"
  },
  "language_info": {
   "codemirror_mode": {
    "name": "ipython",
    "version": 3
   },
   "file_extension": ".py",
   "mimetype": "text/x-python",
   "name": "python",
   "nbconvert_exporter": "python",
   "pygments_lexer": "ipython3",
   "version": "3.10.13"
  },
  "otter": {
   "OK_FORMAT": true,
   "assignment_name": "a5",
   "tests": {
    "q0": {
     "name": "q0",
     "points": 2,
     "suites": [
      {
       "cases": [
        {
         "code": ">>> COLAB == False\nTrue",
         "hidden": false,
         "locked": false
        },
        {
         "code": ">>> (LLM == True) | (GS == True)\nTrue",
         "hidden": false,
         "locked": false
        }
       ],
       "scored": true,
       "setup": "",
       "teardown": "",
       "type": "doctest"
      }
     ]
    },
    "q1a": {
     "name": "q1a",
     "points": [
      1,
      1,
      2,
      2,
      3,
      2,
      2,
      2,
      2,
      2
     ],
     "suites": [
      {
       "cases": [
        {
         "code": ">>> orders_num_rows == 1551\nTrue",
         "hidden": false,
         "locked": false
        },
        {
         "code": ">>> orders_num_cols == 6499\nTrue",
         "hidden": false,
         "locked": false
        },
        {
         "code": ">>> all(orders_col_names[[5, 15, 103, 987]] == ['1 Apple + 1 Pear Fruit Bar', '10 Grain Pancake & Waffle Mix', '2nd Foods Organic  Pear and Spinach Baby Food', 'Chocolate Bar Milk Stevia Sweetened Salted Almond'])\nTrue",
         "hidden": false,
         "locked": false
        },
        {
         "code": ">>> orders_small.shape == (50, 100)\nTrue",
         "hidden": false,
         "locked": false
        },
        {
         "code": ">>> type(orders_small.iloc[27, 80]) == np.bool_\nTrue",
         "hidden": false,
         "locked": false
        },
        {
         "code": ">>> all(orders_small.iloc[10, 34:40] == [False, False, False, False, False, False])\nTrue",
         "hidden": false,
         "locked": false
        },
        {
         "code": ">>> all(orders_small.iloc[39, 60:70] == [False, False, False, False, False, False, False, False, False, False])\nTrue",
         "hidden": false,
         "locked": false
        },
        {
         "code": ">>> all(orders_small.iloc[9:19, 50] == [False, False, False, False, False, False, False, False, False, False])\nTrue",
         "hidden": false,
         "locked": false
        },
        {
         "code": ">>> np.isclose(mean_num_prods, 10.676982)\nTrue",
         "hidden": false,
         "locked": false
        },
        {
         "code": ">>> np.isclose(max_num_prods, 54)\nTrue",
         "hidden": false,
         "locked": false
        }
       ],
       "scored": true,
       "setup": "",
       "teardown": "",
       "type": "doctest"
      }
     ]
    },
    "q1e": {
     "name": "q1e",
     "points": [
      1,
      1
     ],
     "suites": [
      {
       "cases": [
        {
         "code": ">>> rules.shape == (37, 10)\nTrue",
         "hidden": false,
         "locked": false
        },
        {
         "code": ">>> all(rules.columns == ['antecedents', 'consequents', 'antecedent support', 'consequent support', 'support', 'confidence', 'lift', 'leverage', 'conviction', 'zhangs_metric'])\nTrue",
         "hidden": false,
         "locked": false
        }
       ],
       "scored": true,
       "setup": "",
       "teardown": "",
       "type": "doctest"
      }
     ]
    },
    "q1g": {
     "name": "q1g",
     "points": [
      1,
      1
     ],
     "suites": [
      {
       "cases": [
        {
         "code": ">>> rules2.shape == (37, 10)\nTrue",
         "hidden": false,
         "locked": false
        },
        {
         "code": ">>> all(rules2.columns == ['antecedents', 'consequents', 'antecedent support', 'consequent support', 'support', 'confidence', 'lift', 'leverage', 'conviction', 'zhangs_metric'])\nTrue",
         "hidden": false,
         "locked": false
        }
       ],
       "scored": true,
       "setup": "",
       "teardown": "",
       "type": "doctest"
      }
     ]
    }
   }
  }
 },
 "nbformat": 4,
 "nbformat_minor": 5
}
