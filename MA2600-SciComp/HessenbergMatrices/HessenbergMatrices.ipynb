{
 "cells": [
  {
   "cell_type": "code",
   "execution_count": 2,
   "id": "5ca7fd71",
   "metadata": {},
   "outputs": [
    {
     "name": "stderr",
     "output_type": "stream",
     "text": [
      "\u001b[32m\u001b[1m    Updating\u001b[22m\u001b[39m registry at `C:\\Users\\spade\\.julia\\registries\\General.toml`\n",
      "\u001b[32m\u001b[1m   Resolving\u001b[22m\u001b[39m package versions...\n",
      "\u001b[32m\u001b[1m   Installed\u001b[22m\u001b[39m DiffRules ──────────── v1.15.1\n",
      "\u001b[32m\u001b[1m   Installed\u001b[22m\u001b[39m CommonSubexpressions ─ v0.3.0\n",
      "\u001b[32m\u001b[1m   Installed\u001b[22m\u001b[39m EpollShim_jll ──────── v0.0.20230411+0\n",
      "\u001b[32m\u001b[1m   Installed\u001b[22m\u001b[39m DiffResults ────────── v1.1.0\n",
      "\u001b[32m\u001b[1m   Installed\u001b[22m\u001b[39m ForwardDiff ────────── v0.10.36\n",
      "\u001b[32m\u001b[1m    Updating\u001b[22m\u001b[39m `C:\\Users\\spade\\.julia\\environments\\v1.9\\Project.toml`\n",
      "  \u001b[90m[f6369f11] \u001b[39m\u001b[92m+ ForwardDiff v0.10.36\u001b[39m\n",
      "\u001b[32m\u001b[1m    Updating\u001b[22m\u001b[39m `C:\\Users\\spade\\.julia\\environments\\v1.9\\Manifest.toml`\n",
      "  \u001b[90m[bbf7d656] \u001b[39m\u001b[92m+ CommonSubexpressions v0.3.0\u001b[39m\n",
      "  \u001b[90m[163ba53b] \u001b[39m\u001b[92m+ DiffResults v1.1.0\u001b[39m\n",
      "  \u001b[90m[b552c78f] \u001b[39m\u001b[92m+ DiffRules v1.15.1\u001b[39m\n",
      "  \u001b[90m[f6369f11] \u001b[39m\u001b[92m+ ForwardDiff v0.10.36\u001b[39m\n",
      "  \u001b[90m[2702e6a9] \u001b[39m\u001b[92m+ EpollShim_jll v0.0.20230411+0\u001b[39m\n",
      "\u001b[32m\u001b[1mPrecompiling\u001b[22m\u001b[39m project...\n",
      "\u001b[32m  ✓ \u001b[39m\u001b[90mCommonSubexpressions\u001b[39m\n",
      "\u001b[32m  ✓ \u001b[39m\u001b[90mDiffResults\u001b[39m\n",
      "\u001b[32m  ✓ \u001b[39m\u001b[90mDiffRules\u001b[39m\n",
      "\u001b[32m  ✓ \u001b[39m\u001b[90mEpollShim_jll\u001b[39m\n",
      "\u001b[32m  ✓ \u001b[39m\u001b[90mWayland_jll\u001b[39m\n",
      "\u001b[32m  ✓ \u001b[39m\u001b[90mxkbcommon_jll\u001b[39m\n",
      "\u001b[32m  ✓ \u001b[39m\u001b[90mQt6Base_jll\u001b[39m\n",
      "\u001b[32m  ✓ \u001b[39mForwardDiff\n",
      "\u001b[32m  ✓ \u001b[39m\u001b[90mForwardDiff → ForwardDiffStaticArraysExt\u001b[39m\n",
      "\u001b[32m  ✓ \u001b[39m\u001b[90mGR_jll\u001b[39m\n",
      "\u001b[32m  ✓ \u001b[39mGR\n",
      "\u001b[32m  ✓ \u001b[39mPlots\n",
      "\u001b[32m  ✓ \u001b[39m\u001b[90mPlots → IJuliaExt\u001b[39m\n",
      "\u001b[32m  ✓ \u001b[39m\u001b[90mPlots → UnitfulExt\u001b[39m\n",
      "\u001b[32m  ✓ \u001b[39mStatsPlots\n",
      "  15 dependencies successfully precompiled in 97 seconds. 208 already precompiled.\n"
     ]
    }
   ],
   "source": [
    "using Pkg; Pkg.add(\"ForwardDiff\")"
   ]
  },
  {
   "cell_type": "code",
   "execution_count": 8,
   "id": "29710f20",
   "metadata": {},
   "outputs": [
    {
     "data": {
      "text/plain": [
       "Hess1 (generic function with 1 method)"
      ]
     },
     "execution_count": 8,
     "metadata": {},
     "output_type": "execute_result"
    }
   ],
   "source": [
    "function Hess1(H)\n",
    "    for i in 1:m-1\n",
    "        u=H[1:m,i]\n",
    "        u[1:i]*=0.0\n",
    "        u[i+1]-=norm(u)\n",
    "        u=normalize(u)\n",
    "        Q=1.0*Matrix(I,m,m)-2*(u*u')\n",
    "        H=Q*H*Q'\n",
    "        return H\n",
    "    end\n",
    "end"
   ]
  },
  {
   "cell_type": "code",
   "execution_count": 13,
   "id": "e3b758e5",
   "metadata": {},
   "outputs": [
    {
     "data": {
      "text/plain": [
       "1.884928529521895e-15"
      ]
     },
     "metadata": {},
     "output_type": "display_data"
    },
    {
     "data": {
      "text/plain": [
       "6-element Vector{ComplexF64}:\n",
       " -0.6132779550868441 + 0.0im\n",
       " -0.2370951503775364 - 0.11101644772712607im\n",
       " -0.2370951503775364 + 0.11101644772712607im\n",
       " 0.21266929640996315 - 0.14444762360475188im\n",
       " 0.21266929640996315 + 0.14444762360475188im\n",
       "  2.5563643551081467 + 0.0im"
      ]
     },
     "metadata": {},
     "output_type": "display_data"
    },
    {
     "data": {
      "text/plain": [
       "6-element Vector{ComplexF64}:\n",
       "  -0.6132779550868441 + 0.0im\n",
       " -0.23709515037753642 - 0.1110164477271264im\n",
       " -0.23709515037753642 + 0.1110164477271264im\n",
       "  0.21266929640996335 - 0.1444476236047521im\n",
       "  0.21266929640996335 + 0.1444476236047521im\n",
       "    2.556364355108145 + 0.0im"
      ]
     },
     "metadata": {},
     "output_type": "display_data"
    }
   ],
   "source": [
    "using LinearAlgebra\n",
    "\n",
    "# Creates Random Matrix\n",
    "m=6\n",
    "A=rand(m,m)\n",
    "H=copy(A)\n",
    "\n",
    "# Gets Hessenberg Matrix\n",
    "H = Hess1(H)\n",
    "\n",
    "# Displays Results\n",
    "display(norm(eigvals(A)-eigvals(H)))\n",
    "display(eigvals(A))\n",
    "display(eigvals(H))"
   ]
  },
  {
   "cell_type": "code",
   "execution_count": 47,
   "id": "e8d5ac71",
   "metadata": {},
   "outputs": [
    {
     "data": {
      "text/plain": [
       "NextX (generic function with 1 method)"
      ]
     },
     "execution_count": 47,
     "metadata": {},
     "output_type": "execute_result"
    }
   ],
   "source": [
    "# Newtons Method on one point, f is the function and x is the guess. Returns next guess\n",
    "using ForwardDiff\n",
    "function NextX(f, x)\n",
    "    df = ForwardDiff.jacobian(f, x)\n",
    "    return x - (df \\ f(x))\n",
    "end"
   ]
  },
  {
   "cell_type": "code",
   "execution_count": 51,
   "id": "d1ae3cd3",
   "metadata": {},
   "outputs": [
    {
     "data": {
      "text/plain": [
       "NewtonApprox (generic function with 3 methods)"
      ]
     },
     "execution_count": 51,
     "metadata": {},
     "output_type": "execute_result"
    }
   ],
   "source": [
    "# Runs up to maxIter or until two guesses are close to the same\n",
    "function NewtonApprox(f, x, maxIter)\n",
    "    \n",
    "    # When to end the loop\n",
    "    doneChecking = false\n",
    "\n",
    "    # How many Iterations have gone\n",
    "    count = 0\n",
    "\n",
    "    # Gets resulting x\n",
    "    x2 = 0.0\n",
    "\n",
    "    # Loops until reaching end conditions\n",
    "    while !doneChecking\n",
    "\n",
    "        # Gets next guess x\n",
    "        x2 = NextX(f, x)\n",
    "\n",
    "        if count == maxIter || x == x2\n",
    "            doneChecking = true\n",
    "        else\n",
    "            x = x2\n",
    "        end\n",
    "\n",
    "        count += 1\n",
    "\n",
    "    end\n",
    "\n",
    "    # Prints relevant values\n",
    "    println(\"Zero Approximation: \", x2)\n",
    "    println(\"Iterations: \", count)\n",
    "\n",
    "end"
   ]
  },
  {
   "cell_type": "code",
   "execution_count": 52,
   "id": "cfbeb091",
   "metadata": {},
   "outputs": [
    {
     "data": {
      "text/plain": [
       "f (generic function with 1 method)"
      ]
     },
     "execution_count": 52,
     "metadata": {},
     "output_type": "execute_result"
    }
   ],
   "source": [
    "# Sets up a function to be tested\n",
    "function f(x)\n",
    "    [sin(4 * x[1] + sin(x[1] + x[2])), cos(4 * x[1] - sin(x[2]))]\n",
    "end"
   ]
  },
  {
   "cell_type": "code",
   "execution_count": 53,
   "id": "a180953d",
   "metadata": {},
   "outputs": [
    {
     "name": "stdout",
     "output_type": "stream",
     "text": [
      "Zero Approximation: [1.0346993575109908, 3.7524763426815335]\n",
      "Iterations: 6\n"
     ]
    }
   ],
   "source": [
    "# Main Testing\n",
    "x = [1.2, 3.4]\n",
    "NewtonApprox(f, x, 6)"
   ]
  }
 ],
 "metadata": {
  "kernelspec": {
   "display_name": "Julia 1.9.3",
   "language": "julia",
   "name": "julia-1.9"
  },
  "language_info": {
   "file_extension": ".jl",
   "mimetype": "application/julia",
   "name": "julia",
   "version": "1.9.3"
  }
 },
 "nbformat": 4,
 "nbformat_minor": 5
}
