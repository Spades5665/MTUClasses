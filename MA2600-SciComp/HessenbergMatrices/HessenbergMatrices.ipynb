{
 "cells": [
  {
   "cell_type": "code",
   "execution_count": 8,
   "id": "29710f20",
   "metadata": {},
   "outputs": [
    {
     "data": {
      "text/plain": [
       "Hess1 (generic function with 1 method)"
      ]
     },
     "execution_count": 8,
     "metadata": {},
     "output_type": "execute_result"
    }
   ],
   "source": [
    "function Hess1(H)\n",
    "    for i in 1:m-1\n",
    "        u=H[1:m,i]\n",
    "        u[1:i]*=0.0\n",
    "        u[i+1]-=norm(u)\n",
    "        u=normalize(u)\n",
    "        Q=1.0*Matrix(I,m,m)-2*(u*u')\n",
    "        H=Q*H*Q'\n",
    "        return H\n",
    "    end\n",
    "end"
   ]
  },
  {
   "cell_type": "code",
   "execution_count": 13,
   "id": "e3b758e5",
   "metadata": {},
   "outputs": [
    {
     "data": {
      "text/plain": [
       "1.884928529521895e-15"
      ]
     },
     "metadata": {},
     "output_type": "display_data"
    },
    {
     "data": {
      "text/plain": [
       "6-element Vector{ComplexF64}:\n",
       " -0.6132779550868441 + 0.0im\n",
       " -0.2370951503775364 - 0.11101644772712607im\n",
       " -0.2370951503775364 + 0.11101644772712607im\n",
       " 0.21266929640996315 - 0.14444762360475188im\n",
       " 0.21266929640996315 + 0.14444762360475188im\n",
       "  2.5563643551081467 + 0.0im"
      ]
     },
     "metadata": {},
     "output_type": "display_data"
    },
    {
     "data": {
      "text/plain": [
       "6-element Vector{ComplexF64}:\n",
       "  -0.6132779550868441 + 0.0im\n",
       " -0.23709515037753642 - 0.1110164477271264im\n",
       " -0.23709515037753642 + 0.1110164477271264im\n",
       "  0.21266929640996335 - 0.1444476236047521im\n",
       "  0.21266929640996335 + 0.1444476236047521im\n",
       "    2.556364355108145 + 0.0im"
      ]
     },
     "metadata": {},
     "output_type": "display_data"
    }
   ],
   "source": [
    "using LinearAlgebra\n",
    "\n",
    "# Creates Random Matrix\n",
    "m=6\n",
    "A=rand(m,m)\n",
    "H=copy(A)\n",
    "\n",
    "# Gets Hessenberg Matrix\n",
    "H = Hess1(H)\n",
    "\n",
    "# Displays Results\n",
    "display(norm(eigvals(A)-eigvals(H)))\n",
    "display(eigvals(A))\n",
    "display(eigvals(H))"
   ]
  },
  {
   "cell_type": "code",
   "execution_count": null,
   "id": "e8d5ac71",
   "metadata": {},
   "outputs": [],
   "source": [
    "# Newtons Method on one point"
   ]
  }
 ],
 "metadata": {
  "kernelspec": {
   "display_name": "Julia 1.9.3",
   "language": "julia",
   "name": "julia-1.9"
  },
  "language_info": {
   "file_extension": ".jl",
   "mimetype": "application/julia",
   "name": "julia",
   "version": "1.9.3"
  }
 },
 "nbformat": 4,
 "nbformat_minor": 5
}
