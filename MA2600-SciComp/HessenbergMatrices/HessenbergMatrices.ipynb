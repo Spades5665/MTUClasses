{
 "cells": [
  {
   "cell_type": "code",
   "execution_count": 8,
   "id": "29710f20",
   "metadata": {},
   "outputs": [
    {
     "data": {
      "text/plain": [
       "Hess1 (generic function with 1 method)"
      ]
     },
     "execution_count": 8,
     "metadata": {},
     "output_type": "execute_result"
    }
   ],
   "source": [
    "function Hess1(H)\n",
    "    for i in 1:m-1\n",
    "        u=H[1:m,i]\n",
    "        u[1:i]*=0.0\n",
    "        u[i+1]-=norm(u)\n",
    "        u=normalize(u)\n",
    "        Q=1.0*Matrix(I,m,m)-2*(u*u')\n",
    "        H=Q*H*Q'\n",
    "        return H\n",
    "    end\n",
    "end"
   ]
  },
  {
   "cell_type": "code",
   "execution_count": 10,
   "id": "e3b758e5",
   "metadata": {},
   "outputs": [
    {
     "data": {
      "text/plain": [
       "1.9868029630580076e-15"
      ]
     },
     "metadata": {},
     "output_type": "display_data"
    },
    {
     "data": {
      "text/plain": [
       "6×6 Matrix{Float64}:\n",
       " 0.189792     0.74528    0.468274    0.0978782  -0.121964     0.868888\n",
       " 1.60373      2.19203    0.479259    0.467698    0.612017     0.861639\n",
       " 2.70846e-16  0.311177   0.299869    0.17726     0.00931117   0.00272449\n",
       " 1.45656e-16  0.729095   0.0702781  -0.354951    0.433401     0.257789\n",
       " 3.11356e-16  0.641472  -0.1697      0.137955    0.334061    -0.267793\n",
       " 8.15154e-17  0.815604  -0.0259277   0.346611   -0.297033     0.336593"
      ]
     },
     "metadata": {},
     "output_type": "display_data"
    }
   ],
   "source": [
    "using LinearAlgebra\n",
    "\n",
    "# Creates Random Matrix\n",
    "m=6\n",
    "A=rand(m,m)\n",
    "H=copy(A)\n",
    "\n",
    "# Gets Hessenberg Matrix\n",
    "H = Hess1(H)\n",
    "\n",
    "# Displays Results\n",
    "display(norm(eigvals(A)-eigvals(H)))\n",
    "display(H)"
   ]
  },
  {
   "cell_type": "code",
   "execution_count": null,
   "id": "e8d5ac71",
   "metadata": {},
   "outputs": [],
   "source": [
    "# Newtons Method on one point"
   ]
  }
 ],
 "metadata": {
  "kernelspec": {
   "display_name": "Julia 1.9.3",
   "language": "julia",
   "name": "julia-1.9"
  },
  "language_info": {
   "file_extension": ".jl",
   "mimetype": "application/julia",
   "name": "julia",
   "version": "1.9.3"
  }
 },
 "nbformat": 4,
 "nbformat_minor": 5
}
