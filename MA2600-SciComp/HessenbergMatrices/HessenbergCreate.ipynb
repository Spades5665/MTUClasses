{
 "cells": [
  {
   "cell_type": "code",
   "execution_count": 2,
   "metadata": {},
   "outputs": [
    {
     "data": {
      "text/plain": [
       "Hess1 (generic function with 1 method)"
      ]
     },
     "execution_count": 2,
     "metadata": {},
     "output_type": "execute_result"
    }
   ],
   "source": [
    "function Hess1(H)\n",
    "    for i in 1:m-1\n",
    "        u=H[1:m,i]\n",
    "        u[1:i]*=0.0\n",
    "        u[i+1]-=norm(u)\n",
    "        u=normalize(u)\n",
    "        Q=1.0*Matrix(I,m,m)-2*(u*u')\n",
    "        H=Q*H*Q'\n",
    "        return H\n",
    "    end\n",
    "end"
   ]
  },
  {
   "cell_type": "code",
   "execution_count": 3,
   "metadata": {},
   "outputs": [
    {
     "data": {
      "text/plain": [
       "1.8090163519169172e-15"
      ]
     },
     "metadata": {},
     "output_type": "display_data"
    },
    {
     "data": {
      "text/plain": [
       "6-element Vector{ComplexF64}:\n",
       "  -0.3236608416193032 - 0.4529101167571189im\n",
       "  -0.3236608416193032 + 0.4529101167571189im\n",
       " -0.22299872166591972 + 0.0im\n",
       "   0.2355693329678945 + 0.0im\n",
       "   0.6915438963065949 + 0.0im\n",
       "    3.060369917466446 + 0.0im"
      ]
     },
     "metadata": {},
     "output_type": "display_data"
    },
    {
     "data": {
      "text/plain": [
       "6-element Vector{ComplexF64}:\n",
       "  -0.3236608416193039 - 0.4529101167571187im\n",
       "  -0.3236608416193039 + 0.4529101167571187im\n",
       " -0.22299872166591994 + 0.0im\n",
       "  0.23556933296789484 + 0.0im\n",
       "   0.6915438963065953 + 0.0im\n",
       "   3.0603699174664474 + 0.0im"
      ]
     },
     "metadata": {},
     "output_type": "display_data"
    }
   ],
   "source": [
    "using LinearAlgebra\n",
    "\n",
    "# Creates Random Matrix\n",
    "m=6\n",
    "A=rand(m,m)\n",
    "H=copy(A)\n",
    "\n",
    "# Gets Hessenberg Matrix\n",
    "H = Hess1(H)\n",
    "\n",
    "# Displays Results\n",
    "display(norm(eigvals(A)-eigvals(H)))\n",
    "display(eigvals(A))\n",
    "display(eigvals(H))"
   ]
  }
 ],
 "metadata": {
  "kernelspec": {
   "display_name": "Julia 1.9.3",
   "language": "julia",
   "name": "julia-1.9"
  },
  "language_info": {
   "file_extension": ".jl",
   "mimetype": "application/julia",
   "name": "julia",
   "version": "1.9.3"
  },
  "orig_nbformat": 4
 },
 "nbformat": 4,
 "nbformat_minor": 2
}
