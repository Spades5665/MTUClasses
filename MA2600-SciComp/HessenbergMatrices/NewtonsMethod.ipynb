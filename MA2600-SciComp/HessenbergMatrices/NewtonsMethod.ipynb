{
 "cells": [
  {
   "cell_type": "code",
   "execution_count": null,
   "id": "5ca7fd71",
   "metadata": {},
   "outputs": [],
   "source": [
    "using Pkg; Pkg.add(\"ForwardDiff\")"
   ]
  },
  {
   "cell_type": "code",
   "execution_count": 36,
   "id": "d1ae3cd3",
   "metadata": {},
   "outputs": [
    {
     "data": {
      "text/plain": [
       "NewtonApprox (generic function with 1 method)"
      ]
     },
     "execution_count": 36,
     "metadata": {},
     "output_type": "execute_result"
    }
   ],
   "source": [
    "using ForwardDiff\n",
    "\n",
    "# Runs up to maxIter or until two guesses are close to the same\n",
    "function NewtonApprox(f, x1, maxIter)\n",
    "\n",
    "    # How many Iterations have gone\n",
    "    count = 0\n",
    "\n",
    "    # Loops until reaching end conditions\n",
    "    while count != maxIter\n",
    "\n",
    "        # Increments loop counter\n",
    "        count += 1\n",
    "        \n",
    "        # Gets next guess x\n",
    "        x2 = x1 - (ForwardDiff.jacobian(f, x1) \\ f(x1))\n",
    "\n",
    "        # Checks if the new guess is equal to the last guess, meaning we probably can't get a closer x\n",
    "        if x1 == x2\n",
    "            break\n",
    "        else\n",
    "            x1 = x2\n",
    "        end\n",
    "\n",
    "    end\n",
    "\n",
    "    # Prints relevant values\n",
    "    println(\"Zero Approximation: \", x1)\n",
    "    println(\"Iterations: \", count)\n",
    "\n",
    "end"
   ]
  },
  {
   "cell_type": "code",
   "execution_count": 37,
   "id": "cfbeb091",
   "metadata": {},
   "outputs": [
    {
     "data": {
      "text/plain": [
       "f (generic function with 1 method)"
      ]
     },
     "execution_count": 37,
     "metadata": {},
     "output_type": "execute_result"
    }
   ],
   "source": [
    "# Sets up a function to be tested\n",
    "function f(x)\n",
    "    [sin(4 * x[1] + sin(x[1] + x[2])), cos(4 * x[1] - sin(x[2]))]\n",
    "end"
   ]
  },
  {
   "cell_type": "code",
   "execution_count": 38,
   "id": "a180953d",
   "metadata": {},
   "outputs": [
    {
     "name": "stdout",
     "output_type": "stream",
     "text": [
      "Zero Approximation: [1.0346993575109908, 3.7524763426815335]\n",
      "Iterations: 6\n"
     ]
    }
   ],
   "source": [
    "# Main Testing\n",
    "x = [1.2, 3.4]\n",
    "NewtonApprox(f, x, 6)"
   ]
  }
 ],
 "metadata": {
  "kernelspec": {
   "display_name": "Julia 1.9.3",
   "language": "julia",
   "name": "julia-1.9"
  },
  "language_info": {
   "file_extension": ".jl",
   "mimetype": "application/julia",
   "name": "julia",
   "version": "1.9.3"
  }
 },
 "nbformat": 4,
 "nbformat_minor": 5
}
