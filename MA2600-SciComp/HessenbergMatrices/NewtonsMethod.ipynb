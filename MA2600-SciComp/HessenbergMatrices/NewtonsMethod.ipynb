{
 "cells": [
  {
   "cell_type": "code",
   "execution_count": null,
   "id": "5ca7fd71",
   "metadata": {},
   "outputs": [],
   "source": [
    "using Pkg; Pkg.add(\"ForwardDiff\")"
   ]
  },
  {
   "cell_type": "code",
   "execution_count": 2,
   "id": "e8d5ac71",
   "metadata": {},
   "outputs": [
    {
     "data": {
      "text/plain": [
       "NextX (generic function with 1 method)"
      ]
     },
     "execution_count": 2,
     "metadata": {},
     "output_type": "execute_result"
    }
   ],
   "source": [
    "# Newtons Method on one point, f is the function and x is the guess. Returns next guess\n",
    "using ForwardDiff\n",
    "function NextX(f, x)\n",
    "    df = ForwardDiff.jacobian(f, x)\n",
    "    return x - (df \\ f(x))\n",
    "end"
   ]
  },
  {
   "cell_type": "code",
   "execution_count": 3,
   "id": "d1ae3cd3",
   "metadata": {},
   "outputs": [
    {
     "data": {
      "text/plain": [
       "NewtonApprox (generic function with 1 method)"
      ]
     },
     "execution_count": 3,
     "metadata": {},
     "output_type": "execute_result"
    }
   ],
   "source": [
    "# Runs up to maxIter or until two guesses are close to the same\n",
    "function NewtonApprox(f, x1, maxIter)\n",
    "    \n",
    "    # When to end the loop\n",
    "    doneChecking = false\n",
    "\n",
    "    # How many Iterations have gone\n",
    "    count = 0\n",
    "\n",
    "    # Gets resulting x\n",
    "    x2 = 0.0\n",
    "\n",
    "    # Loops until reaching end conditions\n",
    "    while !doneChecking\n",
    "\n",
    "        # Gets next guess x\n",
    "        x2 = NextX(f, x1)\n",
    "\n",
    "        if count == maxIter || x1 == x2\n",
    "            doneChecking = true\n",
    "        else\n",
    "            x1 = x2\n",
    "        end\n",
    "\n",
    "        count += 1\n",
    "\n",
    "    end\n",
    "\n",
    "    # Prints relevant values\n",
    "    println(\"Zero Approximation: \", x2)\n",
    "    println(\"Iterations: \", count)\n",
    "\n",
    "end"
   ]
  },
  {
   "cell_type": "code",
   "execution_count": 4,
   "id": "cfbeb091",
   "metadata": {},
   "outputs": [
    {
     "data": {
      "text/plain": [
       "f (generic function with 1 method)"
      ]
     },
     "execution_count": 4,
     "metadata": {},
     "output_type": "execute_result"
    }
   ],
   "source": [
    "# Sets up a function to be tested\n",
    "function f(x)\n",
    "    [sin(4 * x[1] + sin(x[1] + x[2])), cos(4 * x[1] - sin(x[2]))]\n",
    "end"
   ]
  },
  {
   "cell_type": "code",
   "execution_count": 5,
   "id": "a180953d",
   "metadata": {},
   "outputs": [
    {
     "name": "stdout",
     "output_type": "stream",
     "text": [
      "Zero Approximation: [1.0346993575109908, 3.7524763426815335]\n",
      "Iterations: 6\n"
     ]
    }
   ],
   "source": [
    "# Main Testing\n",
    "x = [1.2, 3.4]\n",
    "NewtonApprox(f, x, 6)"
   ]
  }
 ],
 "metadata": {
  "kernelspec": {
   "display_name": "Julia 1.9.3",
   "language": "julia",
   "name": "julia-1.9"
  },
  "language_info": {
   "file_extension": ".jl",
   "mimetype": "application/julia",
   "name": "julia",
   "version": "1.9.3"
  }
 },
 "nbformat": 4,
 "nbformat_minor": 5
}
