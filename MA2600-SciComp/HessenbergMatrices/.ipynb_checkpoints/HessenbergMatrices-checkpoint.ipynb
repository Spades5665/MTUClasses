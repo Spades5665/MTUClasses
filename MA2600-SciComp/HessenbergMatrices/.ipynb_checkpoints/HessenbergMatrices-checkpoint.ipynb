{
 "cells": [
  {
   "cell_type": "code",
   "execution_count": 1,
   "id": "29710f20",
   "metadata": {},
   "outputs": [],
   "source": [
    "# Start Here"
   ]
  },
  {
   "cell_type": "code",
   "execution_count": null,
   "id": "38161b65-eb09-42ef-ae44-9d688d8820b9",
   "metadata": {},
   "outputs": [],
   "source": [
    "function Hess1(A)"
   ]
  },
  {
   "cell_type": "code",
   "execution_count": 16,
   "id": "7ea6223c-fe8b-466e-814b-d40f9ad09f4b",
   "metadata": {
    "tags": []
   },
   "outputs": [
    {
     "data": {
      "text/plain": [
       "1.1795711459350634e-15"
      ]
     },
     "metadata": {},
     "output_type": "display_data"
    },
    {
     "data": {
      "text/plain": [
       "6×6 Matrix{Float64}:\n",
       "  0.577641      0.838913      1.05906      …  0.189615    -0.320642\n",
       "  0.962921      1.69987       1.02101         0.29306     -0.446793\n",
       " -1.76378e-17   1.28107       0.858157        0.106207    -0.537016\n",
       "  1.60677e-17  -7.65133e-17   0.415193        0.00424825  -0.247091\n",
       "  3.48423e-17  -8.92465e-17  -1.43653e-17     0.423357    -0.411327\n",
       " -4.87183e-18   3.15529e-16   1.73784e-17  …  0.363977    -0.0628574"
      ]
     },
     "metadata": {},
     "output_type": "display_data"
    }
   ],
   "source": [
    "using LinearAlgebra\n",
    "m=6\n",
    "A=rand(m,m)\n",
    "H=copy(A)\n",
    "for i in 1:m-1\n",
    "    u=H[1:m,i]\n",
    "    u[1:i]*=0.0\n",
    "    u[i+1]-=norm(u)\n",
    "    u=normalize(u)\n",
    "    Q=1.0*Matrix(I,m,m)-2*(u*u')\n",
    "    H=Q*H*Q'\n",
    "end\n",
    "display(norm(eigvals(A)-eigvals(H)))\n",
    "display(H)"
   ]
  },
  {
   "cell_type": "code",
   "execution_count": null,
   "id": "7338acee-c719-476a-9c27-ef96a73b8590",
   "metadata": {},
   "outputs": [],
   "source": []
  }
 ],
 "metadata": {
  "kernelspec": {
   "display_name": "Julia 1.9.3",
   "language": "julia",
   "name": "julia-1.9"
  },
  "language_info": {
   "file_extension": ".jl",
   "mimetype": "application/julia",
   "name": "julia",
   "version": "1.9.3"
  }
 },
 "nbformat": 4,
 "nbformat_minor": 5
}
