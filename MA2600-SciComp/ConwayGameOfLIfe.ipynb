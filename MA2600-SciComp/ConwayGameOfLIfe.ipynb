{
 "cells": [
  {
   "cell_type": "code",
   "execution_count": 1,
   "id": "dde4335b",
   "metadata": {
    "tags": []
   },
   "outputs": [
    {
     "data": {
      "text/plain": [
       "sumNeighbors (generic function with 1 method)"
      ]
     },
     "execution_count": 1,
     "metadata": {},
     "output_type": "execute_result"
    }
   ],
   "source": [
    "# Sums the 8 neighboring cells for each game cell\n",
    "function sumNeighbors(gameBoard, sumBoard)\n",
    "    n = size(sumBoard, 1) - 2\n",
    "    for r in 2:n + 1\n",
    "        for c in 2:n + 1\n",
    "            sumBoard[r, c] = gameBoard[r - 1, c - 1] + gameBoard[r - 1, c] + gameBoard[r - 1, c + 1] + \n",
    "                             gameBoard[r, c - 1]              +              gameBoard[r, c + 1] + \n",
    "                             gameBoard[r + 1, c - 1] + gameBoard[r + 1, c] + gameBoard[r + 1, c + 1]\n",
    "        end\n",
    "    end\n",
    "end"
   ]
  },
  {
   "cell_type": "code",
   "execution_count": 2,
   "id": "f8af5319",
   "metadata": {
    "tags": []
   },
   "outputs": [
    {
     "data": {
      "text/plain": [
       "checkRules (generic function with 1 method)"
      ]
     },
     "execution_count": 2,
     "metadata": {},
     "output_type": "execute_result"
    }
   ],
   "source": [
    "# Checks if a cell should live or die\n",
    "function checkRules(gameBoard, sumBoard) \n",
    "    for r in 2:n + 1\n",
    "        for c in 2:n + 1\n",
    "            if gameBoard[r, c] == 1 && (sumBoard[r, c] < 2 || sumBoard[r, c] > 3)\n",
    "                gameBoard[r, c] = 0\n",
    "            elseif gameBoard[r, c] == 0 && sumBoard[r, c] == 3\n",
    "                gameBoard[r, c] = 1\n",
    "            end\n",
    "        end\n",
    "    end\n",
    "end"
   ]
  },
  {
   "cell_type": "code",
   "execution_count": 3,
   "id": "b0ecd19d",
   "metadata": {
    "tags": []
   },
   "outputs": [
    {
     "data": {
      "text/plain": [
       "10×10 Matrix{Int64}:\n",
       " 1  1  1  0  0  0  0  0  0  1\n",
       " 0  1  0  0  0  0  0  1  0  0\n",
       " 1  1  0  1  0  0  0  1  0  1\n",
       " 0  1  1  1  1  1  0  0  0  1\n",
       " 0  1  0  1  0  1  0  0  0  1\n",
       " 1  1  0  0  1  0  1  1  1  0\n",
       " 0  0  1  1  1  0  0  1  1  1\n",
       " 1  0  1  1  1  0  0  0  0  1\n",
       " 0  0  1  0  0  0  1  0  0  1\n",
       " 1  1  0  1  0  1  1  0  1  1"
      ]
     },
     "execution_count": 3,
     "metadata": {},
     "output_type": "execute_result"
    }
   ],
   "source": [
    "# --- Sets up game board and sum board ---\n",
    "# - Size of playable area on Game Board\n",
    "n = 10\n",
    "\n",
    "# - Zeros out both boards -\n",
    "sumBoard = zeros(Int64, n + 2, n + 2)\n",
    "gameBoard = zeros(Int64, n + 2, n + 2)\n",
    "\n",
    "# - Sets random life on game board -\n",
    "gameBoard[2:n + 1, 2:n + 1] = rand((0, 1), n, n)"
   ]
  },
  {
   "cell_type": "code",
   "execution_count": 4,
   "id": "1642882e",
   "metadata": {},
   "outputs": [
    {
     "ename": "LoadError",
     "evalue": "UndefVarError: `Plots` not defined",
     "output_type": "error",
     "traceback": [
      "UndefVarError: `Plots` not defined",
      "",
      "Stacktrace:",
      " [1] top-level scope",
      "   @ .\\In[4]:10"
     ]
    }
   ],
   "source": [
    "# -- Loops the game --\n",
    "# - Loop Counter - \n",
    "stillPlaying = 1\n",
    "\n",
    "while stillPlaying < 5\n",
    "    sumNeighbors(gameBoard, sumBoard)\n",
    "    checkRules(gameBoard, sumBoard)\n",
    "\n",
    "    # Show gameboard here\n",
    "    Plots.heatmap(gameBoard[2:n + 1, 2:n + 1])\n",
    "\n",
    "    stillPlaying += 1\n",
    "end"
   ]
  }
 ],
 "metadata": {
  "kernelspec": {
   "display_name": "Julia 1.9.3",
   "language": "julia",
   "name": "julia-1.9"
  },
  "language_info": {
   "file_extension": ".jl",
   "mimetype": "application/julia",
   "name": "julia",
   "version": "1.9.3"
  }
 },
 "nbformat": 4,
 "nbformat_minor": 5
}
